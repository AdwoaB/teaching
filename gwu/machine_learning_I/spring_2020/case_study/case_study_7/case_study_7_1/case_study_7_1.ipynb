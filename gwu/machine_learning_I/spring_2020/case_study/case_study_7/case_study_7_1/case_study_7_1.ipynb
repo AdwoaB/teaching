{
  "nbformat": 4,
  "nbformat_minor": 0,
  "metadata": {
    "accelerator": "GPU",
    "colab": {
      "name": "case_study_7_1.ipynb",
      "provenance": [],
      "collapsed_sections": []
    },
    "kernelspec": {
      "display_name": "Python 3",
      "language": "python",
      "name": "python3"
    },
    "language_info": {
      "codemirror_mode": {
        "name": "ipython",
        "version": 3
      },
      "file_extension": ".py",
      "mimetype": "text/x-python",
      "name": "python",
      "nbconvert_exporter": "python",
      "pygments_lexer": "ipython3",
      "version": "3.7.6"
    },
    "toc": {
      "base_numbering": 1,
      "nav_menu": {},
      "number_sections": true,
      "sideBar": true,
      "skip_h1_title": false,
      "title_cell": "Table of Contents",
      "title_sidebar": "Contents",
      "toc_cell": true,
      "toc_position": {},
      "toc_section_display": true,
      "toc_window_display": false
    }
  },
  "cells": [
    {
      "cell_type": "markdown",
      "metadata": {
        "colab_type": "text",
        "id": "cMSn67px4ANI",
        "toc": true
      },
      "source": [
        "<h1>Table of Contents<span class=\"tocSkip\"></span></h1>\n",
        "<div class=\"toc\"><ul class=\"toc-item\"><li><span><a href=\"#Notebook-Configuration\" data-toc-modified-id=\"Notebook-Configuration-1\"><span class=\"toc-item-num\">1&nbsp;&nbsp;</span>Notebook Configuration</a></span><ul class=\"toc-item\"><li><span><a href=\"#Google-Drive\" data-toc-modified-id=\"Google-Drive-1.1\"><span class=\"toc-item-num\">1.1&nbsp;&nbsp;</span>Google Drive</a></span></li><li><span><a href=\"#Warning\" data-toc-modified-id=\"Warning-1.2\"><span class=\"toc-item-num\">1.2&nbsp;&nbsp;</span>Warning</a></span></li><li><span><a href=\"#Matplotlib\" data-toc-modified-id=\"Matplotlib-1.3\"><span class=\"toc-item-num\">1.3&nbsp;&nbsp;</span>Matplotlib</a></span></li><li><span><a href=\"#TensorFlow\" data-toc-modified-id=\"TensorFlow-1.4\"><span class=\"toc-item-num\">1.4&nbsp;&nbsp;</span>TensorFlow</a></span></li><li><span><a href=\"#Random-Seed\" data-toc-modified-id=\"Random-Seed-1.5\"><span class=\"toc-item-num\">1.5&nbsp;&nbsp;</span>Random Seed</a></span></li></ul></li><li><span><a href=\"#Data-Preprocessing\" data-toc-modified-id=\"Data-Preprocessing-2\"><span class=\"toc-item-num\">2&nbsp;&nbsp;</span>Data Preprocessing</a></span><ul class=\"toc-item\"><li><span><a href=\"#Loading-data\" data-toc-modified-id=\"Loading-data-2.1\"><span class=\"toc-item-num\">2.1&nbsp;&nbsp;</span>Loading data</a></span><ul class=\"toc-item\"><li><span><a href=\"#Creating-the-directory-for-the-data\" data-toc-modified-id=\"Creating-the-directory-for-the-data-2.1.1\"><span class=\"toc-item-num\">2.1.1&nbsp;&nbsp;</span>Creating the directory for the data</a></span></li><li><span><a href=\"#Downloading-data-to-the-directory\" data-toc-modified-id=\"Downloading-data-to-the-directory-2.1.2\"><span class=\"toc-item-num\">2.1.2&nbsp;&nbsp;</span>Downloading data to the directory</a></span></li></ul></li><li><span><a href=\"#Getting-the-name-of-the-target\" data-toc-modified-id=\"Getting-the-name-of-the-target-2.2\"><span class=\"toc-item-num\">2.2&nbsp;&nbsp;</span>Getting the name of the target</a></span></li><li><span><a href=\"#Getting-the-info\" data-toc-modified-id=\"Getting-the-info-2.3\"><span class=\"toc-item-num\">2.3&nbsp;&nbsp;</span>Getting the info</a></span></li><li><span><a href=\"#Getting-the-training,-validation-and-testing-data\" data-toc-modified-id=\"Getting-the-training,-validation-and-testing-data-2.4\"><span class=\"toc-item-num\">2.4&nbsp;&nbsp;</span>Getting the training, validation and testing data</a></span></li><li><span><a href=\"#Batching-and-prefetching-the-data\" data-toc-modified-id=\"Batching-and-prefetching-the-data-2.5\"><span class=\"toc-item-num\">2.5&nbsp;&nbsp;</span>Batching and prefetching the data</a></span></li></ul></li><li><span><a href=\"#Training\" data-toc-modified-id=\"Training-3\"><span class=\"toc-item-num\">3&nbsp;&nbsp;</span>Training</a></span><ul class=\"toc-item\"><li><span><a href=\"#Creating-the-directory-of-the-saved-model\" data-toc-modified-id=\"Creating-the-directory-of-the-saved-model-3.1\"><span class=\"toc-item-num\">3.1&nbsp;&nbsp;</span>Creating the directory of the saved model</a></span></li><li><span><a href=\"#Building-the-architecture-of-the-model\" data-toc-modified-id=\"Building-the-architecture-of-the-model-3.2\"><span class=\"toc-item-num\">3.2&nbsp;&nbsp;</span>Building the architecture of the model</a></span></li><li><span><a href=\"#Freezing-the-pretrained-layers\" data-toc-modified-id=\"Freezing-the-pretrained-layers-3.3\"><span class=\"toc-item-num\">3.3&nbsp;&nbsp;</span>Freezing the pretrained layers</a></span></li><li><span><a href=\"#Compiling-the-model\" data-toc-modified-id=\"Compiling-the-model-3.4\"><span class=\"toc-item-num\">3.4&nbsp;&nbsp;</span>Compiling the model</a></span></li><li><span><a href=\"#Setting-Callbacks\" data-toc-modified-id=\"Setting-Callbacks-3.5\"><span class=\"toc-item-num\">3.5&nbsp;&nbsp;</span>Setting Callbacks</a></span></li><li><span><a href=\"#Training,-evaluating-and-saving-the-best-model\" data-toc-modified-id=\"Training,-evaluating-and-saving-the-best-model-3.6\"><span class=\"toc-item-num\">3.6&nbsp;&nbsp;</span>Training, evaluating and saving the best model</a></span></li><li><span><a href=\"#Plotting-the-learning-curve\" data-toc-modified-id=\"Plotting-the-learning-curve-3.7\"><span class=\"toc-item-num\">3.7&nbsp;&nbsp;</span>Plotting the learning curve</a></span><ul class=\"toc-item\"><li><span><a href=\"#Creating-the-directory-for-the-figure\" data-toc-modified-id=\"Creating-the-directory-for-the-figure-3.7.1\"><span class=\"toc-item-num\">3.7.1&nbsp;&nbsp;</span>Creating the directory for the figure</a></span></li></ul></li><li><span><a href=\"#Unfreezing-the-pretrained-layers\" data-toc-modified-id=\"Unfreezing-the-pretrained-layers-3.8\"><span class=\"toc-item-num\">3.8&nbsp;&nbsp;</span>Unfreezing the pretrained layers</a></span></li><li><span><a href=\"#Compiling-the-model\" data-toc-modified-id=\"Compiling-the-model-3.9\"><span class=\"toc-item-num\">3.9&nbsp;&nbsp;</span>Compiling the model</a></span></li><li><span><a href=\"#Training,-evaluating-and-saving-the-best-model\" data-toc-modified-id=\"Training,-evaluating-and-saving-the-best-model-3.10\"><span class=\"toc-item-num\">3.10&nbsp;&nbsp;</span>Training, evaluating and saving the best model</a></span></li><li><span><a href=\"#Plotting-the-learning-curve\" data-toc-modified-id=\"Plotting-the-learning-curve-3.11\"><span class=\"toc-item-num\">3.11&nbsp;&nbsp;</span>Plotting the learning curve</a></span></li></ul></li><li><span><a href=\"#Testing\" data-toc-modified-id=\"Testing-4\"><span class=\"toc-item-num\">4&nbsp;&nbsp;</span>Testing</a></span><ul class=\"toc-item\"><li><span><a href=\"#Loading-the-saved-best-model\" data-toc-modified-id=\"Loading-the-saved-best-model-4.1\"><span class=\"toc-item-num\">4.1&nbsp;&nbsp;</span>Loading the saved best model</a></span></li><li><span><a href=\"#Evaluating-the-model\" data-toc-modified-id=\"Evaluating-the-model-4.2\"><span class=\"toc-item-num\">4.2&nbsp;&nbsp;</span>Evaluating the model</a></span></li></ul></li></ul></div>"
      ]
    },
    {
      "cell_type": "markdown",
      "metadata": {
        "colab_type": "text",
        "id": "YTiWqATn4ANO"
      },
      "source": [
        "<b>\n",
        "\n",
        "<p>\n",
        "<center>\n",
        "<font size=\"5\">\n",
        "Machine Learning I (DATS 6202), Spring 2020\n",
        "</font>\n",
        "</center>\n",
        "</p>\n",
        "\n",
        "<p>\n",
        "<center>\n",
        "<font size=\"4\">\n",
        "Case Study 7.1: Recurrent Neural Network\n",
        "</font>\n",
        "</center>\n",
        "</p>\n",
        "\n",
        "<p>\n",
        "<center>\n",
        "<font size=\"3\">\n",
        "Data Science, Columbian College of Arts & Sciences, George Washington University\n",
        "</font>\n",
        "</center>\n",
        "</p>\n",
        "\n",
        "<p>\n",
        "<center>\n",
        "<font size=\"3\">\n",
        "Author: Yuxiao Huang\n",
        "</font>\n",
        "</center>\n",
        "</p>\n",
        "\n",
        "</b>"
      ]
    },
    {
      "cell_type": "markdown",
      "metadata": {
        "colab_type": "text",
        "id": "WJ-IbZqAgILJ"
      },
      "source": [
        "# Notebook Configuration"
      ]
    },
    {
      "cell_type": "markdown",
      "metadata": {
        "colab_type": "text",
        "id": "H3yB94KtgMHu"
      },
      "source": [
        "## Google Drive"
      ]
    },
    {
      "cell_type": "code",
      "metadata": {
        "colab_type": "code",
        "id": "jWmYBTOwgNs-",
        "outputId": "da53b50b-6eb2-4158-b83f-5623a7ae4e2f",
        "colab": {
          "base_uri": "https://localhost:8080/",
          "height": 34
        }
      },
      "source": [
        "from google.colab import drive\n",
        "\n",
        "# Mount Google Drive\n",
        "drive.mount('/content/drive')\n",
        "\n",
        "# Get absolute path\n",
        "abspath = '/content/drive/My Drive/Colab Notebooks/teaching/gwu/machine_learning_I/case_study/case_study_7/case_study_7_1/'"
      ],
      "execution_count": 0,
      "outputs": [
        {
          "output_type": "stream",
          "text": [
            "Drive already mounted at /content/drive; to attempt to forcibly remount, call drive.mount(\"/content/drive\", force_remount=True).\n"
          ],
          "name": "stdout"
        }
      ]
    },
    {
      "cell_type": "markdown",
      "metadata": {
        "colab_type": "text",
        "id": "bYZhU1Wqgmqx"
      },
      "source": [
        "## Warning"
      ]
    },
    {
      "cell_type": "code",
      "metadata": {
        "colab_type": "code",
        "id": "MUl4k83e4ANR",
        "colab": {}
      },
      "source": [
        "import warnings\n",
        "\n",
        "# Ignore warnings\n",
        "warnings.filterwarnings('ignore')"
      ],
      "execution_count": 0,
      "outputs": []
    },
    {
      "cell_type": "markdown",
      "metadata": {
        "colab_type": "text",
        "id": "6WMODpPfgn2U"
      },
      "source": [
        "## Matplotlib"
      ]
    },
    {
      "cell_type": "code",
      "metadata": {
        "colab_type": "code",
        "id": "DBRVH9SB4ANb",
        "colab": {}
      },
      "source": [
        "import matplotlib.pyplot as plt\n",
        "%matplotlib inline \n",
        "\n",
        "# Set matplotlib sizes\n",
        "plt.rc('font', size=20)\n",
        "plt.rc('axes', titlesize=20)\n",
        "plt.rc('axes', labelsize=20)\n",
        "plt.rc('xtick', labelsize=20)\n",
        "plt.rc('ytick', labelsize=20)\n",
        "plt.rc('legend', fontsize=20)\n",
        "plt.rc('figure', titlesize=20)"
      ],
      "execution_count": 0,
      "outputs": []
    },
    {
      "cell_type": "markdown",
      "metadata": {
        "colab_type": "text",
        "id": "n-wNDk5nZhhO"
      },
      "source": [
        "## TensorFlow"
      ]
    },
    {
      "cell_type": "code",
      "metadata": {
        "colab_type": "code",
        "id": "LjG43tEnZkfE",
        "colab": {}
      },
      "source": [
        "# The magic below allows us to use tensorflow version 2.x\n",
        "%tensorflow_version 2.x \n",
        "import tensorflow_hub as hub\n",
        "import tensorflow as tf\n",
        "from tensorflow import keras"
      ],
      "execution_count": 0,
      "outputs": []
    },
    {
      "cell_type": "markdown",
      "metadata": {
        "colab_type": "text",
        "id": "40FN3UNfO2Z7"
      },
      "source": [
        "## Random Seed"
      ]
    },
    {
      "cell_type": "code",
      "metadata": {
        "colab_type": "code",
        "id": "uSADk0hJP71d",
        "colab": {}
      },
      "source": [
        "# The random seed\n",
        "random_seed = 42\n",
        "\n",
        "# Set random seed in tensorflow\n",
        "tf.random.set_seed(random_seed)\n",
        "\n",
        "# Set random seed in numpy\n",
        "import numpy as np\n",
        "np.random.seed(random_seed)"
      ],
      "execution_count": 0,
      "outputs": []
    },
    {
      "cell_type": "markdown",
      "metadata": {
        "colab_type": "text",
        "id": "1eOpQpPu4ANk"
      },
      "source": [
        "# Data Preprocessing"
      ]
    },
    {
      "cell_type": "markdown",
      "metadata": {
        "colab_type": "text",
        "id": "xnJAfR784ANl"
      },
      "source": [
        "## Loading data"
      ]
    },
    {
      "cell_type": "markdown",
      "metadata": {
        "colab_type": "text",
        "id": "LM_WKAmO4ANm"
      },
      "source": [
        "In this case study, we will work on the [IMDB-Reviews dataset](https://www.tensorflow.org/datasets/catalog/imdb_reviews)."
      ]
    },
    {
      "cell_type": "markdown",
      "metadata": {
        "colab_type": "text",
        "id": "IEjvHlLB8X0z"
      },
      "source": [
        "### Creating the directory for the data"
      ]
    },
    {
      "cell_type": "code",
      "metadata": {
        "colab_type": "code",
        "id": "reijpcaf8UgO",
        "colab": {}
      },
      "source": [
        "import os\n",
        "\n",
        "# Make directory\n",
        "directory = os.path.dirname(abspath + 'data/')\n",
        "if not os.path.exists(directory):\n",
        "    os.makedirs(directory)"
      ],
      "execution_count": 0,
      "outputs": []
    },
    {
      "cell_type": "markdown",
      "metadata": {
        "colab_type": "text",
        "id": "-sDdbhok2i7C"
      },
      "source": [
        "### Downloading data to the directory"
      ]
    },
    {
      "cell_type": "code",
      "metadata": {
        "colab_type": "code",
        "id": "6onKpDeL4ANn",
        "scrolled": true,
        "colab": {}
      },
      "source": [
        "import tensorflow_datasets as tfds\n",
        "\n",
        "# Get the name of the data\n",
        "data_name = \"imdb_reviews\"\n",
        "\n",
        "# Load data\n",
        "data, info = tfds.load(name=data_name,\n",
        "                       data_dir=abspath + 'data/',\n",
        "                       as_supervised=True,\n",
        "                       with_info=True)"
      ],
      "execution_count": 0,
      "outputs": []
    },
    {
      "cell_type": "markdown",
      "metadata": {
        "colab_type": "text",
        "id": "yvIqSuZUVBb8"
      },
      "source": [
        "## Getting the name of the target"
      ]
    },
    {
      "cell_type": "code",
      "metadata": {
        "colab_type": "code",
        "id": "AF5gbpOWVElL",
        "colab": {}
      },
      "source": [
        "target = 'label'"
      ],
      "execution_count": 0,
      "outputs": []
    },
    {
      "cell_type": "markdown",
      "metadata": {
        "colab_type": "text",
        "id": "ugddFhUgVGWq"
      },
      "source": [
        "## Getting the info"
      ]
    },
    {
      "cell_type": "code",
      "metadata": {
        "colab_type": "code",
        "id": "A85zWEqMjP5E",
        "outputId": "64f15926-bb82-4315-d8ec-22f1d72f892c",
        "colab": {
          "base_uri": "https://localhost:8080/",
          "height": 68
        }
      },
      "source": [
        "# Print the splits\n",
        "info.splits"
      ],
      "execution_count": 0,
      "outputs": [
        {
          "output_type": "execute_result",
          "data": {
            "text/plain": [
              "{'test': <tfds.core.SplitInfo num_examples=25000>,\n",
              " 'train': <tfds.core.SplitInfo num_examples=25000>,\n",
              " 'unsupervised': <tfds.core.SplitInfo num_examples=50000>}"
            ]
          },
          "metadata": {
            "tags": []
          },
          "execution_count": 9
        }
      ]
    },
    {
      "cell_type": "code",
      "metadata": {
        "colab_type": "code",
        "id": "vsSHR38vjL1G",
        "outputId": "dc3e9a8f-8729-4192-a29b-1d1c9d8db93f",
        "colab": {
          "base_uri": "https://localhost:8080/",
          "height": 34
        }
      },
      "source": [
        "# Get the classes\n",
        "classes = info.features['label'].names\n",
        "\n",
        "# Print the classes\n",
        "classes"
      ],
      "execution_count": 0,
      "outputs": [
        {
          "output_type": "execute_result",
          "data": {
            "text/plain": [
              "['neg', 'pos']"
            ]
          },
          "metadata": {
            "tags": []
          },
          "execution_count": 10
        }
      ]
    },
    {
      "cell_type": "code",
      "metadata": {
        "colab_type": "code",
        "id": "hD0wa74kS_53",
        "outputId": "5bb93490-f584-437e-abb1-863818ff90cd",
        "colab": {
          "base_uri": "https://localhost:8080/",
          "height": 34
        }
      },
      "source": [
        "# Get the number of classes\n",
        "n_classes = info.features['label'].num_classes\n",
        "\n",
        "# Print the number of classes\n",
        "info.features['label'].num_classes"
      ],
      "execution_count": 0,
      "outputs": [
        {
          "output_type": "execute_result",
          "data": {
            "text/plain": [
              "2"
            ]
          },
          "metadata": {
            "tags": []
          },
          "execution_count": 11
        }
      ]
    },
    {
      "cell_type": "markdown",
      "metadata": {
        "colab_type": "text",
        "id": "jGLoCbmO4AN9"
      },
      "source": [
        "## Getting the training, validation and testing data"
      ]
    },
    {
      "cell_type": "code",
      "metadata": {
        "colab_type": "code",
        "id": "a2P4L1vS4AN_",
        "colab": {}
      },
      "source": [
        "# Set the training, validation and testing split\n",
        "split_train, split_valid, split_test = 'train[:70%]', 'train[70%:]', 'test'\n",
        "\n",
        "# Get the training data\n",
        "data_train = tfds.load(name=data_name,\n",
        "                       split=split_train,\n",
        "                       data_dir=abspath + 'data/',\n",
        "                       as_supervised=True)\n",
        "\n",
        "# Get the validation data\n",
        "data_valid = tfds.load(name=data_name,\n",
        "                       split=split_valid,\n",
        "                       data_dir=abspath + 'data/',\n",
        "                       as_supervised=True)\n",
        "\n",
        "# Get the testing data\n",
        "data_test = tfds.load(name=data_name,\n",
        "                      split=split_test,\n",
        "                      data_dir=abspath + 'data/',\n",
        "                      as_supervised=True)"
      ],
      "execution_count": 0,
      "outputs": []
    },
    {
      "cell_type": "markdown",
      "metadata": {
        "colab_type": "text",
        "id": "e9oPQZ7limeD"
      },
      "source": [
        "## Batching and prefetching the data"
      ]
    },
    {
      "cell_type": "code",
      "metadata": {
        "colab_type": "code",
        "id": "p95Fq3PFbaAL",
        "colab": {}
      },
      "source": [
        "# Set the batch size\n",
        "batch_size = 16\n",
        "\n",
        "# Batch and prefetch the training data\n",
        "data_train = data_train.batch(batch_size).prefetch(1)\n",
        "\n",
        "# Batch and prefetch the validation data\n",
        "data_valid = data_valid.batch(batch_size).prefetch(1)\n",
        "\n",
        "# Batch and prefetch the testing data\n",
        "data_test = data_test.batch(batch_size).prefetch(1)"
      ],
      "execution_count": 0,
      "outputs": []
    },
    {
      "cell_type": "markdown",
      "metadata": {
        "colab_type": "text",
        "id": "IAkBxqG_hRju"
      },
      "source": [
        "# Training"
      ]
    },
    {
      "cell_type": "markdown",
      "metadata": {
        "colab_type": "text",
        "id": "pRgbNDPdNAq-"
      },
      "source": [
        "## Creating the directory of the saved model"
      ]
    },
    {
      "cell_type": "code",
      "metadata": {
        "colab_type": "code",
        "id": "__28jlkXNET1",
        "colab": {}
      },
      "source": [
        "# Make directory\n",
        "directory = os.path.dirname(abspath + 'model/')\n",
        "if not os.path.exists(directory):\n",
        "    os.makedirs(directory)"
      ],
      "execution_count": 0,
      "outputs": []
    },
    {
      "cell_type": "markdown",
      "metadata": {
        "colab_type": "text",
        "id": "qIWW5z5WUQa8"
      },
      "source": [
        "## Building the architecture of the model"
      ]
    },
    {
      "cell_type": "code",
      "metadata": {
        "colab_type": "code",
        "id": "jl1jL5exfwz9",
        "outputId": "eaf37a47-8d03-46de-c0bd-52d8b4aee9b0",
        "colab": {
          "base_uri": "https://localhost:8080/",
          "height": 255
        }
      },
      "source": [
        "# Get the model\n",
        "model = keras.Sequential([\n",
        "    hub.KerasLayer('https://tfhub.dev/google/tf2-preview/nnlm-en-dim50/1',\n",
        "                   trainable=False,\n",
        "                   dtype=tf.string,\n",
        "                   input_shape=[],\n",
        "                   output_shape=[50]),\n",
        "    keras.layers.Dense(128, activation='relu'),\n",
        "    keras.layers.Dense(1, activation='sigmoid')])\n",
        "\n",
        "# Get the model summary\n",
        "model.summary()"
      ],
      "execution_count": 0,
      "outputs": [
        {
          "output_type": "stream",
          "text": [
            "Model: \"sequential\"\n",
            "_________________________________________________________________\n",
            "Layer (type)                 Output Shape              Param #   \n",
            "=================================================================\n",
            "keras_layer (KerasLayer)     (None, 50)                48190600  \n",
            "_________________________________________________________________\n",
            "dense (Dense)                (None, 128)               6528      \n",
            "_________________________________________________________________\n",
            "dense_1 (Dense)              (None, 1)                 129       \n",
            "=================================================================\n",
            "Total params: 48,197,257\n",
            "Trainable params: 6,657\n",
            "Non-trainable params: 48,190,600\n",
            "_________________________________________________________________\n"
          ],
          "name": "stdout"
        }
      ]
    },
    {
      "cell_type": "markdown",
      "metadata": {
        "colab_type": "text",
        "id": "ix1L_EsQYBjt"
      },
      "source": [
        "## Freezing the pretrained layers"
      ]
    },
    {
      "cell_type": "code",
      "metadata": {
        "colab_type": "code",
        "id": "DCwvYPflMVMQ",
        "outputId": "eef91cce-6742-4e91-9457-74a44a697672",
        "colab": {
          "base_uri": "https://localhost:8080/",
          "height": 255
        }
      },
      "source": [
        "# Freeze the pretrained layers\n",
        "model.layers[0].trainable = False\n",
        "\n",
        "# Get the model summary\n",
        "model.summary()"
      ],
      "execution_count": 0,
      "outputs": [
        {
          "output_type": "stream",
          "text": [
            "Model: \"sequential\"\n",
            "_________________________________________________________________\n",
            "Layer (type)                 Output Shape              Param #   \n",
            "=================================================================\n",
            "keras_layer (KerasLayer)     (None, 50)                48190600  \n",
            "_________________________________________________________________\n",
            "dense (Dense)                (None, 128)               6528      \n",
            "_________________________________________________________________\n",
            "dense_1 (Dense)              (None, 1)                 129       \n",
            "=================================================================\n",
            "Total params: 48,197,257\n",
            "Trainable params: 6,657\n",
            "Non-trainable params: 48,190,600\n",
            "_________________________________________________________________\n"
          ],
          "name": "stdout"
        }
      ]
    },
    {
      "cell_type": "markdown",
      "metadata": {
        "colab_type": "text",
        "id": "3ggOzTBOhRjv"
      },
      "source": [
        "## Compiling the model"
      ]
    },
    {
      "cell_type": "code",
      "metadata": {
        "colab_type": "code",
        "id": "kP7SbfTPhRjv",
        "colab": {}
      },
      "source": [
        "# Compile the model\n",
        "model.compile(optimizer=keras.optimizers.Adam(learning_rate=10 ** -3),\n",
        "              loss='binary_crossentropy',\n",
        "              metrics=['accuracy'])"
      ],
      "execution_count": 0,
      "outputs": []
    },
    {
      "cell_type": "markdown",
      "metadata": {
        "colab_type": "text",
        "id": "ZDkc_gZThRjx"
      },
      "source": [
        "## Setting Callbacks"
      ]
    },
    {
      "cell_type": "code",
      "metadata": {
        "colab_type": "code",
        "id": "aaOoAz4yhRjx",
        "colab": {}
      },
      "source": [
        "# ModelCheckpoint callback\n",
        "model_checkpoint_cb = keras.callbacks.ModelCheckpoint(\n",
        "    filepath=abspath + \"/model/model.h5\",\n",
        "    save_best_only=True)\n",
        "\n",
        "# EarlyStopping callback\n",
        "early_stopping_cb = keras.callbacks.EarlyStopping(\n",
        "    patience=5,\n",
        "    restore_best_weights=True)\n",
        "\n",
        "# ReduceLROnPlateau callback\n",
        "reduce_lr_on_plateau_cb = keras.callbacks.ReduceLROnPlateau(\n",
        "    factor=0.1,\n",
        "    patience=5)"
      ],
      "execution_count": 0,
      "outputs": []
    },
    {
      "cell_type": "markdown",
      "metadata": {
        "colab_type": "text",
        "id": "2ZYUv96PhRjy"
      },
      "source": [
        "## Training, evaluating and saving the best model"
      ]
    },
    {
      "cell_type": "code",
      "metadata": {
        "colab_type": "code",
        "id": "OWZQ4PKKhRjy",
        "outputId": "0dfb70f6-18a5-4d9e-a1ad-b94b75e57c13",
        "colab": {
          "base_uri": "https://localhost:8080/",
          "height": 377
        }
      },
      "source": [
        "# Train, evaluate and save the best model\n",
        "history = model.fit(\n",
        "    data_train,\n",
        "    epochs=10,\n",
        "    validation_data=data_valid,\n",
        "    callbacks=[model_checkpoint_cb,\n",
        "               early_stopping_cb,\n",
        "               reduce_lr_on_plateau_cb])"
      ],
      "execution_count": 0,
      "outputs": [
        {
          "output_type": "stream",
          "text": [
            "Epoch 1/10\n",
            "1094/1094 [==============================] - 13s 11ms/step - loss: 0.5484 - accuracy: 0.7267 - val_loss: 0.5175 - val_accuracy: 0.7483 - lr: 0.0010\n",
            "Epoch 2/10\n",
            "1094/1094 [==============================] - 12s 11ms/step - loss: 0.5144 - accuracy: 0.7495 - val_loss: 0.5153 - val_accuracy: 0.7500 - lr: 0.0010\n",
            "Epoch 3/10\n",
            "1094/1094 [==============================] - 12s 11ms/step - loss: 0.5086 - accuracy: 0.7525 - val_loss: 0.5146 - val_accuracy: 0.7536 - lr: 0.0010\n",
            "Epoch 4/10\n",
            "1094/1094 [==============================] - 11s 10ms/step - loss: 0.5045 - accuracy: 0.7537 - val_loss: 0.5146 - val_accuracy: 0.7523 - lr: 0.0010\n",
            "Epoch 5/10\n",
            "1094/1094 [==============================] - 13s 12ms/step - loss: 0.5013 - accuracy: 0.7554 - val_loss: 0.5129 - val_accuracy: 0.7531 - lr: 0.0010\n",
            "Epoch 6/10\n",
            "1094/1094 [==============================] - 11s 10ms/step - loss: 0.4986 - accuracy: 0.7564 - val_loss: 0.5131 - val_accuracy: 0.7524 - lr: 0.0010\n",
            "Epoch 7/10\n",
            "1094/1094 [==============================] - 11s 10ms/step - loss: 0.4954 - accuracy: 0.7584 - val_loss: 0.5132 - val_accuracy: 0.7509 - lr: 0.0010\n",
            "Epoch 8/10\n",
            "1094/1094 [==============================] - 12s 11ms/step - loss: 0.4927 - accuracy: 0.7606 - val_loss: 0.5128 - val_accuracy: 0.7527 - lr: 0.0010\n",
            "Epoch 9/10\n",
            "1094/1094 [==============================] - 12s 11ms/step - loss: 0.4897 - accuracy: 0.7619 - val_loss: 0.5122 - val_accuracy: 0.7523 - lr: 0.0010\n",
            "Epoch 10/10\n",
            "1094/1094 [==============================] - 11s 10ms/step - loss: 0.4868 - accuracy: 0.7646 - val_loss: 0.5125 - val_accuracy: 0.7519 - lr: 0.0010\n"
          ],
          "name": "stdout"
        }
      ]
    },
    {
      "cell_type": "markdown",
      "metadata": {
        "colab_type": "text",
        "id": "Pz7FNbJNhRjz"
      },
      "source": [
        "## Plotting the learning curve"
      ]
    },
    {
      "cell_type": "markdown",
      "metadata": {
        "colab_type": "text",
        "id": "wSBzxpevMQnj"
      },
      "source": [
        "### Creating the directory for the figure"
      ]
    },
    {
      "cell_type": "code",
      "metadata": {
        "colab_type": "code",
        "id": "30h3SRRnMTt-",
        "colab": {}
      },
      "source": [
        "# Make directory\n",
        "directory = os.path.dirname(abspath + 'figure/')\n",
        "if not os.path.exists(directory):\n",
        "    os.makedirs(directory)"
      ],
      "execution_count": 0,
      "outputs": []
    },
    {
      "cell_type": "code",
      "metadata": {
        "colab_type": "code",
        "id": "OK886LrlhRjz",
        "outputId": "a9c9d21d-913f-4119-d2e2-8428620f1de6",
        "scrolled": true,
        "colab": {
          "base_uri": "https://localhost:8080/",
          "height": 348
        }
      },
      "source": [
        "import pandas as pd\n",
        "\n",
        "# Create a figure\n",
        "pd.DataFrame(history.history).plot(figsize=(8, 5))\n",
        "\n",
        "# Save and show the figure\n",
        "plt.tight_layout()\n",
        "plt.savefig(abspath + 'figure/learning_curve_freezing.pdf')\n",
        "plt.show()"
      ],
      "execution_count": 0,
      "outputs": [
        {
          "output_type": "display_data",
          "data": {
            "image/png": "[encoded data removed]",
            "text/plain": [
              "<Figure size 576x360 with 1 Axes>"
            ]
          },
          "metadata": {
            "tags": [],
            "needs_background": "light"
          }
        }
      ]
    },
    {
      "cell_type": "markdown",
      "metadata": {
        "colab_type": "text",
        "id": "Ey_jrLDl0bn4"
      },
      "source": [
        "## Unfreezing the pretrained layers"
      ]
    },
    {
      "cell_type": "code",
      "metadata": {
        "colab_type": "code",
        "id": "ZFgtwWQ50aky",
        "outputId": "4a1cf3ba-664d-4a48-ada6-aab6e8350823",
        "colab": {
          "base_uri": "https://localhost:8080/",
          "height": 255
        }
      },
      "source": [
        "# Unfreeze the pretrained layers\n",
        "model.layers[0].trainable = True\n",
        "\n",
        "# Get the model summary\n",
        "model.summary()"
      ],
      "execution_count": 0,
      "outputs": [
        {
          "output_type": "stream",
          "text": [
            "Model: \"sequential\"\n",
            "_________________________________________________________________\n",
            "Layer (type)                 Output Shape              Param #   \n",
            "=================================================================\n",
            "keras_layer (KerasLayer)     (None, 50)                48190600  \n",
            "_________________________________________________________________\n",
            "dense (Dense)                (None, 128)               6528      \n",
            "_________________________________________________________________\n",
            "dense_1 (Dense)              (None, 1)                 129       \n",
            "=================================================================\n",
            "Total params: 48,197,257\n",
            "Trainable params: 48,197,257\n",
            "Non-trainable params: 0\n",
            "_________________________________________________________________\n"
          ],
          "name": "stdout"
        }
      ]
    },
    {
      "cell_type": "markdown",
      "metadata": {
        "colab_type": "text",
        "id": "bZZf9heNJ4AW"
      },
      "source": [
        "## Compiling the model"
      ]
    },
    {
      "cell_type": "code",
      "metadata": {
        "colab_type": "code",
        "id": "MtbqmQcsJ4AW",
        "colab": {}
      },
      "source": [
        "# Compile the model\n",
        "model.compile(optimizer=keras.optimizers.Adam(learning_rate=10 ** -4),\n",
        "              loss='binary_crossentropy',\n",
        "              metrics=['accuracy'])"
      ],
      "execution_count": 0,
      "outputs": []
    },
    {
      "cell_type": "markdown",
      "metadata": {
        "colab_type": "text",
        "id": "DyMe9hP3PITL"
      },
      "source": [
        "## Training, evaluating and saving the best model"
      ]
    },
    {
      "cell_type": "code",
      "metadata": {
        "colab_type": "code",
        "id": "sZQ8UVSwPLQn",
        "outputId": "e9c5a030-7a5e-404b-e614-00b0f435af73",
        "colab": {
          "base_uri": "https://localhost:8080/",
          "height": 377
        }
      },
      "source": [
        "# Train, evaluate and save the best model\n",
        "history = model.fit(\n",
        "    data_train,\n",
        "    epochs=10,\n",
        "    validation_data=data_valid,\n",
        "    callbacks=[model_checkpoint_cb,\n",
        "               early_stopping_cb,\n",
        "               reduce_lr_on_plateau_cb])"
      ],
      "execution_count": 0,
      "outputs": [
        {
          "output_type": "stream",
          "text": [
            "Epoch 1/10\n",
            "1094/1094 [==============================] - 59s 54ms/step - loss: 0.4330 - accuracy: 0.8006 - val_loss: 0.4119 - val_accuracy: 0.8172 - lr: 1.0000e-04\n",
            "Epoch 2/10\n",
            "1094/1094 [==============================] - 59s 54ms/step - loss: 0.3312 - accuracy: 0.8603 - val_loss: 0.3661 - val_accuracy: 0.8384 - lr: 1.0000e-04\n",
            "Epoch 3/10\n",
            "1094/1094 [==============================] - 59s 54ms/step - loss: 0.2579 - accuracy: 0.8983 - val_loss: 0.3418 - val_accuracy: 0.8492 - lr: 1.0000e-04\n",
            "Epoch 4/10\n",
            "1094/1094 [==============================] - 59s 54ms/step - loss: 0.1998 - accuracy: 0.9295 - val_loss: 0.3301 - val_accuracy: 0.8595 - lr: 1.0000e-04\n",
            "Epoch 5/10\n",
            "1094/1094 [==============================] - 59s 54ms/step - loss: 0.1523 - accuracy: 0.9504 - val_loss: 0.3280 - val_accuracy: 0.8656 - lr: 1.0000e-04\n",
            "Epoch 6/10\n",
            "1094/1094 [==============================] - 56s 51ms/step - loss: 0.1132 - accuracy: 0.9673 - val_loss: 0.3341 - val_accuracy: 0.8679 - lr: 1.0000e-04\n",
            "Epoch 7/10\n",
            "1094/1094 [==============================] - 56s 51ms/step - loss: 0.0817 - accuracy: 0.9797 - val_loss: 0.3477 - val_accuracy: 0.8673 - lr: 1.0000e-04\n",
            "Epoch 8/10\n",
            "1094/1094 [==============================] - 56s 51ms/step - loss: 0.0571 - accuracy: 0.9881 - val_loss: 0.3669 - val_accuracy: 0.8687 - lr: 1.0000e-04\n",
            "Epoch 9/10\n",
            "1094/1094 [==============================] - 56s 51ms/step - loss: 0.0387 - accuracy: 0.9938 - val_loss: 0.3915 - val_accuracy: 0.8673 - lr: 1.0000e-04\n",
            "Epoch 10/10\n",
            "1094/1094 [==============================] - 56s 51ms/step - loss: 0.0253 - accuracy: 0.9969 - val_loss: 0.4214 - val_accuracy: 0.8659 - lr: 1.0000e-04\n"
          ],
          "name": "stdout"
        }
      ]
    },
    {
      "cell_type": "markdown",
      "metadata": {
        "colab_type": "text",
        "id": "GeIFeFryPZgX"
      },
      "source": [
        "## Plotting the learning curve"
      ]
    },
    {
      "cell_type": "code",
      "metadata": {
        "colab_type": "code",
        "id": "1xvIZ2ayPirc",
        "outputId": "2707f628-65c6-4a39-e457-b9330aed4aeb",
        "colab": {
          "base_uri": "https://localhost:8080/",
          "height": 348
        }
      },
      "source": [
        "# Create a figure\n",
        "pd.DataFrame(history.history).plot(figsize=(8, 5))\n",
        "\n",
        "# Save and show the figure\n",
        "plt.tight_layout()\n",
        "plt.savefig(abspath + 'figure/learning_curve_unfreezing.pdf')\n",
        "plt.show()"
      ],
      "execution_count": 0,
      "outputs": [
        {
          "output_type": "display_data",
          "data": {
            "image/png": "[encoded data removed]",
            "text/plain": [
              "<Figure size 576x360 with 1 Axes>"
            ]
          },
          "metadata": {
            "tags": [],
            "needs_background": "light"
          }
        }
      ]
    },
    {
      "cell_type": "markdown",
      "metadata": {
        "colab_type": "text",
        "id": "RkGivY_MA6m1"
      },
      "source": [
        "# Testing"
      ]
    },
    {
      "cell_type": "markdown",
      "metadata": {
        "colab_type": "text",
        "id": "pjg97rxBvTsD"
      },
      "source": [
        "## Loading the saved best model"
      ]
    },
    {
      "cell_type": "code",
      "metadata": {
        "colab_type": "code",
        "id": "vWOYFg8BvYI9",
        "outputId": "6251f2d2-c107-4900-ba7f-ed08e11a00c0",
        "colab": {
          "base_uri": "https://localhost:8080/",
          "height": 51
        }
      },
      "source": [
        "# Load the model\n",
        "model = keras.models.load_model(abspath + \"/model/model.h5\",\n",
        "                                custom_objects={'KerasLayer':hub.KerasLayer})"
      ],
      "execution_count": 0,
      "outputs": [
        {
          "output_type": "stream",
          "text": [
            "WARNING:tensorflow:Error in loading the saved optimizer state. As a result, your model is starting with a freshly initialized optimizer.\n"
          ],
          "name": "stdout"
        },
        {
          "output_type": "stream",
          "text": [
            "WARNING:tensorflow:Error in loading the saved optimizer state. As a result, your model is starting with a freshly initialized optimizer.\n"
          ],
          "name": "stderr"
        }
      ]
    },
    {
      "cell_type": "markdown",
      "metadata": {
        "colab_type": "text",
        "id": "YAfOtSI7wajL"
      },
      "source": [
        "## Evaluating the model"
      ]
    },
    {
      "cell_type": "code",
      "metadata": {
        "colab_type": "code",
        "id": "aoJnAfYfYDjH",
        "outputId": "84daaadf-fdb9-4775-d587-4f27a2517f5d",
        "colab": {
          "base_uri": "https://localhost:8080/",
          "height": 34
        }
      },
      "source": [
        "loss, accuracy = model.evaluate(data_test)"
      ],
      "execution_count": 0,
      "outputs": [
        {
          "output_type": "stream",
          "text": [
            "1563/1563 [==============================] - 10s 6ms/step - loss: 0.3498 - accuracy: 0.8528\n"
          ],
          "name": "stdout"
        }
      ]
    },
    {
      "cell_type": "code",
      "metadata": {
        "colab_type": "code",
        "id": "8BYC3pnrTAIn",
        "colab": {}
      },
      "source": [
        ""
      ],
      "execution_count": 0,
      "outputs": []
    }
  ]
}