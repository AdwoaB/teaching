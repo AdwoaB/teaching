{
 "cells": [
  {
   "cell_type": "markdown",
   "metadata": {
    "colab_type": "text",
    "id": "cMSn67px4ANI",
    "toc": true
   },
   "source": [
    "<h1>Table of Contents<span class=\"tocSkip\"></span></h1>\n",
    "<div class=\"toc\"><ul class=\"toc-item\"><li><span><a href=\"#Notebook-Configuration\" data-toc-modified-id=\"Notebook-Configuration-1\"><span class=\"toc-item-num\">1&nbsp;&nbsp;</span>Notebook Configuration</a></span><ul class=\"toc-item\"><li><span><a href=\"#Google-Drive\" data-toc-modified-id=\"Google-Drive-1.1\"><span class=\"toc-item-num\">1.1&nbsp;&nbsp;</span>Google Drive</a></span></li><li><span><a href=\"#Warning\" data-toc-modified-id=\"Warning-1.2\"><span class=\"toc-item-num\">1.2&nbsp;&nbsp;</span>Warning</a></span></li><li><span><a href=\"#Matplotlib\" data-toc-modified-id=\"Matplotlib-1.3\"><span class=\"toc-item-num\">1.3&nbsp;&nbsp;</span>Matplotlib</a></span></li><li><span><a href=\"#TensorFlow\" data-toc-modified-id=\"TensorFlow-1.4\"><span class=\"toc-item-num\">1.4&nbsp;&nbsp;</span>TensorFlow</a></span></li></ul></li><li><span><a href=\"#Data-Preprocessing\" data-toc-modified-id=\"Data-Preprocessing-2\"><span class=\"toc-item-num\">2&nbsp;&nbsp;</span>Data Preprocessing</a></span><ul class=\"toc-item\"><li><span><a href=\"#Loading-data\" data-toc-modified-id=\"Loading-data-2.1\"><span class=\"toc-item-num\">2.1&nbsp;&nbsp;</span>Loading data</a></span><ul class=\"toc-item\"><li><span><a href=\"#Creating-the-directory-for-the-data\" data-toc-modified-id=\"Creating-the-directory-for-the-data-2.1.1\"><span class=\"toc-item-num\">2.1.1&nbsp;&nbsp;</span>Creating the directory for the data</a></span></li><li><span><a href=\"#Downloading-data-to-the-directory\" data-toc-modified-id=\"Downloading-data-to-the-directory-2.1.2\"><span class=\"toc-item-num\">2.1.2&nbsp;&nbsp;</span>Downloading data to the directory</a></span></li></ul></li><li><span><a href=\"#Getting-the-name-of-the-target\" data-toc-modified-id=\"Getting-the-name-of-the-target-2.2\"><span class=\"toc-item-num\">2.2&nbsp;&nbsp;</span>Getting the name of the target</a></span></li><li><span><a href=\"#Getting-the-info\" data-toc-modified-id=\"Getting-the-info-2.3\"><span class=\"toc-item-num\">2.3&nbsp;&nbsp;</span>Getting the info</a></span></li><li><span><a href=\"#Getting-the-training,-validation-and-testing-data\" data-toc-modified-id=\"Getting-the-training,-validation-and-testing-data-2.4\"><span class=\"toc-item-num\">2.4&nbsp;&nbsp;</span>Getting the training, validation and testing data</a></span></li><li><span><a href=\"#Resizing-the-data-for-pretrained-model\" data-toc-modified-id=\"Resizing-the-data-for-pretrained-model-2.5\"><span class=\"toc-item-num\">2.5&nbsp;&nbsp;</span>Resizing the data for pretrained model</a></span></li><li><span><a href=\"#Preprocessing-the-data-using-pretrained-model\" data-toc-modified-id=\"Preprocessing-the-data-using-pretrained-model-2.6\"><span class=\"toc-item-num\">2.6&nbsp;&nbsp;</span>Preprocessing the data using pretrained model</a></span></li><li><span><a href=\"#Shuffling,-batching-and-prefetching\" data-toc-modified-id=\"Shuffling,-batching-and-prefetching-2.7\"><span class=\"toc-item-num\">2.7&nbsp;&nbsp;</span>Shuffling, batching and prefetching</a></span></li></ul></li><li><span><a href=\"#Training\" data-toc-modified-id=\"Training-3\"><span class=\"toc-item-num\">3&nbsp;&nbsp;</span>Training</a></span><ul class=\"toc-item\"><li><span><a href=\"#Creating-the-directory-for-the-model\" data-toc-modified-id=\"Creating-the-directory-for-the-model-3.1\"><span class=\"toc-item-num\">3.1&nbsp;&nbsp;</span>Creating the directory for the model</a></span></li><li><span><a href=\"#Building-the-architecture-of-the-model\" data-toc-modified-id=\"Building-the-architecture-of-the-model-3.2\"><span class=\"toc-item-num\">3.2&nbsp;&nbsp;</span>Building the architecture of the model</a></span></li><li><span><a href=\"#Freezing-the-pretrained-layers\" data-toc-modified-id=\"Freezing-the-pretrained-layers-3.3\"><span class=\"toc-item-num\">3.3&nbsp;&nbsp;</span>Freezing the pretrained layers</a></span></li><li><span><a href=\"#Setting-Callbacks\" data-toc-modified-id=\"Setting-Callbacks-3.4\"><span class=\"toc-item-num\">3.4&nbsp;&nbsp;</span>Setting Callbacks</a></span></li><li><span><a href=\"#Compiling-the-model\" data-toc-modified-id=\"Compiling-the-model-3.5\"><span class=\"toc-item-num\">3.5&nbsp;&nbsp;</span>Compiling the model</a></span></li><li><span><a href=\"#Training-the-model\" data-toc-modified-id=\"Training-the-model-3.6\"><span class=\"toc-item-num\">3.6&nbsp;&nbsp;</span>Training the model</a></span></li><li><span><a href=\"#Plotting-the-learning-curve\" data-toc-modified-id=\"Plotting-the-learning-curve-3.7\"><span class=\"toc-item-num\">3.7&nbsp;&nbsp;</span>Plotting the learning curve</a></span><ul class=\"toc-item\"><li><span><a href=\"#Creating-the-directory-for-the-figure\" data-toc-modified-id=\"Creating-the-directory-for-the-figure-3.7.1\"><span class=\"toc-item-num\">3.7.1&nbsp;&nbsp;</span>Creating the directory for the figure</a></span></li></ul></li><li><span><a href=\"#Unfreezing-the-pretrained-layers\" data-toc-modified-id=\"Unfreezing-the-pretrained-layers-3.8\"><span class=\"toc-item-num\">3.8&nbsp;&nbsp;</span>Unfreezing the pretrained layers</a></span></li><li><span><a href=\"#Compiling-the-model\" data-toc-modified-id=\"Compiling-the-model-3.9\"><span class=\"toc-item-num\">3.9&nbsp;&nbsp;</span>Compiling the model</a></span></li><li><span><a href=\"#Training-the-model\" data-toc-modified-id=\"Training-the-model-3.10\"><span class=\"toc-item-num\">3.10&nbsp;&nbsp;</span>Training the model</a></span></li><li><span><a href=\"#Plotting-the-learning-curve\" data-toc-modified-id=\"Plotting-the-learning-curve-3.11\"><span class=\"toc-item-num\">3.11&nbsp;&nbsp;</span>Plotting the learning curve</a></span></li></ul></li><li><span><a href=\"#Testing\" data-toc-modified-id=\"Testing-4\"><span class=\"toc-item-num\">4&nbsp;&nbsp;</span>Testing</a></span><ul class=\"toc-item\"><li><span><a href=\"#Loading-the-saved-model\" data-toc-modified-id=\"Loading-the-saved-model-4.1\"><span class=\"toc-item-num\">4.1&nbsp;&nbsp;</span>Loading the saved model</a></span></li><li><span><a href=\"#Evaluating-the-model\" data-toc-modified-id=\"Evaluating-the-model-4.2\"><span class=\"toc-item-num\">4.2&nbsp;&nbsp;</span>Evaluating the model</a></span></li></ul></li></ul></div>"
   ]
  },
  {
   "cell_type": "markdown",
   "metadata": {
    "colab_type": "text",
    "id": "YTiWqATn4ANO"
   },
   "source": [
    "<b>\n",
    "\n",
    "<p>\n",
    "<center>\n",
    "<font size=\"5\">\n",
    "Machine Learning I (DATS 6202), Spring 2020\n",
    "</font>\n",
    "</center>\n",
    "</p>\n",
    "\n",
    "<p>\n",
    "<center>\n",
    "<font size=\"4\">\n",
    "Case Study 6.2: Predicting Digit\n",
    "</font>\n",
    "</center>\n",
    "</p>\n",
    "\n",
    "<p>\n",
    "<center>\n",
    "<font size=\"3\">\n",
    "Data Science, Columbian College of Arts & Sciences, George Washington University\n",
    "</font>\n",
    "</center>\n",
    "</p>\n",
    "\n",
    "<p>\n",
    "<center>\n",
    "<font size=\"3\">\n",
    "Author: Yuxiao Huang\n",
    "</font>\n",
    "</center>\n",
    "</p>\n",
    "\n",
    "</b>"
   ]
  },
  {
   "cell_type": "markdown",
   "metadata": {
    "colab_type": "text",
    "id": "WJ-IbZqAgILJ"
   },
   "source": [
    "# Notebook Configuration"
   ]
  },
  {
   "cell_type": "markdown",
   "metadata": {
    "colab_type": "text",
    "id": "H3yB94KtgMHu"
   },
   "source": [
    "## Google Drive"
   ]
  },
  {
   "cell_type": "code",
   "execution_count": 0,
   "metadata": {
    "colab": {
     "base_uri": "https://localhost:8080/",
     "height": 122
    },
    "colab_type": "code",
    "executionInfo": {
     "elapsed": 19322,
     "status": "ok",
     "timestamp": 1584492886809,
     "user": {
      "displayName": "Huang Yuxiao",
      "photoUrl": "",
      "userId": "05167076769245149404"
     },
     "user_tz": 240
    },
    "id": "jWmYBTOwgNs-",
    "outputId": "9c7eddae-5c36-4f93-9f7e-841e0ee4d1cf"
   },
   "outputs": [
    {
     "name": "stdout",
     "output_type": "stream",
     "text": [
      "Go to this URL in a browser: https://accounts.google.com/o/oauth2/auth?client_id=947318989803-6bn6qk8qdgf4n4g3pfee6491hc0brc4i.apps.googleusercontent.com&redirect_uri=urn%3aietf%3awg%3aoauth%3a2.0%3aoob&response_type=code&scope=email%20https%3a%2f%2fwww.googleapis.com%2fauth%2fdocs.test%20https%3a%2f%2fwww.googleapis.com%2fauth%2fdrive%20https%3a%2f%2fwww.googleapis.com%2fauth%2fdrive.photos.readonly%20https%3a%2f%2fwww.googleapis.com%2fauth%2fpeopleapi.readonly\n",
      "\n",
      "Enter your authorization code:\n",
      "··········\n",
      "Mounted at /content/drive\n"
     ]
    }
   ],
   "source": [
    "from google.colab import drive\n",
    "\n",
    "# Mount Google Drive\n",
    "drive.mount('/content/drive')\n",
    "\n",
    "# Get absolute path\n",
    "abspath = '/content/drive/My Drive/Colab Notebooks/teaching/gwu/machine_learning_I/case_study/case_study_6/case_study_6_2/'"
   ]
  },
  {
   "cell_type": "markdown",
   "metadata": {
    "colab_type": "text",
    "id": "bYZhU1Wqgmqx"
   },
   "source": [
    "## Warning"
   ]
  },
  {
   "cell_type": "code",
   "execution_count": 0,
   "metadata": {
    "colab": {},
    "colab_type": "code",
    "id": "MUl4k83e4ANR"
   },
   "outputs": [],
   "source": [
    "import warnings\n",
    "\n",
    "# Ignore warnings\n",
    "warnings.filterwarnings('ignore')"
   ]
  },
  {
   "cell_type": "markdown",
   "metadata": {
    "colab_type": "text",
    "id": "6WMODpPfgn2U"
   },
   "source": [
    "## Matplotlib"
   ]
  },
  {
   "cell_type": "code",
   "execution_count": 0,
   "metadata": {
    "colab": {},
    "colab_type": "code",
    "id": "DBRVH9SB4ANb"
   },
   "outputs": [],
   "source": [
    "import matplotlib.pyplot as plt\n",
    "%matplotlib inline \n",
    "\n",
    "# Set matplotlib sizes\n",
    "plt.rc('font', size=20)\n",
    "plt.rc('axes', titlesize=20)\n",
    "plt.rc('axes', labelsize=20)\n",
    "plt.rc('xtick', labelsize=20)\n",
    "plt.rc('ytick', labelsize=20)\n",
    "plt.rc('legend', fontsize=20)\n",
    "plt.rc('figure', titlesize=20)"
   ]
  },
  {
   "cell_type": "markdown",
   "metadata": {
    "colab_type": "text",
    "id": "n-wNDk5nZhhO"
   },
   "source": [
    "## TensorFlow"
   ]
  },
  {
   "cell_type": "code",
   "execution_count": 0,
   "metadata": {
    "colab": {
     "base_uri": "https://localhost:8080/",
     "height": 34
    },
    "colab_type": "code",
    "executionInfo": {
     "elapsed": 20713,
     "status": "ok",
     "timestamp": 1584492888224,
     "user": {
      "displayName": "Huang Yuxiao",
      "photoUrl": "",
      "userId": "05167076769245149404"
     },
     "user_tz": 240
    },
    "id": "LjG43tEnZkfE",
    "outputId": "cc6396aa-acff-4a2d-a728-be7402bcb6b6"
   },
   "outputs": [
    {
     "name": "stdout",
     "output_type": "stream",
     "text": [
      "TensorFlow 2.x selected.\n"
     ]
    }
   ],
   "source": [
    "# The magic below allows us to use tensorflow version 2.x\n",
    "%tensorflow_version 2.x \n",
    "import tensorflow as tf\n",
    "from tensorflow import keras"
   ]
  },
  {
   "cell_type": "markdown",
   "metadata": {
    "colab_type": "text",
    "id": "1eOpQpPu4ANk"
   },
   "source": [
    "# Data Preprocessing"
   ]
  },
  {
   "cell_type": "markdown",
   "metadata": {
    "colab_type": "text",
    "id": "xnJAfR784ANl"
   },
   "source": [
    "## Loading data"
   ]
  },
  {
   "cell_type": "markdown",
   "metadata": {
    "colab_type": "text",
    "id": "LM_WKAmO4ANm"
   },
   "source": [
    "In this case study, we will work on the [cifar10 dataset](https://www.tensorflow.org/datasets/catalog/cifar10)."
   ]
  },
  {
   "cell_type": "markdown",
   "metadata": {
    "colab_type": "text",
    "id": "IEjvHlLB8X0z"
   },
   "source": [
    "### Creating the directory for the data"
   ]
  },
  {
   "cell_type": "code",
   "execution_count": 0,
   "metadata": {
    "colab": {},
    "colab_type": "code",
    "id": "reijpcaf8UgO"
   },
   "outputs": [],
   "source": [
    "import os\n",
    "\n",
    "# Make directory\n",
    "directory = os.path.dirname(abspath + 'data/')\n",
    "if not os.path.exists(directory):\n",
    "    os.makedirs(directory)"
   ]
  },
  {
   "cell_type": "markdown",
   "metadata": {
    "colab_type": "text",
    "id": "-sDdbhok2i7C"
   },
   "source": [
    "### Downloading data to the directory"
   ]
  },
  {
   "cell_type": "code",
   "execution_count": 0,
   "metadata": {
    "colab": {},
    "colab_type": "code",
    "id": "6onKpDeL4ANn",
    "scrolled": true
   },
   "outputs": [],
   "source": [
    "import tensorflow_datasets as tfds\n",
    "\n",
    "# Get the name of the data\n",
    "data_name = 'cifar10'\n",
    "\n",
    "# Load data\n",
    "data, info = tfds.load(name=data_name,\n",
    "                       data_dir=abspath + 'data/',\n",
    "                       as_supervised=True,\n",
    "                       with_info=True)"
   ]
  },
  {
   "cell_type": "markdown",
   "metadata": {
    "colab_type": "text",
    "id": "yvIqSuZUVBb8"
   },
   "source": [
    "## Getting the name of the target"
   ]
  },
  {
   "cell_type": "code",
   "execution_count": 0,
   "metadata": {
    "colab": {},
    "colab_type": "code",
    "id": "AF5gbpOWVElL"
   },
   "outputs": [],
   "source": [
    "target = 'label'"
   ]
  },
  {
   "cell_type": "markdown",
   "metadata": {
    "colab_type": "text",
    "id": "ugddFhUgVGWq"
   },
   "source": [
    "## Getting the info"
   ]
  },
  {
   "cell_type": "code",
   "execution_count": 0,
   "metadata": {
    "colab": {
     "base_uri": "https://localhost:8080/",
     "height": 51
    },
    "colab_type": "code",
    "executionInfo": {
     "elapsed": 25348,
     "status": "ok",
     "timestamp": 1584492892878,
     "user": {
      "displayName": "Huang Yuxiao",
      "photoUrl": "",
      "userId": "05167076769245149404"
     },
     "user_tz": 240
    },
    "id": "A85zWEqMjP5E",
    "outputId": "4f521d4f-78e1-4adb-e25d-b89077fdb3de"
   },
   "outputs": [
    {
     "data": {
      "text/plain": [
       "{'test': <tfds.core.SplitInfo num_examples=10000>,\n",
       " 'train': <tfds.core.SplitInfo num_examples=50000>}"
      ]
     },
     "execution_count": 8,
     "metadata": {
      "tags": []
     },
     "output_type": "execute_result"
    }
   ],
   "source": [
    "# Print the splits\n",
    "info.splits"
   ]
  },
  {
   "cell_type": "code",
   "execution_count": 0,
   "metadata": {
    "colab": {
     "base_uri": "https://localhost:8080/",
     "height": 187
    },
    "colab_type": "code",
    "executionInfo": {
     "elapsed": 25339,
     "status": "ok",
     "timestamp": 1584492892879,
     "user": {
      "displayName": "Huang Yuxiao",
      "photoUrl": "",
      "userId": "05167076769245149404"
     },
     "user_tz": 240
    },
    "id": "vsSHR38vjL1G",
    "outputId": "b7807c8d-ec26-435e-edd4-161fd6da15f3"
   },
   "outputs": [
    {
     "data": {
      "text/plain": [
       "['airplane',\n",
       " 'automobile',\n",
       " 'bird',\n",
       " 'cat',\n",
       " 'deer',\n",
       " 'dog',\n",
       " 'frog',\n",
       " 'horse',\n",
       " 'ship',\n",
       " 'truck']"
      ]
     },
     "execution_count": 9,
     "metadata": {
      "tags": []
     },
     "output_type": "execute_result"
    }
   ],
   "source": [
    "# Get the classes\n",
    "classes = info.features['label'].names\n",
    "\n",
    "# Print the classes\n",
    "classes"
   ]
  },
  {
   "cell_type": "code",
   "execution_count": 0,
   "metadata": {
    "colab": {
     "base_uri": "https://localhost:8080/",
     "height": 34
    },
    "colab_type": "code",
    "executionInfo": {
     "elapsed": 25331,
     "status": "ok",
     "timestamp": 1584492892880,
     "user": {
      "displayName": "Huang Yuxiao",
      "photoUrl": "",
      "userId": "05167076769245149404"
     },
     "user_tz": 240
    },
    "id": "hD0wa74kS_53",
    "outputId": "6d941411-4c40-4e41-a292-ebc2af144c2b"
   },
   "outputs": [
    {
     "data": {
      "text/plain": [
       "10"
      ]
     },
     "execution_count": 10,
     "metadata": {
      "tags": []
     },
     "output_type": "execute_result"
    }
   ],
   "source": [
    "# Get the number of classes\n",
    "n_classes = info.features['label'].num_classes\n",
    "\n",
    "# Print the number of classes\n",
    "info.features['label'].num_classes"
   ]
  },
  {
   "cell_type": "markdown",
   "metadata": {
    "colab_type": "text",
    "id": "jGLoCbmO4AN9"
   },
   "source": [
    "## Getting the training, validation and testing data"
   ]
  },
  {
   "cell_type": "code",
   "execution_count": 0,
   "metadata": {
    "colab": {},
    "colab_type": "code",
    "id": "a2P4L1vS4AN_"
   },
   "outputs": [],
   "source": [
    "# Set the training, validation and testing split\n",
    "split_train, split_valid, split_test = 'train[:70%]', 'train[70%:]', 'test'\n",
    "\n",
    "# Get the training data\n",
    "data_train = tfds.load(name=data_name,\n",
    "                       split=split_train,\n",
    "                       data_dir=abspath + 'data/',\n",
    "                       as_supervised=True)\n",
    "\n",
    "# Get the validation data\n",
    "data_valid = tfds.load(name=data_name,\n",
    "                       split=split_valid,\n",
    "                       data_dir=abspath + 'data/',\n",
    "                       as_supervised=True)\n",
    "\n",
    "# Get the testing data\n",
    "data_test = tfds.load(name=data_name,\n",
    "                      split=split_test,\n",
    "                      data_dir=abspath + 'data/',\n",
    "                      as_supervised=True)"
   ]
  },
  {
   "cell_type": "markdown",
   "metadata": {
    "colab_type": "text",
    "id": "b3zPpOR4fZjA"
   },
   "source": [
    "## Resizing the data for pretrained model"
   ]
  },
  {
   "cell_type": "code",
   "execution_count": 0,
   "metadata": {
    "colab": {},
    "colab_type": "code",
    "id": "16kuv2xPhvVU"
   },
   "outputs": [],
   "source": [
    "# Set the default input size for the pretrained model\n",
    "input_size = [299, 299]"
   ]
  },
  {
   "cell_type": "code",
   "execution_count": 0,
   "metadata": {
    "colab": {},
    "colab_type": "code",
    "id": "r-sBvLA7CWxZ"
   },
   "outputs": [],
   "source": [
    "def resize(data, label):\n",
    "    \"\"\"\n",
    "    Resize the data into the default input size for the pretrained model\n",
    "\n",
    "    Parameters\n",
    "    ----------\n",
    "    data: the data\n",
    "    label: the label\n",
    "    \n",
    "    Returns\n",
    "    ----------\n",
    "    The resized data\n",
    "    \"\"\"\n",
    "\n",
    "    # Resize the data into the default input size for the pretrained model\n",
    "    data_resized = tf.image.resize(data, input_size)\n",
    "\n",
    "    return data_resized, label"
   ]
  },
  {
   "cell_type": "code",
   "execution_count": 0,
   "metadata": {
    "colab": {},
    "colab_type": "code",
    "id": "oSEHIJaBC3FC"
   },
   "outputs": [],
   "source": [
    "# Resize the training data\n",
    "data_train = data_train.map(resize)\n",
    "\n",
    "# Resize the validation data\n",
    "data_valid = data_valid.map(resize)\n",
    "\n",
    "# Resize the testing data\n",
    "data_test = data_test.map(resize)"
   ]
  },
  {
   "cell_type": "markdown",
   "metadata": {
    "colab_type": "text",
    "id": "sZUSCJjyXxYE"
   },
   "source": [
    "## Preprocessing the data using pretrained model"
   ]
  },
  {
   "cell_type": "code",
   "execution_count": 0,
   "metadata": {
    "colab": {},
    "colab_type": "code",
    "id": "CfV6k87Ihz_u"
   },
   "outputs": [],
   "source": [
    "# Set the preprocess_input of the pretrained model\n",
    "preprocess_input = keras.applications.xception.preprocess_input"
   ]
  },
  {
   "cell_type": "code",
   "execution_count": 0,
   "metadata": {
    "colab": {},
    "colab_type": "code",
    "id": "mL723VuiY_7j"
   },
   "outputs": [],
   "source": [
    "def preprocess(data, label):\n",
    "    \"\"\"\n",
    "    Preprocess the data using the pretrained model\n",
    "\n",
    "    Parameters\n",
    "    ----------\n",
    "    data: the data\n",
    "    label: the label\n",
    "    \n",
    "    Returns\n",
    "    ----------\n",
    "    The preprocessed data\n",
    "    \"\"\"\n",
    "\n",
    "    # Preprocess the data using the pretrained model\n",
    "    data_preprocessed = preprocess_input(data)\n",
    "\n",
    "    return data_preprocessed, label"
   ]
  },
  {
   "cell_type": "code",
   "execution_count": 0,
   "metadata": {
    "colab": {},
    "colab_type": "code",
    "id": "xWzw74MUYFl9"
   },
   "outputs": [],
   "source": [
    "# Preprocess the training data\n",
    "data_train = data_train.map(preprocess)\n",
    "\n",
    "# Preprocess the validation data\n",
    "data_valid = data_valid.map(preprocess)\n",
    "\n",
    "# Preprocess the testing data\n",
    "data_test = data_test.map(preprocess)"
   ]
  },
  {
   "cell_type": "markdown",
   "metadata": {
    "colab_type": "text",
    "id": "e9oPQZ7limeD"
   },
   "source": [
    "## Shuffling, batching and prefetching"
   ]
  },
  {
   "cell_type": "code",
   "execution_count": 0,
   "metadata": {
    "colab": {},
    "colab_type": "code",
    "id": "p95Fq3PFbaAL"
   },
   "outputs": [],
   "source": [
    "# Shuffling the training data\n",
    "data_train = data_train.shuffle(buffer_size=1000, seed=42)\n",
    "\n",
    "# Set the batch size\n",
    "batch_size = 16\n",
    "\n",
    "# Batch and prefetch the training data\n",
    "data_train = data_train.batch(batch_size).prefetch(1)\n",
    "\n",
    "# Batch and prefetch the validation data\n",
    "data_valid = data_valid.batch(batch_size).prefetch(1)\n",
    "\n",
    "# Batch and prefetch the testing data\n",
    "data_test = data_test.batch(batch_size).prefetch(1)"
   ]
  },
  {
   "cell_type": "markdown",
   "metadata": {
    "colab_type": "text",
    "id": "rMLlv9xK4AO9"
   },
   "source": [
    "# Training"
   ]
  },
  {
   "cell_type": "markdown",
   "metadata": {
    "colab_type": "text",
    "id": "5l3DrD9e8g5_"
   },
   "source": [
    "## Creating the directory for the model"
   ]
  },
  {
   "cell_type": "code",
   "execution_count": 0,
   "metadata": {
    "colab": {},
    "colab_type": "code",
    "id": "qIxF9lEh8p7y"
   },
   "outputs": [],
   "source": [
    "# Make directory\n",
    "directory = os.path.dirname(abspath + 'model/')\n",
    "if not os.path.exists(directory):\n",
    "    os.makedirs(directory)"
   ]
  },
  {
   "cell_type": "markdown",
   "metadata": {
    "colab_type": "text",
    "id": "qIWW5z5WUQa8"
   },
   "source": [
    "## Building the architecture of the model"
   ]
  },
  {
   "cell_type": "code",
   "execution_count": 0,
   "metadata": {
    "colab": {
     "base_uri": "https://localhost:8080/",
     "height": 71
    },
    "colab_type": "code",
    "executionInfo": {
     "elapsed": 36418,
     "status": "ok",
     "timestamp": 1584492904001,
     "user": {
      "displayName": "Huang Yuxiao",
      "photoUrl": "",
      "userId": "05167076769245149404"
     },
     "user_tz": 240
    },
    "id": "jl1jL5exfwz9",
    "outputId": "2fa68a81-cdf8-4e6a-b238-e7851c8f1a62"
   },
   "outputs": [
    {
     "name": "stdout",
     "output_type": "stream",
     "text": [
      "Downloading data from https://github.com/fchollet/deep-learning-models/releases/download/v0.4/xception_weights_tf_dim_ordering_tf_kernels_notop.h5\n",
      "83689472/83683744 [==============================] - 2s 0us/step\n"
     ]
    }
   ],
   "source": [
    "# Add the pretrained layers\n",
    "pretrained_model = keras.applications.xception.Xception(include_top=False, weights='imagenet')\n",
    "\n",
    "# Add GlobalAveragePooling2D layer\n",
    "average_pooling = keras.layers.GlobalAveragePooling2D()(pretrained_model.output)\n",
    "\n",
    "# Add the output layer\n",
    "output = keras.layers.Dense(n_classes, activation='softmax')(average_pooling)\n",
    "\n",
    "# Get the model\n",
    "model = keras.Model(inputs=pretrained_model.input, outputs=output)"
   ]
  },
  {
   "cell_type": "markdown",
   "metadata": {
    "colab_type": "text",
    "id": "uz_VacxGUTD3"
   },
   "source": [
    "## Freezing the pretrained layers"
   ]
  },
  {
   "cell_type": "code",
   "execution_count": 0,
   "metadata": {
    "colab": {},
    "colab_type": "code",
    "id": "NEMUBOTmUXfu"
   },
   "outputs": [],
   "source": [
    "# For each layer in the pretrained model\n",
    "for layer in pretrained_model.layers:\n",
    "    # Freeze the layer\n",
    "    layer.trainable = False"
   ]
  },
  {
   "cell_type": "markdown",
   "metadata": {
    "colab_type": "text",
    "id": "u9KTlbBT8EXs"
   },
   "source": [
    "## Setting Callbacks"
   ]
  },
  {
   "cell_type": "code",
   "execution_count": 0,
   "metadata": {
    "colab": {},
    "colab_type": "code",
    "id": "5_iUDJLP8K44"
   },
   "outputs": [],
   "source": [
    "# Checkpoint callback\n",
    "checkpoint_cb = keras.callbacks.ModelCheckpoint(abspath + '/model/model.h5',\n",
    "                                                save_best_only=True)\n",
    "\n",
    "# Early stopping callback\n",
    "early_stopping_cb = keras.callbacks.EarlyStopping(patience=2,\n",
    "                                                  restore_best_weights=True)"
   ]
  },
  {
   "cell_type": "markdown",
   "metadata": {
    "colab_type": "text",
    "id": "DyXyvsiQVXph"
   },
   "source": [
    "## Compiling the model\n",
    "Here we use the default learning rate of Adam optimizer."
   ]
  },
  {
   "cell_type": "code",
   "execution_count": 0,
   "metadata": {
    "colab": {},
    "colab_type": "code",
    "id": "u0zAElDAVK3H"
   },
   "outputs": [],
   "source": [
    "# Compile the model\n",
    "model.compile(optimizer=keras.optimizers.Adam(learning_rate=0.01),\n",
    "              loss='sparse_categorical_crossentropy',    \n",
    "              metrics=['accuracy'])"
   ]
  },
  {
   "cell_type": "markdown",
   "metadata": {
    "colab_type": "text",
    "id": "gLdyw9n_VzUb"
   },
   "source": [
    "## Training the model"
   ]
  },
  {
   "cell_type": "code",
   "execution_count": 0,
   "metadata": {
    "colab": {
     "base_uri": "https://localhost:8080/",
     "height": 139
    },
    "colab_type": "code",
    "executionInfo": {
     "elapsed": 1552366,
     "status": "ok",
     "timestamp": 1584494419967,
     "user": {
      "displayName": "Huang Yuxiao",
      "photoUrl": "",
      "userId": "05167076769245149404"
     },
     "user_tz": 240
    },
    "id": "0lES5CBZV176",
    "outputId": "71c75115-04d8-4df5-a323-304382086475"
   },
   "outputs": [
    {
     "name": "stdout",
     "output_type": "stream",
     "text": [
      "Epoch 1/5\n",
      "2188/2188 [==============================] - 515s 235ms/step - loss: 1.1720 - accuracy: 0.7047 - val_loss: 1.0465 - val_accuracy: 0.7679\n",
      "Epoch 2/5\n",
      "2188/2188 [==============================] - 500s 228ms/step - loss: 1.1304 - accuracy: 0.7396 - val_loss: 1.1098 - val_accuracy: 0.7792\n",
      "Epoch 3/5\n",
      "2188/2188 [==============================] - 500s 229ms/step - loss: 1.1234 - accuracy: 0.7453 - val_loss: 1.6394 - val_accuracy: 0.7139\n"
     ]
    }
   ],
   "source": [
    "history = model.fit(data_train,\n",
    "                    epochs=5,\n",
    "                    validation_data=data_valid,\n",
    "                    callbacks=[checkpoint_cb, early_stopping_cb])"
   ]
  },
  {
   "cell_type": "markdown",
   "metadata": {
    "colab_type": "text",
    "id": "naOELFqc6pSB"
   },
   "source": [
    "## Plotting the learning curve"
   ]
  },
  {
   "cell_type": "markdown",
   "metadata": {
    "colab_type": "text",
    "id": "-b-1nRnIgL0d"
   },
   "source": [
    "### Creating the directory for the figure"
   ]
  },
  {
   "cell_type": "code",
   "execution_count": 0,
   "metadata": {
    "colab": {},
    "colab_type": "code",
    "id": "crm5bRITgT8Y"
   },
   "outputs": [],
   "source": [
    "# Make directory\n",
    "directory = os.path.dirname(abspath + 'figure/')\n",
    "if not os.path.exists(directory):\n",
    "    os.makedirs(directory)"
   ]
  },
  {
   "cell_type": "code",
   "execution_count": 0,
   "metadata": {
    "colab": {
     "base_uri": "https://localhost:8080/",
     "height": 348
    },
    "colab_type": "code",
    "executionInfo": {
     "elapsed": 1552365,
     "status": "ok",
     "timestamp": 1584494419977,
     "user": {
      "displayName": "Huang Yuxiao",
      "photoUrl": "",
      "userId": "05167076769245149404"
     },
     "user_tz": 240
    },
    "id": "ZucB_4TQ4APW",
    "outputId": "53a89b3a-fd9f-493c-c251-74afbda1af4e"
   },
   "outputs": [
    {
     "data": {
      "image/png": "[encoded data removed]",
      "text/plain": [
       "<Figure size 576x360 with 1 Axes>"
      ]
     },
     "metadata": {
      "tags": []
     },
     "output_type": "display_data"
    }
   ],
   "source": [
    "import pandas as pd\n",
    "\n",
    "# Create a figure\n",
    "pd.DataFrame(history.history).plot(figsize=(8, 5))\n",
    "\n",
    "# Set grid\n",
    "plt.grid(True)\n",
    "\n",
    "# Save and show the figure\n",
    "plt.tight_layout()\n",
    "plt.savefig(abspath + 'figure/learning_curve_before_unfreezing.pdf')\n",
    "plt.show()"
   ]
  },
  {
   "cell_type": "markdown",
   "metadata": {
    "colab_type": "text",
    "id": "Ey_jrLDl0bn4"
   },
   "source": [
    "## Unfreezing the pretrained layers"
   ]
  },
  {
   "cell_type": "code",
   "execution_count": 0,
   "metadata": {
    "colab": {},
    "colab_type": "code",
    "id": "ZFgtwWQ50aky"
   },
   "outputs": [],
   "source": [
    "# For each layer in the pretrained model\n",
    "for layer in pretrained_model.layers:\n",
    "    # Unfreeze the layer\n",
    "    layer.trainable = True"
   ]
  },
  {
   "cell_type": "markdown",
   "metadata": {
    "colab_type": "text",
    "id": "kaNpWBGD2em3"
   },
   "source": [
    "## Compiling the model\n",
    "Here we use a lower learning rate (by a factor of 10) of Adam optimizer, so that it is less likely to compromise the pretrained weights."
   ]
  },
  {
   "cell_type": "code",
   "execution_count": 0,
   "metadata": {
    "colab": {},
    "colab_type": "code",
    "id": "dPiXJrdW21o5"
   },
   "outputs": [],
   "source": [
    "# Compile the model\n",
    "model.compile(optimizer=keras.optimizers.Adam(learning_rate=0.001),\n",
    "              loss='sparse_categorical_crossentropy',\n",
    "              metrics=['accuracy'])"
   ]
  },
  {
   "cell_type": "markdown",
   "metadata": {
    "colab_type": "text",
    "id": "4jF7fb1_3ypR"
   },
   "source": [
    "## Training the model"
   ]
  },
  {
   "cell_type": "code",
   "execution_count": 0,
   "metadata": {
    "colab": {
     "base_uri": "https://localhost:8080/",
     "height": 173
    },
    "colab_type": "code",
    "executionInfo": {
     "elapsed": 6658635,
     "status": "ok",
     "timestamp": 1584501601466,
     "user": {
      "displayName": "Huang Yuxiao",
      "photoUrl": "",
      "userId": "05167076769245149404"
     },
     "user_tz": 240
    },
    "id": "RV6dVNO532HU",
    "outputId": "4faf4656-e2bd-4c2c-aff5-74622a0aa520"
   },
   "outputs": [
    {
     "name": "stdout",
     "output_type": "stream",
     "text": [
      "Epoch 1/5\n",
      "2188/2188 [==============================] - 1800s 823ms/step - loss: 0.5983 - accuracy: 0.8067 - val_loss: 0.5901 - val_accuracy: 0.8145\n",
      "Epoch 2/5\n",
      "2188/2188 [==============================] - 1798s 822ms/step - loss: 0.3729 - accuracy: 0.8741 - val_loss: 0.4962 - val_accuracy: 0.8515\n",
      "Epoch 3/5\n",
      "2188/2188 [==============================] - 1794s 820ms/step - loss: 0.2892 - accuracy: 0.9014 - val_loss: 0.6513 - val_accuracy: 0.8153\n",
      "Epoch 4/5\n",
      "2188/2188 [==============================] - 1789s 818ms/step - loss: 0.2306 - accuracy: 0.9209 - val_loss: 0.6588 - val_accuracy: 0.8161\n"
     ]
    }
   ],
   "source": [
    "history = model.fit(data_train,\n",
    "                    epochs=5,\n",
    "                    validation_data=data_valid,\n",
    "                    callbacks=[checkpoint_cb, early_stopping_cb])"
   ]
  },
  {
   "cell_type": "markdown",
   "metadata": {
    "colab_type": "text",
    "id": "jooIV3Tr38rw"
   },
   "source": [
    "## Plotting the learning curve"
   ]
  },
  {
   "cell_type": "code",
   "execution_count": 0,
   "metadata": {
    "colab": {
     "base_uri": "https://localhost:8080/",
     "height": 348
    },
    "colab_type": "code",
    "executionInfo": {
     "elapsed": 917,
     "status": "ok",
     "timestamp": 1584501602373,
     "user": {
      "displayName": "Huang Yuxiao",
      "photoUrl": "",
      "userId": "05167076769245149404"
     },
     "user_tz": 240
    },
    "id": "ZdftIsbI3_nV",
    "outputId": "c7bdecba-3ae7-4c39-b7c9-738a7e9c970d"
   },
   "outputs": [
    {
     "data": {
      "image/png": "[encoded data removed]",
      "text/plain": [
       "<Figure size 576x360 with 1 Axes>"
      ]
     },
     "metadata": {
      "tags": []
     },
     "output_type": "display_data"
    }
   ],
   "source": [
    "# Create a figure\n",
    "pd.DataFrame(history.history).plot(figsize=(8, 5))\n",
    "\n",
    "# Set grid\n",
    "plt.grid(True)\n",
    "\n",
    "# Save and show the figure\n",
    "plt.tight_layout()\n",
    "plt.savefig(abspath + 'figure/learning_curve_after_unfreezing.pdf')\n",
    "plt.show()"
   ]
  },
  {
   "cell_type": "markdown",
   "metadata": {
    "colab_type": "text",
    "id": "IWVJ3KwUub-j"
   },
   "source": []
  },
  {
   "cell_type": "markdown",
   "metadata": {
    "colab_type": "text",
    "id": "RkGivY_MA6m1"
   },
   "source": [
    "# Testing"
   ]
  },
  {
   "cell_type": "markdown",
   "metadata": {
    "colab_type": "text",
    "id": "pjg97rxBvTsD"
   },
   "source": [
    "## Loading the saved model"
   ]
  },
  {
   "cell_type": "code",
   "execution_count": 0,
   "metadata": {
    "colab": {},
    "colab_type": "code",
    "id": "vWOYFg8BvYI9"
   },
   "outputs": [],
   "source": [
    "model = keras.models.load_model(abspath + '/model/model.h5')"
   ]
  },
  {
   "cell_type": "markdown",
   "metadata": {
    "colab_type": "text",
    "id": "YAfOtSI7wajL"
   },
   "source": [
    "## Evaluating the model"
   ]
  },
  {
   "cell_type": "code",
   "execution_count": 0,
   "metadata": {
    "colab": {
     "base_uri": "https://localhost:8080/",
     "height": 34
    },
    "colab_type": "code",
    "executionInfo": {
     "elapsed": 93788,
     "status": "ok",
     "timestamp": 1584501734065,
     "user": {
      "displayName": "Huang Yuxiao",
      "photoUrl": "",
      "userId": "05167076769245149404"
     },
     "user_tz": 240
    },
    "id": "aoJnAfYfYDjH",
    "outputId": "3a944d59-b903-4aff-ace0-77f7fd62c74b"
   },
   "outputs": [
    {
     "name": "stdout",
     "output_type": "stream",
     "text": [
      "    625/Unknown - 94s 150ms/step - loss: 0.4960 - accuracy: 0.8567"
     ]
    }
   ],
   "source": [
    "loss, accuracy = model.evaluate(data_test)"
   ]
  }
 ],
 "metadata": {
  "accelerator": "GPU",
  "colab": {
   "collapsed_sections": [],
   "name": "case_study_6_2.ipynb",
   "provenance": []
  },
  "kernelspec": {
   "display_name": "Python 3",
   "language": "python",
   "name": "python3"
  },
  "language_info": {
   "codemirror_mode": {
    "name": "ipython",
    "version": 3
   },
   "file_extension": ".py",
   "mimetype": "text/x-python",
   "name": "python",
   "nbconvert_exporter": "python",
   "pygments_lexer": "ipython3",
   "version": "3.7.6"
  },
  "toc": {
   "base_numbering": 1,
   "nav_menu": {},
   "number_sections": true,
   "sideBar": true,
   "skip_h1_title": false,
   "title_cell": "Table of Contents",
   "title_sidebar": "Contents",
   "toc_cell": true,
   "toc_position": {},
   "toc_section_display": true,
   "toc_window_display": false
  }
 },
 "nbformat": 4,
 "nbformat_minor": 1
}
