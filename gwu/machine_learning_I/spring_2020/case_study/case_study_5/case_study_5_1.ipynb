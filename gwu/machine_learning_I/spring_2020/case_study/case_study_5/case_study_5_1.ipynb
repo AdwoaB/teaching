{
  "nbformat": 4,
  "nbformat_minor": 0,
  "metadata": {
    "accelerator": "GPU",
    "colab": {
      "name": "case_study_5_1.ipynb",
      "provenance": [],
      "collapsed_sections": []
    },
    "kernelspec": {
      "display_name": "Python 3",
      "language": "python",
      "name": "python3"
    },
    "language_info": {
      "codemirror_mode": {
        "name": "ipython",
        "version": 3
      },
      "file_extension": ".py",
      "mimetype": "text/x-python",
      "name": "python",
      "nbconvert_exporter": "python",
      "pygments_lexer": "ipython3",
      "version": "3.7.6"
    },
    "toc": {
      "base_numbering": 1,
      "nav_menu": {},
      "number_sections": true,
      "sideBar": true,
      "skip_h1_title": false,
      "title_cell": "Table of Contents",
      "title_sidebar": "Contents",
      "toc_cell": true,
      "toc_position": {},
      "toc_section_display": true,
      "toc_window_display": false
    }
  },
  "cells": [
    {
      "cell_type": "markdown",
      "metadata": {
        "colab_type": "text",
        "id": "cMSn67px4ANI",
        "toc": true
      },
      "source": [
        "<h1>Table of Contents<span class=\"tocSkip\"></span></h1>\n",
        "<div class=\"toc\"><ul class=\"toc-item\"><li><span><a href=\"#Notebook-Configuration\" data-toc-modified-id=\"Notebook-Configuration-1\"><span class=\"toc-item-num\">1&nbsp;&nbsp;</span>Notebook Configuration</a></span><ul class=\"toc-item\"><li><span><a href=\"#Google-Drive\" data-toc-modified-id=\"Google-Drive-1.1\"><span class=\"toc-item-num\">1.1&nbsp;&nbsp;</span>Google Drive</a></span></li><li><span><a href=\"#Warning\" data-toc-modified-id=\"Warning-1.2\"><span class=\"toc-item-num\">1.2&nbsp;&nbsp;</span>Warning</a></span></li><li><span><a href=\"#Matplotlib\" data-toc-modified-id=\"Matplotlib-1.3\"><span class=\"toc-item-num\">1.3&nbsp;&nbsp;</span>Matplotlib</a></span></li><li><span><a href=\"#TensorFlow\" data-toc-modified-id=\"TensorFlow-1.4\"><span class=\"toc-item-num\">1.4&nbsp;&nbsp;</span>TensorFlow</a></span></li><li><span><a href=\"#Random-Seed\" data-toc-modified-id=\"Random-Seed-1.5\"><span class=\"toc-item-num\">1.5&nbsp;&nbsp;</span>Random Seed</a></span></li></ul></li><li><span><a href=\"#Data-Preprocessing\" data-toc-modified-id=\"Data-Preprocessing-2\"><span class=\"toc-item-num\">2&nbsp;&nbsp;</span>Data Preprocessing</a></span><ul class=\"toc-item\"><li><span><a href=\"#Loading-data\" data-toc-modified-id=\"Loading-data-2.1\"><span class=\"toc-item-num\">2.1&nbsp;&nbsp;</span>Loading data</a></span><ul class=\"toc-item\"><li><span><a href=\"#Creating-the-directory-for-the-data\" data-toc-modified-id=\"Creating-the-directory-for-the-data-2.1.1\"><span class=\"toc-item-num\">2.1.1&nbsp;&nbsp;</span>Creating the directory for the data</a></span></li><li><span><a href=\"#Downloading-data-to-the-directory\" data-toc-modified-id=\"Downloading-data-to-the-directory-2.1.2\"><span class=\"toc-item-num\">2.1.2&nbsp;&nbsp;</span>Downloading data to the directory</a></span></li></ul></li><li><span><a href=\"#Getting-the-name-of-the-target\" data-toc-modified-id=\"Getting-the-name-of-the-target-2.2\"><span class=\"toc-item-num\">2.2&nbsp;&nbsp;</span>Getting the name of the target</a></span></li><li><span><a href=\"#Getting-the-info\" data-toc-modified-id=\"Getting-the-info-2.3\"><span class=\"toc-item-num\">2.3&nbsp;&nbsp;</span>Getting the info</a></span></li><li><span><a href=\"#Getting-the-training,-validation-and-testing-data\" data-toc-modified-id=\"Getting-the-training,-validation-and-testing-data-2.4\"><span class=\"toc-item-num\">2.4&nbsp;&nbsp;</span>Getting the training, validation and testing data</a></span></li><li><span><a href=\"#Normalizing-the-data\" data-toc-modified-id=\"Normalizing-the-data-2.5\"><span class=\"toc-item-num\">2.5&nbsp;&nbsp;</span>Normalizing the data</a></span></li><li><span><a href=\"#Shuffling,-batching-and-prefetching-the-data\" data-toc-modified-id=\"Shuffling,-batching-and-prefetching-the-data-2.6\"><span class=\"toc-item-num\">2.6&nbsp;&nbsp;</span>Shuffling, batching and prefetching the data</a></span></li></ul></li><li><span><a href=\"#Training-(Without-Callback)\" data-toc-modified-id=\"Training-(Without-Callback)-3\"><span class=\"toc-item-num\">3&nbsp;&nbsp;</span>Training (Without Callback)</a></span><ul class=\"toc-item\"><li><span><a href=\"#Designing-the-model\" data-toc-modified-id=\"Designing-the-model-3.1\"><span class=\"toc-item-num\">3.1&nbsp;&nbsp;</span>Designing the model</a></span><ul class=\"toc-item\"><li><span><a href=\"#A-step-by-layer-approach\" data-toc-modified-id=\"A-step-by-layer-approach-3.1.1\"><span class=\"toc-item-num\">3.1.1&nbsp;&nbsp;</span>A step by layer approach</a></span></li><li><span><a href=\"#A-one-step-approach\" data-toc-modified-id=\"A-one-step-approach-3.1.2\"><span class=\"toc-item-num\">3.1.2&nbsp;&nbsp;</span>A one step approach</a></span></li><li><span><a href=\"#The-model-summary\" data-toc-modified-id=\"The-model-summary-3.1.3\"><span class=\"toc-item-num\">3.1.3&nbsp;&nbsp;</span>The model summary</a></span></li></ul></li><li><span><a href=\"#Compiling-the-model\" data-toc-modified-id=\"Compiling-the-model-3.2\"><span class=\"toc-item-num\">3.2&nbsp;&nbsp;</span>Compiling the model</a></span></li><li><span><a href=\"#Training-and-evaluating-the-model\" data-toc-modified-id=\"Training-and-evaluating-the-model-3.3\"><span class=\"toc-item-num\">3.3&nbsp;&nbsp;</span>Training and evaluating the model</a></span></li><li><span><a href=\"#Plotting-the-learning-curve\" data-toc-modified-id=\"Plotting-the-learning-curve-3.4\"><span class=\"toc-item-num\">3.4&nbsp;&nbsp;</span>Plotting the learning curve</a></span><ul class=\"toc-item\"><li><span><a href=\"#Creating-the-directory-for-the-figure\" data-toc-modified-id=\"Creating-the-directory-for-the-figure-3.4.1\"><span class=\"toc-item-num\">3.4.1&nbsp;&nbsp;</span>Creating the directory for the figure</a></span></li></ul></li><li><span><a href=\"#Continuing-training-and-evaluating-the-model\" data-toc-modified-id=\"Continuing-training-and-evaluating-the-model-3.5\"><span class=\"toc-item-num\">3.5&nbsp;&nbsp;</span>Continuing training and evaluating the model</a></span></li><li><span><a href=\"#Plotting-the-learning-curve\" data-toc-modified-id=\"Plotting-the-learning-curve-3.6\"><span class=\"toc-item-num\">3.6&nbsp;&nbsp;</span>Plotting the learning curve</a></span></li></ul></li><li><span><a href=\"#Training-(With-ModelCheckpoint-callback-to-Save-the-Model)\" data-toc-modified-id=\"Training-(With-ModelCheckpoint-callback-to-Save-the-Model)-4\"><span class=\"toc-item-num\">4&nbsp;&nbsp;</span>Training (With ModelCheckpoint callback to Save the Model)</a></span><ul class=\"toc-item\"><li><ul class=\"toc-item\"><li><span><a href=\"#Creating-the-directory-of-the-saved-model\" data-toc-modified-id=\"Creating-the-directory-of-the-saved-model-4.0.1\"><span class=\"toc-item-num\">4.0.1&nbsp;&nbsp;</span>Creating the directory of the saved model</a></span></li></ul></li><li><span><a href=\"#Designing-the-model\" data-toc-modified-id=\"Designing-the-model-4.1\"><span class=\"toc-item-num\">4.1&nbsp;&nbsp;</span>Designing the model</a></span></li><li><span><a href=\"#Compiling-the-model\" data-toc-modified-id=\"Compiling-the-model-4.2\"><span class=\"toc-item-num\">4.2&nbsp;&nbsp;</span>Compiling the model</a></span></li><li><span><a href=\"#Setting-Callbacks\" data-toc-modified-id=\"Setting-Callbacks-4.3\"><span class=\"toc-item-num\">4.3&nbsp;&nbsp;</span>Setting Callbacks</a></span></li><li><span><a href=\"#Training,-evaluating-and-saving-the-model\" data-toc-modified-id=\"Training,-evaluating-and-saving-the-model-4.4\"><span class=\"toc-item-num\">4.4&nbsp;&nbsp;</span>Training, evaluating and saving the model</a></span></li><li><span><a href=\"#Plotting-the-learning-curve\" data-toc-modified-id=\"Plotting-the-learning-curve-4.5\"><span class=\"toc-item-num\">4.5&nbsp;&nbsp;</span>Plotting the learning curve</a></span></li><li><span><a href=\"#Loading-the-saved-model\" data-toc-modified-id=\"Loading-the-saved-model-4.6\"><span class=\"toc-item-num\">4.6&nbsp;&nbsp;</span>Loading the saved model</a></span></li><li><span><a href=\"#Continuing-training-and-evaluating-the-model\" data-toc-modified-id=\"Continuing-training-and-evaluating-the-model-4.7\"><span class=\"toc-item-num\">4.7&nbsp;&nbsp;</span>Continuing training and evaluating the model</a></span></li><li><span><a href=\"#Plotting-the-learning-curve\" data-toc-modified-id=\"Plotting-the-learning-curve-4.8\"><span class=\"toc-item-num\">4.8&nbsp;&nbsp;</span>Plotting the learning curve</a></span></li></ul></li><li><span><a href=\"#Training-(With-ModelCheckpoint-callback-to-Save-the-Best-Model)\" data-toc-modified-id=\"Training-(With-ModelCheckpoint-callback-to-Save-the-Best-Model)-5\"><span class=\"toc-item-num\">5&nbsp;&nbsp;</span>Training (With ModelCheckpoint callback to Save the Best Model)</a></span><ul class=\"toc-item\"><li><span><a href=\"#Designing-the-model\" data-toc-modified-id=\"Designing-the-model-5.1\"><span class=\"toc-item-num\">5.1&nbsp;&nbsp;</span>Designing the model</a></span></li><li><span><a href=\"#Compiling-the-model\" data-toc-modified-id=\"Compiling-the-model-5.2\"><span class=\"toc-item-num\">5.2&nbsp;&nbsp;</span>Compiling the model</a></span></li><li><span><a href=\"#Setting-Callbacks\" data-toc-modified-id=\"Setting-Callbacks-5.3\"><span class=\"toc-item-num\">5.3&nbsp;&nbsp;</span>Setting Callbacks</a></span></li><li><span><a href=\"#Training,-evaluating-and-saving-the-best-model\" data-toc-modified-id=\"Training,-evaluating-and-saving-the-best-model-5.4\"><span class=\"toc-item-num\">5.4&nbsp;&nbsp;</span>Training, evaluating and saving the best model</a></span></li><li><span><a href=\"#Plotting-the-learning-curve\" data-toc-modified-id=\"Plotting-the-learning-curve-5.5\"><span class=\"toc-item-num\">5.5&nbsp;&nbsp;</span>Plotting the learning curve</a></span></li></ul></li><li><span><a href=\"#Training-(With-ModelCheckpoint-and-EarlyStopping)\" data-toc-modified-id=\"Training-(With-ModelCheckpoint-and-EarlyStopping)-6\"><span class=\"toc-item-num\">6&nbsp;&nbsp;</span>Training (With ModelCheckpoint and EarlyStopping)</a></span><ul class=\"toc-item\"><li><span><a href=\"#Designing-the-model\" data-toc-modified-id=\"Designing-the-model-6.1\"><span class=\"toc-item-num\">6.1&nbsp;&nbsp;</span>Designing the model</a></span></li><li><span><a href=\"#Compiling-the-model\" data-toc-modified-id=\"Compiling-the-model-6.2\"><span class=\"toc-item-num\">6.2&nbsp;&nbsp;</span>Compiling the model</a></span></li><li><span><a href=\"#Setting-Callbacks\" data-toc-modified-id=\"Setting-Callbacks-6.3\"><span class=\"toc-item-num\">6.3&nbsp;&nbsp;</span>Setting Callbacks</a></span></li><li><span><a href=\"#Training,-evaluating-and-saving-the-best-model\" data-toc-modified-id=\"Training,-evaluating-and-saving-the-best-model-6.4\"><span class=\"toc-item-num\">6.4&nbsp;&nbsp;</span>Training, evaluating and saving the best model</a></span></li><li><span><a href=\"#Plotting-the-learning-curve\" data-toc-modified-id=\"Plotting-the-learning-curve-6.5\"><span class=\"toc-item-num\">6.5&nbsp;&nbsp;</span>Plotting the learning curve</a></span></li></ul></li><li><span><a href=\"#Training-(With-ModelCheckpoint,-EarlyStopping-and-Power-Scheduling)\" data-toc-modified-id=\"Training-(With-ModelCheckpoint,-EarlyStopping-and-Power-Scheduling)-7\"><span class=\"toc-item-num\">7&nbsp;&nbsp;</span>Training (With ModelCheckpoint, EarlyStopping and Power Scheduling)</a></span><ul class=\"toc-item\"><li><span><a href=\"#Designing-the-model\" data-toc-modified-id=\"Designing-the-model-7.1\"><span class=\"toc-item-num\">7.1&nbsp;&nbsp;</span>Designing the model</a></span></li><li><span><a href=\"#Compiling-the-model\" data-toc-modified-id=\"Compiling-the-model-7.2\"><span class=\"toc-item-num\">7.2&nbsp;&nbsp;</span>Compiling the model</a></span></li><li><span><a href=\"#Setting-Callbacks\" data-toc-modified-id=\"Setting-Callbacks-7.3\"><span class=\"toc-item-num\">7.3&nbsp;&nbsp;</span>Setting Callbacks</a></span></li><li><span><a href=\"#Training,-evaluating-and-saving-the-best-model\" data-toc-modified-id=\"Training,-evaluating-and-saving-the-best-model-7.4\"><span class=\"toc-item-num\">7.4&nbsp;&nbsp;</span>Training, evaluating and saving the best model</a></span></li><li><span><a href=\"#Plotting-the-learning-curve\" data-toc-modified-id=\"Plotting-the-learning-curve-7.5\"><span class=\"toc-item-num\">7.5&nbsp;&nbsp;</span>Plotting the learning curve</a></span></li></ul></li><li><span><a href=\"#Training-(With-ModelCheckpoint,-EarlyStopping-and-Exponential-Scheduling)\" data-toc-modified-id=\"Training-(With-ModelCheckpoint,-EarlyStopping-and-Exponential-Scheduling)-8\"><span class=\"toc-item-num\">8&nbsp;&nbsp;</span>Training (With ModelCheckpoint, EarlyStopping and Exponential Scheduling)</a></span><ul class=\"toc-item\"><li><span><a href=\"#Designing-the-model\" data-toc-modified-id=\"Designing-the-model-8.1\"><span class=\"toc-item-num\">8.1&nbsp;&nbsp;</span>Designing the model</a></span></li><li><span><a href=\"#Compiling-the-model\" data-toc-modified-id=\"Compiling-the-model-8.2\"><span class=\"toc-item-num\">8.2&nbsp;&nbsp;</span>Compiling the model</a></span></li><li><span><a href=\"#Setting-Callbacks\" data-toc-modified-id=\"Setting-Callbacks-8.3\"><span class=\"toc-item-num\">8.3&nbsp;&nbsp;</span>Setting Callbacks</a></span></li><li><span><a href=\"#Training,-evaluating-and-saving-the-best-model\" data-toc-modified-id=\"Training,-evaluating-and-saving-the-best-model-8.4\"><span class=\"toc-item-num\">8.4&nbsp;&nbsp;</span>Training, evaluating and saving the best model</a></span></li><li><span><a href=\"#Plotting-the-learning-curve\" data-toc-modified-id=\"Plotting-the-learning-curve-8.5\"><span class=\"toc-item-num\">8.5&nbsp;&nbsp;</span>Plotting the learning curve</a></span></li></ul></li><li><span><a href=\"#Training-(With-ModelCheckpoint,-EarlyStopping-and-Performance-Scheduling)\" data-toc-modified-id=\"Training-(With-ModelCheckpoint,-EarlyStopping-and-Performance-Scheduling)-9\"><span class=\"toc-item-num\">9&nbsp;&nbsp;</span>Training (With ModelCheckpoint, EarlyStopping and Performance Scheduling)</a></span><ul class=\"toc-item\"><li><span><a href=\"#Designing-the-model\" data-toc-modified-id=\"Designing-the-model-9.1\"><span class=\"toc-item-num\">9.1&nbsp;&nbsp;</span>Designing the model</a></span></li><li><span><a href=\"#Compiling-the-model\" data-toc-modified-id=\"Compiling-the-model-9.2\"><span class=\"toc-item-num\">9.2&nbsp;&nbsp;</span>Compiling the model</a></span></li><li><span><a href=\"#Setting-Callbacks\" data-toc-modified-id=\"Setting-Callbacks-9.3\"><span class=\"toc-item-num\">9.3&nbsp;&nbsp;</span>Setting Callbacks</a></span></li><li><span><a href=\"#Training,-evaluating-and-saving-the-best-model\" data-toc-modified-id=\"Training,-evaluating-and-saving-the-best-model-9.4\"><span class=\"toc-item-num\">9.4&nbsp;&nbsp;</span>Training, evaluating and saving the best model</a></span></li><li><span><a href=\"#Plotting-the-learning-curve\" data-toc-modified-id=\"Plotting-the-learning-curve-9.5\"><span class=\"toc-item-num\">9.5&nbsp;&nbsp;</span>Plotting the learning curve</a></span></li></ul></li><li><span><a href=\"#Testing\" data-toc-modified-id=\"Testing-10\"><span class=\"toc-item-num\">10&nbsp;&nbsp;</span>Testing</a></span><ul class=\"toc-item\"><li><span><a href=\"#Loading-the-saved-best-model\" data-toc-modified-id=\"Loading-the-saved-best-model-10.1\"><span class=\"toc-item-num\">10.1&nbsp;&nbsp;</span>Loading the saved best model</a></span></li><li><span><a href=\"#Evaluating-the-model\" data-toc-modified-id=\"Evaluating-the-model-10.2\"><span class=\"toc-item-num\">10.2&nbsp;&nbsp;</span>Evaluating the model</a></span></li></ul></li></ul></div>"
      ]
    },
    {
      "cell_type": "markdown",
      "metadata": {
        "colab_type": "text",
        "id": "YTiWqATn4ANO"
      },
      "source": [
        "<b>\n",
        "\n",
        "<p>\n",
        "<center>\n",
        "<font size=\"5\">\n",
        "Machine Learning I (DATS 6202), Spring 2020\n",
        "</font>\n",
        "</center>\n",
        "</p>\n",
        "\n",
        "<p>\n",
        "<center>\n",
        "<font size=\"4\">\n",
        "Case Study 5.1: Deep Neural Network\n",
        "</font>\n",
        "</center>\n",
        "</p>\n",
        "\n",
        "<p>\n",
        "<center>\n",
        "<font size=\"3\">\n",
        "Data Science, Columbian College of Arts & Sciences, George Washington University\n",
        "</font>\n",
        "</center>\n",
        "</p>\n",
        "\n",
        "<p>\n",
        "<center>\n",
        "<font size=\"3\">\n",
        "Author: Yuxiao Huang\n",
        "</font>\n",
        "</center>\n",
        "</p>\n",
        "\n",
        "</b>"
      ]
    },
    {
      "cell_type": "markdown",
      "metadata": {
        "colab_type": "text",
        "id": "WJ-IbZqAgILJ"
      },
      "source": [
        "# Notebook Configuration"
      ]
    },
    {
      "cell_type": "markdown",
      "metadata": {
        "colab_type": "text",
        "id": "H3yB94KtgMHu"
      },
      "source": [
        "## Google Drive"
      ]
    },
    {
      "cell_type": "code",
      "metadata": {
        "colab_type": "code",
        "id": "jWmYBTOwgNs-",
        "outputId": "39cb1be4-3621-44e2-b72c-7aa152d6402b",
        "colab": {
          "base_uri": "https://localhost:8080/",
          "height": 34
        }
      },
      "source": [
        "from google.colab import drive\n",
        "\n",
        "# Mount Google Drive\n",
        "drive.mount('/content/drive')\n",
        "\n",
        "# Get absolute path\n",
        "abspath = '/content/drive/My Drive/Colab Notebooks/teaching/gwu/machine_learning_I/case_study/case_study_5/case_study_5_1/'"
      ],
      "execution_count": 0,
      "outputs": [
        {
          "output_type": "stream",
          "text": [
            "Drive already mounted at /content/drive; to attempt to forcibly remount, call drive.mount(\"/content/drive\", force_remount=True).\n"
          ],
          "name": "stdout"
        }
      ]
    },
    {
      "cell_type": "markdown",
      "metadata": {
        "colab_type": "text",
        "id": "bYZhU1Wqgmqx"
      },
      "source": [
        "## Warning"
      ]
    },
    {
      "cell_type": "code",
      "metadata": {
        "colab_type": "code",
        "id": "MUl4k83e4ANR",
        "colab": {}
      },
      "source": [
        "import warnings\n",
        "\n",
        "# Ignore warnings\n",
        "warnings.filterwarnings('ignore')"
      ],
      "execution_count": 0,
      "outputs": []
    },
    {
      "cell_type": "markdown",
      "metadata": {
        "colab_type": "text",
        "id": "6WMODpPfgn2U"
      },
      "source": [
        "## Matplotlib"
      ]
    },
    {
      "cell_type": "code",
      "metadata": {
        "colab_type": "code",
        "id": "DBRVH9SB4ANb",
        "colab": {}
      },
      "source": [
        "import matplotlib.pyplot as plt\n",
        "%matplotlib inline \n",
        "\n",
        "# Set matplotlib sizes\n",
        "plt.rc('font', size=20)\n",
        "plt.rc('axes', titlesize=20)\n",
        "plt.rc('axes', labelsize=20)\n",
        "plt.rc('xtick', labelsize=20)\n",
        "plt.rc('ytick', labelsize=20)\n",
        "plt.rc('legend', fontsize=20)\n",
        "plt.rc('figure', titlesize=20)"
      ],
      "execution_count": 0,
      "outputs": []
    },
    {
      "cell_type": "markdown",
      "metadata": {
        "colab_type": "text",
        "id": "n-wNDk5nZhhO"
      },
      "source": [
        "## TensorFlow"
      ]
    },
    {
      "cell_type": "code",
      "metadata": {
        "colab_type": "code",
        "id": "LjG43tEnZkfE",
        "colab": {}
      },
      "source": [
        "# The magic below allows us to use tensorflow version 2.x\n",
        "%tensorflow_version 2.x \n",
        "import tensorflow as tf\n",
        "from tensorflow import keras"
      ],
      "execution_count": 0,
      "outputs": []
    },
    {
      "cell_type": "markdown",
      "metadata": {
        "colab_type": "text",
        "id": "40FN3UNfO2Z7"
      },
      "source": [
        "## Random Seed"
      ]
    },
    {
      "cell_type": "code",
      "metadata": {
        "colab_type": "code",
        "id": "uSADk0hJP71d",
        "colab": {}
      },
      "source": [
        "# The random seed\n",
        "random_seed = 42\n",
        "\n",
        "# Set random seed in tensorflow\n",
        "tf.random.set_seed(random_seed)\n",
        "\n",
        "# Set random seed in numpy\n",
        "import numpy as np\n",
        "np.random.seed(random_seed)"
      ],
      "execution_count": 0,
      "outputs": []
    },
    {
      "cell_type": "markdown",
      "metadata": {
        "colab_type": "text",
        "id": "1eOpQpPu4ANk"
      },
      "source": [
        "# Data Preprocessing"
      ]
    },
    {
      "cell_type": "markdown",
      "metadata": {
        "colab_type": "text",
        "id": "xnJAfR784ANl"
      },
      "source": [
        "## Loading data"
      ]
    },
    {
      "cell_type": "markdown",
      "metadata": {
        "colab_type": "text",
        "id": "LM_WKAmO4ANm"
      },
      "source": [
        "In this case study, we will work on the [Fashion-MNIST dataset](https://www.tensorflow.org/datasets/catalog/fashion_mnist)."
      ]
    },
    {
      "cell_type": "markdown",
      "metadata": {
        "colab_type": "text",
        "id": "IEjvHlLB8X0z"
      },
      "source": [
        "### Creating the directory for the data"
      ]
    },
    {
      "cell_type": "code",
      "metadata": {
        "colab_type": "code",
        "id": "reijpcaf8UgO",
        "colab": {}
      },
      "source": [
        "import os\n",
        "\n",
        "# Make directory\n",
        "directory = os.path.dirname(abspath + 'data/')\n",
        "if not os.path.exists(directory):\n",
        "    os.makedirs(directory)"
      ],
      "execution_count": 0,
      "outputs": []
    },
    {
      "cell_type": "markdown",
      "metadata": {
        "colab_type": "text",
        "id": "-sDdbhok2i7C"
      },
      "source": [
        "### Downloading data to the directory"
      ]
    },
    {
      "cell_type": "code",
      "metadata": {
        "colab_type": "code",
        "id": "6onKpDeL4ANn",
        "scrolled": true,
        "colab": {}
      },
      "source": [
        "import tensorflow_datasets as tfds\n",
        "\n",
        "# Get the name of the data\n",
        "data_name = \"fashion_mnist\"\n",
        "\n",
        "# Load data\n",
        "data, info = tfds.load(name=data_name,\n",
        "                       data_dir=abspath + 'data/',\n",
        "                       as_supervised=True,\n",
        "                       with_info=True)"
      ],
      "execution_count": 0,
      "outputs": []
    },
    {
      "cell_type": "markdown",
      "metadata": {
        "colab_type": "text",
        "id": "yvIqSuZUVBb8"
      },
      "source": [
        "## Getting the name of the target"
      ]
    },
    {
      "cell_type": "code",
      "metadata": {
        "colab_type": "code",
        "id": "AF5gbpOWVElL",
        "colab": {}
      },
      "source": [
        "target = 'label'"
      ],
      "execution_count": 0,
      "outputs": []
    },
    {
      "cell_type": "markdown",
      "metadata": {
        "colab_type": "text",
        "id": "ugddFhUgVGWq"
      },
      "source": [
        "## Getting the info"
      ]
    },
    {
      "cell_type": "code",
      "metadata": {
        "colab_type": "code",
        "id": "A85zWEqMjP5E",
        "outputId": "20afefb0-e877-4bba-ef70-1c8e56fde876",
        "colab": {
          "base_uri": "https://localhost:8080/",
          "height": 51
        }
      },
      "source": [
        "# Print the splits\n",
        "info.splits"
      ],
      "execution_count": 0,
      "outputs": [
        {
          "output_type": "execute_result",
          "data": {
            "text/plain": [
              "{'test': <tfds.core.SplitInfo num_examples=10000>,\n",
              " 'train': <tfds.core.SplitInfo num_examples=60000>}"
            ]
          },
          "metadata": {
            "tags": []
          },
          "execution_count": 9
        }
      ]
    },
    {
      "cell_type": "code",
      "metadata": {
        "colab_type": "code",
        "id": "vsSHR38vjL1G",
        "outputId": "4172980d-89d9-4b96-cedc-443a5256834b",
        "colab": {
          "base_uri": "https://localhost:8080/",
          "height": 187
        }
      },
      "source": [
        "# Get the classes\n",
        "classes = info.features['label'].names\n",
        "\n",
        "# Print the classes\n",
        "classes"
      ],
      "execution_count": 0,
      "outputs": [
        {
          "output_type": "execute_result",
          "data": {
            "text/plain": [
              "['T-shirt/top',\n",
              " 'Trouser',\n",
              " 'Pullover',\n",
              " 'Dress',\n",
              " 'Coat',\n",
              " 'Sandal',\n",
              " 'Shirt',\n",
              " 'Sneaker',\n",
              " 'Bag',\n",
              " 'Ankle boot']"
            ]
          },
          "metadata": {
            "tags": []
          },
          "execution_count": 10
        }
      ]
    },
    {
      "cell_type": "code",
      "metadata": {
        "colab_type": "code",
        "id": "hD0wa74kS_53",
        "outputId": "c9f8e2b3-29ee-4573-cda8-b1ae5bcc8ac8",
        "colab": {
          "base_uri": "https://localhost:8080/",
          "height": 34
        }
      },
      "source": [
        "# Get the number of classes\n",
        "n_classes = info.features['label'].num_classes\n",
        "\n",
        "# Print the number of classes\n",
        "info.features['label'].num_classes"
      ],
      "execution_count": 0,
      "outputs": [
        {
          "output_type": "execute_result",
          "data": {
            "text/plain": [
              "10"
            ]
          },
          "metadata": {
            "tags": []
          },
          "execution_count": 11
        }
      ]
    },
    {
      "cell_type": "markdown",
      "metadata": {
        "colab_type": "text",
        "id": "jGLoCbmO4AN9"
      },
      "source": [
        "## Getting the training, validation and testing data"
      ]
    },
    {
      "cell_type": "code",
      "metadata": {
        "colab_type": "code",
        "id": "a2P4L1vS4AN_",
        "colab": {}
      },
      "source": [
        "# Set the training, validation and testing split\n",
        "split_train, split_valid, split_test = 'train[:70%]', 'train[70%:]', 'test'\n",
        "\n",
        "# Get the training data\n",
        "data_train = tfds.load(name=data_name,\n",
        "                       split=split_train,\n",
        "                       data_dir=abspath + 'data/',\n",
        "                       as_supervised=True)\n",
        "\n",
        "# Get the validation data\n",
        "data_valid = tfds.load(name=data_name,\n",
        "                       split=split_valid,\n",
        "                       data_dir=abspath + 'data/',\n",
        "                       as_supervised=True)\n",
        "\n",
        "# Get the testing data\n",
        "data_test = tfds.load(name=data_name,\n",
        "                      split=split_test,\n",
        "                      data_dir=abspath + 'data/',\n",
        "                      as_supervised=True)"
      ],
      "execution_count": 0,
      "outputs": []
    },
    {
      "cell_type": "markdown",
      "metadata": {
        "colab_type": "text",
        "id": "sZUSCJjyXxYE"
      },
      "source": [
        "## Normalizing the data"
      ]
    },
    {
      "cell_type": "code",
      "metadata": {
        "colab_type": "code",
        "id": "cuyHo_nQL-OD",
        "colab": {}
      },
      "source": [
        "def normalize(data):\n",
        "    \"\"\"\n",
        "    Normalize the data\n",
        "\n",
        "    Parameters\n",
        "    ----------\n",
        "    data: the data\n",
        "    label: the label\n",
        "    \n",
        "    Returns\n",
        "    ----------\n",
        "    The normalized data\n",
        "    \"\"\"\n",
        "\n",
        "    # Normalize the data\n",
        "    data_normalized = tf.cast(data, tf.float64) / 255\n",
        "\n",
        "    return data_normalized"
      ],
      "execution_count": 0,
      "outputs": []
    },
    {
      "cell_type": "code",
      "metadata": {
        "colab_type": "code",
        "id": "kmzPimHQLPtw",
        "colab": {}
      },
      "source": [
        "def preprocess(data, label):\n",
        "    \"\"\"\n",
        "    Preprocess the data using the pretrained model\n",
        "\n",
        "    Parameters\n",
        "    ----------\n",
        "    data: the data\n",
        "    label: the label\n",
        "    \n",
        "    Returns\n",
        "    ----------\n",
        "    The preprocessed data\n",
        "    \"\"\"\n",
        "\n",
        "    # Normalize the data\n",
        "    data_preprocessed = normalize(data)\n",
        "\n",
        "    return data_preprocessed, label"
      ],
      "execution_count": 0,
      "outputs": []
    },
    {
      "cell_type": "code",
      "metadata": {
        "colab_type": "code",
        "id": "CfV6k87Ihz_u",
        "colab": {}
      },
      "source": [
        "# Preprocess the training data\n",
        "data_train = data_train.map(preprocess)\n",
        "\n",
        "# Preprocess the validation data\n",
        "data_valid = data_valid.map(preprocess)\n",
        "\n",
        "# Preprocess the testing data\n",
        "data_test = data_test.map(preprocess)"
      ],
      "execution_count": 0,
      "outputs": []
    },
    {
      "cell_type": "markdown",
      "metadata": {
        "colab_type": "text",
        "id": "e9oPQZ7limeD"
      },
      "source": [
        "## Shuffling, batching and prefetching the data"
      ]
    },
    {
      "cell_type": "code",
      "metadata": {
        "colab_type": "code",
        "id": "p95Fq3PFbaAL",
        "colab": {}
      },
      "source": [
        "# Shuffling the training data\n",
        "data_train = data_train.shuffle(buffer_size=1000, seed=42)\n",
        "\n",
        "# Set the batch size\n",
        "batch_size = 16\n",
        "\n",
        "# Batch and prefetch the training data\n",
        "data_train = data_train.batch(batch_size).prefetch(1)\n",
        "\n",
        "# Batch and prefetch the validation data\n",
        "data_valid = data_valid.batch(batch_size).prefetch(1)\n",
        "\n",
        "# Batch and prefetch the testing data\n",
        "data_test = data_test.batch(batch_size).prefetch(1)"
      ],
      "execution_count": 0,
      "outputs": []
    },
    {
      "cell_type": "markdown",
      "metadata": {
        "colab_type": "text",
        "id": "rMLlv9xK4AO9"
      },
      "source": [
        "# Training (Without Callback)"
      ]
    },
    {
      "cell_type": "markdown",
      "metadata": {
        "colab_type": "text",
        "id": "tadOFNHsaCCj"
      },
      "source": [
        "## Designing the model"
      ]
    },
    {
      "cell_type": "markdown",
      "metadata": {
        "colab_type": "text",
        "id": "MrmKev8JaBXc"
      },
      "source": [
        " ### A step by layer approach"
      ]
    },
    {
      "cell_type": "code",
      "metadata": {
        "colab_type": "code",
        "id": "lYq-8ZYia_dL",
        "colab": {}
      },
      "source": [
        "# A sequential dnn\n",
        "model = keras.models.Sequential()\n",
        "\n",
        "# Add the input layer\n",
        "model.add(keras.layers.Flatten(input_shape=[28, 28]))\n",
        "\n",
        "# Add two hidden layers\n",
        "model.add(keras.layers.Dense(50, activation=\"relu\"))\n",
        "model.add(keras.layers.Dense(50, activation=\"relu\"))\n",
        "\n",
        "# Add the output layer\n",
        "model.add(keras.layers.Dense(10, activation=\"softmax\"))"
      ],
      "execution_count": 0,
      "outputs": []
    },
    {
      "cell_type": "markdown",
      "metadata": {
        "colab_type": "text",
        "id": "wZ88p-q4bC_5"
      },
      "source": [
        "### A one step approach"
      ]
    },
    {
      "cell_type": "code",
      "metadata": {
        "colab_type": "code",
        "id": "aA-szs5vbE1o",
        "colab": {}
      },
      "source": [
        "# A sequential dnn with two hidden layers\n",
        "model = keras.models.Sequential([\n",
        "        keras.layers.Flatten(input_shape=[28, 28]),\n",
        "        keras.layers.Dense(50, activation=\"relu\"),\n",
        "        keras.layers.Dense(50, activation=\"relu\"),\n",
        "        keras.layers.Dense(10, activation=\"softmax\")])"
      ],
      "execution_count": 0,
      "outputs": []
    },
    {
      "cell_type": "markdown",
      "metadata": {
        "colab_type": "text",
        "id": "WH5LCcCvbNsM"
      },
      "source": [
        "### The model summary"
      ]
    },
    {
      "cell_type": "code",
      "metadata": {
        "colab_type": "code",
        "id": "Nd37DOGLaAa6",
        "outputId": "830824cf-acc6-405f-9fce-3216c1500732",
        "colab": {
          "base_uri": "https://localhost:8080/",
          "height": 289
        }
      },
      "source": [
        "model.summary()"
      ],
      "execution_count": 0,
      "outputs": [
        {
          "output_type": "stream",
          "text": [
            "Model: \"sequential_1\"\n",
            "_________________________________________________________________\n",
            "Layer (type)                 Output Shape              Param #   \n",
            "=================================================================\n",
            "flatten_1 (Flatten)          (None, 784)               0         \n",
            "_________________________________________________________________\n",
            "dense_3 (Dense)              (None, 50)                39250     \n",
            "_________________________________________________________________\n",
            "dense_4 (Dense)              (None, 50)                2550      \n",
            "_________________________________________________________________\n",
            "dense_5 (Dense)              (None, 10)                510       \n",
            "=================================================================\n",
            "Total params: 42,310\n",
            "Trainable params: 42,310\n",
            "Non-trainable params: 0\n",
            "_________________________________________________________________\n"
          ],
          "name": "stdout"
        }
      ]
    },
    {
      "cell_type": "markdown",
      "metadata": {
        "colab_type": "text",
        "id": "iGISytqvZ_C0"
      },
      "source": [
        "## Compiling the model"
      ]
    },
    {
      "cell_type": "code",
      "metadata": {
        "colab_type": "code",
        "id": "aaMjBK2kZ-WX",
        "colab": {}
      },
      "source": [
        "# Compile the model\n",
        "model.compile(optimizer=keras.optimizers.SGD(),\n",
        "              loss='sparse_categorical_crossentropy',\n",
        "              metrics=['accuracy'])"
      ],
      "execution_count": 0,
      "outputs": []
    },
    {
      "cell_type": "markdown",
      "metadata": {
        "colab_type": "text",
        "id": "ba6nZQcO7Wjv"
      },
      "source": [
        "## Training and evaluating the model"
      ]
    },
    {
      "cell_type": "code",
      "metadata": {
        "colab_type": "code",
        "id": "WPC7Obrq7ZDy",
        "outputId": "e768bb23-5e5a-4e10-b53d-098cc82be49c",
        "colab": {
          "base_uri": "https://localhost:8080/",
          "height": 357
        }
      },
      "source": [
        "# Train and evaluate the model\n",
        "history = model.fit(data_train,\n",
        "                    epochs=10,\n",
        "                    validation_data=data_valid)"
      ],
      "execution_count": 0,
      "outputs": [
        {
          "output_type": "stream",
          "text": [
            "Epoch 1/10\n",
            "2625/2625 [==============================] - 16s 6ms/step - loss: 0.7334 - accuracy: 0.7470 - val_loss: 0.5248 - val_accuracy: 0.8157\n",
            "Epoch 2/10\n",
            "2625/2625 [==============================] - 16s 6ms/step - loss: 0.5012 - accuracy: 0.8227 - val_loss: 0.4748 - val_accuracy: 0.8344\n",
            "Epoch 3/10\n",
            "2625/2625 [==============================] - 16s 6ms/step - loss: 0.4515 - accuracy: 0.8407 - val_loss: 0.4361 - val_accuracy: 0.8469\n",
            "Epoch 4/10\n",
            "2625/2625 [==============================] - 15s 6ms/step - loss: 0.4231 - accuracy: 0.8514 - val_loss: 0.4149 - val_accuracy: 0.8533\n",
            "Epoch 5/10\n",
            "2625/2625 [==============================] - 16s 6ms/step - loss: 0.4001 - accuracy: 0.8588 - val_loss: 0.3933 - val_accuracy: 0.8574\n",
            "Epoch 6/10\n",
            "2625/2625 [==============================] - 16s 6ms/step - loss: 0.3846 - accuracy: 0.8644 - val_loss: 0.3818 - val_accuracy: 0.8634\n",
            "Epoch 7/10\n",
            "2625/2625 [==============================] - 16s 6ms/step - loss: 0.3710 - accuracy: 0.8680 - val_loss: 0.3808 - val_accuracy: 0.8601\n",
            "Epoch 8/10\n",
            "2625/2625 [==============================] - 16s 6ms/step - loss: 0.3606 - accuracy: 0.8707 - val_loss: 0.3742 - val_accuracy: 0.8660\n",
            "Epoch 9/10\n",
            "2625/2625 [==============================] - 15s 6ms/step - loss: 0.3489 - accuracy: 0.8751 - val_loss: 0.3663 - val_accuracy: 0.8663\n",
            "Epoch 10/10\n",
            "2625/2625 [==============================] - 16s 6ms/step - loss: 0.3409 - accuracy: 0.8773 - val_loss: 0.3558 - val_accuracy: 0.8724\n"
          ],
          "name": "stdout"
        }
      ]
    },
    {
      "cell_type": "markdown",
      "metadata": {
        "colab_type": "text",
        "id": "kNN6M5wH7vis"
      },
      "source": [
        "## Plotting the learning curve"
      ]
    },
    {
      "cell_type": "markdown",
      "metadata": {
        "colab_type": "text",
        "id": "YXGVkBFl78Cr"
      },
      "source": [
        "### Creating the directory for the figure"
      ]
    },
    {
      "cell_type": "code",
      "metadata": {
        "colab_type": "code",
        "id": "96NjNOfw7xK3",
        "colab": {}
      },
      "source": [
        "# Make directory\n",
        "directory = os.path.dirname(abspath + 'figure/')\n",
        "if not os.path.exists(directory):\n",
        "    os.makedirs(directory)"
      ],
      "execution_count": 0,
      "outputs": []
    },
    {
      "cell_type": "code",
      "metadata": {
        "colab_type": "code",
        "id": "-1AWpDxk8fqM",
        "outputId": "8c3cc191-5232-45dd-99f4-1ca9e865a313",
        "colab": {
          "base_uri": "https://localhost:8080/",
          "height": 348
        }
      },
      "source": [
        "import pandas as pd\n",
        "\n",
        "# Create a figure\n",
        "pd.DataFrame(history.history).plot(figsize=(8, 5))\n",
        "\n",
        "# Save and show the figure\n",
        "plt.tight_layout()\n",
        "plt.savefig(abspath + 'figure/learning_curve_without_callback_10.pdf')\n",
        "plt.show()"
      ],
      "execution_count": 0,
      "outputs": [
        {
          "output_type": "display_data",
          "data": {
            "image/png": "[encoded data removed]",
            "text/plain": [
              "<Figure size 576x360 with 1 Axes>"
            ]
          },
          "metadata": {
            "tags": []
          }
        }
      ]
    },
    {
      "cell_type": "markdown",
      "metadata": {
        "colab_type": "text",
        "id": "M-1Zj2vO9DyX"
      },
      "source": [
        "## Continuing training and evaluating the model"
      ]
    },
    {
      "cell_type": "code",
      "metadata": {
        "colab_type": "code",
        "id": "snUBjSrq9RhL",
        "outputId": "f727486a-c40e-4d9c-d992-602be47f6b2c",
        "colab": {
          "base_uri": "https://localhost:8080/",
          "height": 357
        }
      },
      "source": [
        "# Train and evaluate the model\n",
        "history = model.fit(data_train,\n",
        "                    epochs=10,\n",
        "                    validation_data=data_valid)"
      ],
      "execution_count": 0,
      "outputs": [
        {
          "output_type": "stream",
          "text": [
            "Epoch 1/10\n",
            "2625/2625 [==============================] - 16s 6ms/step - loss: 0.3320 - accuracy: 0.8818 - val_loss: 0.3567 - val_accuracy: 0.8681\n",
            "Epoch 2/10\n",
            "2625/2625 [==============================] - 16s 6ms/step - loss: 0.3247 - accuracy: 0.8839 - val_loss: 0.3614 - val_accuracy: 0.8703\n",
            "Epoch 3/10\n",
            "2625/2625 [==============================] - 15s 6ms/step - loss: 0.3174 - accuracy: 0.8845 - val_loss: 0.3449 - val_accuracy: 0.8766\n",
            "Epoch 4/10\n",
            "2625/2625 [==============================] - 15s 6ms/step - loss: 0.3113 - accuracy: 0.8871 - val_loss: 0.3477 - val_accuracy: 0.8734\n",
            "Epoch 5/10\n",
            "2625/2625 [==============================] - 15s 6ms/step - loss: 0.3055 - accuracy: 0.8906 - val_loss: 0.3462 - val_accuracy: 0.8732\n",
            "Epoch 6/10\n",
            "2625/2625 [==============================] - 15s 6ms/step - loss: 0.3009 - accuracy: 0.8919 - val_loss: 0.3366 - val_accuracy: 0.8777\n",
            "Epoch 7/10\n",
            "2625/2625 [==============================] - 15s 6ms/step - loss: 0.2937 - accuracy: 0.8935 - val_loss: 0.3523 - val_accuracy: 0.8731\n",
            "Epoch 8/10\n",
            "2625/2625 [==============================] - 15s 6ms/step - loss: 0.2905 - accuracy: 0.8952 - val_loss: 0.3468 - val_accuracy: 0.8738\n",
            "Epoch 9/10\n",
            "2625/2625 [==============================] - 15s 6ms/step - loss: 0.2849 - accuracy: 0.8970 - val_loss: 0.3423 - val_accuracy: 0.8730\n",
            "Epoch 10/10\n",
            "2625/2625 [==============================] - 15s 6ms/step - loss: 0.2796 - accuracy: 0.8997 - val_loss: 0.3510 - val_accuracy: 0.8737\n"
          ],
          "name": "stdout"
        }
      ]
    },
    {
      "cell_type": "markdown",
      "metadata": {
        "colab_type": "text",
        "id": "FVHoHUQX9X6C"
      },
      "source": [
        "## Plotting the learning curve"
      ]
    },
    {
      "cell_type": "code",
      "metadata": {
        "colab_type": "code",
        "id": "RpO4aqUU9gZ2",
        "outputId": "53075945-262d-4d02-e03e-dc274f37100c",
        "colab": {
          "base_uri": "https://localhost:8080/",
          "height": 348
        }
      },
      "source": [
        "# Create a figure\n",
        "pd.DataFrame(history.history).plot(figsize=(8, 5))\n",
        "\n",
        "# Save and show the figure\n",
        "plt.tight_layout()\n",
        "plt.savefig(abspath + 'figure/learning_curve_without_callback_10_20.pdf')\n",
        "plt.show()"
      ],
      "execution_count": 0,
      "outputs": [
        {
          "output_type": "display_data",
          "data": {
            "image/png": "[encoded data removed]",
            "text/plain": [
              "<Figure size 576x360 with 1 Axes>"
            ]
          },
          "metadata": {
            "tags": []
          }
        }
      ]
    },
    {
      "cell_type": "markdown",
      "metadata": {
        "colab_type": "text",
        "id": "YddKUU4Y9j7w"
      },
      "source": [
        "# Training (With ModelCheckpoint callback to Save the Model)"
      ]
    },
    {
      "cell_type": "markdown",
      "metadata": {
        "colab_type": "text",
        "id": "Bgnj4lj3cUCt"
      },
      "source": [
        "### Creating the directory of the saved model"
      ]
    },
    {
      "cell_type": "code",
      "metadata": {
        "colab_type": "code",
        "id": "mL8IheVrcVWh",
        "colab": {}
      },
      "source": [
        "# Make directory\n",
        "directory = os.path.dirname(abspath + 'model/')\n",
        "if not os.path.exists(directory):\n",
        "    os.makedirs(directory)"
      ],
      "execution_count": 0,
      "outputs": []
    },
    {
      "cell_type": "markdown",
      "metadata": {
        "colab_type": "text",
        "id": "MZXkv8srb1IS"
      },
      "source": [
        "## Designing the model"
      ]
    },
    {
      "cell_type": "code",
      "metadata": {
        "colab_type": "code",
        "id": "aIR5sQVsb5Yh",
        "outputId": "f389571d-0bc3-428c-a754-79bfbbc5af14",
        "colab": {
          "base_uri": "https://localhost:8080/",
          "height": 289
        }
      },
      "source": [
        "# A sequential dnn\n",
        "model = keras.models.Sequential()\n",
        "\n",
        "# Add the input layer\n",
        "model.add(keras.layers.Flatten(input_shape=[28, 28]))\n",
        "\n",
        "# Add two hidden layers\n",
        "model.add(keras.layers.Dense(50, activation=\"relu\"))\n",
        "model.add(keras.layers.Dense(50, activation=\"relu\"))\n",
        "\n",
        "# Add the output layer\n",
        "model.add(keras.layers.Dense(10, activation=\"softmax\"))\n",
        "\n",
        "# The model summary\n",
        "model.summary()"
      ],
      "execution_count": 0,
      "outputs": [
        {
          "output_type": "stream",
          "text": [
            "Model: \"sequential_2\"\n",
            "_________________________________________________________________\n",
            "Layer (type)                 Output Shape              Param #   \n",
            "=================================================================\n",
            "flatten_2 (Flatten)          (None, 784)               0         \n",
            "_________________________________________________________________\n",
            "dense_6 (Dense)              (None, 50)                39250     \n",
            "_________________________________________________________________\n",
            "dense_7 (Dense)              (None, 50)                2550      \n",
            "_________________________________________________________________\n",
            "dense_8 (Dense)              (None, 10)                510       \n",
            "=================================================================\n",
            "Total params: 42,310\n",
            "Trainable params: 42,310\n",
            "Non-trainable params: 0\n",
            "_________________________________________________________________\n"
          ],
          "name": "stdout"
        }
      ]
    },
    {
      "cell_type": "markdown",
      "metadata": {
        "colab_type": "text",
        "id": "9u4FMgAsMcgN"
      },
      "source": [
        "## Compiling the model"
      ]
    },
    {
      "cell_type": "code",
      "metadata": {
        "colab_type": "code",
        "id": "R4oQfnVpMdo-",
        "colab": {}
      },
      "source": [
        "# Compile the model\n",
        "model.compile(optimizer=keras.optimizers.SGD(),\n",
        "              loss='sparse_categorical_crossentropy',\n",
        "              metrics=['accuracy'])"
      ],
      "execution_count": 0,
      "outputs": []
    },
    {
      "cell_type": "markdown",
      "metadata": {
        "colab_type": "text",
        "id": "u9KTlbBT8EXs"
      },
      "source": [
        "## Setting Callbacks"
      ]
    },
    {
      "cell_type": "code",
      "metadata": {
        "colab_type": "code",
        "id": "5_iUDJLP8K44",
        "colab": {}
      },
      "source": [
        "# ModelCheckpoint callback\n",
        "model_checkpoint_cb = keras.callbacks.ModelCheckpoint(\n",
        "    filepath=abspath + \"/model/model.h5\")"
      ],
      "execution_count": 0,
      "outputs": []
    },
    {
      "cell_type": "markdown",
      "metadata": {
        "colab_type": "text",
        "id": "gLdyw9n_VzUb"
      },
      "source": [
        "## Training, evaluating and saving the model"
      ]
    },
    {
      "cell_type": "code",
      "metadata": {
        "colab_type": "code",
        "id": "0lES5CBZV176",
        "outputId": "96626219-f90a-4510-deba-52eef2bc5d5e",
        "colab": {
          "base_uri": "https://localhost:8080/",
          "height": 357
        }
      },
      "source": [
        "# Train, evaluate and save the model\n",
        "history = model.fit(data_train,\n",
        "                    epochs=10,\n",
        "                    validation_data=data_valid,\n",
        "                    callbacks=[model_checkpoint_cb])"
      ],
      "execution_count": 0,
      "outputs": [
        {
          "output_type": "stream",
          "text": [
            "Epoch 1/10\n",
            "2625/2625 [==============================] - 16s 6ms/step - loss: 0.7363 - accuracy: 0.7445 - val_loss: 0.5123 - val_accuracy: 0.8209\n",
            "Epoch 2/10\n",
            "2625/2625 [==============================] - 16s 6ms/step - loss: 0.4955 - accuracy: 0.8257 - val_loss: 0.4890 - val_accuracy: 0.8215\n",
            "Epoch 3/10\n",
            "2625/2625 [==============================] - 16s 6ms/step - loss: 0.4511 - accuracy: 0.8409 - val_loss: 0.4651 - val_accuracy: 0.8349\n",
            "Epoch 4/10\n",
            "2625/2625 [==============================] - 15s 6ms/step - loss: 0.4238 - accuracy: 0.8496 - val_loss: 0.4295 - val_accuracy: 0.8482\n",
            "Epoch 5/10\n",
            "2625/2625 [==============================] - 16s 6ms/step - loss: 0.4052 - accuracy: 0.8559 - val_loss: 0.4064 - val_accuracy: 0.8542\n",
            "Epoch 6/10\n",
            "2625/2625 [==============================] - 16s 6ms/step - loss: 0.3879 - accuracy: 0.8618 - val_loss: 0.4139 - val_accuracy: 0.8547\n",
            "Epoch 7/10\n",
            "2625/2625 [==============================] - 16s 6ms/step - loss: 0.3760 - accuracy: 0.8662 - val_loss: 0.3906 - val_accuracy: 0.8597\n",
            "Epoch 8/10\n",
            "2625/2625 [==============================] - 16s 6ms/step - loss: 0.3639 - accuracy: 0.8686 - val_loss: 0.3700 - val_accuracy: 0.8669\n",
            "Epoch 9/10\n",
            "2625/2625 [==============================] - 16s 6ms/step - loss: 0.3537 - accuracy: 0.8737 - val_loss: 0.3692 - val_accuracy: 0.8676\n",
            "Epoch 10/10\n",
            "2625/2625 [==============================] - 16s 6ms/step - loss: 0.3451 - accuracy: 0.8760 - val_loss: 0.3658 - val_accuracy: 0.8697\n"
          ],
          "name": "stdout"
        }
      ]
    },
    {
      "cell_type": "markdown",
      "metadata": {
        "colab_type": "text",
        "id": "naOELFqc6pSB"
      },
      "source": [
        "## Plotting the learning curve"
      ]
    },
    {
      "cell_type": "code",
      "metadata": {
        "colab_type": "code",
        "id": "ZucB_4TQ4APW",
        "outputId": "90f6760e-48b1-4c17-a034-6d8a589854c5",
        "colab": {
          "base_uri": "https://localhost:8080/",
          "height": 348
        }
      },
      "source": [
        "# Create a figure\n",
        "pd.DataFrame(history.history).plot(figsize=(8, 5))\n",
        "\n",
        "# Save and show the figure\n",
        "plt.tight_layout()\n",
        "plt.savefig(abspath + 'figure/learning_curve_with_modelcheckpoint_save_10.pdf')\n",
        "plt.show()"
      ],
      "execution_count": 0,
      "outputs": [
        {
          "output_type": "display_data",
          "data": {
            "image/png": "[encoded data removed]",
            "text/plain": [
              "<Figure size 576x360 with 1 Axes>"
            ]
          },
          "metadata": {
            "tags": []
          }
        }
      ]
    },
    {
      "cell_type": "markdown",
      "metadata": {
        "colab_type": "text",
        "id": "IzuVOyb4MDsO"
      },
      "source": [
        "## Loading the saved model"
      ]
    },
    {
      "cell_type": "code",
      "metadata": {
        "colab_type": "code",
        "id": "gG-RcICvMHSC",
        "outputId": "e6a19d95-23f5-4042-ab3d-d336efb7ff92",
        "colab": {
          "base_uri": "https://localhost:8080/",
          "height": 51
        }
      },
      "source": [
        "# Load the saved model\n",
        "model = keras.models.load_model(abspath + \"/model/model.h5\")"
      ],
      "execution_count": 0,
      "outputs": [
        {
          "output_type": "stream",
          "text": [
            "WARNING:tensorflow:Error in loading the saved optimizer state. As a result, your model is starting with a freshly initialized optimizer.\n"
          ],
          "name": "stdout"
        },
        {
          "output_type": "stream",
          "text": [
            "WARNING:tensorflow:Error in loading the saved optimizer state. As a result, your model is starting with a freshly initialized optimizer.\n"
          ],
          "name": "stderr"
        }
      ]
    },
    {
      "cell_type": "markdown",
      "metadata": {
        "colab_type": "text",
        "id": "9hZ_aQOvHoOd"
      },
      "source": [
        "## Continuing training and evaluating the model"
      ]
    },
    {
      "cell_type": "code",
      "metadata": {
        "colab_type": "code",
        "id": "cfwdufi_Hq9K",
        "outputId": "e73aec05-1dcd-4c0d-c70c-4dd309c142f2",
        "colab": {
          "base_uri": "https://localhost:8080/",
          "height": 357
        }
      },
      "source": [
        "# Train, evaluate and save the model\n",
        "history = model.fit(data_train,\n",
        "                    epochs=10,\n",
        "                    validation_data=data_valid,\n",
        "                    callbacks=[model_checkpoint_cb])"
      ],
      "execution_count": 0,
      "outputs": [
        {
          "output_type": "stream",
          "text": [
            "Epoch 1/10\n",
            "2625/2625 [==============================] - 16s 6ms/step - loss: 0.3379 - accuracy: 0.8797 - val_loss: 0.3632 - val_accuracy: 0.8696\n",
            "Epoch 2/10\n",
            "2625/2625 [==============================] - 15s 6ms/step - loss: 0.3297 - accuracy: 0.8815 - val_loss: 0.3672 - val_accuracy: 0.8661\n",
            "Epoch 3/10\n",
            "2625/2625 [==============================] - 16s 6ms/step - loss: 0.3226 - accuracy: 0.8833 - val_loss: 0.3430 - val_accuracy: 0.8767\n",
            "Epoch 4/10\n",
            "2625/2625 [==============================] - 15s 6ms/step - loss: 0.3165 - accuracy: 0.8863 - val_loss: 0.3502 - val_accuracy: 0.8738\n",
            "Epoch 5/10\n",
            "2625/2625 [==============================] - 16s 6ms/step - loss: 0.3117 - accuracy: 0.8859 - val_loss: 0.3612 - val_accuracy: 0.8720\n",
            "Epoch 6/10\n",
            "2625/2625 [==============================] - 16s 6ms/step - loss: 0.3038 - accuracy: 0.8899 - val_loss: 0.3420 - val_accuracy: 0.8778\n",
            "Epoch 7/10\n",
            "2625/2625 [==============================] - 16s 6ms/step - loss: 0.3005 - accuracy: 0.8914 - val_loss: 0.3513 - val_accuracy: 0.8729\n",
            "Epoch 8/10\n",
            "2625/2625 [==============================] - 16s 6ms/step - loss: 0.2947 - accuracy: 0.8931 - val_loss: 0.3414 - val_accuracy: 0.8777\n",
            "Epoch 9/10\n",
            "2625/2625 [==============================] - 15s 6ms/step - loss: 0.2903 - accuracy: 0.8940 - val_loss: 0.3474 - val_accuracy: 0.8769\n",
            "Epoch 10/10\n",
            "2625/2625 [==============================] - 15s 6ms/step - loss: 0.2861 - accuracy: 0.8967 - val_loss: 0.3388 - val_accuracy: 0.8802\n"
          ],
          "name": "stdout"
        }
      ]
    },
    {
      "cell_type": "markdown",
      "metadata": {
        "colab_type": "text",
        "id": "jooIV3Tr38rw"
      },
      "source": [
        "## Plotting the learning curve\n",
        "\n"
      ]
    },
    {
      "cell_type": "code",
      "metadata": {
        "colab_type": "code",
        "id": "ZdftIsbI3_nV",
        "outputId": "259e81bc-bbca-4d12-a591-4f8e565e36ec",
        "colab": {
          "base_uri": "https://localhost:8080/",
          "height": 348
        }
      },
      "source": [
        "# Create a figure\n",
        "pd.DataFrame(history.history).plot(figsize=(8, 5))\n",
        "\n",
        "# Save and show the figure\n",
        "plt.tight_layout()\n",
        "plt.savefig(abspath + 'figure/learning_curve_with_modelcheckpoint_save_10_20.pdf')\n",
        "plt.show()"
      ],
      "execution_count": 0,
      "outputs": [
        {
          "output_type": "display_data",
          "data": {
            "image/png": "[encoded data removed]",
            "text/plain": [
              "<Figure size 576x360 with 1 Axes>"
            ]
          },
          "metadata": {
            "tags": []
          }
        }
      ]
    },
    {
      "cell_type": "markdown",
      "metadata": {
        "colab_type": "text",
        "id": "IWVJ3KwUub-j"
      },
      "source": [
        "# Training (With ModelCheckpoint callback to Save the Best Model)\n",
        "\n",
        "\n"
      ]
    },
    {
      "cell_type": "markdown",
      "metadata": {
        "colab_type": "text",
        "id": "Cmzcn8FqcgmU"
      },
      "source": [
        "## Designing the model"
      ]
    },
    {
      "cell_type": "code",
      "metadata": {
        "colab_type": "code",
        "id": "Ff-n6bJBcfwq",
        "outputId": "e0b03d37-f60f-4069-8161-bf46eb54f5e8",
        "colab": {
          "base_uri": "https://localhost:8080/",
          "height": 289
        }
      },
      "source": [
        "# A sequential dnn\n",
        "model = keras.models.Sequential()\n",
        "\n",
        "# Add the input layer\n",
        "model.add(keras.layers.Flatten(input_shape=[28, 28]))\n",
        "\n",
        "# Add two hidden layers\n",
        "model.add(keras.layers.Dense(50, activation=\"relu\"))\n",
        "model.add(keras.layers.Dense(50, activation=\"relu\"))\n",
        "\n",
        "# Add the output layer\n",
        "model.add(keras.layers.Dense(10, activation=\"softmax\"))\n",
        "\n",
        "# The model summary\n",
        "model.summary()"
      ],
      "execution_count": 0,
      "outputs": [
        {
          "output_type": "stream",
          "text": [
            "Model: \"sequential_3\"\n",
            "_________________________________________________________________\n",
            "Layer (type)                 Output Shape              Param #   \n",
            "=================================================================\n",
            "flatten_3 (Flatten)          (None, 784)               0         \n",
            "_________________________________________________________________\n",
            "dense_9 (Dense)              (None, 50)                39250     \n",
            "_________________________________________________________________\n",
            "dense_10 (Dense)             (None, 50)                2550      \n",
            "_________________________________________________________________\n",
            "dense_11 (Dense)             (None, 10)                510       \n",
            "=================================================================\n",
            "Total params: 42,310\n",
            "Trainable params: 42,310\n",
            "Non-trainable params: 0\n",
            "_________________________________________________________________\n"
          ],
          "name": "stdout"
        }
      ]
    },
    {
      "cell_type": "markdown",
      "metadata": {
        "colab_type": "text",
        "id": "6sbntreiMnnE"
      },
      "source": [
        "## Compiling the model"
      ]
    },
    {
      "cell_type": "code",
      "metadata": {
        "colab_type": "code",
        "id": "pIQ7PZl9Mr-Y",
        "colab": {}
      },
      "source": [
        "# Compile the model\n",
        "model.compile(optimizer=keras.optimizers.SGD(),\n",
        "              loss='sparse_categorical_crossentropy',\n",
        "              metrics=['accuracy'])"
      ],
      "execution_count": 0,
      "outputs": []
    },
    {
      "cell_type": "markdown",
      "metadata": {
        "colab_type": "text",
        "id": "vbsr_YQ_IE0T"
      },
      "source": [
        "## Setting Callbacks"
      ]
    },
    {
      "cell_type": "code",
      "metadata": {
        "colab_type": "code",
        "id": "YbZSbKRQIJJC",
        "colab": {}
      },
      "source": [
        "# ModelCheckpoint callback\n",
        "model_checkpoint_cb = keras.callbacks.ModelCheckpoint(\n",
        "    filepath=abspath + \"/model/model.h5\",\n",
        "    save_best_only=True)"
      ],
      "execution_count": 0,
      "outputs": []
    },
    {
      "cell_type": "markdown",
      "metadata": {
        "colab_type": "text",
        "id": "Z8dQknUOIWID"
      },
      "source": [
        "## Training, evaluating and saving the best model"
      ]
    },
    {
      "cell_type": "code",
      "metadata": {
        "colab_type": "code",
        "id": "a5vhwhdAIZyH",
        "outputId": "3f518ff6-e12b-45d0-cb79-91694d874320",
        "colab": {
          "base_uri": "https://localhost:8080/",
          "height": 697
        }
      },
      "source": [
        "# Train, evaluate and save the best model\n",
        "history = model.fit(data_train,\n",
        "                    epochs=20,\n",
        "                    validation_data=data_valid,\n",
        "                    callbacks=[model_checkpoint_cb])"
      ],
      "execution_count": 0,
      "outputs": [
        {
          "output_type": "stream",
          "text": [
            "Epoch 1/20\n",
            "2625/2625 [==============================] - 16s 6ms/step - loss: 0.7480 - accuracy: 0.7429 - val_loss: 0.5262 - val_accuracy: 0.8183\n",
            "Epoch 2/20\n",
            "2625/2625 [==============================] - 16s 6ms/step - loss: 0.5020 - accuracy: 0.8232 - val_loss: 0.5015 - val_accuracy: 0.8172\n",
            "Epoch 3/20\n",
            "2625/2625 [==============================] - 16s 6ms/step - loss: 0.4535 - accuracy: 0.8390 - val_loss: 0.4335 - val_accuracy: 0.8482\n",
            "Epoch 4/20\n",
            "2625/2625 [==============================] - 16s 6ms/step - loss: 0.4243 - accuracy: 0.8489 - val_loss: 0.4270 - val_accuracy: 0.8510\n",
            "Epoch 5/20\n",
            "2625/2625 [==============================] - 16s 6ms/step - loss: 0.4030 - accuracy: 0.8566 - val_loss: 0.4096 - val_accuracy: 0.8550\n",
            "Epoch 6/20\n",
            "2625/2625 [==============================] - 16s 6ms/step - loss: 0.3864 - accuracy: 0.8631 - val_loss: 0.4347 - val_accuracy: 0.8464\n",
            "Epoch 7/20\n",
            "2625/2625 [==============================] - 16s 6ms/step - loss: 0.3723 - accuracy: 0.8674 - val_loss: 0.3675 - val_accuracy: 0.8690\n",
            "Epoch 8/20\n",
            "2625/2625 [==============================] - 17s 6ms/step - loss: 0.3612 - accuracy: 0.8698 - val_loss: 0.3636 - val_accuracy: 0.8671\n",
            "Epoch 9/20\n",
            "2625/2625 [==============================] - 16s 6ms/step - loss: 0.3511 - accuracy: 0.8741 - val_loss: 0.3821 - val_accuracy: 0.8607\n",
            "Epoch 10/20\n",
            "2625/2625 [==============================] - 16s 6ms/step - loss: 0.3408 - accuracy: 0.8770 - val_loss: 0.3933 - val_accuracy: 0.8526\n",
            "Epoch 11/20\n",
            "2625/2625 [==============================] - 16s 6ms/step - loss: 0.3342 - accuracy: 0.8789 - val_loss: 0.3540 - val_accuracy: 0.8711\n",
            "Epoch 12/20\n",
            "2625/2625 [==============================] - 16s 6ms/step - loss: 0.3267 - accuracy: 0.8819 - val_loss: 0.3506 - val_accuracy: 0.8736\n",
            "Epoch 13/20\n",
            "2625/2625 [==============================] - 16s 6ms/step - loss: 0.3206 - accuracy: 0.8846 - val_loss: 0.3450 - val_accuracy: 0.8757\n",
            "Epoch 14/20\n",
            "2625/2625 [==============================] - 16s 6ms/step - loss: 0.3132 - accuracy: 0.8867 - val_loss: 0.3397 - val_accuracy: 0.8764\n",
            "Epoch 15/20\n",
            "2625/2625 [==============================] - 16s 6ms/step - loss: 0.3077 - accuracy: 0.8893 - val_loss: 0.3537 - val_accuracy: 0.8738\n",
            "Epoch 16/20\n",
            "2625/2625 [==============================] - 16s 6ms/step - loss: 0.3026 - accuracy: 0.8905 - val_loss: 0.3518 - val_accuracy: 0.8741\n",
            "Epoch 17/20\n",
            "2625/2625 [==============================] - 15s 6ms/step - loss: 0.2985 - accuracy: 0.8912 - val_loss: 0.3399 - val_accuracy: 0.8763\n",
            "Epoch 18/20\n",
            "2625/2625 [==============================] - 16s 6ms/step - loss: 0.2921 - accuracy: 0.8949 - val_loss: 0.3337 - val_accuracy: 0.8798\n",
            "Epoch 19/20\n",
            "2625/2625 [==============================] - 15s 6ms/step - loss: 0.2889 - accuracy: 0.8947 - val_loss: 0.3417 - val_accuracy: 0.8763\n",
            "Epoch 20/20\n",
            "2625/2625 [==============================] - 16s 6ms/step - loss: 0.2838 - accuracy: 0.8972 - val_loss: 0.3263 - val_accuracy: 0.8821\n"
          ],
          "name": "stdout"
        }
      ]
    },
    {
      "cell_type": "markdown",
      "metadata": {
        "colab_type": "text",
        "id": "F_NuGQw-Idt6"
      },
      "source": [
        "## Plotting the learning curve"
      ]
    },
    {
      "cell_type": "code",
      "metadata": {
        "colab_type": "code",
        "id": "Z2fsZ8jOIgqD",
        "outputId": "07b29901-b5fd-4e5a-c449-a1822d52761c",
        "colab": {
          "base_uri": "https://localhost:8080/",
          "height": 348
        }
      },
      "source": [
        "# Create a figure\n",
        "pd.DataFrame(history.history).plot(figsize=(8, 5))\n",
        "\n",
        "# Save and show the figure\n",
        "plt.tight_layout()\n",
        "plt.savefig(abspath + 'figure/learning_curve_with_modelcheckpoint_save_best.pdf')\n",
        "plt.show()"
      ],
      "execution_count": 0,
      "outputs": [
        {
          "output_type": "display_data",
          "data": {
            "image/png": "[encoded data removed]",
            "text/plain": [
              "<Figure size 576x360 with 1 Axes>"
            ]
          },
          "metadata": {
            "tags": []
          }
        }
      ]
    },
    {
      "cell_type": "markdown",
      "metadata": {
        "colab_type": "text",
        "id": "wUW8TGCUNAn0"
      },
      "source": [
        "# Training (With ModelCheckpoint and EarlyStopping)"
      ]
    },
    {
      "cell_type": "markdown",
      "metadata": {
        "colab_type": "text",
        "id": "X4gb9xducnlO"
      },
      "source": [
        "## Designing the model"
      ]
    },
    {
      "cell_type": "code",
      "metadata": {
        "colab_type": "code",
        "id": "X1DlY50Wcm0B",
        "outputId": "6d9d1b11-b04d-4397-8b33-db7da3daaa82",
        "colab": {
          "base_uri": "https://localhost:8080/",
          "height": 289
        }
      },
      "source": [
        "# A sequential dnn\n",
        "model = keras.models.Sequential()\n",
        "\n",
        "# Add the input layer\n",
        "model.add(keras.layers.Flatten(input_shape=[28, 28]))\n",
        "\n",
        "# Add two hidden layers\n",
        "model.add(keras.layers.Dense(50, activation=\"relu\"))\n",
        "model.add(keras.layers.Dense(50, activation=\"relu\"))\n",
        "\n",
        "# Add the output layer\n",
        "model.add(keras.layers.Dense(10, activation=\"softmax\"))\n",
        "\n",
        "# The model summary\n",
        "model.summary()"
      ],
      "execution_count": 0,
      "outputs": [
        {
          "output_type": "stream",
          "text": [
            "Model: \"sequential_4\"\n",
            "_________________________________________________________________\n",
            "Layer (type)                 Output Shape              Param #   \n",
            "=================================================================\n",
            "flatten_4 (Flatten)          (None, 784)               0         \n",
            "_________________________________________________________________\n",
            "dense_12 (Dense)             (None, 50)                39250     \n",
            "_________________________________________________________________\n",
            "dense_13 (Dense)             (None, 50)                2550      \n",
            "_________________________________________________________________\n",
            "dense_14 (Dense)             (None, 10)                510       \n",
            "=================================================================\n",
            "Total params: 42,310\n",
            "Trainable params: 42,310\n",
            "Non-trainable params: 0\n",
            "_________________________________________________________________\n"
          ],
          "name": "stdout"
        }
      ]
    },
    {
      "cell_type": "markdown",
      "metadata": {
        "colab_type": "text",
        "id": "5l9DbmVzNQR7"
      },
      "source": [
        "## Compiling the model"
      ]
    },
    {
      "cell_type": "code",
      "metadata": {
        "colab_type": "code",
        "id": "_e7LoJ-KNRo4",
        "colab": {}
      },
      "source": [
        "# Compile the model\n",
        "model.compile(optimizer=keras.optimizers.SGD(),\n",
        "              loss='sparse_categorical_crossentropy',\n",
        "              metrics=['accuracy'])"
      ],
      "execution_count": 0,
      "outputs": []
    },
    {
      "cell_type": "markdown",
      "metadata": {
        "colab_type": "text",
        "id": "8b69RD7fNVDx"
      },
      "source": [
        "## Setting Callbacks"
      ]
    },
    {
      "cell_type": "code",
      "metadata": {
        "colab_type": "code",
        "id": "hZEE71ajNWGb",
        "colab": {}
      },
      "source": [
        "# ModelCheckpoint callback\n",
        "model_checkpoint_cb = keras.callbacks.ModelCheckpoint(\n",
        "    filepath=abspath + \"/model/model.h5\",\n",
        "    save_best_only=True)\n",
        "\n",
        "# EarlyStopping callback\n",
        "early_stopping_cb = keras.callbacks.EarlyStopping(\n",
        "    patience=5,\n",
        "    restore_best_weights=True)"
      ],
      "execution_count": 0,
      "outputs": []
    },
    {
      "cell_type": "markdown",
      "metadata": {
        "colab_type": "text",
        "id": "p5GGitWVNj0m"
      },
      "source": [
        "## Training, evaluating and saving the best model"
      ]
    },
    {
      "cell_type": "code",
      "metadata": {
        "colab_type": "code",
        "id": "4ZS7h4WENqLt",
        "outputId": "83c88365-617b-42c9-8be9-6434036fa169",
        "colab": {
          "base_uri": "https://localhost:8080/",
          "height": 697
        }
      },
      "source": [
        "# Train, evaluate and save the best model\n",
        "history = model.fit(\n",
        "    data_train,\n",
        "    epochs=20,\n",
        "    validation_data=data_valid,\n",
        "    callbacks=[model_checkpoint_cb, early_stopping_cb])"
      ],
      "execution_count": 0,
      "outputs": [
        {
          "output_type": "stream",
          "text": [
            "Epoch 1/20\n",
            "2625/2625 [==============================] - 16s 6ms/step - loss: 0.7136 - accuracy: 0.7580 - val_loss: 0.5236 - val_accuracy: 0.8225\n",
            "Epoch 2/20\n",
            "2625/2625 [==============================] - 16s 6ms/step - loss: 0.4923 - accuracy: 0.8297 - val_loss: 0.4651 - val_accuracy: 0.8378\n",
            "Epoch 3/20\n",
            "2625/2625 [==============================] - 16s 6ms/step - loss: 0.4509 - accuracy: 0.8403 - val_loss: 0.4272 - val_accuracy: 0.8496\n",
            "Epoch 4/20\n",
            "2625/2625 [==============================] - 16s 6ms/step - loss: 0.4221 - accuracy: 0.8517 - val_loss: 0.4138 - val_accuracy: 0.8530\n",
            "Epoch 5/20\n",
            "2625/2625 [==============================] - 16s 6ms/step - loss: 0.4034 - accuracy: 0.8572 - val_loss: 0.4165 - val_accuracy: 0.8527\n",
            "Epoch 6/20\n",
            "2625/2625 [==============================] - 16s 6ms/step - loss: 0.3862 - accuracy: 0.8629 - val_loss: 0.3925 - val_accuracy: 0.8616\n",
            "Epoch 7/20\n",
            "2625/2625 [==============================] - 16s 6ms/step - loss: 0.3750 - accuracy: 0.8662 - val_loss: 0.3805 - val_accuracy: 0.8642\n",
            "Epoch 8/20\n",
            "2625/2625 [==============================] - 16s 6ms/step - loss: 0.3632 - accuracy: 0.8705 - val_loss: 0.3809 - val_accuracy: 0.8649\n",
            "Epoch 9/20\n",
            "2625/2625 [==============================] - 16s 6ms/step - loss: 0.3513 - accuracy: 0.8753 - val_loss: 0.3771 - val_accuracy: 0.8638\n",
            "Epoch 10/20\n",
            "2625/2625 [==============================] - 16s 6ms/step - loss: 0.3433 - accuracy: 0.8780 - val_loss: 0.3558 - val_accuracy: 0.8727\n",
            "Epoch 11/20\n",
            "2625/2625 [==============================] - 16s 6ms/step - loss: 0.3352 - accuracy: 0.8795 - val_loss: 0.3634 - val_accuracy: 0.8709\n",
            "Epoch 12/20\n",
            "2625/2625 [==============================] - 16s 6ms/step - loss: 0.3267 - accuracy: 0.8848 - val_loss: 0.3519 - val_accuracy: 0.8726\n",
            "Epoch 13/20\n",
            "2625/2625 [==============================] - 16s 6ms/step - loss: 0.3188 - accuracy: 0.8857 - val_loss: 0.3515 - val_accuracy: 0.8713\n",
            "Epoch 14/20\n",
            "2625/2625 [==============================] - 16s 6ms/step - loss: 0.3117 - accuracy: 0.8880 - val_loss: 0.3393 - val_accuracy: 0.8766\n",
            "Epoch 15/20\n",
            "2625/2625 [==============================] - 15s 6ms/step - loss: 0.3061 - accuracy: 0.8894 - val_loss: 0.3471 - val_accuracy: 0.8734\n",
            "Epoch 16/20\n",
            "2625/2625 [==============================] - 16s 6ms/step - loss: 0.3012 - accuracy: 0.8908 - val_loss: 0.3324 - val_accuracy: 0.8759\n",
            "Epoch 17/20\n",
            "2625/2625 [==============================] - 15s 6ms/step - loss: 0.2949 - accuracy: 0.8941 - val_loss: 0.3364 - val_accuracy: 0.8766\n",
            "Epoch 18/20\n",
            "2625/2625 [==============================] - 15s 6ms/step - loss: 0.2890 - accuracy: 0.8970 - val_loss: 0.3374 - val_accuracy: 0.8767\n",
            "Epoch 19/20\n",
            "2625/2625 [==============================] - 16s 6ms/step - loss: 0.2855 - accuracy: 0.8967 - val_loss: 0.3320 - val_accuracy: 0.8776\n",
            "Epoch 20/20\n",
            "2625/2625 [==============================] - 16s 6ms/step - loss: 0.2806 - accuracy: 0.8978 - val_loss: 0.3426 - val_accuracy: 0.8764\n"
          ],
          "name": "stdout"
        }
      ]
    },
    {
      "cell_type": "markdown",
      "metadata": {
        "colab_type": "text",
        "id": "NJoCcgsIR-TE"
      },
      "source": [
        "## Plotting the learning curve"
      ]
    },
    {
      "cell_type": "code",
      "metadata": {
        "colab_type": "code",
        "id": "Z9f7MA8xSA4f",
        "outputId": "fe06386a-53ca-4257-9ec1-e9b61a3e2cfa",
        "colab": {
          "base_uri": "https://localhost:8080/",
          "height": 348
        }
      },
      "source": [
        "# Create a figure\n",
        "pd.DataFrame(history.history).plot(figsize=(8, 5))\n",
        "\n",
        "# Save and show the figure\n",
        "plt.tight_layout()\n",
        "plt.savefig(abspath + 'figure/learning_curve_with_modelcheckpoint_earlystopping.pdf')\n",
        "plt.show()"
      ],
      "execution_count": 0,
      "outputs": [
        {
          "output_type": "display_data",
          "data": {
            "image/png": "[encoded data removed]",
            "text/plain": [
              "<Figure size 576x360 with 1 Axes>"
            ]
          },
          "metadata": {
            "tags": []
          }
        }
      ]
    },
    {
      "cell_type": "markdown",
      "metadata": {
        "colab_type": "text",
        "id": "qA7xxrKD2w-_"
      },
      "source": [
        "# Training (With ModelCheckpoint, EarlyStopping and Power Scheduling)"
      ]
    },
    {
      "cell_type": "markdown",
      "metadata": {
        "colab_type": "text",
        "id": "EJlt-AIj3GKS"
      },
      "source": [
        "## Designing the model"
      ]
    },
    {
      "cell_type": "code",
      "metadata": {
        "colab_type": "code",
        "id": "NbCt-hRo3HSC",
        "outputId": "20632a55-a510-4f25-900b-1b7180c02163",
        "colab": {
          "base_uri": "https://localhost:8080/",
          "height": 289
        }
      },
      "source": [
        "# A sequential dnn\n",
        "model = keras.models.Sequential()\n",
        "\n",
        "# Add the input layer\n",
        "model.add(keras.layers.Flatten(input_shape=[28, 28]))\n",
        "\n",
        "# Add two hidden layers\n",
        "model.add(keras.layers.Dense(50, activation=\"relu\"))\n",
        "model.add(keras.layers.Dense(50, activation=\"relu\"))\n",
        "\n",
        "# Add the output layer\n",
        "model.add(keras.layers.Dense(10, activation=\"softmax\"))\n",
        "\n",
        "# The model summary\n",
        "model.summary()"
      ],
      "execution_count": 0,
      "outputs": [
        {
          "output_type": "stream",
          "text": [
            "Model: \"sequential_5\"\n",
            "_________________________________________________________________\n",
            "Layer (type)                 Output Shape              Param #   \n",
            "=================================================================\n",
            "flatten_5 (Flatten)          (None, 784)               0         \n",
            "_________________________________________________________________\n",
            "dense_15 (Dense)             (None, 50)                39250     \n",
            "_________________________________________________________________\n",
            "dense_16 (Dense)             (None, 50)                2550      \n",
            "_________________________________________________________________\n",
            "dense_17 (Dense)             (None, 10)                510       \n",
            "=================================================================\n",
            "Total params: 42,310\n",
            "Trainable params: 42,310\n",
            "Non-trainable params: 0\n",
            "_________________________________________________________________\n"
          ],
          "name": "stdout"
        }
      ]
    },
    {
      "cell_type": "markdown",
      "metadata": {
        "colab_type": "text",
        "id": "iG0n0mRt3NLP"
      },
      "source": [
        "## Compiling the model"
      ]
    },
    {
      "cell_type": "code",
      "metadata": {
        "colab_type": "code",
        "id": "BUWlogyA3OQM",
        "colab": {}
      },
      "source": [
        "# Get the number of samples in the training data\n",
        "m = tf.data.experimental.cardinality(data_train).numpy()\n",
        "\n",
        "# Set the step size\n",
        "s = 20 * m // batch_size\n",
        "\n",
        "# Compile the model\n",
        "model.compile(optimizer=keras.optimizers.SGD(decay=1 / s),\n",
        "              loss='sparse_categorical_crossentropy',\n",
        "              metrics=['accuracy'])"
      ],
      "execution_count": 0,
      "outputs": []
    },
    {
      "cell_type": "markdown",
      "metadata": {
        "colab_type": "text",
        "id": "HuQ3WMSm36fN"
      },
      "source": [
        "## Setting Callbacks"
      ]
    },
    {
      "cell_type": "code",
      "metadata": {
        "colab_type": "code",
        "id": "w_NWWh4r39Xt",
        "colab": {}
      },
      "source": [
        "# ModelCheckpoint callback\n",
        "model_checkpoint_cb = keras.callbacks.ModelCheckpoint(\n",
        "    filepath=abspath + \"/model/model.h5\",\n",
        "    save_best_only=True)\n",
        "\n",
        "# EarlyStopping callback\n",
        "early_stopping_cb = keras.callbacks.EarlyStopping(\n",
        "    patience=5,\n",
        "    restore_best_weights=True)"
      ],
      "execution_count": 0,
      "outputs": []
    },
    {
      "cell_type": "markdown",
      "metadata": {
        "colab_type": "text",
        "id": "DUxjf-nr4DpW"
      },
      "source": [
        "## Training, evaluating and saving the best model"
      ]
    },
    {
      "cell_type": "code",
      "metadata": {
        "colab_type": "code",
        "id": "1ymYzZ-64HIZ",
        "outputId": "a8e40d7b-6522-4266-9da1-a20b7675972a",
        "colab": {
          "base_uri": "https://localhost:8080/",
          "height": 697
        }
      },
      "source": [
        "# Train, evaluate and save the best model\n",
        "history = model.fit(\n",
        "    data_train,\n",
        "    epochs=20,\n",
        "    validation_data=data_valid,\n",
        "    callbacks=[model_checkpoint_cb, early_stopping_cb])"
      ],
      "execution_count": 0,
      "outputs": [
        {
          "output_type": "stream",
          "text": [
            "Epoch 1/20\n",
            "2625/2625 [==============================] - 16s 6ms/step - loss: 0.7356 - accuracy: 0.7498 - val_loss: 0.5188 - val_accuracy: 0.8248\n",
            "Epoch 2/20\n",
            "2625/2625 [==============================] - 16s 6ms/step - loss: 0.5045 - accuracy: 0.8247 - val_loss: 0.4928 - val_accuracy: 0.8298\n",
            "Epoch 3/20\n",
            "2625/2625 [==============================] - 16s 6ms/step - loss: 0.4678 - accuracy: 0.8376 - val_loss: 0.4532 - val_accuracy: 0.8418\n",
            "Epoch 4/20\n",
            "2625/2625 [==============================] - 16s 6ms/step - loss: 0.4479 - accuracy: 0.8430 - val_loss: 0.4502 - val_accuracy: 0.8438\n",
            "Epoch 5/20\n",
            "2625/2625 [==============================] - 16s 6ms/step - loss: 0.4358 - accuracy: 0.8478 - val_loss: 0.4373 - val_accuracy: 0.8483\n",
            "Epoch 6/20\n",
            "2625/2625 [==============================] - 16s 6ms/step - loss: 0.4263 - accuracy: 0.8518 - val_loss: 0.4281 - val_accuracy: 0.8509\n",
            "Epoch 7/20\n",
            "2625/2625 [==============================] - 16s 6ms/step - loss: 0.4198 - accuracy: 0.8536 - val_loss: 0.4269 - val_accuracy: 0.8512\n",
            "Epoch 8/20\n",
            "2625/2625 [==============================] - 16s 6ms/step - loss: 0.4140 - accuracy: 0.8565 - val_loss: 0.4257 - val_accuracy: 0.8514\n",
            "Epoch 9/20\n",
            "2625/2625 [==============================] - 16s 6ms/step - loss: 0.4094 - accuracy: 0.8582 - val_loss: 0.4181 - val_accuracy: 0.8530\n",
            "Epoch 10/20\n",
            "2625/2625 [==============================] - 16s 6ms/step - loss: 0.4051 - accuracy: 0.8587 - val_loss: 0.4169 - val_accuracy: 0.8539\n",
            "Epoch 11/20\n",
            "2625/2625 [==============================] - 16s 6ms/step - loss: 0.4019 - accuracy: 0.8604 - val_loss: 0.4142 - val_accuracy: 0.8552\n",
            "Epoch 12/20\n",
            "2625/2625 [==============================] - 16s 6ms/step - loss: 0.3987 - accuracy: 0.8616 - val_loss: 0.4106 - val_accuracy: 0.8563\n",
            "Epoch 13/20\n",
            "2625/2625 [==============================] - 16s 6ms/step - loss: 0.3959 - accuracy: 0.8632 - val_loss: 0.4097 - val_accuracy: 0.8568\n",
            "Epoch 14/20\n",
            "2625/2625 [==============================] - 16s 6ms/step - loss: 0.3933 - accuracy: 0.8644 - val_loss: 0.4067 - val_accuracy: 0.8573\n",
            "Epoch 15/20\n",
            "2625/2625 [==============================] - 16s 6ms/step - loss: 0.3912 - accuracy: 0.8650 - val_loss: 0.4082 - val_accuracy: 0.8574\n",
            "Epoch 16/20\n",
            "2625/2625 [==============================] - 16s 6ms/step - loss: 0.3889 - accuracy: 0.8661 - val_loss: 0.4041 - val_accuracy: 0.8588\n",
            "Epoch 17/20\n",
            "2625/2625 [==============================] - 16s 6ms/step - loss: 0.3871 - accuracy: 0.8666 - val_loss: 0.4040 - val_accuracy: 0.8582\n",
            "Epoch 18/20\n",
            "2625/2625 [==============================] - 16s 6ms/step - loss: 0.3855 - accuracy: 0.8662 - val_loss: 0.4029 - val_accuracy: 0.8586\n",
            "Epoch 19/20\n",
            "2625/2625 [==============================] - 16s 6ms/step - loss: 0.3838 - accuracy: 0.8667 - val_loss: 0.3977 - val_accuracy: 0.8597\n",
            "Epoch 20/20\n",
            "2625/2625 [==============================] - 15s 6ms/step - loss: 0.3825 - accuracy: 0.8674 - val_loss: 0.4026 - val_accuracy: 0.8597\n"
          ],
          "name": "stdout"
        }
      ]
    },
    {
      "cell_type": "markdown",
      "metadata": {
        "colab_type": "text",
        "id": "lzpJN6jw4LW_"
      },
      "source": [
        "## Plotting the learning curve"
      ]
    },
    {
      "cell_type": "code",
      "metadata": {
        "colab_type": "code",
        "id": "x3xm4mKs4PHn",
        "outputId": "1a3fabd4-56e9-4228-dd01-039c71d03858",
        "scrolled": true,
        "colab": {
          "base_uri": "https://localhost:8080/",
          "height": 348
        }
      },
      "source": [
        "# Create a figure\n",
        "pd.DataFrame(history.history).plot(figsize=(8, 5))\n",
        "\n",
        "# Save and show the figure\n",
        "plt.tight_layout()\n",
        "plt.savefig(abspath + 'figure/learning_curve_with_modelcheckpoint_earlystopping_power_scheduling.pdf')\n",
        "plt.show()"
      ],
      "execution_count": 0,
      "outputs": [
        {
          "output_type": "display_data",
          "data": {
            "image/png": "[encoded data removed]",
            "text/plain": [
              "<Figure size 576x360 with 1 Axes>"
            ]
          },
          "metadata": {
            "tags": []
          }
        }
      ]
    },
    {
      "cell_type": "markdown",
      "metadata": {
        "colab_type": "text",
        "id": "15Ma-QThcpNp"
      },
      "source": [
        "# Training (With ModelCheckpoint, EarlyStopping and Exponential Scheduling)"
      ]
    },
    {
      "cell_type": "markdown",
      "metadata": {
        "colab_type": "text",
        "id": "MnzfNj0dcpNp"
      },
      "source": [
        "## Designing the model"
      ]
    },
    {
      "cell_type": "code",
      "metadata": {
        "colab_type": "code",
        "id": "jhetnh3xcpNp",
        "outputId": "a294da9e-0532-4087-d3d2-a157f6621592",
        "colab": {
          "base_uri": "https://localhost:8080/",
          "height": 289
        }
      },
      "source": [
        "# A sequential dnn\n",
        "model = keras.models.Sequential()\n",
        "\n",
        "# Add the input layer\n",
        "model.add(keras.layers.Flatten(input_shape=[28, 28]))\n",
        "\n",
        "# Add two hidden layers\n",
        "model.add(keras.layers.Dense(50, activation=\"relu\"))\n",
        "model.add(keras.layers.Dense(50, activation=\"relu\"))\n",
        "\n",
        "# Add the output layer\n",
        "model.add(keras.layers.Dense(10, activation=\"softmax\"))\n",
        "\n",
        "# The model summary\n",
        "model.summary()"
      ],
      "execution_count": 0,
      "outputs": [
        {
          "output_type": "stream",
          "text": [
            "Model: \"sequential_6\"\n",
            "_________________________________________________________________\n",
            "Layer (type)                 Output Shape              Param #   \n",
            "=================================================================\n",
            "flatten_6 (Flatten)          (None, 784)               0         \n",
            "_________________________________________________________________\n",
            "dense_18 (Dense)             (None, 50)                39250     \n",
            "_________________________________________________________________\n",
            "dense_19 (Dense)             (None, 50)                2550      \n",
            "_________________________________________________________________\n",
            "dense_20 (Dense)             (None, 10)                510       \n",
            "=================================================================\n",
            "Total params: 42,310\n",
            "Trainable params: 42,310\n",
            "Non-trainable params: 0\n",
            "_________________________________________________________________\n"
          ],
          "name": "stdout"
        }
      ]
    },
    {
      "cell_type": "markdown",
      "metadata": {
        "colab_type": "text",
        "id": "QayMxgiYcpNr"
      },
      "source": [
        "## Compiling the model"
      ]
    },
    {
      "cell_type": "code",
      "metadata": {
        "colab_type": "code",
        "id": "UmNo4PGB8Qtv",
        "colab": {}
      },
      "source": [
        "# Get the number of samples in the training data\n",
        "m = tf.data.experimental.cardinality(data_train).numpy()\n",
        "\n",
        "# Set the decay_steps\n",
        "s = 20 * m / batch_size\n",
        "\n",
        "# Get the learning rate\n",
        "learning_rate = keras.optimizers.schedules.ExponentialDecay(\n",
        "    initial_learning_rate=0.01,\n",
        "    decay_steps=s,\n",
        "    decay_rate=0.1)\n",
        "\n",
        "# Compile the model\n",
        "model.compile(optimizer=keras.optimizers.SGD(learning_rate),\n",
        "              loss='sparse_categorical_crossentropy',\n",
        "              metrics=['accuracy'])"
      ],
      "execution_count": 0,
      "outputs": []
    },
    {
      "cell_type": "markdown",
      "metadata": {
        "colab_type": "text",
        "id": "udAPzdyJcpNs"
      },
      "source": [
        "## Setting Callbacks"
      ]
    },
    {
      "cell_type": "code",
      "metadata": {
        "colab_type": "code",
        "id": "xMnc9ZpVcpNt",
        "colab": {}
      },
      "source": [
        "# ModelCheckpoint callback\n",
        "model_checkpoint_cb = keras.callbacks.ModelCheckpoint(\n",
        "    filepath=abspath + \"/model/model.h5\",\n",
        "    save_best_only=True)\n",
        "\n",
        "# EarlyStopping callback\n",
        "early_stopping_cb = keras.callbacks.EarlyStopping(\n",
        "    patience=5,\n",
        "    restore_best_weights=True)"
      ],
      "execution_count": 0,
      "outputs": []
    },
    {
      "cell_type": "markdown",
      "metadata": {
        "colab_type": "text",
        "id": "nZ8r9WCWcpNu"
      },
      "source": [
        "## Training, evaluating and saving the best model"
      ]
    },
    {
      "cell_type": "code",
      "metadata": {
        "colab_type": "code",
        "id": "deYU-j9ZcpNu",
        "outputId": "3e03800c-a812-4753-f6a7-18401cb516a8",
        "colab": {
          "base_uri": "https://localhost:8080/",
          "height": 493
        }
      },
      "source": [
        "# Train, evaluate and save the best model\n",
        "history = model.fit(\n",
        "    data_train,\n",
        "    epochs=20,\n",
        "    validation_data=data_valid,\n",
        "    callbacks=[model_checkpoint_cb, early_stopping_cb])"
      ],
      "execution_count": 0,
      "outputs": [
        {
          "output_type": "stream",
          "text": [
            "Epoch 1/20\n",
            "2625/2625 [==============================] - 16s 6ms/step - loss: 0.7904 - accuracy: 0.7358 - val_loss: 0.5961 - val_accuracy: 0.7986\n",
            "Epoch 2/20\n",
            "2625/2625 [==============================] - 16s 6ms/step - loss: 0.5795 - accuracy: 0.8031 - val_loss: 0.5675 - val_accuracy: 0.8081\n",
            "Epoch 3/20\n",
            "2625/2625 [==============================] - 16s 6ms/step - loss: 0.5657 - accuracy: 0.8088 - val_loss: 0.5622 - val_accuracy: 0.8114\n",
            "Epoch 4/20\n",
            "2625/2625 [==============================] - 16s 6ms/step - loss: 0.5636 - accuracy: 0.8099 - val_loss: 0.5613 - val_accuracy: 0.8117\n",
            "Epoch 5/20\n",
            "2625/2625 [==============================] - 16s 6ms/step - loss: 0.5632 - accuracy: 0.8097 - val_loss: 0.5612 - val_accuracy: 0.8120\n",
            "Epoch 6/20\n",
            "2625/2625 [==============================] - 16s 6ms/step - loss: 0.5632 - accuracy: 0.8097 - val_loss: 0.5611 - val_accuracy: 0.8119\n",
            "Epoch 7/20\n",
            "2625/2625 [==============================] - 16s 6ms/step - loss: 0.5631 - accuracy: 0.8097 - val_loss: 0.5611 - val_accuracy: 0.8119\n",
            "Epoch 8/20\n",
            "2625/2625 [==============================] - 16s 6ms/step - loss: 0.5631 - accuracy: 0.8097 - val_loss: 0.5611 - val_accuracy: 0.8119\n",
            "Epoch 9/20\n",
            "2625/2625 [==============================] - 16s 6ms/step - loss: 0.5631 - accuracy: 0.8097 - val_loss: 0.5611 - val_accuracy: 0.8119\n",
            "Epoch 10/20\n",
            "2625/2625 [==============================] - 15s 6ms/step - loss: 0.5631 - accuracy: 0.8097 - val_loss: 0.5611 - val_accuracy: 0.8119\n",
            "Epoch 11/20\n",
            "2625/2625 [==============================] - 15s 6ms/step - loss: 0.5631 - accuracy: 0.8097 - val_loss: 0.5611 - val_accuracy: 0.8119\n",
            "Epoch 12/20\n",
            "2625/2625 [==============================] - 16s 6ms/step - loss: 0.5631 - accuracy: 0.8097 - val_loss: 0.5611 - val_accuracy: 0.8119\n",
            "Epoch 13/20\n",
            "2625/2625 [==============================] - 16s 6ms/step - loss: 0.5631 - accuracy: 0.8097 - val_loss: 0.5611 - val_accuracy: 0.8119\n",
            "Epoch 14/20\n",
            "2625/2625 [==============================] - 16s 6ms/step - loss: 0.5631 - accuracy: 0.8097 - val_loss: 0.5611 - val_accuracy: 0.8119\n"
          ],
          "name": "stdout"
        }
      ]
    },
    {
      "cell_type": "markdown",
      "metadata": {
        "colab_type": "text",
        "id": "czokGDYccpNv"
      },
      "source": [
        "## Plotting the learning curve"
      ]
    },
    {
      "cell_type": "code",
      "metadata": {
        "colab_type": "code",
        "id": "AlcpX0RvcpNv",
        "outputId": "313639c1-14c2-4496-8441-cd05a49cdaf0",
        "scrolled": true,
        "colab": {
          "base_uri": "https://localhost:8080/",
          "height": 348
        }
      },
      "source": [
        "# Create a figure\n",
        "pd.DataFrame(history.history).plot(figsize=(8, 5))\n",
        "\n",
        "# Save and show the figure\n",
        "plt.tight_layout()\n",
        "plt.savefig(abspath + 'figure/learning_curve_with_modelcheckpoint_earlystopping_power_scheduling.pdf')\n",
        "plt.show()"
      ],
      "execution_count": 0,
      "outputs": [
        {
          "output_type": "display_data",
          "data": {
            "image/png": "[encoded data removed]",
            "text/plain": [
              "<Figure size 576x360 with 1 Axes>"
            ]
          },
          "metadata": {
            "tags": []
          }
        }
      ]
    },
    {
      "cell_type": "markdown",
      "metadata": {
        "colab_type": "text",
        "id": "IAkBxqG_hRju"
      },
      "source": [
        "# Training (With ModelCheckpoint, EarlyStopping and Performance Scheduling)"
      ]
    },
    {
      "cell_type": "markdown",
      "metadata": {
        "colab_type": "text",
        "id": "jFOOqn0ihRju"
      },
      "source": [
        "## Designing the model"
      ]
    },
    {
      "cell_type": "code",
      "metadata": {
        "colab_type": "code",
        "id": "JjRpWPaphRju",
        "outputId": "1a43c17a-d7a3-426d-a43f-2f2d4c97175b",
        "colab": {
          "base_uri": "https://localhost:8080/",
          "height": 289
        }
      },
      "source": [
        "# A sequential dnn\n",
        "model = keras.models.Sequential()\n",
        "\n",
        "# Add the input layer\n",
        "model.add(keras.layers.Flatten(input_shape=[28, 28]))\n",
        "\n",
        "# Add two hidden layers\n",
        "model.add(keras.layers.Dense(50, activation=\"relu\"))\n",
        "model.add(keras.layers.Dense(50, activation=\"relu\"))\n",
        "\n",
        "# Add the output layer\n",
        "model.add(keras.layers.Dense(10, activation=\"softmax\"))\n",
        "\n",
        "# The model summary\n",
        "model.summary()"
      ],
      "execution_count": 0,
      "outputs": [
        {
          "output_type": "stream",
          "text": [
            "Model: \"sequential_7\"\n",
            "_________________________________________________________________\n",
            "Layer (type)                 Output Shape              Param #   \n",
            "=================================================================\n",
            "flatten_7 (Flatten)          (None, 784)               0         \n",
            "_________________________________________________________________\n",
            "dense_21 (Dense)             (None, 50)                39250     \n",
            "_________________________________________________________________\n",
            "dense_22 (Dense)             (None, 50)                2550      \n",
            "_________________________________________________________________\n",
            "dense_23 (Dense)             (None, 10)                510       \n",
            "=================================================================\n",
            "Total params: 42,310\n",
            "Trainable params: 42,310\n",
            "Non-trainable params: 0\n",
            "_________________________________________________________________\n"
          ],
          "name": "stdout"
        }
      ]
    },
    {
      "cell_type": "markdown",
      "metadata": {
        "colab_type": "text",
        "id": "3ggOzTBOhRjv"
      },
      "source": [
        "## Compiling the model"
      ]
    },
    {
      "cell_type": "code",
      "metadata": {
        "colab_type": "code",
        "id": "kP7SbfTPhRjv",
        "colab": {}
      },
      "source": [
        "# Compile the model\n",
        "model.compile(optimizer=keras.optimizers.SGD(),\n",
        "              loss='sparse_categorical_crossentropy',\n",
        "              metrics=['accuracy'])"
      ],
      "execution_count": 0,
      "outputs": []
    },
    {
      "cell_type": "markdown",
      "metadata": {
        "colab_type": "text",
        "id": "ZDkc_gZThRjx"
      },
      "source": [
        "## Setting Callbacks"
      ]
    },
    {
      "cell_type": "code",
      "metadata": {
        "colab_type": "code",
        "id": "aaOoAz4yhRjx",
        "colab": {}
      },
      "source": [
        "# ModelCheckpoint callback\n",
        "model_checkpoint_cb = keras.callbacks.ModelCheckpoint(\n",
        "    filepath=abspath + \"/model/model.h5\",\n",
        "    save_best_only=True)\n",
        "\n",
        "# EarlyStopping callback\n",
        "early_stopping_cb = keras.callbacks.EarlyStopping(\n",
        "    patience=5,\n",
        "    restore_best_weights=True)\n",
        "\n",
        "# ReduceLROnPlateau callback\n",
        "reduce_lr_on_plateau_cb = keras.callbacks.ReduceLROnPlateau(\n",
        "    factor=0.1,\n",
        "    patience=5)"
      ],
      "execution_count": 0,
      "outputs": []
    },
    {
      "cell_type": "markdown",
      "metadata": {
        "colab_type": "text",
        "id": "2ZYUv96PhRjy"
      },
      "source": [
        "## Training, evaluating and saving the best model"
      ]
    },
    {
      "cell_type": "code",
      "metadata": {
        "colab_type": "code",
        "id": "OWZQ4PKKhRjy",
        "outputId": "16422508-5476-4df5-c2bc-7f143bed8966",
        "colab": {
          "base_uri": "https://localhost:8080/",
          "height": 717
        }
      },
      "source": [
        "# Train, evaluate and save the best model\n",
        "history = model.fit(\n",
        "    data_train,\n",
        "    epochs=20,\n",
        "    validation_data=data_valid,\n",
        "    callbacks=[model_checkpoint_cb,\n",
        "               early_stopping_cb,\n",
        "               reduce_lr_on_plateau_cb])"
      ],
      "execution_count": 0,
      "outputs": [
        {
          "output_type": "stream",
          "text": [
            "Epoch 1/20\n",
            "2625/2625 [==============================] - 16s 6ms/step - loss: 0.7025 - accuracy: 0.7596 - val_loss: 0.5457 - val_accuracy: 0.8120 - lr: 0.0100\n",
            "Epoch 2/20\n",
            "2625/2625 [==============================] - 16s 6ms/step - loss: 0.4950 - accuracy: 0.8273 - val_loss: 0.4803 - val_accuracy: 0.8326 - lr: 0.0100\n",
            "Epoch 3/20\n",
            "2625/2625 [==============================] - 16s 6ms/step - loss: 0.4519 - accuracy: 0.8410 - val_loss: 0.4335 - val_accuracy: 0.8462 - lr: 0.0100\n",
            "Epoch 4/20\n",
            "2625/2625 [==============================] - 16s 6ms/step - loss: 0.4248 - accuracy: 0.8515 - val_loss: 0.4253 - val_accuracy: 0.8504 - lr: 0.0100\n",
            "Epoch 5/20\n",
            "2625/2625 [==============================] - 16s 6ms/step - loss: 0.4029 - accuracy: 0.8574 - val_loss: 0.3990 - val_accuracy: 0.8576 - lr: 0.0100\n",
            "Epoch 6/20\n",
            "2625/2625 [==============================] - 16s 6ms/step - loss: 0.3883 - accuracy: 0.8628 - val_loss: 0.4492 - val_accuracy: 0.8337 - lr: 0.0100\n",
            "Epoch 7/20\n",
            "2625/2625 [==============================] - 16s 6ms/step - loss: 0.3742 - accuracy: 0.8665 - val_loss: 0.3896 - val_accuracy: 0.8592 - lr: 0.0100\n",
            "Epoch 8/20\n",
            "2625/2625 [==============================] - 16s 6ms/step - loss: 0.3620 - accuracy: 0.8697 - val_loss: 0.4027 - val_accuracy: 0.8541 - lr: 0.0100\n",
            "Epoch 9/20\n",
            "2625/2625 [==============================] - 16s 6ms/step - loss: 0.3519 - accuracy: 0.8730 - val_loss: 0.3661 - val_accuracy: 0.8685 - lr: 0.0100\n",
            "Epoch 10/20\n",
            "2625/2625 [==============================] - 16s 6ms/step - loss: 0.3420 - accuracy: 0.8776 - val_loss: 0.3595 - val_accuracy: 0.8683 - lr: 0.0100\n",
            "Epoch 11/20\n",
            "2625/2625 [==============================] - 16s 6ms/step - loss: 0.3337 - accuracy: 0.8793 - val_loss: 0.3659 - val_accuracy: 0.8681 - lr: 0.0100\n",
            "Epoch 12/20\n",
            "2625/2625 [==============================] - 16s 6ms/step - loss: 0.3257 - accuracy: 0.8826 - val_loss: 0.3667 - val_accuracy: 0.8685 - lr: 0.0100\n",
            "Epoch 13/20\n",
            "2625/2625 [==============================] - 15s 6ms/step - loss: 0.3186 - accuracy: 0.8843 - val_loss: 0.3618 - val_accuracy: 0.8691 - lr: 0.0100\n",
            "Epoch 14/20\n",
            "2625/2625 [==============================] - 16s 6ms/step - loss: 0.3126 - accuracy: 0.8873 - val_loss: 0.3402 - val_accuracy: 0.8777 - lr: 0.0100\n",
            "Epoch 15/20\n",
            "2625/2625 [==============================] - 16s 6ms/step - loss: 0.3071 - accuracy: 0.8877 - val_loss: 0.3402 - val_accuracy: 0.8759 - lr: 0.0100\n",
            "Epoch 16/20\n",
            "2625/2625 [==============================] - 16s 6ms/step - loss: 0.3004 - accuracy: 0.8910 - val_loss: 0.3385 - val_accuracy: 0.8771 - lr: 0.0100\n",
            "Epoch 17/20\n",
            "2625/2625 [==============================] - 17s 6ms/step - loss: 0.2952 - accuracy: 0.8929 - val_loss: 0.3393 - val_accuracy: 0.8771 - lr: 0.0100\n",
            "Epoch 18/20\n",
            "2625/2625 [==============================] - 16s 6ms/step - loss: 0.2898 - accuracy: 0.8953 - val_loss: 0.3286 - val_accuracy: 0.8803 - lr: 0.0100\n",
            "Epoch 19/20\n",
            "2625/2625 [==============================] - 16s 6ms/step - loss: 0.2851 - accuracy: 0.8961 - val_loss: 0.3454 - val_accuracy: 0.8752 - lr: 0.0100\n",
            "Epoch 20/20\n",
            "2625/2625 [==============================] - 17s 6ms/step - loss: 0.2803 - accuracy: 0.8986 - val_loss: 0.3635 - val_accuracy: 0.8700 - lr: 0.0100\n"
          ],
          "name": "stdout"
        }
      ]
    },
    {
      "cell_type": "markdown",
      "metadata": {
        "colab_type": "text",
        "id": "Pz7FNbJNhRjz"
      },
      "source": [
        "## Plotting the learning curve"
      ]
    },
    {
      "cell_type": "code",
      "metadata": {
        "colab_type": "code",
        "id": "OK886LrlhRjz",
        "outputId": "9382f104-15a0-4737-e0ea-8ebabe95d3d9",
        "scrolled": true,
        "colab": {
          "base_uri": "https://localhost:8080/",
          "height": 348
        }
      },
      "source": [
        "# Create a figure\n",
        "pd.DataFrame(history.history).plot(figsize=(8, 5))\n",
        "\n",
        "# Save and show the figure\n",
        "plt.tight_layout()\n",
        "plt.savefig(abspath + 'figure/learning_curve_with_modelcheckpoint_earlystopping_power_scheduling.pdf')\n",
        "plt.show()"
      ],
      "execution_count": 0,
      "outputs": [
        {
          "output_type": "display_data",
          "data": {
            "image/png": "[encoded data removed]",
            "text/plain": [
              "<Figure size 576x360 with 1 Axes>"
            ]
          },
          "metadata": {
            "tags": []
          }
        }
      ]
    },
    {
      "cell_type": "markdown",
      "metadata": {
        "colab_type": "text",
        "id": "RkGivY_MA6m1"
      },
      "source": [
        "# Testing"
      ]
    },
    {
      "cell_type": "markdown",
      "metadata": {
        "colab_type": "text",
        "id": "pjg97rxBvTsD"
      },
      "source": [
        "## Loading the saved best model"
      ]
    },
    {
      "cell_type": "code",
      "metadata": {
        "colab_type": "code",
        "id": "vWOYFg8BvYI9",
        "outputId": "1d7333a3-121c-4a74-8a9b-f3dd46406305",
        "colab": {
          "base_uri": "https://localhost:8080/",
          "height": 51
        }
      },
      "source": [
        "# Load the model\n",
        "model = keras.models.load_model(abspath + \"/model/model.h5\")"
      ],
      "execution_count": 0,
      "outputs": [
        {
          "output_type": "stream",
          "text": [
            "WARNING:tensorflow:Error in loading the saved optimizer state. As a result, your model is starting with a freshly initialized optimizer.\n"
          ],
          "name": "stdout"
        },
        {
          "output_type": "stream",
          "text": [
            "WARNING:tensorflow:Error in loading the saved optimizer state. As a result, your model is starting with a freshly initialized optimizer.\n"
          ],
          "name": "stderr"
        }
      ]
    },
    {
      "cell_type": "markdown",
      "metadata": {
        "colab_type": "text",
        "id": "YAfOtSI7wajL"
      },
      "source": [
        "## Evaluating the model"
      ]
    },
    {
      "cell_type": "code",
      "metadata": {
        "colab_type": "code",
        "id": "aoJnAfYfYDjH",
        "outputId": "608e5b92-15b6-4895-8304-64517d514a9a",
        "colab": {
          "base_uri": "https://localhost:8080/",
          "height": 34
        }
      },
      "source": [
        "loss, accuracy = model.evaluate(data_test)"
      ],
      "execution_count": 0,
      "outputs": [
        {
          "output_type": "stream",
          "text": [
            "625/625 [==============================] - 3s 4ms/step - loss: 0.3652 - accuracy: 0.8704\n"
          ],
          "name": "stdout"
        }
      ]
    }
  ]
}