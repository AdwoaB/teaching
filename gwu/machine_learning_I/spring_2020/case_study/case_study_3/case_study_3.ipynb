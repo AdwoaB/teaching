{
 "cells": [
  {
   "cell_type": "markdown",
   "metadata": {
    "toc": true
   },
   "source": [
    "<h1>Table of Contents<span class=\"tocSkip\"></span></h1>\n",
    "<div class=\"toc\"><ul class=\"toc-item\"><li><span><a href=\"#Data-Preprocessing\" data-toc-modified-id=\"Data-Preprocessing-1\"><span class=\"toc-item-num\">1&nbsp;&nbsp;</span>Data Preprocessing</a></span><ul class=\"toc-item\"><li><span><a href=\"#Loading-data\" data-toc-modified-id=\"Loading-data-1.1\"><span class=\"toc-item-num\">1.1&nbsp;&nbsp;</span>Loading data</a></span></li><li><span><a href=\"#Getting-the-name-of-the-target\" data-toc-modified-id=\"Getting-the-name-of-the-target-1.2\"><span class=\"toc-item-num\">1.2&nbsp;&nbsp;</span>Getting the name of the target</a></span></li><li><span><a href=\"#Dividing-the-training-data-into-training-and-validation\" data-toc-modified-id=\"Dividing-the-training-data-into-training-and-validation-1.3\"><span class=\"toc-item-num\">1.3&nbsp;&nbsp;</span>Dividing the training data into training and validation</a></span></li><li><span><a href=\"#Handling-the-identifiers\" data-toc-modified-id=\"Handling-the-identifiers-1.4\"><span class=\"toc-item-num\">1.4&nbsp;&nbsp;</span>Handling the identifiers</a></span><ul class=\"toc-item\"><li><span><a href=\"#Combining-the-training,-validation-and-testing-data\" data-toc-modified-id=\"Combining-the-training,-validation-and-testing-data-1.4.1\"><span class=\"toc-item-num\">1.4.1&nbsp;&nbsp;</span>Combining the training, validation and testing data</a></span></li><li><span><a href=\"#Identifying-the-identifiers\" data-toc-modified-id=\"Identifying-the-identifiers-1.4.2\"><span class=\"toc-item-num\">1.4.2&nbsp;&nbsp;</span>Identifying the identifiers</a></span></li><li><span><a href=\"#Removing-the-identifiers\" data-toc-modified-id=\"Removing-the-identifiers-1.4.3\"><span class=\"toc-item-num\">1.4.3&nbsp;&nbsp;</span>Removing the identifiers</a></span></li></ul></li><li><span><a href=\"#Handling-missing-data\" data-toc-modified-id=\"Handling-missing-data-1.5\"><span class=\"toc-item-num\">1.5&nbsp;&nbsp;</span>Handling missing data</a></span><ul class=\"toc-item\"><li><span><a href=\"#Combining-the-training,-validation-and-testing-data\" data-toc-modified-id=\"Combining-the-training,-validation-and-testing-data-1.5.1\"><span class=\"toc-item-num\">1.5.1&nbsp;&nbsp;</span>Combining the training, validation and testing data</a></span></li><li><span><a href=\"#Identifying-missing-values\" data-toc-modified-id=\"Identifying-missing-values-1.5.2\"><span class=\"toc-item-num\">1.5.2&nbsp;&nbsp;</span>Identifying missing values</a></span></li><li><span><a href=\"#Removing-missing-values\" data-toc-modified-id=\"Removing-missing-values-1.5.3\"><span class=\"toc-item-num\">1.5.3&nbsp;&nbsp;</span>Removing missing values</a></span></li></ul></li><li><span><a href=\"#Encoding-the-data\" data-toc-modified-id=\"Encoding-the-data-1.6\"><span class=\"toc-item-num\">1.6&nbsp;&nbsp;</span>Encoding the data</a></span><ul class=\"toc-item\"><li><span><a href=\"#Combining-the-training,-validation-and-testing-data\" data-toc-modified-id=\"Combining-the-training,-validation-and-testing-data-1.6.1\"><span class=\"toc-item-num\">1.6.1&nbsp;&nbsp;</span>Combining the training, validation and testing data</a></span></li><li><span><a href=\"#Identifying-the-Categorical-Variables\" data-toc-modified-id=\"Identifying-the-Categorical-Variables-1.6.2\"><span class=\"toc-item-num\">1.6.2&nbsp;&nbsp;</span>Identifying the Categorical Variables</a></span></li><li><span><a href=\"#Encoding-the-categorical-features\" data-toc-modified-id=\"Encoding-the-categorical-features-1.6.3\"><span class=\"toc-item-num\">1.6.3&nbsp;&nbsp;</span>Encoding the categorical features</a></span></li><li><span><a href=\"#Encoding-the-categorical-target\" data-toc-modified-id=\"Encoding-the-categorical-target-1.6.4\"><span class=\"toc-item-num\">1.6.4&nbsp;&nbsp;</span>Encoding the categorical target</a></span></li><li><span><a href=\"#Separating-the-training,-validation-and-testing-data\" data-toc-modified-id=\"Separating-the-training,-validation-and-testing-data-1.6.5\"><span class=\"toc-item-num\">1.6.5&nbsp;&nbsp;</span>Separating the training, validation and testing data</a></span></li></ul></li><li><span><a href=\"#Getting-the-name-of-the-features\" data-toc-modified-id=\"Getting-the-name-of-the-features-1.7\"><span class=\"toc-item-num\">1.7&nbsp;&nbsp;</span>Getting the name of the features</a></span></li><li><span><a href=\"#Getting-the-feature-matrix-and-target-vector\" data-toc-modified-id=\"Getting-the-feature-matrix-and-target-vector-1.8\"><span class=\"toc-item-num\">1.8&nbsp;&nbsp;</span>Getting the feature matrix and target vector</a></span></li><li><span><a href=\"#Scaling-the-data\" data-toc-modified-id=\"Scaling-the-data-1.9\"><span class=\"toc-item-num\">1.9&nbsp;&nbsp;</span>Scaling the data</a></span></li></ul></li><li><span><a href=\"#Decision-Tree\" data-toc-modified-id=\"Decision-Tree-2\"><span class=\"toc-item-num\">2&nbsp;&nbsp;</span>Decision Tree</a></span><ul class=\"toc-item\"><li><span><a href=\"#The-Sklearn-model\" data-toc-modified-id=\"The-Sklearn-model-2.1\"><span class=\"toc-item-num\">2.1&nbsp;&nbsp;</span>The Sklearn model</a></span></li><li><span><a href=\"#Plot-the-decision-tree\" data-toc-modified-id=\"Plot-the-decision-tree-2.2\"><span class=\"toc-item-num\">2.2&nbsp;&nbsp;</span>Plot the decision tree</a></span></li><li><span><a href=\"#Plot-the-feature-importance\" data-toc-modified-id=\"Plot-the-feature-importance-2.3\"><span class=\"toc-item-num\">2.3&nbsp;&nbsp;</span>Plot the feature importance</a></span></li></ul></li><li><span><a href=\"#Bagging\" data-toc-modified-id=\"Bagging-3\"><span class=\"toc-item-num\">3&nbsp;&nbsp;</span>Bagging</a></span><ul class=\"toc-item\"><li><span><a href=\"#Random-Forest\" data-toc-modified-id=\"Random-Forest-3.1\"><span class=\"toc-item-num\">3.1&nbsp;&nbsp;</span>Random Forest</a></span><ul class=\"toc-item\"><li><span><a href=\"#The-Sklearn-model\" data-toc-modified-id=\"The-Sklearn-model-3.1.1\"><span class=\"toc-item-num\">3.1.1&nbsp;&nbsp;</span>The Sklearn model</a></span></li><li><span><a href=\"#Plot-the-feature-importance\" data-toc-modified-id=\"Plot-the-feature-importance-3.1.2\"><span class=\"toc-item-num\">3.1.2&nbsp;&nbsp;</span>Plot the feature importance</a></span></li></ul></li></ul></li><li><span><a href=\"#Boosting\" data-toc-modified-id=\"Boosting-4\"><span class=\"toc-item-num\">4&nbsp;&nbsp;</span>Boosting</a></span><ul class=\"toc-item\"><li><span><a href=\"#Adaboost\" data-toc-modified-id=\"Adaboost-4.1\"><span class=\"toc-item-num\">4.1&nbsp;&nbsp;</span>Adaboost</a></span><ul class=\"toc-item\"><li><span><a href=\"#The-Sklearn-model\" data-toc-modified-id=\"The-Sklearn-model-4.1.1\"><span class=\"toc-item-num\">4.1.1&nbsp;&nbsp;</span>The Sklearn model</a></span></li></ul></li><li><span><a href=\"#Gradient-Boosting\" data-toc-modified-id=\"Gradient-Boosting-4.2\"><span class=\"toc-item-num\">4.2&nbsp;&nbsp;</span>Gradient Boosting</a></span><ul class=\"toc-item\"><li><span><a href=\"#The-Sklearn-model\" data-toc-modified-id=\"The-Sklearn-model-4.2.1\"><span class=\"toc-item-num\">4.2.1&nbsp;&nbsp;</span>The Sklearn model</a></span></li><li><span><a href=\"#The-XGBoost-model\" data-toc-modified-id=\"The-XGBoost-model-4.2.2\"><span class=\"toc-item-num\">4.2.2&nbsp;&nbsp;</span>The XGBoost model</a></span></li></ul></li></ul></li><li><span><a href=\"#Stacking\" data-toc-modified-id=\"Stacking-5\"><span class=\"toc-item-num\">5&nbsp;&nbsp;</span>Stacking</a></span><ul class=\"toc-item\"><li><span><a href=\"#The-Sklearn-model-(0.22-or-above)\" data-toc-modified-id=\"The-Sklearn-model-(0.22-or-above)-5.1\"><span class=\"toc-item-num\">5.1&nbsp;&nbsp;</span>The Sklearn model (0.22 or above)</a></span></li></ul></li><li><span><a href=\"#Hyperparameter-Tuning-and-Model-Selection\" data-toc-modified-id=\"Hyperparameter-Tuning-and-Model-Selection-6\"><span class=\"toc-item-num\">6&nbsp;&nbsp;</span>Hyperparameter Tuning and Model Selection</a></span><ul class=\"toc-item\"><li><span><a href=\"#Creating-the-dictionary-of-the-models\" data-toc-modified-id=\"Creating-the-dictionary-of-the-models-6.1\"><span class=\"toc-item-num\">6.1&nbsp;&nbsp;</span>Creating the dictionary of the models</a></span></li><li><span><a href=\"#Creating-the-dictionary-of-the-pipelines\" data-toc-modified-id=\"Creating-the-dictionary-of-the-pipelines-6.2\"><span class=\"toc-item-num\">6.2&nbsp;&nbsp;</span>Creating the dictionary of the pipelines</a></span></li><li><span><a href=\"#Hyperparameter-tuning-and-model-selection-using-Sklearn-(0.22-or-above)\" data-toc-modified-id=\"Hyperparameter-tuning-and-model-selection-using-Sklearn-(0.22-or-above)-6.3\"><span class=\"toc-item-num\">6.3&nbsp;&nbsp;</span>Hyperparameter tuning and model selection using Sklearn (0.22 or above)</a></span><ul class=\"toc-item\"><li><span><a href=\"#Getting-the-predefined-split-cross-validator\" data-toc-modified-id=\"Getting-the-predefined-split-cross-validator-6.3.1\"><span class=\"toc-item-num\">6.3.1&nbsp;&nbsp;</span>Getting the predefined split cross-validator</a></span></li><li><span><a href=\"#Creating-the-dictionary-of-the-parameter-grids\" data-toc-modified-id=\"Creating-the-dictionary-of-the-parameter-grids-6.3.2\"><span class=\"toc-item-num\">6.3.2&nbsp;&nbsp;</span>Creating the dictionary of the parameter grids</a></span><ul class=\"toc-item\"><li><span><a href=\"#The-parameter-grid-for-logistic-regression\" data-toc-modified-id=\"The-parameter-grid-for-logistic-regression-6.3.2.1\"><span class=\"toc-item-num\">6.3.2.1&nbsp;&nbsp;</span>The parameter grid for logistic regression</a></span></li><li><span><a href=\"#The-parameter-grid-for-decision-tree\" data-toc-modified-id=\"The-parameter-grid-for-decision-tree-6.3.2.2\"><span class=\"toc-item-num\">6.3.2.2&nbsp;&nbsp;</span>The parameter grid for decision tree</a></span></li><li><span><a href=\"#The-parameter-grid-for-random-forest\" data-toc-modified-id=\"The-parameter-grid-for-random-forest-6.3.2.3\"><span class=\"toc-item-num\">6.3.2.3&nbsp;&nbsp;</span>The parameter grid for random forest</a></span></li><li><span><a href=\"#The-parameter-grid-for-Adaboost\" data-toc-modified-id=\"The-parameter-grid-for-Adaboost-6.3.2.4\"><span class=\"toc-item-num\">6.3.2.4&nbsp;&nbsp;</span>The parameter grid for Adaboost</a></span></li><li><span><a href=\"#The-parameter-grid-for-histogram-based-gradient-boosting\" data-toc-modified-id=\"The-parameter-grid-for-histogram-based-gradient-boosting-6.3.2.5\"><span class=\"toc-item-num\">6.3.2.5&nbsp;&nbsp;</span>The parameter grid for histogram-based gradient boosting</a></span></li><li><span><a href=\"#The-parameter-grid-for-xgboost\" data-toc-modified-id=\"The-parameter-grid-for-xgboost-6.3.2.6\"><span class=\"toc-item-num\">6.3.2.6&nbsp;&nbsp;</span>The parameter grid for xgboost</a></span></li></ul></li><li><span><a href=\"#Creating-the-directory-for-the-cv-results.\" data-toc-modified-id=\"Creating-the-directory-for-the-cv-results.-6.3.3\"><span class=\"toc-item-num\">6.3.3&nbsp;&nbsp;</span>Creating the directory for the cv results.</a></span></li><li><span><a href=\"#Hyperparameter-tuning\" data-toc-modified-id=\"Hyperparameter-tuning-6.3.4\"><span class=\"toc-item-num\">6.3.4&nbsp;&nbsp;</span>Hyperparameter tuning</a></span></li><li><span><a href=\"#Model-selection\" data-toc-modified-id=\"Model-selection-6.3.5\"><span class=\"toc-item-num\">6.3.5&nbsp;&nbsp;</span>Model selection</a></span></li></ul></li></ul></li><li><span><a href=\"#Generating-the-Submission-File\" data-toc-modified-id=\"Generating-the-Submission-File-7\"><span class=\"toc-item-num\">7&nbsp;&nbsp;</span>Generating the Submission File</a></span></li><li><span><a href=\"#Discussion\" data-toc-modified-id=\"Discussion-8\"><span class=\"toc-item-num\">8&nbsp;&nbsp;</span>Discussion</a></span></li></ul></div>"
   ]
  },
  {
   "cell_type": "markdown",
   "metadata": {},
   "source": [
    "<b>\n",
    "\n",
    "<p>\n",
    "<center>\n",
    "<font size=\"5\">\n",
    "Machine Learning I (DATS 6202), Spring 2020\n",
    "</font>\n",
    "</center>\n",
    "</p>\n",
    "\n",
    "<p>\n",
    "<center>\n",
    "<font size=\"4\">\n",
    "Case Study 3: Poker Rule Induction\n",
    "</font>\n",
    "</center>\n",
    "</p>\n",
    "\n",
    "<p>\n",
    "<center>\n",
    "<font size=\"3\">\n",
    "Data Science, Columbian College of Arts & Sciences, George Washington University\n",
    "</font>\n",
    "</center>\n",
    "</p>\n",
    "\n",
    "<p>\n",
    "<center>\n",
    "<font size=\"3\">\n",
    "Author: Yuxiao Huang\n",
    "</font>\n",
    "</center>\n",
    "</p>\n",
    "\n",
    "</b>"
   ]
  },
  {
   "cell_type": "code",
   "execution_count": 1,
   "metadata": {
    "scrolled": true
   },
   "outputs": [],
   "source": [
    "import warnings\n",
    "warnings.filterwarnings('ignore')"
   ]
  },
  {
   "cell_type": "code",
   "execution_count": 2,
   "metadata": {},
   "outputs": [],
   "source": [
    "import matplotlib.pyplot as plt\n",
    "%matplotlib inline \n",
    "\n",
    "# Set matplotlib sizes\n",
    "plt.rc('font', size=20)\n",
    "plt.rc('axes', titlesize=20)\n",
    "plt.rc('axes', labelsize=20)\n",
    "plt.rc('xtick', labelsize=20)\n",
    "plt.rc('ytick', labelsize=20)\n",
    "plt.rc('legend', fontsize=20)\n",
    "plt.rc('figure', titlesize=20)"
   ]
  },
  {
   "cell_type": "markdown",
   "metadata": {},
   "source": [
    "# Data Preprocessing"
   ]
  },
  {
   "cell_type": "markdown",
   "metadata": {},
   "source": [
    "## Loading data"
   ]
  },
  {
   "cell_type": "markdown",
   "metadata": {},
   "source": [
    "In this case study, we will work on the [Poker Rule Induction dataset](https://www.kaggle.com/c/poker-rule-induction)."
   ]
  },
  {
   "cell_type": "code",
   "execution_count": 3,
   "metadata": {
    "scrolled": true
   },
   "outputs": [],
   "source": [
    "import pandas as pd\n",
    "\n",
    "# Load the raw training data\n",
    "df_raw_train = pd.read_csv('./data/poker_rule_induction/train.csv',\n",
    "                           header=0)\n",
    "# Make a copy of df_raw_train\n",
    "df_train = df_raw_train.copy(deep=True)\n",
    "\n",
    "# Load the raw testing data\n",
    "df_raw_test = pd.read_csv('./data/poker_rule_induction/test.csv',\n",
    "                          header=0)\n",
    "# Make a copy of df_raw_test\n",
    "df_test = df_raw_test.copy(deep=True)"
   ]
  },
  {
   "cell_type": "code",
   "execution_count": 4,
   "metadata": {},
   "outputs": [
    {
     "data": {
      "text/html": [
       "<div>\n",
       "<style scoped>\n",
       "    .dataframe tbody tr th:only-of-type {\n",
       "        vertical-align: middle;\n",
       "    }\n",
       "\n",
       "    .dataframe tbody tr th {\n",
       "        vertical-align: top;\n",
       "    }\n",
       "\n",
       "    .dataframe thead th {\n",
       "        text-align: right;\n",
       "    }\n",
       "</style>\n",
       "<table border=\"1\" class=\"dataframe\">\n",
       "  <thead>\n",
       "    <tr style=\"text-align: right;\">\n",
       "      <th></th>\n",
       "      <th># rows</th>\n",
       "      <th># columns</th>\n",
       "    </tr>\n",
       "  </thead>\n",
       "  <tbody>\n",
       "    <tr>\n",
       "      <th>0</th>\n",
       "      <td>25010</td>\n",
       "      <td>11</td>\n",
       "    </tr>\n",
       "  </tbody>\n",
       "</table>\n",
       "</div>"
      ],
      "text/plain": [
       "   # rows  # columns\n",
       "0   25010         11"
      ]
     },
     "execution_count": 4,
     "metadata": {},
     "output_type": "execute_result"
    }
   ],
   "source": [
    "# Print the dimension of df_train\n",
    "pd.DataFrame([[df_train.shape[0], df_train.shape[1]]], columns=['# rows', '# columns'])"
   ]
  },
  {
   "cell_type": "code",
   "execution_count": 5,
   "metadata": {},
   "outputs": [
    {
     "data": {
      "text/html": [
       "<div>\n",
       "<style scoped>\n",
       "    .dataframe tbody tr th:only-of-type {\n",
       "        vertical-align: middle;\n",
       "    }\n",
       "\n",
       "    .dataframe tbody tr th {\n",
       "        vertical-align: top;\n",
       "    }\n",
       "\n",
       "    .dataframe thead th {\n",
       "        text-align: right;\n",
       "    }\n",
       "</style>\n",
       "<table border=\"1\" class=\"dataframe\">\n",
       "  <thead>\n",
       "    <tr style=\"text-align: right;\">\n",
       "      <th></th>\n",
       "      <th># rows</th>\n",
       "      <th># columns</th>\n",
       "    </tr>\n",
       "  </thead>\n",
       "  <tbody>\n",
       "    <tr>\n",
       "      <th>0</th>\n",
       "      <td>1000000</td>\n",
       "      <td>11</td>\n",
       "    </tr>\n",
       "  </tbody>\n",
       "</table>\n",
       "</div>"
      ],
      "text/plain": [
       "    # rows  # columns\n",
       "0  1000000         11"
      ]
     },
     "execution_count": 5,
     "metadata": {},
     "output_type": "execute_result"
    }
   ],
   "source": [
    "# Print the dimension of df_test\n",
    "pd.DataFrame([[df_test.shape[0], df_test.shape[1]]], columns=['# rows', '# columns'])"
   ]
  },
  {
   "cell_type": "code",
   "execution_count": 6,
   "metadata": {
    "scrolled": true
   },
   "outputs": [
    {
     "data": {
      "text/html": [
       "<div>\n",
       "<style scoped>\n",
       "    .dataframe tbody tr th:only-of-type {\n",
       "        vertical-align: middle;\n",
       "    }\n",
       "\n",
       "    .dataframe tbody tr th {\n",
       "        vertical-align: top;\n",
       "    }\n",
       "\n",
       "    .dataframe thead th {\n",
       "        text-align: right;\n",
       "    }\n",
       "</style>\n",
       "<table border=\"1\" class=\"dataframe\">\n",
       "  <thead>\n",
       "    <tr style=\"text-align: right;\">\n",
       "      <th></th>\n",
       "      <th>S1</th>\n",
       "      <th>C1</th>\n",
       "      <th>S2</th>\n",
       "      <th>C2</th>\n",
       "      <th>S3</th>\n",
       "      <th>C3</th>\n",
       "      <th>S4</th>\n",
       "      <th>C4</th>\n",
       "      <th>S5</th>\n",
       "      <th>C5</th>\n",
       "      <th>hand</th>\n",
       "    </tr>\n",
       "  </thead>\n",
       "  <tbody>\n",
       "    <tr>\n",
       "      <th>0</th>\n",
       "      <td>4</td>\n",
       "      <td>9</td>\n",
       "      <td>2</td>\n",
       "      <td>1</td>\n",
       "      <td>2</td>\n",
       "      <td>2</td>\n",
       "      <td>4</td>\n",
       "      <td>7</td>\n",
       "      <td>2</td>\n",
       "      <td>8</td>\n",
       "      <td>0</td>\n",
       "    </tr>\n",
       "    <tr>\n",
       "      <th>1</th>\n",
       "      <td>1</td>\n",
       "      <td>4</td>\n",
       "      <td>3</td>\n",
       "      <td>6</td>\n",
       "      <td>1</td>\n",
       "      <td>12</td>\n",
       "      <td>3</td>\n",
       "      <td>11</td>\n",
       "      <td>2</td>\n",
       "      <td>7</td>\n",
       "      <td>0</td>\n",
       "    </tr>\n",
       "    <tr>\n",
       "      <th>2</th>\n",
       "      <td>1</td>\n",
       "      <td>11</td>\n",
       "      <td>4</td>\n",
       "      <td>1</td>\n",
       "      <td>3</td>\n",
       "      <td>7</td>\n",
       "      <td>4</td>\n",
       "      <td>11</td>\n",
       "      <td>2</td>\n",
       "      <td>1</td>\n",
       "      <td>2</td>\n",
       "    </tr>\n",
       "    <tr>\n",
       "      <th>3</th>\n",
       "      <td>2</td>\n",
       "      <td>9</td>\n",
       "      <td>2</td>\n",
       "      <td>4</td>\n",
       "      <td>3</td>\n",
       "      <td>6</td>\n",
       "      <td>1</td>\n",
       "      <td>9</td>\n",
       "      <td>4</td>\n",
       "      <td>9</td>\n",
       "      <td>3</td>\n",
       "    </tr>\n",
       "    <tr>\n",
       "      <th>4</th>\n",
       "      <td>1</td>\n",
       "      <td>8</td>\n",
       "      <td>2</td>\n",
       "      <td>4</td>\n",
       "      <td>2</td>\n",
       "      <td>11</td>\n",
       "      <td>2</td>\n",
       "      <td>2</td>\n",
       "      <td>2</td>\n",
       "      <td>1</td>\n",
       "      <td>0</td>\n",
       "    </tr>\n",
       "  </tbody>\n",
       "</table>\n",
       "</div>"
      ],
      "text/plain": [
       "   S1  C1  S2  C2  S3  C3  S4  C4  S5  C5  hand\n",
       "0   4   9   2   1   2   2   4   7   2   8     0\n",
       "1   1   4   3   6   1  12   3  11   2   7     0\n",
       "2   1  11   4   1   3   7   4  11   2   1     2\n",
       "3   2   9   2   4   3   6   1   9   4   9     3\n",
       "4   1   8   2   4   2  11   2   2   2   1     0"
      ]
     },
     "execution_count": 6,
     "metadata": {},
     "output_type": "execute_result"
    }
   ],
   "source": [
    "# Print the first 5 rows of df_train\n",
    "df_train.head()"
   ]
  },
  {
   "cell_type": "code",
   "execution_count": 7,
   "metadata": {
    "scrolled": false
   },
   "outputs": [
    {
     "data": {
      "text/html": [
       "<div>\n",
       "<style scoped>\n",
       "    .dataframe tbody tr th:only-of-type {\n",
       "        vertical-align: middle;\n",
       "    }\n",
       "\n",
       "    .dataframe tbody tr th {\n",
       "        vertical-align: top;\n",
       "    }\n",
       "\n",
       "    .dataframe thead th {\n",
       "        text-align: right;\n",
       "    }\n",
       "</style>\n",
       "<table border=\"1\" class=\"dataframe\">\n",
       "  <thead>\n",
       "    <tr style=\"text-align: right;\">\n",
       "      <th></th>\n",
       "      <th>id</th>\n",
       "      <th>S1</th>\n",
       "      <th>C1</th>\n",
       "      <th>S2</th>\n",
       "      <th>C2</th>\n",
       "      <th>S3</th>\n",
       "      <th>C3</th>\n",
       "      <th>S4</th>\n",
       "      <th>C4</th>\n",
       "      <th>S5</th>\n",
       "      <th>C5</th>\n",
       "    </tr>\n",
       "  </thead>\n",
       "  <tbody>\n",
       "    <tr>\n",
       "      <th>0</th>\n",
       "      <td>1</td>\n",
       "      <td>1</td>\n",
       "      <td>10</td>\n",
       "      <td>2</td>\n",
       "      <td>2</td>\n",
       "      <td>3</td>\n",
       "      <td>3</td>\n",
       "      <td>3</td>\n",
       "      <td>8</td>\n",
       "      <td>1</td>\n",
       "      <td>1</td>\n",
       "    </tr>\n",
       "    <tr>\n",
       "      <th>1</th>\n",
       "      <td>2</td>\n",
       "      <td>2</td>\n",
       "      <td>13</td>\n",
       "      <td>3</td>\n",
       "      <td>5</td>\n",
       "      <td>3</td>\n",
       "      <td>7</td>\n",
       "      <td>4</td>\n",
       "      <td>6</td>\n",
       "      <td>1</td>\n",
       "      <td>4</td>\n",
       "    </tr>\n",
       "    <tr>\n",
       "      <th>2</th>\n",
       "      <td>3</td>\n",
       "      <td>1</td>\n",
       "      <td>3</td>\n",
       "      <td>1</td>\n",
       "      <td>11</td>\n",
       "      <td>2</td>\n",
       "      <td>8</td>\n",
       "      <td>2</td>\n",
       "      <td>1</td>\n",
       "      <td>2</td>\n",
       "      <td>4</td>\n",
       "    </tr>\n",
       "    <tr>\n",
       "      <th>3</th>\n",
       "      <td>4</td>\n",
       "      <td>1</td>\n",
       "      <td>6</td>\n",
       "      <td>3</td>\n",
       "      <td>3</td>\n",
       "      <td>4</td>\n",
       "      <td>7</td>\n",
       "      <td>1</td>\n",
       "      <td>8</td>\n",
       "      <td>3</td>\n",
       "      <td>11</td>\n",
       "    </tr>\n",
       "    <tr>\n",
       "      <th>4</th>\n",
       "      <td>5</td>\n",
       "      <td>2</td>\n",
       "      <td>10</td>\n",
       "      <td>3</td>\n",
       "      <td>4</td>\n",
       "      <td>1</td>\n",
       "      <td>6</td>\n",
       "      <td>2</td>\n",
       "      <td>12</td>\n",
       "      <td>2</td>\n",
       "      <td>6</td>\n",
       "    </tr>\n",
       "  </tbody>\n",
       "</table>\n",
       "</div>"
      ],
      "text/plain": [
       "   id  S1  C1  S2  C2  S3  C3  S4  C4  S5  C5\n",
       "0   1   1  10   2   2   3   3   3   8   1   1\n",
       "1   2   2  13   3   5   3   7   4   6   1   4\n",
       "2   3   1   3   1  11   2   8   2   1   2   4\n",
       "3   4   1   6   3   3   4   7   1   8   3  11\n",
       "4   5   2  10   3   4   1   6   2  12   2   6"
      ]
     },
     "execution_count": 7,
     "metadata": {},
     "output_type": "execute_result"
    }
   ],
   "source": [
    "# Print the first 5 rows of df_test\n",
    "df_test.head()"
   ]
  },
  {
   "cell_type": "markdown",
   "metadata": {},
   "source": [
    "## Getting the name of the target"
   ]
  },
  {
   "cell_type": "code",
   "execution_count": 8,
   "metadata": {},
   "outputs": [],
   "source": [
    "target = 'hand'"
   ]
  },
  {
   "cell_type": "markdown",
   "metadata": {},
   "source": [
    "## Dividing the training data into training and validation\n",
    "The code below shows how to divide the training data into training (80%) and validation (20%) (using sklearn train_test_split with random_state=42 and stratify)."
   ]
  },
  {
   "cell_type": "code",
   "execution_count": 9,
   "metadata": {},
   "outputs": [],
   "source": [
    "from sklearn.model_selection import train_test_split\n",
    "\n",
    "# Divide the training data into training (80%) and validation (20%)\n",
    "df_train, df_valid = train_test_split(df_train, train_size=0.8, random_state=42, stratify=df_train[target])\n",
    "\n",
    "# Reset the index\n",
    "df_train, df_valid = df_train.reset_index(drop=True), df_valid.reset_index(drop=True)"
   ]
  },
  {
   "cell_type": "code",
   "execution_count": 10,
   "metadata": {},
   "outputs": [
    {
     "data": {
      "text/html": [
       "<div>\n",
       "<style scoped>\n",
       "    .dataframe tbody tr th:only-of-type {\n",
       "        vertical-align: middle;\n",
       "    }\n",
       "\n",
       "    .dataframe tbody tr th {\n",
       "        vertical-align: top;\n",
       "    }\n",
       "\n",
       "    .dataframe thead th {\n",
       "        text-align: right;\n",
       "    }\n",
       "</style>\n",
       "<table border=\"1\" class=\"dataframe\">\n",
       "  <thead>\n",
       "    <tr style=\"text-align: right;\">\n",
       "      <th></th>\n",
       "      <th># rows</th>\n",
       "      <th># columns</th>\n",
       "    </tr>\n",
       "  </thead>\n",
       "  <tbody>\n",
       "    <tr>\n",
       "      <th>0</th>\n",
       "      <td>20008</td>\n",
       "      <td>11</td>\n",
       "    </tr>\n",
       "  </tbody>\n",
       "</table>\n",
       "</div>"
      ],
      "text/plain": [
       "   # rows  # columns\n",
       "0   20008         11"
      ]
     },
     "execution_count": 10,
     "metadata": {},
     "output_type": "execute_result"
    }
   ],
   "source": [
    "# Print the dimension of df_train\n",
    "pd.DataFrame([[df_train.shape[0], df_train.shape[1]]], columns=['# rows', '# columns'])"
   ]
  },
  {
   "cell_type": "code",
   "execution_count": 11,
   "metadata": {
    "scrolled": true
   },
   "outputs": [
    {
     "data": {
      "text/html": [
       "<div>\n",
       "<style scoped>\n",
       "    .dataframe tbody tr th:only-of-type {\n",
       "        vertical-align: middle;\n",
       "    }\n",
       "\n",
       "    .dataframe tbody tr th {\n",
       "        vertical-align: top;\n",
       "    }\n",
       "\n",
       "    .dataframe thead th {\n",
       "        text-align: right;\n",
       "    }\n",
       "</style>\n",
       "<table border=\"1\" class=\"dataframe\">\n",
       "  <thead>\n",
       "    <tr style=\"text-align: right;\">\n",
       "      <th></th>\n",
       "      <th># rows</th>\n",
       "      <th># columns</th>\n",
       "    </tr>\n",
       "  </thead>\n",
       "  <tbody>\n",
       "    <tr>\n",
       "      <th>0</th>\n",
       "      <td>5002</td>\n",
       "      <td>11</td>\n",
       "    </tr>\n",
       "  </tbody>\n",
       "</table>\n",
       "</div>"
      ],
      "text/plain": [
       "   # rows  # columns\n",
       "0    5002         11"
      ]
     },
     "execution_count": 11,
     "metadata": {},
     "output_type": "execute_result"
    }
   ],
   "source": [
    "# Print the dimension of df_valid\n",
    "pd.DataFrame([[df_valid.shape[0], df_valid.shape[1]]], columns=['# rows', '# columns'])"
   ]
  },
  {
   "cell_type": "markdown",
   "metadata": {},
   "source": [
    "## Handling the identifiers"
   ]
  },
  {
   "cell_type": "markdown",
   "metadata": {},
   "source": [
    "### Combining the training, validation and testing data\n",
    "The code below shows how to combine the training, validation and testing data (using pandas concat)."
   ]
  },
  {
   "cell_type": "code",
   "execution_count": 12,
   "metadata": {},
   "outputs": [],
   "source": [
    "# Combine df_train, df_valid and df_test\n",
    "df = pd.concat([df_train, df_valid, df_test], sort=False)"
   ]
  },
  {
   "cell_type": "markdown",
   "metadata": {},
   "source": [
    "### Identifying the identifiers\n",
    "The code below shows how to find identifiers from the data."
   ]
  },
  {
   "cell_type": "code",
   "execution_count": 13,
   "metadata": {},
   "outputs": [],
   "source": [
    "def id_checker(df):\n",
    "    \"\"\"\n",
    "    The identifier checker\n",
    "\n",
    "    Parameters\n",
    "    ----------\n",
    "    df : dataframe\n",
    "    \n",
    "    Returns\n",
    "    ----------\n",
    "    The dataframe of identifiers\n",
    "    \"\"\"\n",
    "    \n",
    "    # Get the identifiers\n",
    "    df_id = df[[var for var in df.columns \n",
    "                if df[var].nunique(dropna=True) == df[var].notnull().sum()]]\n",
    "    \n",
    "    return df_id"
   ]
  },
  {
   "cell_type": "code",
   "execution_count": 14,
   "metadata": {
    "scrolled": true
   },
   "outputs": [
    {
     "data": {
      "text/html": [
       "<div>\n",
       "<style scoped>\n",
       "    .dataframe tbody tr th:only-of-type {\n",
       "        vertical-align: middle;\n",
       "    }\n",
       "\n",
       "    .dataframe tbody tr th {\n",
       "        vertical-align: top;\n",
       "    }\n",
       "\n",
       "    .dataframe thead th {\n",
       "        text-align: right;\n",
       "    }\n",
       "</style>\n",
       "<table border=\"1\" class=\"dataframe\">\n",
       "  <thead>\n",
       "    <tr style=\"text-align: right;\">\n",
       "      <th></th>\n",
       "      <th>id</th>\n",
       "    </tr>\n",
       "  </thead>\n",
       "  <tbody>\n",
       "    <tr>\n",
       "      <th>0</th>\n",
       "      <td>NaN</td>\n",
       "    </tr>\n",
       "    <tr>\n",
       "      <th>1</th>\n",
       "      <td>NaN</td>\n",
       "    </tr>\n",
       "    <tr>\n",
       "      <th>2</th>\n",
       "      <td>NaN</td>\n",
       "    </tr>\n",
       "    <tr>\n",
       "      <th>3</th>\n",
       "      <td>NaN</td>\n",
       "    </tr>\n",
       "    <tr>\n",
       "      <th>4</th>\n",
       "      <td>NaN</td>\n",
       "    </tr>\n",
       "  </tbody>\n",
       "</table>\n",
       "</div>"
      ],
      "text/plain": [
       "   id\n",
       "0 NaN\n",
       "1 NaN\n",
       "2 NaN\n",
       "3 NaN\n",
       "4 NaN"
      ]
     },
     "execution_count": 14,
     "metadata": {},
     "output_type": "execute_result"
    }
   ],
   "source": [
    "# Call id_checker on df\n",
    "df_id = id_checker(df)\n",
    "\n",
    "# Print the first 5 rows of df_id\n",
    "df_id.head()"
   ]
  },
  {
   "cell_type": "markdown",
   "metadata": {},
   "source": [
    "### Removing the identifiers\n",
    "The code below shows how to remove the identifiers from data (using pandas DataFrame.drop)."
   ]
  },
  {
   "cell_type": "code",
   "execution_count": 15,
   "metadata": {
    "scrolled": true
   },
   "outputs": [],
   "source": [
    "import numpy as np\n",
    "\n",
    "# Remove the identifiers from df_train\n",
    "df_train = df_train.drop(columns=np.intersect1d(df_id.columns, df_train.columns))\n",
    "\n",
    "# Remove the identifiers from df_valid\n",
    "df_valid = df_valid.drop(columns=np.intersect1d(df_id.columns, df_valid.columns))\n",
    "\n",
    "# Remove the identifiers from df_test\n",
    "df_test = df_test.drop(columns=np.intersect1d(df_id.columns, df_test.columns))"
   ]
  },
  {
   "cell_type": "code",
   "execution_count": 16,
   "metadata": {
    "scrolled": false
   },
   "outputs": [
    {
     "data": {
      "text/html": [
       "<div>\n",
       "<style scoped>\n",
       "    .dataframe tbody tr th:only-of-type {\n",
       "        vertical-align: middle;\n",
       "    }\n",
       "\n",
       "    .dataframe tbody tr th {\n",
       "        vertical-align: top;\n",
       "    }\n",
       "\n",
       "    .dataframe thead th {\n",
       "        text-align: right;\n",
       "    }\n",
       "</style>\n",
       "<table border=\"1\" class=\"dataframe\">\n",
       "  <thead>\n",
       "    <tr style=\"text-align: right;\">\n",
       "      <th></th>\n",
       "      <th>S1</th>\n",
       "      <th>C1</th>\n",
       "      <th>S2</th>\n",
       "      <th>C2</th>\n",
       "      <th>S3</th>\n",
       "      <th>C3</th>\n",
       "      <th>S4</th>\n",
       "      <th>C4</th>\n",
       "      <th>S5</th>\n",
       "      <th>C5</th>\n",
       "      <th>hand</th>\n",
       "    </tr>\n",
       "  </thead>\n",
       "  <tbody>\n",
       "    <tr>\n",
       "      <th>0</th>\n",
       "      <td>2</td>\n",
       "      <td>13</td>\n",
       "      <td>2</td>\n",
       "      <td>12</td>\n",
       "      <td>2</td>\n",
       "      <td>11</td>\n",
       "      <td>3</td>\n",
       "      <td>4</td>\n",
       "      <td>1</td>\n",
       "      <td>2</td>\n",
       "      <td>0</td>\n",
       "    </tr>\n",
       "    <tr>\n",
       "      <th>1</th>\n",
       "      <td>4</td>\n",
       "      <td>6</td>\n",
       "      <td>2</td>\n",
       "      <td>10</td>\n",
       "      <td>4</td>\n",
       "      <td>7</td>\n",
       "      <td>2</td>\n",
       "      <td>7</td>\n",
       "      <td>3</td>\n",
       "      <td>6</td>\n",
       "      <td>2</td>\n",
       "    </tr>\n",
       "    <tr>\n",
       "      <th>2</th>\n",
       "      <td>1</td>\n",
       "      <td>2</td>\n",
       "      <td>4</td>\n",
       "      <td>1</td>\n",
       "      <td>2</td>\n",
       "      <td>5</td>\n",
       "      <td>4</td>\n",
       "      <td>2</td>\n",
       "      <td>2</td>\n",
       "      <td>1</td>\n",
       "      <td>2</td>\n",
       "    </tr>\n",
       "    <tr>\n",
       "      <th>3</th>\n",
       "      <td>3</td>\n",
       "      <td>12</td>\n",
       "      <td>4</td>\n",
       "      <td>7</td>\n",
       "      <td>1</td>\n",
       "      <td>3</td>\n",
       "      <td>3</td>\n",
       "      <td>3</td>\n",
       "      <td>4</td>\n",
       "      <td>3</td>\n",
       "      <td>3</td>\n",
       "    </tr>\n",
       "    <tr>\n",
       "      <th>4</th>\n",
       "      <td>3</td>\n",
       "      <td>13</td>\n",
       "      <td>2</td>\n",
       "      <td>9</td>\n",
       "      <td>2</td>\n",
       "      <td>12</td>\n",
       "      <td>2</td>\n",
       "      <td>11</td>\n",
       "      <td>2</td>\n",
       "      <td>13</td>\n",
       "      <td>1</td>\n",
       "    </tr>\n",
       "  </tbody>\n",
       "</table>\n",
       "</div>"
      ],
      "text/plain": [
       "   S1  C1  S2  C2  S3  C3  S4  C4  S5  C5  hand\n",
       "0   2  13   2  12   2  11   3   4   1   2     0\n",
       "1   4   6   2  10   4   7   2   7   3   6     2\n",
       "2   1   2   4   1   2   5   4   2   2   1     2\n",
       "3   3  12   4   7   1   3   3   3   4   3     3\n",
       "4   3  13   2   9   2  12   2  11   2  13     1"
      ]
     },
     "execution_count": 16,
     "metadata": {},
     "output_type": "execute_result"
    }
   ],
   "source": [
    "# Print the first 5 rows of df_train\n",
    "df_train.head()"
   ]
  },
  {
   "cell_type": "code",
   "execution_count": 17,
   "metadata": {
    "scrolled": false
   },
   "outputs": [
    {
     "data": {
      "text/html": [
       "<div>\n",
       "<style scoped>\n",
       "    .dataframe tbody tr th:only-of-type {\n",
       "        vertical-align: middle;\n",
       "    }\n",
       "\n",
       "    .dataframe tbody tr th {\n",
       "        vertical-align: top;\n",
       "    }\n",
       "\n",
       "    .dataframe thead th {\n",
       "        text-align: right;\n",
       "    }\n",
       "</style>\n",
       "<table border=\"1\" class=\"dataframe\">\n",
       "  <thead>\n",
       "    <tr style=\"text-align: right;\">\n",
       "      <th></th>\n",
       "      <th>S1</th>\n",
       "      <th>C1</th>\n",
       "      <th>S2</th>\n",
       "      <th>C2</th>\n",
       "      <th>S3</th>\n",
       "      <th>C3</th>\n",
       "      <th>S4</th>\n",
       "      <th>C4</th>\n",
       "      <th>S5</th>\n",
       "      <th>C5</th>\n",
       "      <th>hand</th>\n",
       "    </tr>\n",
       "  </thead>\n",
       "  <tbody>\n",
       "    <tr>\n",
       "      <th>0</th>\n",
       "      <td>4</td>\n",
       "      <td>13</td>\n",
       "      <td>3</td>\n",
       "      <td>10</td>\n",
       "      <td>2</td>\n",
       "      <td>12</td>\n",
       "      <td>1</td>\n",
       "      <td>3</td>\n",
       "      <td>4</td>\n",
       "      <td>5</td>\n",
       "      <td>0</td>\n",
       "    </tr>\n",
       "    <tr>\n",
       "      <th>1</th>\n",
       "      <td>2</td>\n",
       "      <td>8</td>\n",
       "      <td>4</td>\n",
       "      <td>4</td>\n",
       "      <td>3</td>\n",
       "      <td>13</td>\n",
       "      <td>2</td>\n",
       "      <td>11</td>\n",
       "      <td>1</td>\n",
       "      <td>4</td>\n",
       "      <td>1</td>\n",
       "    </tr>\n",
       "    <tr>\n",
       "      <th>2</th>\n",
       "      <td>4</td>\n",
       "      <td>13</td>\n",
       "      <td>1</td>\n",
       "      <td>3</td>\n",
       "      <td>2</td>\n",
       "      <td>6</td>\n",
       "      <td>2</td>\n",
       "      <td>12</td>\n",
       "      <td>1</td>\n",
       "      <td>9</td>\n",
       "      <td>0</td>\n",
       "    </tr>\n",
       "    <tr>\n",
       "      <th>3</th>\n",
       "      <td>4</td>\n",
       "      <td>1</td>\n",
       "      <td>3</td>\n",
       "      <td>1</td>\n",
       "      <td>2</td>\n",
       "      <td>5</td>\n",
       "      <td>4</td>\n",
       "      <td>3</td>\n",
       "      <td>2</td>\n",
       "      <td>2</td>\n",
       "      <td>1</td>\n",
       "    </tr>\n",
       "    <tr>\n",
       "      <th>4</th>\n",
       "      <td>1</td>\n",
       "      <td>10</td>\n",
       "      <td>4</td>\n",
       "      <td>12</td>\n",
       "      <td>2</td>\n",
       "      <td>12</td>\n",
       "      <td>4</td>\n",
       "      <td>9</td>\n",
       "      <td>2</td>\n",
       "      <td>1</td>\n",
       "      <td>1</td>\n",
       "    </tr>\n",
       "  </tbody>\n",
       "</table>\n",
       "</div>"
      ],
      "text/plain": [
       "   S1  C1  S2  C2  S3  C3  S4  C4  S5  C5  hand\n",
       "0   4  13   3  10   2  12   1   3   4   5     0\n",
       "1   2   8   4   4   3  13   2  11   1   4     1\n",
       "2   4  13   1   3   2   6   2  12   1   9     0\n",
       "3   4   1   3   1   2   5   4   3   2   2     1\n",
       "4   1  10   4  12   2  12   4   9   2   1     1"
      ]
     },
     "execution_count": 17,
     "metadata": {},
     "output_type": "execute_result"
    }
   ],
   "source": [
    "# Print the first 5 rows of df_valid\n",
    "df_valid.head()"
   ]
  },
  {
   "cell_type": "code",
   "execution_count": 18,
   "metadata": {
    "scrolled": true
   },
   "outputs": [
    {
     "data": {
      "text/html": [
       "<div>\n",
       "<style scoped>\n",
       "    .dataframe tbody tr th:only-of-type {\n",
       "        vertical-align: middle;\n",
       "    }\n",
       "\n",
       "    .dataframe tbody tr th {\n",
       "        vertical-align: top;\n",
       "    }\n",
       "\n",
       "    .dataframe thead th {\n",
       "        text-align: right;\n",
       "    }\n",
       "</style>\n",
       "<table border=\"1\" class=\"dataframe\">\n",
       "  <thead>\n",
       "    <tr style=\"text-align: right;\">\n",
       "      <th></th>\n",
       "      <th>S1</th>\n",
       "      <th>C1</th>\n",
       "      <th>S2</th>\n",
       "      <th>C2</th>\n",
       "      <th>S3</th>\n",
       "      <th>C3</th>\n",
       "      <th>S4</th>\n",
       "      <th>C4</th>\n",
       "      <th>S5</th>\n",
       "      <th>C5</th>\n",
       "    </tr>\n",
       "  </thead>\n",
       "  <tbody>\n",
       "    <tr>\n",
       "      <th>0</th>\n",
       "      <td>1</td>\n",
       "      <td>10</td>\n",
       "      <td>2</td>\n",
       "      <td>2</td>\n",
       "      <td>3</td>\n",
       "      <td>3</td>\n",
       "      <td>3</td>\n",
       "      <td>8</td>\n",
       "      <td>1</td>\n",
       "      <td>1</td>\n",
       "    </tr>\n",
       "    <tr>\n",
       "      <th>1</th>\n",
       "      <td>2</td>\n",
       "      <td>13</td>\n",
       "      <td>3</td>\n",
       "      <td>5</td>\n",
       "      <td>3</td>\n",
       "      <td>7</td>\n",
       "      <td>4</td>\n",
       "      <td>6</td>\n",
       "      <td>1</td>\n",
       "      <td>4</td>\n",
       "    </tr>\n",
       "    <tr>\n",
       "      <th>2</th>\n",
       "      <td>1</td>\n",
       "      <td>3</td>\n",
       "      <td>1</td>\n",
       "      <td>11</td>\n",
       "      <td>2</td>\n",
       "      <td>8</td>\n",
       "      <td>2</td>\n",
       "      <td>1</td>\n",
       "      <td>2</td>\n",
       "      <td>4</td>\n",
       "    </tr>\n",
       "    <tr>\n",
       "      <th>3</th>\n",
       "      <td>1</td>\n",
       "      <td>6</td>\n",
       "      <td>3</td>\n",
       "      <td>3</td>\n",
       "      <td>4</td>\n",
       "      <td>7</td>\n",
       "      <td>1</td>\n",
       "      <td>8</td>\n",
       "      <td>3</td>\n",
       "      <td>11</td>\n",
       "    </tr>\n",
       "    <tr>\n",
       "      <th>4</th>\n",
       "      <td>2</td>\n",
       "      <td>10</td>\n",
       "      <td>3</td>\n",
       "      <td>4</td>\n",
       "      <td>1</td>\n",
       "      <td>6</td>\n",
       "      <td>2</td>\n",
       "      <td>12</td>\n",
       "      <td>2</td>\n",
       "      <td>6</td>\n",
       "    </tr>\n",
       "  </tbody>\n",
       "</table>\n",
       "</div>"
      ],
      "text/plain": [
       "   S1  C1  S2  C2  S3  C3  S4  C4  S5  C5\n",
       "0   1  10   2   2   3   3   3   8   1   1\n",
       "1   2  13   3   5   3   7   4   6   1   4\n",
       "2   1   3   1  11   2   8   2   1   2   4\n",
       "3   1   6   3   3   4   7   1   8   3  11\n",
       "4   2  10   3   4   1   6   2  12   2   6"
      ]
     },
     "execution_count": 18,
     "metadata": {},
     "output_type": "execute_result"
    }
   ],
   "source": [
    "# Print the first 5 rows of df_test\n",
    "df_test.head()"
   ]
  },
  {
   "cell_type": "markdown",
   "metadata": {},
   "source": [
    "## Handling missing data"
   ]
  },
  {
   "cell_type": "markdown",
   "metadata": {},
   "source": [
    "### Combining the training, validation and testing data\n",
    "The code below shows how to combine the training, validation and testing data (using pandas concat)."
   ]
  },
  {
   "cell_type": "code",
   "execution_count": 19,
   "metadata": {},
   "outputs": [],
   "source": [
    "# Combine df_train, df_valid and df_test\n",
    "df = pd.concat([df_train, df_valid, df_test], sort=False)"
   ]
  },
  {
   "cell_type": "markdown",
   "metadata": {},
   "source": [
    "### Identifying missing values"
   ]
  },
  {
   "cell_type": "markdown",
   "metadata": {},
   "source": [
    "The code below shows how to find variables with NaN (using pandas DataFrame.isna), their proportion of NaN and dtype (data type objects, using pandas Series.dtype)."
   ]
  },
  {
   "cell_type": "code",
   "execution_count": 20,
   "metadata": {},
   "outputs": [],
   "source": [
    "def nan_checker(df):\n",
    "    \"\"\"\n",
    "    The NaN checker\n",
    "\n",
    "    Parameters\n",
    "    ----------\n",
    "    df : dataframe\n",
    "    \n",
    "    Returns\n",
    "    ----------\n",
    "    The dataframe of variables with NaN, their proportion of NaN and dtype\n",
    "    \"\"\"\n",
    "    \n",
    "    # Get the dataframe of variables with NaN, their proportion of NaN and dtype\n",
    "    df_nan = pd.DataFrame([[var, df[var].isna().sum() / df.shape[0], df[var].dtype]\n",
    "                           for var in df.columns if df[var].isna().sum() > 0],\n",
    "                          columns=['var', 'proportion', 'dtype'])\n",
    "    \n",
    "    # Sort df_nan in accending order of the proportion of NaN\n",
    "    df_nan = df_nan.sort_values(by='proportion', ascending=False).reset_index(drop=True)\n",
    "    \n",
    "    return df_nan"
   ]
  },
  {
   "cell_type": "code",
   "execution_count": 21,
   "metadata": {},
   "outputs": [
    {
     "data": {
      "text/html": [
       "<div>\n",
       "<style scoped>\n",
       "    .dataframe tbody tr th:only-of-type {\n",
       "        vertical-align: middle;\n",
       "    }\n",
       "\n",
       "    .dataframe tbody tr th {\n",
       "        vertical-align: top;\n",
       "    }\n",
       "\n",
       "    .dataframe thead th {\n",
       "        text-align: right;\n",
       "    }\n",
       "</style>\n",
       "<table border=\"1\" class=\"dataframe\">\n",
       "  <thead>\n",
       "    <tr style=\"text-align: right;\">\n",
       "      <th></th>\n",
       "      <th>var</th>\n",
       "      <th>proportion</th>\n",
       "      <th>dtype</th>\n",
       "    </tr>\n",
       "  </thead>\n",
       "  <tbody>\n",
       "    <tr>\n",
       "      <th>0</th>\n",
       "      <td>hand</td>\n",
       "      <td>0.9756</td>\n",
       "      <td>float64</td>\n",
       "    </tr>\n",
       "  </tbody>\n",
       "</table>\n",
       "</div>"
      ],
      "text/plain": [
       "    var  proportion    dtype\n",
       "0  hand      0.9756  float64"
      ]
     },
     "execution_count": 21,
     "metadata": {},
     "output_type": "execute_result"
    }
   ],
   "source": [
    "# Call nan_checker on df\n",
    "df_nan = nan_checker(df)\n",
    "\n",
    "# Print df_nan\n",
    "df_nan"
   ]
  },
  {
   "cell_type": "code",
   "execution_count": 22,
   "metadata": {
    "scrolled": true
   },
   "outputs": [
    {
     "data": {
      "text/html": [
       "<div>\n",
       "<style scoped>\n",
       "    .dataframe tbody tr th:only-of-type {\n",
       "        vertical-align: middle;\n",
       "    }\n",
       "\n",
       "    .dataframe tbody tr th {\n",
       "        vertical-align: top;\n",
       "    }\n",
       "\n",
       "    .dataframe thead th {\n",
       "        text-align: right;\n",
       "    }\n",
       "</style>\n",
       "<table border=\"1\" class=\"dataframe\">\n",
       "  <thead>\n",
       "    <tr style=\"text-align: right;\">\n",
       "      <th></th>\n",
       "      <th>dtype</th>\n",
       "    </tr>\n",
       "  </thead>\n",
       "  <tbody>\n",
       "    <tr>\n",
       "      <th>0</th>\n",
       "      <td>float64</td>\n",
       "    </tr>\n",
       "  </tbody>\n",
       "</table>\n",
       "</div>"
      ],
      "text/plain": [
       "     dtype\n",
       "0  float64"
      ]
     },
     "execution_count": 22,
     "metadata": {},
     "output_type": "execute_result"
    }
   ],
   "source": [
    "# Print the unique dtype of the variables with NaN\n",
    "pd.DataFrame(df_nan['dtype'].unique(), columns=['dtype'])"
   ]
  },
  {
   "cell_type": "markdown",
   "metadata": {},
   "source": [
    "The code below shows how to use dtype to select variables with missing values in the combined training and testing data."
   ]
  },
  {
   "cell_type": "code",
   "execution_count": 23,
   "metadata": {
    "scrolled": true
   },
   "outputs": [
    {
     "data": {
      "text/html": [
       "<div>\n",
       "<style scoped>\n",
       "    .dataframe tbody tr th:only-of-type {\n",
       "        vertical-align: middle;\n",
       "    }\n",
       "\n",
       "    .dataframe tbody tr th {\n",
       "        vertical-align: top;\n",
       "    }\n",
       "\n",
       "    .dataframe thead th {\n",
       "        text-align: right;\n",
       "    }\n",
       "</style>\n",
       "<table border=\"1\" class=\"dataframe\">\n",
       "  <thead>\n",
       "    <tr style=\"text-align: right;\">\n",
       "      <th></th>\n",
       "      <th>var</th>\n",
       "      <th>proportion</th>\n",
       "      <th>dtype</th>\n",
       "    </tr>\n",
       "  </thead>\n",
       "  <tbody>\n",
       "    <tr>\n",
       "      <th>0</th>\n",
       "      <td>hand</td>\n",
       "      <td>0.9756</td>\n",
       "      <td>float64</td>\n",
       "    </tr>\n",
       "  </tbody>\n",
       "</table>\n",
       "</div>"
      ],
      "text/plain": [
       "    var  proportion    dtype\n",
       "0  hand      0.9756  float64"
      ]
     },
     "execution_count": 23,
     "metadata": {},
     "output_type": "execute_result"
    }
   ],
   "source": [
    "# Get the variables with missing values, their proportion of missing values and dtype\n",
    "df_miss = df_nan[df_nan['dtype'] == 'float64'].reset_index(drop=True)\n",
    "\n",
    "# Print df_miss\n",
    "df_miss"
   ]
  },
  {
   "cell_type": "markdown",
   "metadata": {},
   "source": [
    "### Removing missing values\n",
    "The code below shows how to remove rows with missing values (here we use numpy intersect1d to find the intersection of two series)."
   ]
  },
  {
   "cell_type": "code",
   "execution_count": 24,
   "metadata": {},
   "outputs": [],
   "source": [
    "import numpy as np\n",
    "\n",
    "# Remove rows with missing values from df_train\n",
    "df_train = df_train.dropna(subset=np.intersect1d(df_miss['var'], df_train.columns),\n",
    "                           inplace=False)\n",
    "\n",
    "# Remove rows with missing values from df_valid\n",
    "df_valid = df_valid.dropna(subset=np.intersect1d(df_miss['var'], df_valid.columns),\n",
    "                           inplace=False)\n",
    "\n",
    "# Remove rows with missing values from df_test\n",
    "df_test = df_test.dropna(subset=np.intersect1d(df_miss['var'], df_test.columns),\n",
    "                         inplace=False)"
   ]
  },
  {
   "cell_type": "code",
   "execution_count": 25,
   "metadata": {
    "scrolled": true
   },
   "outputs": [
    {
     "data": {
      "text/html": [
       "<div>\n",
       "<style scoped>\n",
       "    .dataframe tbody tr th:only-of-type {\n",
       "        vertical-align: middle;\n",
       "    }\n",
       "\n",
       "    .dataframe tbody tr th {\n",
       "        vertical-align: top;\n",
       "    }\n",
       "\n",
       "    .dataframe thead th {\n",
       "        text-align: right;\n",
       "    }\n",
       "</style>\n",
       "<table border=\"1\" class=\"dataframe\">\n",
       "  <thead>\n",
       "    <tr style=\"text-align: right;\">\n",
       "      <th></th>\n",
       "      <th># rows</th>\n",
       "      <th># columns</th>\n",
       "    </tr>\n",
       "  </thead>\n",
       "  <tbody>\n",
       "    <tr>\n",
       "      <th>0</th>\n",
       "      <td>20008</td>\n",
       "      <td>11</td>\n",
       "    </tr>\n",
       "  </tbody>\n",
       "</table>\n",
       "</div>"
      ],
      "text/plain": [
       "   # rows  # columns\n",
       "0   20008         11"
      ]
     },
     "execution_count": 25,
     "metadata": {},
     "output_type": "execute_result"
    }
   ],
   "source": [
    "# Print the dimension of df_train\n",
    "pd.DataFrame([[df_train.shape[0], df_train.shape[1]]], columns=['# rows', '# columns'])"
   ]
  },
  {
   "cell_type": "code",
   "execution_count": 26,
   "metadata": {
    "scrolled": true
   },
   "outputs": [
    {
     "data": {
      "text/html": [
       "<div>\n",
       "<style scoped>\n",
       "    .dataframe tbody tr th:only-of-type {\n",
       "        vertical-align: middle;\n",
       "    }\n",
       "\n",
       "    .dataframe tbody tr th {\n",
       "        vertical-align: top;\n",
       "    }\n",
       "\n",
       "    .dataframe thead th {\n",
       "        text-align: right;\n",
       "    }\n",
       "</style>\n",
       "<table border=\"1\" class=\"dataframe\">\n",
       "  <thead>\n",
       "    <tr style=\"text-align: right;\">\n",
       "      <th></th>\n",
       "      <th># rows</th>\n",
       "      <th># columns</th>\n",
       "    </tr>\n",
       "  </thead>\n",
       "  <tbody>\n",
       "    <tr>\n",
       "      <th>0</th>\n",
       "      <td>5002</td>\n",
       "      <td>11</td>\n",
       "    </tr>\n",
       "  </tbody>\n",
       "</table>\n",
       "</div>"
      ],
      "text/plain": [
       "   # rows  # columns\n",
       "0    5002         11"
      ]
     },
     "execution_count": 26,
     "metadata": {},
     "output_type": "execute_result"
    }
   ],
   "source": [
    "# Print the dimension of df_valid\n",
    "pd.DataFrame([[df_valid.shape[0], df_valid.shape[1]]], columns=['# rows', '# columns'])"
   ]
  },
  {
   "cell_type": "code",
   "execution_count": 27,
   "metadata": {
    "scrolled": true
   },
   "outputs": [
    {
     "data": {
      "text/html": [
       "<div>\n",
       "<style scoped>\n",
       "    .dataframe tbody tr th:only-of-type {\n",
       "        vertical-align: middle;\n",
       "    }\n",
       "\n",
       "    .dataframe tbody tr th {\n",
       "        vertical-align: top;\n",
       "    }\n",
       "\n",
       "    .dataframe thead th {\n",
       "        text-align: right;\n",
       "    }\n",
       "</style>\n",
       "<table border=\"1\" class=\"dataframe\">\n",
       "  <thead>\n",
       "    <tr style=\"text-align: right;\">\n",
       "      <th></th>\n",
       "      <th># rows</th>\n",
       "      <th># columns</th>\n",
       "    </tr>\n",
       "  </thead>\n",
       "  <tbody>\n",
       "    <tr>\n",
       "      <th>0</th>\n",
       "      <td>1000000</td>\n",
       "      <td>10</td>\n",
       "    </tr>\n",
       "  </tbody>\n",
       "</table>\n",
       "</div>"
      ],
      "text/plain": [
       "    # rows  # columns\n",
       "0  1000000         10"
      ]
     },
     "execution_count": 27,
     "metadata": {},
     "output_type": "execute_result"
    }
   ],
   "source": [
    "# Print the dimension of df_test\n",
    "pd.DataFrame([[df_test.shape[0], df_test.shape[1]]], columns=['# rows', '# columns'])"
   ]
  },
  {
   "cell_type": "markdown",
   "metadata": {},
   "source": [
    "## Encoding the data"
   ]
  },
  {
   "cell_type": "markdown",
   "metadata": {},
   "source": [
    "### Combining the training, validation and testing data\n",
    "The code below shows how to combine the training, validation and testing data (using pandas concat)."
   ]
  },
  {
   "cell_type": "code",
   "execution_count": 28,
   "metadata": {
    "scrolled": true
   },
   "outputs": [
    {
     "data": {
      "text/html": [
       "<div>\n",
       "<style scoped>\n",
       "    .dataframe tbody tr th:only-of-type {\n",
       "        vertical-align: middle;\n",
       "    }\n",
       "\n",
       "    .dataframe tbody tr th {\n",
       "        vertical-align: top;\n",
       "    }\n",
       "\n",
       "    .dataframe thead th {\n",
       "        text-align: right;\n",
       "    }\n",
       "</style>\n",
       "<table border=\"1\" class=\"dataframe\">\n",
       "  <thead>\n",
       "    <tr style=\"text-align: right;\">\n",
       "      <th></th>\n",
       "      <th>dtype</th>\n",
       "    </tr>\n",
       "  </thead>\n",
       "  <tbody>\n",
       "    <tr>\n",
       "      <th>0</th>\n",
       "      <td>int64</td>\n",
       "    </tr>\n",
       "    <tr>\n",
       "      <th>1</th>\n",
       "      <td>float64</td>\n",
       "    </tr>\n",
       "  </tbody>\n",
       "</table>\n",
       "</div>"
      ],
      "text/plain": [
       "     dtype\n",
       "0    int64\n",
       "1  float64"
      ]
     },
     "execution_count": 28,
     "metadata": {},
     "output_type": "execute_result"
    }
   ],
   "source": [
    "# Combine df_train, df_valid and df_test\n",
    "df = pd.concat([df_train, df_valid, df_test], sort=False)\n",
    "\n",
    "# Print the unique dtype of variables in df\n",
    "pd.DataFrame(df.dtypes.unique(), columns=['dtype'])"
   ]
  },
  {
   "cell_type": "markdown",
   "metadata": {},
   "source": [
    "### Identifying the Categorical Variables"
   ]
  },
  {
   "cell_type": "markdown",
   "metadata": {},
   "source": [
    "The code below shows how to find the categorical variables that have object as dtype (using pandas.Series.dtype)."
   ]
  },
  {
   "cell_type": "code",
   "execution_count": 29,
   "metadata": {},
   "outputs": [],
   "source": [
    "def cat_var_checker(df):\n",
    "    \"\"\"\n",
    "    The categorical variable checker\n",
    "\n",
    "    Parameters\n",
    "    ----------\n",
    "    df: the dataframe\n",
    "    \n",
    "    Returns\n",
    "    ----------\n",
    "    The dataframe of categorical variables and their number of unique value\n",
    "    \"\"\"\n",
    "    \n",
    "    # Get the dataframe of categorical variables and their number of unique value\n",
    "    df_cat = pd.DataFrame([[var, df[var].nunique(dropna=False)]\n",
    "                           for var in df.columns if df[var].dtype == 'object'],\n",
    "                          columns=['var', 'nunique'])\n",
    "    \n",
    "    # Sort df_cat in accending order of the number of unique value\n",
    "    df_cat = df_cat.sort_values(by='nunique', ascending=False).reset_index(drop=True)\n",
    "    \n",
    "    return df_cat"
   ]
  },
  {
   "cell_type": "code",
   "execution_count": 30,
   "metadata": {
    "scrolled": true
   },
   "outputs": [
    {
     "data": {
      "text/html": [
       "<div>\n",
       "<style scoped>\n",
       "    .dataframe tbody tr th:only-of-type {\n",
       "        vertical-align: middle;\n",
       "    }\n",
       "\n",
       "    .dataframe tbody tr th {\n",
       "        vertical-align: top;\n",
       "    }\n",
       "\n",
       "    .dataframe thead th {\n",
       "        text-align: right;\n",
       "    }\n",
       "</style>\n",
       "<table border=\"1\" class=\"dataframe\">\n",
       "  <thead>\n",
       "    <tr style=\"text-align: right;\">\n",
       "      <th></th>\n",
       "      <th>var</th>\n",
       "      <th>nunique</th>\n",
       "    </tr>\n",
       "  </thead>\n",
       "  <tbody>\n",
       "  </tbody>\n",
       "</table>\n",
       "</div>"
      ],
      "text/plain": [
       "Empty DataFrame\n",
       "Columns: [var, nunique]\n",
       "Index: []"
      ]
     },
     "execution_count": 30,
     "metadata": {},
     "output_type": "execute_result"
    }
   ],
   "source": [
    "# Call cat_var_checker on df\n",
    "df_cat = cat_var_checker(df)\n",
    "\n",
    "# Print the dataframe\n",
    "df_cat"
   ]
  },
  {
   "cell_type": "markdown",
   "metadata": {},
   "source": [
    "### Encoding the categorical features\n",
    "The code below shows how to encode the categorical features in the combined data (using pandas.get\\_dummies)."
   ]
  },
  {
   "cell_type": "code",
   "execution_count": 31,
   "metadata": {
    "scrolled": true
   },
   "outputs": [
    {
     "data": {
      "text/html": [
       "<div>\n",
       "<style scoped>\n",
       "    .dataframe tbody tr th:only-of-type {\n",
       "        vertical-align: middle;\n",
       "    }\n",
       "\n",
       "    .dataframe tbody tr th {\n",
       "        vertical-align: top;\n",
       "    }\n",
       "\n",
       "    .dataframe thead th {\n",
       "        text-align: right;\n",
       "    }\n",
       "</style>\n",
       "<table border=\"1\" class=\"dataframe\">\n",
       "  <thead>\n",
       "    <tr style=\"text-align: right;\">\n",
       "      <th></th>\n",
       "      <th>S1</th>\n",
       "      <th>C1</th>\n",
       "      <th>S2</th>\n",
       "      <th>C2</th>\n",
       "      <th>S3</th>\n",
       "      <th>C3</th>\n",
       "      <th>S4</th>\n",
       "      <th>C4</th>\n",
       "      <th>S5</th>\n",
       "      <th>C5</th>\n",
       "      <th>hand</th>\n",
       "    </tr>\n",
       "  </thead>\n",
       "  <tbody>\n",
       "    <tr>\n",
       "      <th>0</th>\n",
       "      <td>2</td>\n",
       "      <td>13</td>\n",
       "      <td>2</td>\n",
       "      <td>12</td>\n",
       "      <td>2</td>\n",
       "      <td>11</td>\n",
       "      <td>3</td>\n",
       "      <td>4</td>\n",
       "      <td>1</td>\n",
       "      <td>2</td>\n",
       "      <td>0.0</td>\n",
       "    </tr>\n",
       "    <tr>\n",
       "      <th>1</th>\n",
       "      <td>4</td>\n",
       "      <td>6</td>\n",
       "      <td>2</td>\n",
       "      <td>10</td>\n",
       "      <td>4</td>\n",
       "      <td>7</td>\n",
       "      <td>2</td>\n",
       "      <td>7</td>\n",
       "      <td>3</td>\n",
       "      <td>6</td>\n",
       "      <td>2.0</td>\n",
       "    </tr>\n",
       "    <tr>\n",
       "      <th>2</th>\n",
       "      <td>1</td>\n",
       "      <td>2</td>\n",
       "      <td>4</td>\n",
       "      <td>1</td>\n",
       "      <td>2</td>\n",
       "      <td>5</td>\n",
       "      <td>4</td>\n",
       "      <td>2</td>\n",
       "      <td>2</td>\n",
       "      <td>1</td>\n",
       "      <td>2.0</td>\n",
       "    </tr>\n",
       "    <tr>\n",
       "      <th>3</th>\n",
       "      <td>3</td>\n",
       "      <td>12</td>\n",
       "      <td>4</td>\n",
       "      <td>7</td>\n",
       "      <td>1</td>\n",
       "      <td>3</td>\n",
       "      <td>3</td>\n",
       "      <td>3</td>\n",
       "      <td>4</td>\n",
       "      <td>3</td>\n",
       "      <td>3.0</td>\n",
       "    </tr>\n",
       "    <tr>\n",
       "      <th>4</th>\n",
       "      <td>3</td>\n",
       "      <td>13</td>\n",
       "      <td>2</td>\n",
       "      <td>9</td>\n",
       "      <td>2</td>\n",
       "      <td>12</td>\n",
       "      <td>2</td>\n",
       "      <td>11</td>\n",
       "      <td>2</td>\n",
       "      <td>13</td>\n",
       "      <td>1.0</td>\n",
       "    </tr>\n",
       "  </tbody>\n",
       "</table>\n",
       "</div>"
      ],
      "text/plain": [
       "   S1  C1  S2  C2  S3  C3  S4  C4  S5  C5  hand\n",
       "0   2  13   2  12   2  11   3   4   1   2   0.0\n",
       "1   4   6   2  10   4   7   2   7   3   6   2.0\n",
       "2   1   2   4   1   2   5   4   2   2   1   2.0\n",
       "3   3  12   4   7   1   3   3   3   4   3   3.0\n",
       "4   3  13   2   9   2  12   2  11   2  13   1.0"
      ]
     },
     "execution_count": 31,
     "metadata": {},
     "output_type": "execute_result"
    }
   ],
   "source": [
    "# One-hot-encode the categorical features in the combined data\n",
    "df = pd.get_dummies(df, columns=np.setdiff1d(df_cat['var'], [target]))\n",
    "\n",
    "# Print the first 5 rows of df\n",
    "df.head()"
   ]
  },
  {
   "cell_type": "markdown",
   "metadata": {},
   "source": [
    "### Encoding the categorical target\n",
    "The code below shows how to encode the categorical target in the combined data (using sklearn.LabelEncoder)."
   ]
  },
  {
   "cell_type": "code",
   "execution_count": 32,
   "metadata": {
    "scrolled": true
   },
   "outputs": [
    {
     "data": {
      "text/html": [
       "<div>\n",
       "<style scoped>\n",
       "    .dataframe tbody tr th:only-of-type {\n",
       "        vertical-align: middle;\n",
       "    }\n",
       "\n",
       "    .dataframe tbody tr th {\n",
       "        vertical-align: top;\n",
       "    }\n",
       "\n",
       "    .dataframe thead th {\n",
       "        text-align: right;\n",
       "    }\n",
       "</style>\n",
       "<table border=\"1\" class=\"dataframe\">\n",
       "  <thead>\n",
       "    <tr style=\"text-align: right;\">\n",
       "      <th></th>\n",
       "      <th>S1</th>\n",
       "      <th>C1</th>\n",
       "      <th>S2</th>\n",
       "      <th>C2</th>\n",
       "      <th>S3</th>\n",
       "      <th>C3</th>\n",
       "      <th>S4</th>\n",
       "      <th>C4</th>\n",
       "      <th>S5</th>\n",
       "      <th>C5</th>\n",
       "      <th>hand</th>\n",
       "    </tr>\n",
       "  </thead>\n",
       "  <tbody>\n",
       "    <tr>\n",
       "      <th>0</th>\n",
       "      <td>2</td>\n",
       "      <td>13</td>\n",
       "      <td>2</td>\n",
       "      <td>12</td>\n",
       "      <td>2</td>\n",
       "      <td>11</td>\n",
       "      <td>3</td>\n",
       "      <td>4</td>\n",
       "      <td>1</td>\n",
       "      <td>2</td>\n",
       "      <td>0</td>\n",
       "    </tr>\n",
       "    <tr>\n",
       "      <th>1</th>\n",
       "      <td>4</td>\n",
       "      <td>6</td>\n",
       "      <td>2</td>\n",
       "      <td>10</td>\n",
       "      <td>4</td>\n",
       "      <td>7</td>\n",
       "      <td>2</td>\n",
       "      <td>7</td>\n",
       "      <td>3</td>\n",
       "      <td>6</td>\n",
       "      <td>2</td>\n",
       "    </tr>\n",
       "    <tr>\n",
       "      <th>2</th>\n",
       "      <td>1</td>\n",
       "      <td>2</td>\n",
       "      <td>4</td>\n",
       "      <td>1</td>\n",
       "      <td>2</td>\n",
       "      <td>5</td>\n",
       "      <td>4</td>\n",
       "      <td>2</td>\n",
       "      <td>2</td>\n",
       "      <td>1</td>\n",
       "      <td>2</td>\n",
       "    </tr>\n",
       "    <tr>\n",
       "      <th>3</th>\n",
       "      <td>3</td>\n",
       "      <td>12</td>\n",
       "      <td>4</td>\n",
       "      <td>7</td>\n",
       "      <td>1</td>\n",
       "      <td>3</td>\n",
       "      <td>3</td>\n",
       "      <td>3</td>\n",
       "      <td>4</td>\n",
       "      <td>3</td>\n",
       "      <td>3</td>\n",
       "    </tr>\n",
       "    <tr>\n",
       "      <th>4</th>\n",
       "      <td>3</td>\n",
       "      <td>13</td>\n",
       "      <td>2</td>\n",
       "      <td>9</td>\n",
       "      <td>2</td>\n",
       "      <td>12</td>\n",
       "      <td>2</td>\n",
       "      <td>11</td>\n",
       "      <td>2</td>\n",
       "      <td>13</td>\n",
       "      <td>1</td>\n",
       "    </tr>\n",
       "  </tbody>\n",
       "</table>\n",
       "</div>"
      ],
      "text/plain": [
       "   S1  C1  S2  C2  S3  C3  S4  C4  S5  C5  hand\n",
       "0   2  13   2  12   2  11   3   4   1   2     0\n",
       "1   4   6   2  10   4   7   2   7   3   6     2\n",
       "2   1   2   4   1   2   5   4   2   2   1     2\n",
       "3   3  12   4   7   1   3   3   3   4   3     3\n",
       "4   3  13   2   9   2  12   2  11   2  13     1"
      ]
     },
     "execution_count": 32,
     "metadata": {},
     "output_type": "execute_result"
    }
   ],
   "source": [
    "from sklearn.preprocessing import LabelEncoder\n",
    "\n",
    "# The LabelEncoder\n",
    "le = LabelEncoder()\n",
    "\n",
    "# Encode the categorical target in the combined data\n",
    "df[target] = le.fit_transform(df[target].astype(str))\n",
    "\n",
    "# Print the first 5 rows of df\n",
    "df.head()"
   ]
  },
  {
   "cell_type": "markdown",
   "metadata": {},
   "source": [
    "### Separating the training, validation and testing data\n",
    "The code below shows how to separate the training, validation and testing data."
   ]
  },
  {
   "cell_type": "code",
   "execution_count": 33,
   "metadata": {},
   "outputs": [],
   "source": [
    "# Separating the training data\n",
    "df_train = df.iloc[:df_train.shape[0], :].copy(deep=True)\n",
    "\n",
    "# Separating the validation data\n",
    "df_valid = df.iloc[df_train.shape[0]:df_train.shape[0] + df_valid.shape[0], :].copy(deep=True)\n",
    "\n",
    "# Separating the testing data\n",
    "df_test = df.iloc[df_train.shape[0] + df_valid.shape[0]:, :].copy(deep=True)"
   ]
  },
  {
   "cell_type": "code",
   "execution_count": 34,
   "metadata": {
    "scrolled": true
   },
   "outputs": [
    {
     "data": {
      "text/html": [
       "<div>\n",
       "<style scoped>\n",
       "    .dataframe tbody tr th:only-of-type {\n",
       "        vertical-align: middle;\n",
       "    }\n",
       "\n",
       "    .dataframe tbody tr th {\n",
       "        vertical-align: top;\n",
       "    }\n",
       "\n",
       "    .dataframe thead th {\n",
       "        text-align: right;\n",
       "    }\n",
       "</style>\n",
       "<table border=\"1\" class=\"dataframe\">\n",
       "  <thead>\n",
       "    <tr style=\"text-align: right;\">\n",
       "      <th></th>\n",
       "      <th># rows</th>\n",
       "      <th># columns</th>\n",
       "    </tr>\n",
       "  </thead>\n",
       "  <tbody>\n",
       "    <tr>\n",
       "      <th>0</th>\n",
       "      <td>20008</td>\n",
       "      <td>11</td>\n",
       "    </tr>\n",
       "  </tbody>\n",
       "</table>\n",
       "</div>"
      ],
      "text/plain": [
       "   # rows  # columns\n",
       "0   20008         11"
      ]
     },
     "execution_count": 34,
     "metadata": {},
     "output_type": "execute_result"
    }
   ],
   "source": [
    "# Print the dimension of df_train\n",
    "pd.DataFrame([[df_train.shape[0], df_train.shape[1]]], columns=['# rows', '# columns'])"
   ]
  },
  {
   "cell_type": "code",
   "execution_count": 35,
   "metadata": {
    "scrolled": true
   },
   "outputs": [
    {
     "data": {
      "text/html": [
       "<div>\n",
       "<style scoped>\n",
       "    .dataframe tbody tr th:only-of-type {\n",
       "        vertical-align: middle;\n",
       "    }\n",
       "\n",
       "    .dataframe tbody tr th {\n",
       "        vertical-align: top;\n",
       "    }\n",
       "\n",
       "    .dataframe thead th {\n",
       "        text-align: right;\n",
       "    }\n",
       "</style>\n",
       "<table border=\"1\" class=\"dataframe\">\n",
       "  <thead>\n",
       "    <tr style=\"text-align: right;\">\n",
       "      <th></th>\n",
       "      <th># rows</th>\n",
       "      <th># columns</th>\n",
       "    </tr>\n",
       "  </thead>\n",
       "  <tbody>\n",
       "    <tr>\n",
       "      <th>0</th>\n",
       "      <td>5002</td>\n",
       "      <td>11</td>\n",
       "    </tr>\n",
       "  </tbody>\n",
       "</table>\n",
       "</div>"
      ],
      "text/plain": [
       "   # rows  # columns\n",
       "0    5002         11"
      ]
     },
     "execution_count": 35,
     "metadata": {},
     "output_type": "execute_result"
    }
   ],
   "source": [
    "# Print the dimension of df_valid\n",
    "pd.DataFrame([[df_valid.shape[0], df_valid.shape[1]]], columns=['# rows', '# columns'])"
   ]
  },
  {
   "cell_type": "code",
   "execution_count": 36,
   "metadata": {
    "scrolled": true
   },
   "outputs": [
    {
     "data": {
      "text/html": [
       "<div>\n",
       "<style scoped>\n",
       "    .dataframe tbody tr th:only-of-type {\n",
       "        vertical-align: middle;\n",
       "    }\n",
       "\n",
       "    .dataframe tbody tr th {\n",
       "        vertical-align: top;\n",
       "    }\n",
       "\n",
       "    .dataframe thead th {\n",
       "        text-align: right;\n",
       "    }\n",
       "</style>\n",
       "<table border=\"1\" class=\"dataframe\">\n",
       "  <thead>\n",
       "    <tr style=\"text-align: right;\">\n",
       "      <th></th>\n",
       "      <th># rows</th>\n",
       "      <th># columns</th>\n",
       "    </tr>\n",
       "  </thead>\n",
       "  <tbody>\n",
       "    <tr>\n",
       "      <th>0</th>\n",
       "      <td>1000000</td>\n",
       "      <td>11</td>\n",
       "    </tr>\n",
       "  </tbody>\n",
       "</table>\n",
       "</div>"
      ],
      "text/plain": [
       "    # rows  # columns\n",
       "0  1000000         11"
      ]
     },
     "execution_count": 36,
     "metadata": {},
     "output_type": "execute_result"
    }
   ],
   "source": [
    "# Print the dimension of df_test\n",
    "pd.DataFrame([[df_test.shape[0], df_test.shape[1]]], columns=['# rows', '# columns'])"
   ]
  },
  {
   "cell_type": "markdown",
   "metadata": {},
   "source": [
    "## Getting the name of the features"
   ]
  },
  {
   "cell_type": "code",
   "execution_count": 37,
   "metadata": {},
   "outputs": [],
   "source": [
    "features = np.setdiff1d(df.columns, [target])"
   ]
  },
  {
   "cell_type": "markdown",
   "metadata": {},
   "source": [
    "## Getting the feature matrix and target vector"
   ]
  },
  {
   "cell_type": "code",
   "execution_count": 38,
   "metadata": {},
   "outputs": [],
   "source": [
    "# Get the feature matrix\n",
    "X_train = df_train[features].to_numpy()\n",
    "X_valid = df_valid[features].to_numpy()\n",
    "X_test = df_test[features].to_numpy()\n",
    "\n",
    "# Get the target vector\n",
    "y_train = df_train[target].astype(int).to_numpy()\n",
    "y_valid = df_valid[target].astype(int).to_numpy()"
   ]
  },
  {
   "cell_type": "markdown",
   "metadata": {},
   "source": [
    "## Scaling the data\n",
    "The code below shows how to standardize the data (using sklearn StandardScaler). "
   ]
  },
  {
   "cell_type": "code",
   "execution_count": 39,
   "metadata": {},
   "outputs": [],
   "source": [
    "from sklearn.preprocessing import StandardScaler\n",
    "\n",
    "# The StandardScaler\n",
    "ss = StandardScaler()\n",
    "\n",
    "# Standardize the training data\n",
    "X_train = ss.fit_transform(X_train)\n",
    "\n",
    "# Standardize the validation data\n",
    "X_valid = ss.transform(X_valid)\n",
    "\n",
    "# Standardize the testing data\n",
    "X_test = ss.transform(X_test)"
   ]
  },
  {
   "cell_type": "markdown",
   "metadata": {},
   "source": [
    "# Decision Tree"
   ]
  },
  {
   "cell_type": "markdown",
   "metadata": {},
   "source": [
    "## The Sklearn model"
   ]
  },
  {
   "cell_type": "markdown",
   "metadata": {},
   "source": [
    "The code below shows how to train the sklearn decision tree model (on the training data) and use it for prediction (on the validation data)."
   ]
  },
  {
   "cell_type": "code",
   "execution_count": 40,
   "metadata": {},
   "outputs": [],
   "source": [
    "from sklearn.tree import DecisionTreeClassifier\n",
    "\n",
    "# The DecisionTreeClassifier\n",
    "dtc = DecisionTreeClassifier(class_weight='balanced', random_state=42)\n",
    "\n",
    "# Train the decision tree classifier on the training data\n",
    "dtc.fit(X_train, y_train)\n",
    "\n",
    "# Get the prediction on the validation data\n",
    "y_valid_pred = dtc.predict(X_valid)"
   ]
  },
  {
   "cell_type": "markdown",
   "metadata": {},
   "source": [
    "The code below shows how to get the precision, recall and f-score."
   ]
  },
  {
   "cell_type": "code",
   "execution_count": 41,
   "metadata": {},
   "outputs": [
    {
     "data": {
      "text/html": [
       "<div>\n",
       "<style scoped>\n",
       "    .dataframe tbody tr th:only-of-type {\n",
       "        vertical-align: middle;\n",
       "    }\n",
       "\n",
       "    .dataframe tbody tr th {\n",
       "        vertical-align: top;\n",
       "    }\n",
       "\n",
       "    .dataframe thead th {\n",
       "        text-align: right;\n",
       "    }\n",
       "</style>\n",
       "<table border=\"1\" class=\"dataframe\">\n",
       "  <thead>\n",
       "    <tr style=\"text-align: right;\">\n",
       "      <th></th>\n",
       "      <th>precision</th>\n",
       "      <th>recall</th>\n",
       "      <th>f-score</th>\n",
       "    </tr>\n",
       "  </thead>\n",
       "  <tbody>\n",
       "    <tr>\n",
       "      <th>0</th>\n",
       "      <td>0.494802</td>\n",
       "      <td>0.494802</td>\n",
       "      <td>0.494802</td>\n",
       "    </tr>\n",
       "  </tbody>\n",
       "</table>\n",
       "</div>"
      ],
      "text/plain": [
       "   precision    recall   f-score\n",
       "0   0.494802  0.494802  0.494802"
      ]
     },
     "execution_count": 41,
     "metadata": {},
     "output_type": "execute_result"
    }
   ],
   "source": [
    "from sklearn.metrics import precision_recall_fscore_support\n",
    "\n",
    "# Get the precision, recall, f-score and support\n",
    "precision, recall, fscore, support = precision_recall_fscore_support(y_valid, y_valid_pred, average='micro')\n",
    "\n",
    "# Print the precision, recall and f-score\n",
    "pd.DataFrame([[precision, recall, fscore]], columns=['precision', 'recall', 'f-score'])"
   ]
  },
  {
   "cell_type": "markdown",
   "metadata": {},
   "source": [
    "## Plot the decision tree\n",
    "You may have to install pydotplus by running the following command:\n",
    "- If you are using anaconda, run\n",
    "    - conda install -c conda-forge pydotplus\n",
    "- Otherwise, run\n",
    "    - pip3 install pydotplus"
   ]
  },
  {
   "cell_type": "markdown",
   "metadata": {},
   "source": [
    "The code below shows how to create the directory for the figures."
   ]
  },
  {
   "cell_type": "code",
   "execution_count": 42,
   "metadata": {},
   "outputs": [],
   "source": [
    "import os\n",
    "\n",
    "# Make directory\n",
    "directory = os.path.dirname('./figure/')\n",
    "if not os.path.exists(directory):\n",
    "    os.makedirs(directory)"
   ]
  },
  {
   "cell_type": "markdown",
   "metadata": {},
   "source": [
    "The code below shows how to create the dot file of the decision tree."
   ]
  },
  {
   "cell_type": "code",
   "execution_count": 43,
   "metadata": {
    "scrolled": true
   },
   "outputs": [],
   "source": [
    "from pydotplus import graph_from_dot_data\n",
    "from sklearn.tree import export_graphviz\n",
    "\n",
    "dot_data = export_graphviz(dtc,\n",
    "                           out_file='./figure/tree.dot',\n",
    "                           feature_names=features,\n",
    "                           class_names=np.unique(df_raw_train[target].astype(str)),\n",
    "                           filled=True, \n",
    "                           rounded=True) "
   ]
  },
  {
   "cell_type": "markdown",
   "metadata": {},
   "source": [
    "- After generating the tree.dot file, you can generate the tree.pdf file by using the following command:\n",
    "    - dot -Tpdf tree.dot -o tree.pdf\n",
    "\n",
    "- You may have to install graphviz by running the following command:\n",
    "    - If you are using anaconda, run\n",
    "        - conda install -c anaconda graphviz\n",
    "    - Otherwise, run\n",
    "        - pip3 install graphviz"
   ]
  },
  {
   "cell_type": "markdown",
   "metadata": {},
   "source": [
    "## Plot the feature importance"
   ]
  },
  {
   "cell_type": "markdown",
   "metadata": {},
   "source": [
    "The code below shows how to get the feature importance detected by decision tree."
   ]
  },
  {
   "cell_type": "code",
   "execution_count": 44,
   "metadata": {},
   "outputs": [
    {
     "data": {
      "text/html": [
       "<div>\n",
       "<style scoped>\n",
       "    .dataframe tbody tr th:only-of-type {\n",
       "        vertical-align: middle;\n",
       "    }\n",
       "\n",
       "    .dataframe tbody tr th {\n",
       "        vertical-align: top;\n",
       "    }\n",
       "\n",
       "    .dataframe thead th {\n",
       "        text-align: right;\n",
       "    }\n",
       "</style>\n",
       "<table border=\"1\" class=\"dataframe\">\n",
       "  <thead>\n",
       "    <tr style=\"text-align: right;\">\n",
       "      <th></th>\n",
       "      <th>Features</th>\n",
       "      <th>Importance</th>\n",
       "    </tr>\n",
       "  </thead>\n",
       "  <tbody>\n",
       "    <tr>\n",
       "      <th>0</th>\n",
       "      <td>C3</td>\n",
       "      <td>0.180947</td>\n",
       "    </tr>\n",
       "    <tr>\n",
       "      <th>1</th>\n",
       "      <td>C5</td>\n",
       "      <td>0.143076</td>\n",
       "    </tr>\n",
       "    <tr>\n",
       "      <th>2</th>\n",
       "      <td>C2</td>\n",
       "      <td>0.134528</td>\n",
       "    </tr>\n",
       "    <tr>\n",
       "      <th>3</th>\n",
       "      <td>C1</td>\n",
       "      <td>0.129728</td>\n",
       "    </tr>\n",
       "    <tr>\n",
       "      <th>4</th>\n",
       "      <td>C4</td>\n",
       "      <td>0.121664</td>\n",
       "    </tr>\n",
       "    <tr>\n",
       "      <th>5</th>\n",
       "      <td>S3</td>\n",
       "      <td>0.0696474</td>\n",
       "    </tr>\n",
       "    <tr>\n",
       "      <th>6</th>\n",
       "      <td>S4</td>\n",
       "      <td>0.069268</td>\n",
       "    </tr>\n",
       "    <tr>\n",
       "      <th>7</th>\n",
       "      <td>S1</td>\n",
       "      <td>0.0519885</td>\n",
       "    </tr>\n",
       "    <tr>\n",
       "      <th>8</th>\n",
       "      <td>S2</td>\n",
       "      <td>0.0499047</td>\n",
       "    </tr>\n",
       "    <tr>\n",
       "      <th>9</th>\n",
       "      <td>S5</td>\n",
       "      <td>0.0492492</td>\n",
       "    </tr>\n",
       "  </tbody>\n",
       "</table>\n",
       "</div>"
      ],
      "text/plain": [
       "  Features Importance\n",
       "0       C3   0.180947\n",
       "1       C5   0.143076\n",
       "2       C2   0.134528\n",
       "3       C1   0.129728\n",
       "4       C4   0.121664\n",
       "5       S3  0.0696474\n",
       "6       S4   0.069268\n",
       "7       S1  0.0519885\n",
       "8       S2  0.0499047\n",
       "9       S5  0.0492492"
      ]
     },
     "execution_count": 44,
     "metadata": {},
     "output_type": "execute_result"
    }
   ],
   "source": [
    "# Get the dataframe of feature and importance\n",
    "df_fi_dtc = pd.DataFrame(np.hstack((features.reshape(-1, 1), dtc.feature_importances_.reshape(-1, 1))),\n",
    "                         columns=['Features', 'Importance'])\n",
    "\n",
    "# Sort df_fi_dtc in descending order of the importance\n",
    "df_fi_dtc = df_fi_dtc.sort_values(ascending=False, by='Importance').reset_index(drop=True)\n",
    "\n",
    "# Print df_fi_dtc\n",
    "df_fi_dtc"
   ]
  },
  {
   "cell_type": "markdown",
   "metadata": {},
   "source": [
    "The code below shows how to create the bar plot of feature importance."
   ]
  },
  {
   "cell_type": "code",
   "execution_count": 45,
   "metadata": {
    "scrolled": true
   },
   "outputs": [
    {
     "data": {
      "image/png": "[encoded data removed]",
      "text/plain": [
       "<Figure size 720x360 with 1 Axes>"
      ]
     },
     "metadata": {
      "needs_background": "light"
     },
     "output_type": "display_data"
    }
   ],
   "source": [
    "# Create a figure\n",
    "fig = plt.figure(figsize=(10, 5))\n",
    "\n",
    "# The bar plot of feature importance\n",
    "plt.bar(df_fi_dtc['Features'], df_fi_dtc['Importance'], color='green')\n",
    "\n",
    "# Set x-axis\n",
    "plt.xlabel('Features')\n",
    "\n",
    "# Set y-axis\n",
    "plt.ylabel('Importance')\n",
    "\n",
    "# Save and show the figure\n",
    "plt.tight_layout()\n",
    "plt.savefig('./figure/feature_importance_dtc.pdf')\n",
    "plt.show()"
   ]
  },
  {
   "cell_type": "markdown",
   "metadata": {},
   "source": [
    "# Bagging"
   ]
  },
  {
   "cell_type": "markdown",
   "metadata": {},
   "source": [
    "## Random Forest"
   ]
  },
  {
   "cell_type": "markdown",
   "metadata": {},
   "source": [
    "### The Sklearn model"
   ]
  },
  {
   "cell_type": "markdown",
   "metadata": {},
   "source": [
    "The code below shows how to train the sklearn random forest model (on the training data) and use it for prediction (on the validation data)."
   ]
  },
  {
   "cell_type": "code",
   "execution_count": 46,
   "metadata": {
    "scrolled": false
   },
   "outputs": [],
   "source": [
    "from sklearn.ensemble import RandomForestClassifier\n",
    "\n",
    "# The RandomForestClassifier\n",
    "rfc = RandomForestClassifier(class_weight='balanced', random_state=42)\n",
    "\n",
    "# Train the random forest classifier on the training data\n",
    "rfc.fit(X_train, y_train)\n",
    "\n",
    "# Get the prediction on the validation data\n",
    "y_valid_pred = rfc.predict(X_valid)"
   ]
  },
  {
   "cell_type": "markdown",
   "metadata": {},
   "source": [
    "The code below shows how to get the precision, recall and f-score."
   ]
  },
  {
   "cell_type": "code",
   "execution_count": 47,
   "metadata": {},
   "outputs": [
    {
     "data": {
      "text/html": [
       "<div>\n",
       "<style scoped>\n",
       "    .dataframe tbody tr th:only-of-type {\n",
       "        vertical-align: middle;\n",
       "    }\n",
       "\n",
       "    .dataframe tbody tr th {\n",
       "        vertical-align: top;\n",
       "    }\n",
       "\n",
       "    .dataframe thead th {\n",
       "        text-align: right;\n",
       "    }\n",
       "</style>\n",
       "<table border=\"1\" class=\"dataframe\">\n",
       "  <thead>\n",
       "    <tr style=\"text-align: right;\">\n",
       "      <th></th>\n",
       "      <th>precision</th>\n",
       "      <th>recall</th>\n",
       "      <th>f-score</th>\n",
       "    </tr>\n",
       "  </thead>\n",
       "  <tbody>\n",
       "    <tr>\n",
       "      <th>0</th>\n",
       "      <td>0.596961</td>\n",
       "      <td>0.596961</td>\n",
       "      <td>0.596961</td>\n",
       "    </tr>\n",
       "  </tbody>\n",
       "</table>\n",
       "</div>"
      ],
      "text/plain": [
       "   precision    recall   f-score\n",
       "0   0.596961  0.596961  0.596961"
      ]
     },
     "execution_count": 47,
     "metadata": {},
     "output_type": "execute_result"
    }
   ],
   "source": [
    "# Get the precision, recall, f-score and support\n",
    "precision, recall, fscore, support = precision_recall_fscore_support(y_valid, y_valid_pred, average='micro')\n",
    "\n",
    "# Print the precision, recall and f-score\n",
    "pd.DataFrame([[precision, recall, fscore]], columns=['precision', 'recall', 'f-score'])"
   ]
  },
  {
   "cell_type": "markdown",
   "metadata": {},
   "source": [
    "### Plot the feature importance"
   ]
  },
  {
   "cell_type": "markdown",
   "metadata": {},
   "source": [
    "The code below shows how to get the feature importance detected by decision tree."
   ]
  },
  {
   "cell_type": "code",
   "execution_count": 48,
   "metadata": {},
   "outputs": [
    {
     "data": {
      "text/html": [
       "<div>\n",
       "<style scoped>\n",
       "    .dataframe tbody tr th:only-of-type {\n",
       "        vertical-align: middle;\n",
       "    }\n",
       "\n",
       "    .dataframe tbody tr th {\n",
       "        vertical-align: top;\n",
       "    }\n",
       "\n",
       "    .dataframe thead th {\n",
       "        text-align: right;\n",
       "    }\n",
       "</style>\n",
       "<table border=\"1\" class=\"dataframe\">\n",
       "  <thead>\n",
       "    <tr style=\"text-align: right;\">\n",
       "      <th></th>\n",
       "      <th>Features</th>\n",
       "      <th>Importance</th>\n",
       "    </tr>\n",
       "  </thead>\n",
       "  <tbody>\n",
       "    <tr>\n",
       "      <th>0</th>\n",
       "      <td>C5</td>\n",
       "      <td>0.146284</td>\n",
       "    </tr>\n",
       "    <tr>\n",
       "      <th>1</th>\n",
       "      <td>C3</td>\n",
       "      <td>0.136805</td>\n",
       "    </tr>\n",
       "    <tr>\n",
       "      <th>2</th>\n",
       "      <td>C1</td>\n",
       "      <td>0.134206</td>\n",
       "    </tr>\n",
       "    <tr>\n",
       "      <th>3</th>\n",
       "      <td>C2</td>\n",
       "      <td>0.130082</td>\n",
       "    </tr>\n",
       "    <tr>\n",
       "      <th>4</th>\n",
       "      <td>C4</td>\n",
       "      <td>0.11968</td>\n",
       "    </tr>\n",
       "    <tr>\n",
       "      <th>5</th>\n",
       "      <td>S5</td>\n",
       "      <td>0.0711049</td>\n",
       "    </tr>\n",
       "    <tr>\n",
       "      <th>6</th>\n",
       "      <td>S4</td>\n",
       "      <td>0.0706938</td>\n",
       "    </tr>\n",
       "    <tr>\n",
       "      <th>7</th>\n",
       "      <td>S2</td>\n",
       "      <td>0.0641928</td>\n",
       "    </tr>\n",
       "    <tr>\n",
       "      <th>8</th>\n",
       "      <td>S3</td>\n",
       "      <td>0.0636396</td>\n",
       "    </tr>\n",
       "    <tr>\n",
       "      <th>9</th>\n",
       "      <td>S1</td>\n",
       "      <td>0.0633126</td>\n",
       "    </tr>\n",
       "  </tbody>\n",
       "</table>\n",
       "</div>"
      ],
      "text/plain": [
       "  Features Importance\n",
       "0       C5   0.146284\n",
       "1       C3   0.136805\n",
       "2       C1   0.134206\n",
       "3       C2   0.130082\n",
       "4       C4    0.11968\n",
       "5       S5  0.0711049\n",
       "6       S4  0.0706938\n",
       "7       S2  0.0641928\n",
       "8       S3  0.0636396\n",
       "9       S1  0.0633126"
      ]
     },
     "execution_count": 48,
     "metadata": {},
     "output_type": "execute_result"
    }
   ],
   "source": [
    "# Get the dataframe of feature and importance\n",
    "df_fi_rfc = pd.DataFrame(np.hstack((features.reshape(-1, 1), rfc.feature_importances_.reshape(-1, 1))),\n",
    "                         columns=['Features', 'Importance'])\n",
    "\n",
    "# Sort df_fi_rfc in descending order of the importance\n",
    "df_fi_rfc = df_fi_rfc.sort_values(ascending=False, by='Importance').reset_index(drop=True)\n",
    "\n",
    "# Print df_fi_rfcs\n",
    "df_fi_rfc"
   ]
  },
  {
   "cell_type": "markdown",
   "metadata": {},
   "source": [
    "The code below shows how to create the bar plot of feature importance."
   ]
  },
  {
   "cell_type": "code",
   "execution_count": 49,
   "metadata": {
    "scrolled": true
   },
   "outputs": [
    {
     "data": {
      "image/png": "[encoded data removed]",
      "text/plain": [
       "<Figure size 720x360 with 1 Axes>"
      ]
     },
     "metadata": {
      "needs_background": "light"
     },
     "output_type": "display_data"
    }
   ],
   "source": [
    "# Create a figure\n",
    "fig = plt.figure(figsize=(10, 5))\n",
    "\n",
    "# The bar plot of feature importance\n",
    "plt.bar(df_fi_rfc['Features'], df_fi_rfc['Importance'], color='green')\n",
    "\n",
    "# Set x-axis\n",
    "plt.xlabel('Features')\n",
    "\n",
    "# Set y-axis\n",
    "plt.ylabel('Importance')\n",
    "\n",
    "# Save and show the figure\n",
    "plt.tight_layout()\n",
    "plt.savefig('./figure/feature_importance_rfc.pdf')\n",
    "plt.show()"
   ]
  },
  {
   "cell_type": "markdown",
   "metadata": {},
   "source": [
    "# Boosting"
   ]
  },
  {
   "cell_type": "markdown",
   "metadata": {},
   "source": [
    "## Adaboost"
   ]
  },
  {
   "cell_type": "markdown",
   "metadata": {},
   "source": [
    "### The Sklearn model"
   ]
  },
  {
   "cell_type": "markdown",
   "metadata": {},
   "source": [
    "The code below shows how to train the sklearn Adaboost model (on the training data) and use it for prediction (on the validation data)."
   ]
  },
  {
   "cell_type": "code",
   "execution_count": 50,
   "metadata": {
    "scrolled": true
   },
   "outputs": [],
   "source": [
    "from sklearn.ensemble import AdaBoostClassifier\n",
    "\n",
    "# The AdaBoostClassifier\n",
    "abc = AdaBoostClassifier(random_state=42)\n",
    "\n",
    "# Train the Adaboost classifier on the training data\n",
    "abc.fit(X_train, y_train)\n",
    "\n",
    "# Get the prediction on the validation data\n",
    "y_valid_pred = abc.predict(X_valid)"
   ]
  },
  {
   "cell_type": "markdown",
   "metadata": {},
   "source": [
    "The code below shows how to get the precision, recall and f-score."
   ]
  },
  {
   "cell_type": "code",
   "execution_count": 51,
   "metadata": {},
   "outputs": [
    {
     "data": {
      "text/html": [
       "<div>\n",
       "<style scoped>\n",
       "    .dataframe tbody tr th:only-of-type {\n",
       "        vertical-align: middle;\n",
       "    }\n",
       "\n",
       "    .dataframe tbody tr th {\n",
       "        vertical-align: top;\n",
       "    }\n",
       "\n",
       "    .dataframe thead th {\n",
       "        text-align: right;\n",
       "    }\n",
       "</style>\n",
       "<table border=\"1\" class=\"dataframe\">\n",
       "  <thead>\n",
       "    <tr style=\"text-align: right;\">\n",
       "      <th></th>\n",
       "      <th>precision</th>\n",
       "      <th>recall</th>\n",
       "      <th>f-score</th>\n",
       "    </tr>\n",
       "  </thead>\n",
       "  <tbody>\n",
       "    <tr>\n",
       "      <th>0</th>\n",
       "      <td>0.495402</td>\n",
       "      <td>0.495402</td>\n",
       "      <td>0.495402</td>\n",
       "    </tr>\n",
       "  </tbody>\n",
       "</table>\n",
       "</div>"
      ],
      "text/plain": [
       "   precision    recall   f-score\n",
       "0   0.495402  0.495402  0.495402"
      ]
     },
     "execution_count": 51,
     "metadata": {},
     "output_type": "execute_result"
    }
   ],
   "source": [
    "# Get the precision, recall, f-score and support\n",
    "precision, recall, fscore, support = precision_recall_fscore_support(y_valid, y_valid_pred, average='micro')\n",
    "\n",
    "# Print the precision, recall and f-score\n",
    "pd.DataFrame([[precision, recall, fscore]], columns=['precision', 'recall', 'f-score'])"
   ]
  },
  {
   "cell_type": "markdown",
   "metadata": {},
   "source": [
    "## Gradient Boosting"
   ]
  },
  {
   "cell_type": "markdown",
   "metadata": {},
   "source": [
    "### The Sklearn model"
   ]
  },
  {
   "cell_type": "markdown",
   "metadata": {},
   "source": [
    "The code below shows how to train the sklearn histogram-based gradient boosting classifier (on the training data) and use it for prediction (on the validation data)."
   ]
  },
  {
   "cell_type": "code",
   "execution_count": 52,
   "metadata": {
    "scrolled": true
   },
   "outputs": [],
   "source": [
    "from sklearn.experimental import enable_hist_gradient_boosting\n",
    "from sklearn.ensemble import HistGradientBoostingClassifier\n",
    "\n",
    "# The HistGradientBoostingClassifier\n",
    "hgbc = HistGradientBoostingClassifier(random_state=42)\n",
    "\n",
    "# Train the histogram-based gradient boosting classifier on the training data\n",
    "hgbc.fit(X_train, y_train)\n",
    "\n",
    "# Get the prediction on the validation data\n",
    "y_valid_pred = hgbc.predict(X_valid)"
   ]
  },
  {
   "cell_type": "markdown",
   "metadata": {},
   "source": [
    "The code below shows how to get the precision, recall and f-score."
   ]
  },
  {
   "cell_type": "code",
   "execution_count": 53,
   "metadata": {},
   "outputs": [
    {
     "data": {
      "text/html": [
       "<div>\n",
       "<style scoped>\n",
       "    .dataframe tbody tr th:only-of-type {\n",
       "        vertical-align: middle;\n",
       "    }\n",
       "\n",
       "    .dataframe tbody tr th {\n",
       "        vertical-align: top;\n",
       "    }\n",
       "\n",
       "    .dataframe thead th {\n",
       "        text-align: right;\n",
       "    }\n",
       "</style>\n",
       "<table border=\"1\" class=\"dataframe\">\n",
       "  <thead>\n",
       "    <tr style=\"text-align: right;\">\n",
       "      <th></th>\n",
       "      <th>precision</th>\n",
       "      <th>recall</th>\n",
       "      <th>f-score</th>\n",
       "    </tr>\n",
       "  </thead>\n",
       "  <tbody>\n",
       "    <tr>\n",
       "      <th>0</th>\n",
       "      <td>0.606357</td>\n",
       "      <td>0.606357</td>\n",
       "      <td>0.606357</td>\n",
       "    </tr>\n",
       "  </tbody>\n",
       "</table>\n",
       "</div>"
      ],
      "text/plain": [
       "   precision    recall   f-score\n",
       "0   0.606357  0.606357  0.606357"
      ]
     },
     "execution_count": 53,
     "metadata": {},
     "output_type": "execute_result"
    }
   ],
   "source": [
    "# Get the precision, recall, f-score and support\n",
    "precision, recall, fscore, support = precision_recall_fscore_support(y_valid, y_valid_pred, average='micro')\n",
    "\n",
    "# Print the precision, recall and f-score\n",
    "pd.DataFrame([[precision, recall, fscore]], columns=['precision', 'recall', 'f-score'])"
   ]
  },
  {
   "cell_type": "markdown",
   "metadata": {},
   "source": [
    "### The XGBoost model\n",
    "You may have to install XGBoost by running the following command:\n",
    "- If you are using anaconda, run\n",
    "    - conda install -c conda-forge xgboost\n",
    "- Otherwise, run\n",
    "    - pip3 install xgboost"
   ]
  },
  {
   "cell_type": "markdown",
   "metadata": {},
   "source": [
    "The code below shows how to train the XGBoost model (on the training data) and use it for prediction (on the validation data)."
   ]
  },
  {
   "cell_type": "code",
   "execution_count": 54,
   "metadata": {
    "scrolled": true
   },
   "outputs": [],
   "source": [
    "from xgboost.sklearn import XGBClassifier\n",
    "\n",
    "# The XGBClassifier\n",
    "xgbc = XGBClassifier(random_state=42)\n",
    "\n",
    "# Train the XGBClassifier on the training data\n",
    "xgbc.fit(X_train, y_train)\n",
    "\n",
    "# Get the prediction on the validation data\n",
    "y_valid_pred = xgbc.predict(X_valid)"
   ]
  },
  {
   "cell_type": "markdown",
   "metadata": {},
   "source": [
    "The code below shows how to get the precision, recall and f-score."
   ]
  },
  {
   "cell_type": "code",
   "execution_count": 55,
   "metadata": {},
   "outputs": [
    {
     "data": {
      "text/html": [
       "<div>\n",
       "<style scoped>\n",
       "    .dataframe tbody tr th:only-of-type {\n",
       "        vertical-align: middle;\n",
       "    }\n",
       "\n",
       "    .dataframe tbody tr th {\n",
       "        vertical-align: top;\n",
       "    }\n",
       "\n",
       "    .dataframe thead th {\n",
       "        text-align: right;\n",
       "    }\n",
       "</style>\n",
       "<table border=\"1\" class=\"dataframe\">\n",
       "  <thead>\n",
       "    <tr style=\"text-align: right;\">\n",
       "      <th></th>\n",
       "      <th>precision</th>\n",
       "      <th>recall</th>\n",
       "      <th>f-score</th>\n",
       "    </tr>\n",
       "  </thead>\n",
       "  <tbody>\n",
       "    <tr>\n",
       "      <th>0</th>\n",
       "      <td>0.596162</td>\n",
       "      <td>0.596162</td>\n",
       "      <td>0.596162</td>\n",
       "    </tr>\n",
       "  </tbody>\n",
       "</table>\n",
       "</div>"
      ],
      "text/plain": [
       "   precision    recall   f-score\n",
       "0   0.596162  0.596162  0.596162"
      ]
     },
     "execution_count": 55,
     "metadata": {},
     "output_type": "execute_result"
    }
   ],
   "source": [
    "# Get the precision, recall, f-score and support\n",
    "precision, recall, fscore, support = precision_recall_fscore_support(y_valid, y_valid_pred, average='micro')\n",
    "\n",
    "# Print the precision, recall and f-score\n",
    "pd.DataFrame([[precision, recall, fscore]], columns=['precision', 'recall', 'f-score'])"
   ]
  },
  {
   "cell_type": "markdown",
   "metadata": {},
   "source": [
    "# Stacking"
   ]
  },
  {
   "cell_type": "markdown",
   "metadata": {},
   "source": [
    "## The Sklearn model (0.22 or above)"
   ]
  },
  {
   "cell_type": "markdown",
   "metadata": {},
   "source": [
    "The code below shows how to train the sklearn stacking model (on the training data) and use it for prediction (on the validation data)."
   ]
  },
  {
   "cell_type": "code",
   "execution_count": 56,
   "metadata": {},
   "outputs": [],
   "source": [
    "from sklearn.ensemble import StackingClassifier\n",
    "\n",
    "# The base estimators \n",
    "estimators = [('dtc', DecisionTreeClassifier(class_weight='balanced', random_state=42)),\n",
    "              ('rfc', RandomForestClassifier(class_weight='balanced', random_state=42)),\n",
    "              ('abc', AdaBoostClassifier(random_state=42))]\n",
    "\n",
    "# The StackingClassifier\n",
    "sc = StackingClassifier(estimators=estimators, final_estimator=XGBClassifier(random_state=42))\n",
    "\n",
    "# Train the StackingClassifier on the training data\n",
    "sc.fit(X_train, y_train)\n",
    "\n",
    "# Get the prediction on the validation data\n",
    "y_valid_pred = sc.predict(X_valid)"
   ]
  },
  {
   "cell_type": "markdown",
   "metadata": {},
   "source": [
    "The code below shows how to get the precision, recall and f-score."
   ]
  },
  {
   "cell_type": "code",
   "execution_count": 57,
   "metadata": {},
   "outputs": [
    {
     "data": {
      "text/html": [
       "<div>\n",
       "<style scoped>\n",
       "    .dataframe tbody tr th:only-of-type {\n",
       "        vertical-align: middle;\n",
       "    }\n",
       "\n",
       "    .dataframe tbody tr th {\n",
       "        vertical-align: top;\n",
       "    }\n",
       "\n",
       "    .dataframe thead th {\n",
       "        text-align: right;\n",
       "    }\n",
       "</style>\n",
       "<table border=\"1\" class=\"dataframe\">\n",
       "  <thead>\n",
       "    <tr style=\"text-align: right;\">\n",
       "      <th></th>\n",
       "      <th>precision</th>\n",
       "      <th>recall</th>\n",
       "      <th>f-score</th>\n",
       "    </tr>\n",
       "  </thead>\n",
       "  <tbody>\n",
       "    <tr>\n",
       "      <th>0</th>\n",
       "      <td>0.619352</td>\n",
       "      <td>0.619352</td>\n",
       "      <td>0.619352</td>\n",
       "    </tr>\n",
       "  </tbody>\n",
       "</table>\n",
       "</div>"
      ],
      "text/plain": [
       "   precision    recall   f-score\n",
       "0   0.619352  0.619352  0.619352"
      ]
     },
     "execution_count": 57,
     "metadata": {},
     "output_type": "execute_result"
    }
   ],
   "source": [
    "# Get the precision, recall, f-score and support\n",
    "precision, recall, fscore, support = precision_recall_fscore_support(y_valid, y_valid_pred, average='micro')\n",
    "\n",
    "# Print the precision, recall and f-score\n",
    "pd.DataFrame([[precision, recall, fscore]], columns=['precision', 'recall', 'f-score'])"
   ]
  },
  {
   "cell_type": "markdown",
   "metadata": {},
   "source": [
    "# Hyperparameter Tuning and Model Selection"
   ]
  },
  {
   "cell_type": "markdown",
   "metadata": {},
   "source": [
    "## Creating the dictionary of the models\n",
    "- In the dictionary:\n",
    "    - the key is the acronym of the model\n",
    "    - the value is the model"
   ]
  },
  {
   "cell_type": "code",
   "execution_count": 58,
   "metadata": {},
   "outputs": [],
   "source": [
    "from sklearn.linear_model import LogisticRegression\n",
    "\n",
    "models = {'lr': LogisticRegression(class_weight='balanced', random_state=42),\n",
    "          'dtc': DecisionTreeClassifier(class_weight='balanced', random_state=42),\n",
    "          'rfc': RandomForestClassifier(class_weight='balanced', random_state=42),\n",
    "          'hgbc': HistGradientBoostingClassifier(random_state=42),\n",
    "          'xgbc': XGBClassifier(seed=42)}"
   ]
  },
  {
   "cell_type": "markdown",
   "metadata": {},
   "source": [
    "## Creating the dictionary of the pipelines\n",
    "In the dictionary:\n",
    "- the key is the acronym of the model\n",
    "- the value is the pipeline, which, for now, only includes the model"
   ]
  },
  {
   "cell_type": "code",
   "execution_count": 59,
   "metadata": {},
   "outputs": [],
   "source": [
    "from sklearn.pipeline import Pipeline\n",
    "\n",
    "pipes = {}\n",
    "\n",
    "for acronym, model in models.items():\n",
    "    pipes[acronym] = Pipeline([('model', model)])"
   ]
  },
  {
   "cell_type": "markdown",
   "metadata": {},
   "source": [
    "## Hyperparameter tuning and model selection using Sklearn (0.22 or above)"
   ]
  },
  {
   "cell_type": "markdown",
   "metadata": {},
   "source": [
    "### Getting the predefined split cross-validator"
   ]
  },
  {
   "cell_type": "code",
   "execution_count": 60,
   "metadata": {
    "scrolled": true
   },
   "outputs": [],
   "source": [
    "from sklearn.model_selection import PredefinedSplit\n",
    "\n",
    "# Combine the feature matrix in the training and validation data\n",
    "X_train_valid = np.vstack((X_train, X_valid))\n",
    "\n",
    "# Combine the target vector in the training and validation data\n",
    "y_train_valid = np.append(y_train, y_valid)\n",
    "\n",
    "# Get the indices of training and validation data\n",
    "train_valid_idxs = np.append(np.full(X_train.shape[0], -1), np.full(X_valid.shape[0], 0))\n",
    "\n",
    "# The PredefinedSplit\n",
    "ps = PredefinedSplit(train_valid_idxs)"
   ]
  },
  {
   "cell_type": "markdown",
   "metadata": {},
   "source": [
    "### Creating the dictionary of the parameter grids\n",
    "- In the dictionary:\n",
    "    - the key is the acronym of the model\n",
    "    - the value is the parameter grid of the model"
   ]
  },
  {
   "cell_type": "code",
   "execution_count": 61,
   "metadata": {},
   "outputs": [],
   "source": [
    "param_grids = {}"
   ]
  },
  {
   "cell_type": "markdown",
   "metadata": {},
   "source": [
    "#### The parameter grid for logistic regression\n",
    "The hyperparameters we want to fine-tune are:\n",
    "- C\n",
    "- tol\n",
    "\n",
    "See details of the meaning of the hyperparametes in [sklearn.linear_model.LogisticRegression](https://scikit-learn.org/stable/modules/generated/sklearn.linear_model.LogisticRegression.html)"
   ]
  },
  {
   "cell_type": "code",
   "execution_count": 62,
   "metadata": {},
   "outputs": [],
   "source": [
    "# The grids for C\n",
    "C_grids = [10 ** i for i in range(-2, 3)]\n",
    "\n",
    "# The grids for tol\n",
    "tol_grids = [10 ** i for i in range(-6, -1)]\n",
    "\n",
    "# Update param_grids\n",
    "param_grids['lr'] = [{'model__C': C_grids,\n",
    "                      'model__tol': tol_grids}]"
   ]
  },
  {
   "cell_type": "markdown",
   "metadata": {},
   "source": [
    "#### The parameter grid for decision tree\n",
    "The hyperparameters we want to fine-tune are:\n",
    "- min_samples_split\n",
    "- min_samples_leaf\n",
    "\n",
    "See details of the meaning of the hyperparametes in [sklearn.tree.DecisionTreeClassifier](https://scikit-learn.org/stable/modules/generated/sklearn.tree.DecisionTreeClassifier.html#sklearn.tree.DecisionTreeClassifier)"
   ]
  },
  {
   "cell_type": "code",
   "execution_count": 63,
   "metadata": {},
   "outputs": [],
   "source": [
    "# The grids for min_samples_split\n",
    "min_samples_split_grids = [2, 20, 100]\n",
    "\n",
    "# The grids for min_samples_leaf\n",
    "min_samples_leaf_grids = [1, 20, 100]\n",
    "\n",
    "# Update param_grids\n",
    "param_grids['dtc'] = [{'model__min_samples_split': min_samples_split_grids,\n",
    "                       'model__min_samples_leaf': min_samples_leaf_grids}]"
   ]
  },
  {
   "cell_type": "markdown",
   "metadata": {},
   "source": [
    "#### The parameter grid for random forest\n",
    "The hyperparameters we want to fine-tune are:\n",
    "- min_samples_split\n",
    "- min_samples_leaf\n",
    "\n",
    "See details of the meaning of the hyperparametes in [sklearn.ensemble.RandomForestClassifier](https://scikit-learn.org/stable/modules/generated/sklearn.ensemble.RandomForestClassifier.html)"
   ]
  },
  {
   "cell_type": "code",
   "execution_count": 64,
   "metadata": {},
   "outputs": [],
   "source": [
    "# The grids for min_samples_split\n",
    "min_samples_split_grids = [2, 20, 100]\n",
    "\n",
    "# The grids for min_samples_leaf\n",
    "min_samples_leaf_grids = [1, 20, 100]\n",
    "\n",
    "# Update param_grids\n",
    "param_grids['rfc'] = [{'model__min_samples_split': min_samples_split_grids,\n",
    "                       'model__min_samples_leaf': min_samples_leaf_grids}]"
   ]
  },
  {
   "cell_type": "markdown",
   "metadata": {},
   "source": [
    "#### The parameter grid for Adaboost\n",
    "The hyperparameters we want to fine-tune are:\n",
    "- learning_rate\n",
    "\n",
    "See details of the meaning of the hyperparametes in [sklearn.ensemble.AdaBoostClassifier](https://scikit-learn.org/stable/modules/generated/sklearn.ensemble.AdaBoostClassifier.html)"
   ]
  },
  {
   "cell_type": "code",
   "execution_count": 65,
   "metadata": {},
   "outputs": [],
   "source": [
    "# The grids for learning_rate\n",
    "learning_rate_grids = [10 ** i for i in range(-3, 2)]\n",
    "\n",
    "# Update param_grids\n",
    "param_grids['abc'] = [{'model__learning_rate': learning_rate_grids}]"
   ]
  },
  {
   "cell_type": "markdown",
   "metadata": {},
   "source": [
    "#### The parameter grid for histogram-based gradient boosting\n",
    "The hyperparameters we want to fine-tune are:\n",
    "- learning_rate\n",
    "- min_samples_leaf\n",
    "\n",
    "See details of the meaning of the hyperparametes in [sklearn.ensemble.HistGradientBoostingClassifier](https://scikit-learn.org/stable/modules/generated/sklearn.ensemble.HistGradientBoostingClassifier.html)"
   ]
  },
  {
   "cell_type": "code",
   "execution_count": 66,
   "metadata": {},
   "outputs": [],
   "source": [
    "# The grids for learning_rate\n",
    "learning_rate_grids = [10 ** i for i in range(-3, 2)]\n",
    "\n",
    "# The grids for min_samples_leaf\n",
    "min_samples_leaf_grids = [1, 20, 100]\n",
    "\n",
    "# Update param_grids\n",
    "param_grids['hgbc'] = [{'model__learning_rate': learning_rate_grids,\n",
    "                        'model__min_samples_leaf': min_samples_leaf_grids}]"
   ]
  },
  {
   "cell_type": "markdown",
   "metadata": {},
   "source": [
    "#### The parameter grid for xgboost\n",
    "The hyperparameters we want to fine-tune are:\n",
    "- eta\n",
    "- gamma\n",
    "- lambda\n",
    "\n",
    "See details of the meaning of the hyperparametes in [XGBoost Parameters](https://xgboost.readthedocs.io/en/latest/parameter.html)"
   ]
  },
  {
   "cell_type": "code",
   "execution_count": 67,
   "metadata": {},
   "outputs": [],
   "source": [
    "# The grids for eta\n",
    "eta_grids = [10 ** i for i in range(-4, 1)]\n",
    "\n",
    "# The grids for gamma\n",
    "gamma_grids = [0, 10, 100]\n",
    "\n",
    "# The grids for lambda\n",
    "lambda_grids = [10 ** i for i in range(-4, 5)]\n",
    "\n",
    "# Update param_grids\n",
    "param_grids['xgbc'] = [{'model__eta': eta_grids,\n",
    "                        'model__gamma': gamma_grids,\n",
    "                        'model__lambda': lambda_grids}]"
   ]
  },
  {
   "cell_type": "markdown",
   "metadata": {},
   "source": [
    "### Creating the directory for the cv results."
   ]
  },
  {
   "cell_type": "code",
   "execution_count": 68,
   "metadata": {},
   "outputs": [],
   "source": [
    "import os\n",
    "\n",
    "# Make directory\n",
    "directory = os.path.dirname('./cv_results/')\n",
    "if not os.path.exists(directory):\n",
    "    os.makedirs(directory)"
   ]
  },
  {
   "cell_type": "markdown",
   "metadata": {},
   "source": [
    "### Hyperparameter tuning\n",
    "The code below shows how to fine-tune the hyperparameters of the models above (using sklearn GridSearchCV)."
   ]
  },
  {
   "cell_type": "code",
   "execution_count": 69,
   "metadata": {},
   "outputs": [],
   "source": [
    "from sklearn.model_selection import GridSearchCV\n",
    "\n",
    "# The list of [best_score_, best_params_, best_estimator_] obtained by GridSearchCV\n",
    "best_score_param_estimator_gs = []\n",
    "\n",
    "for acronym in pipes.keys():\n",
    "    # GridSearchCV\n",
    "    gs = GridSearchCV(estimator=pipes[acronym],\n",
    "                      param_grid=param_grids[acronym],\n",
    "                      scoring='f1_micro',\n",
    "                      n_jobs=2,\n",
    "                      cv=ps,\n",
    "                      return_train_score=True)\n",
    "        \n",
    "    # Fit the pipeline\n",
    "    gs = gs.fit(X_train_valid, y_train_valid)\n",
    "    \n",
    "    # Update best_score_param_estimator_gs\n",
    "    best_score_param_estimator_gs.append([gs.best_score_, gs.best_params_, gs.best_estimator_])\n",
    "    \n",
    "    # Sort cv_results in ascending order of 'rank_test_score' and 'std_test_score'\n",
    "    cv_results = pd.DataFrame.from_dict(gs.cv_results_).sort_values(by=['rank_test_score', 'std_test_score'])\n",
    "    \n",
    "    # Get the important columns in cv_results\n",
    "    important_columns = ['rank_test_score',\n",
    "                         'mean_test_score', \n",
    "                         'std_test_score', \n",
    "                         'mean_train_score', \n",
    "                         'std_train_score',\n",
    "                         'mean_fit_time', \n",
    "                         'std_fit_time',                        \n",
    "                         'mean_score_time', \n",
    "                         'std_score_time']\n",
    "    \n",
    "    # Move the important columns ahead\n",
    "    cv_results = cv_results[important_columns + sorted(list(set(cv_results.columns) - set(important_columns)))]\n",
    "\n",
    "    # Write cv_results file\n",
    "    cv_results.to_csv(path_or_buf='./cv_results/' + acronym + '.csv', index=False)"
   ]
  },
  {
   "cell_type": "markdown",
   "metadata": {},
   "source": [
    "### Model selection"
   ]
  },
  {
   "cell_type": "code",
   "execution_count": 70,
   "metadata": {
    "scrolled": false
   },
   "outputs": [
    {
     "data": {
      "text/html": [
       "<div>\n",
       "<style scoped>\n",
       "    .dataframe tbody tr th:only-of-type {\n",
       "        vertical-align: middle;\n",
       "    }\n",
       "\n",
       "    .dataframe tbody tr th {\n",
       "        vertical-align: top;\n",
       "    }\n",
       "\n",
       "    .dataframe thead th {\n",
       "        text-align: right;\n",
       "    }\n",
       "</style>\n",
       "<table border=\"1\" class=\"dataframe\">\n",
       "  <thead>\n",
       "    <tr style=\"text-align: right;\">\n",
       "      <th></th>\n",
       "      <th>best_score</th>\n",
       "      <th>best_param</th>\n",
       "      <th>best_estimator</th>\n",
       "    </tr>\n",
       "  </thead>\n",
       "  <tbody>\n",
       "    <tr>\n",
       "      <th>0</th>\n",
       "      <td>0.647341</td>\n",
       "      <td>{'model__learning_rate': 0.1, 'model__min_samp...</td>\n",
       "      <td>(HistGradientBoostingClassifier(l2_regularizat...</td>\n",
       "    </tr>\n",
       "    <tr>\n",
       "      <th>1</th>\n",
       "      <td>0.596961</td>\n",
       "      <td>{'model__min_samples_leaf': 1, 'model__min_sam...</td>\n",
       "      <td>((DecisionTreeClassifier(ccp_alpha=0.0, class_...</td>\n",
       "    </tr>\n",
       "    <tr>\n",
       "      <th>2</th>\n",
       "      <td>0.596162</td>\n",
       "      <td>{'model__eta': 0.0001, 'model__gamma': 0, 'mod...</td>\n",
       "      <td>(XGBClassifier(base_score=0.5, booster='gbtree...</td>\n",
       "    </tr>\n",
       "    <tr>\n",
       "      <th>3</th>\n",
       "      <td>0.494802</td>\n",
       "      <td>{'model__min_samples_leaf': 1, 'model__min_sam...</td>\n",
       "      <td>(DecisionTreeClassifier(ccp_alpha=0.0, class_w...</td>\n",
       "    </tr>\n",
       "    <tr>\n",
       "      <th>4</th>\n",
       "      <td>0.023191</td>\n",
       "      <td>{'model__C': 10, 'model__tol': 1e-06}</td>\n",
       "      <td>(LogisticRegression(C=10, class_weight='balanc...</td>\n",
       "    </tr>\n",
       "  </tbody>\n",
       "</table>\n",
       "</div>"
      ],
      "text/plain": [
       "   best_score                                         best_param  \\\n",
       "0    0.647341  {'model__learning_rate': 0.1, 'model__min_samp...   \n",
       "1    0.596961  {'model__min_samples_leaf': 1, 'model__min_sam...   \n",
       "2    0.596162  {'model__eta': 0.0001, 'model__gamma': 0, 'mod...   \n",
       "3    0.494802  {'model__min_samples_leaf': 1, 'model__min_sam...   \n",
       "4    0.023191              {'model__C': 10, 'model__tol': 1e-06}   \n",
       "\n",
       "                                      best_estimator  \n",
       "0  (HistGradientBoostingClassifier(l2_regularizat...  \n",
       "1  ((DecisionTreeClassifier(ccp_alpha=0.0, class_...  \n",
       "2  (XGBClassifier(base_score=0.5, booster='gbtree...  \n",
       "3  (DecisionTreeClassifier(ccp_alpha=0.0, class_w...  \n",
       "4  (LogisticRegression(C=10, class_weight='balanc...  "
      ]
     },
     "execution_count": 70,
     "metadata": {},
     "output_type": "execute_result"
    }
   ],
   "source": [
    "# Sort best_score_param_estimator_gs in descending order of the best_score_\n",
    "best_score_param_estimator_gs = sorted(best_score_param_estimator_gs, key=lambda x : x[0], reverse=True)\n",
    "\n",
    "# Print best_score_param_estimator_gs\n",
    "pd.DataFrame(best_score_param_estimator_gs, columns=['best_score', 'best_param', 'best_estimator'])"
   ]
  },
  {
   "cell_type": "code",
   "execution_count": 71,
   "metadata": {},
   "outputs": [],
   "source": [
    "# Get the best_score, best_param and best_estimator obtained by GridSearchCV\n",
    "best_score_gs, best_param_gs, best_estimator_gs = best_score_param_estimator_gs[0]"
   ]
  },
  {
   "cell_type": "markdown",
   "metadata": {},
   "source": [
    "# Generating the Submission File"
   ]
  },
  {
   "cell_type": "code",
   "execution_count": 72,
   "metadata": {
    "scrolled": true
   },
   "outputs": [],
   "source": [
    "# Get the prediction on the testing data using best_model\n",
    "y_test_pred = best_estimator_gs.predict(X_test)\n",
    "\n",
    "# Transform y_test_pred back to the original class\n",
    "y_test_pred = le.inverse_transform(y_test_pred)\n",
    "\n",
    "# Get the submission dataframe\n",
    "df_submit = pd.DataFrame(np.hstack((np.arange(1, y_test_pred.shape[0] + 1).reshape(-1, 1), y_test_pred.reshape(-1, 1))),\n",
    "                         columns=['id', target])                                                                                      \n",
    "\n",
    "# Generate the submission file\n",
    "df_submit.to_csv('submission.csv', index=False)"
   ]
  },
  {
   "cell_type": "markdown",
   "metadata": {},
   "source": [
    "# Discussion\n",
    "In this case study, we started from decision tree then moved on to bagging, boosting and stacking. In the next three case studies, we will be discussing more powerful stacking networks, called Neural Networks and Deep Neural Networks. Stay tuned."
   ]
  },
  {
   "cell_type": "code",
   "execution_count": null,
   "metadata": {},
   "outputs": [],
   "source": []
  }
 ],
 "metadata": {
  "kernelspec": {
   "display_name": "Python 3",
   "language": "python",
   "name": "python3"
  },
  "language_info": {
   "codemirror_mode": {
    "name": "ipython",
    "version": 3
   },
   "file_extension": ".py",
   "mimetype": "text/x-python",
   "name": "python",
   "nbconvert_exporter": "python",
   "pygments_lexer": "ipython3",
   "version": "3.7.6"
  },
  "toc": {
   "base_numbering": 1,
   "nav_menu": {},
   "number_sections": true,
   "sideBar": true,
   "skip_h1_title": false,
   "title_cell": "Table of Contents",
   "title_sidebar": "Contents",
   "toc_cell": true,
   "toc_position": {},
   "toc_section_display": true,
   "toc_window_display": false
  }
 },
 "nbformat": 4,
 "nbformat_minor": 2
}
