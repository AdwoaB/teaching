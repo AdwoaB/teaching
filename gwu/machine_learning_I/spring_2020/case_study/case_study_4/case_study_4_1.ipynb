{
  "nbformat": 4,
  "nbformat_minor": 0,
  "metadata": {
    "kernelspec": {
      "display_name": "Python 3",
      "language": "python",
      "name": "python3"
    },
    "language_info": {
      "codemirror_mode": {
        "name": "ipython",
        "version": 3
      },
      "file_extension": ".py",
      "mimetype": "text/x-python",
      "name": "python",
      "nbconvert_exporter": "python",
      "pygments_lexer": "ipython3",
      "version": "3.7.6"
    },
    "toc": {
      "base_numbering": 1,
      "nav_menu": {},
      "number_sections": true,
      "sideBar": true,
      "skip_h1_title": false,
      "title_cell": "Table of Contents",
      "title_sidebar": "Contents",
      "toc_cell": true,
      "toc_position": {},
      "toc_section_display": true,
      "toc_window_display": false
    },
    "colab": {
      "name": "case_study_4_1.ipynb",
      "provenance": [],
      "collapsed_sections": [
        "MyQTiz3U11Le",
        "-sLEIkKC11Lj",
        "Yy9hhvCt11Lo",
        "j1d6NlW211L1",
        "ciiCNlx611L7",
        "Y4V4IMf311MD",
        "--FZRK7A11MK",
        "O-1wrp7x11MM",
        "FdtAT_-S11MN",
        "_OBi9CBJ11MU",
        "duf9fhLP11MY",
        "kkXM6tEV11Mb"
      ]
    }
  },
  "cells": [
    {
      "cell_type": "markdown",
      "metadata": {
        "toc": true,
        "id": "W90IVQWp11KS",
        "colab_type": "text"
      },
      "source": [
        "<h1>Table of Contents<span class=\"tocSkip\"></span></h1>\n",
        "<div class=\"toc\"><ul class=\"toc-item\"><li><span><a href=\"#Data-Preprocessing\" data-toc-modified-id=\"Data-Preprocessing-1\"><span class=\"toc-item-num\">1&nbsp;&nbsp;</span>Data Preprocessing</a></span><ul class=\"toc-item\"><li><span><a href=\"#Generating-the-features\" data-toc-modified-id=\"Generating-the-features-1.1\"><span class=\"toc-item-num\">1.1&nbsp;&nbsp;</span>Generating the features</a></span></li><li><span><a href=\"#Generating-logical-AND-data\" data-toc-modified-id=\"Generating-logical-AND-data-1.2\"><span class=\"toc-item-num\">1.2&nbsp;&nbsp;</span>Generating logical AND data</a></span></li><li><span><a href=\"#Generating-logical-OR-data\" data-toc-modified-id=\"Generating-logical-OR-data-1.3\"><span class=\"toc-item-num\">1.3&nbsp;&nbsp;</span>Generating logical OR data</a></span></li><li><span><a href=\"#Generating-logical-XOR-data\" data-toc-modified-id=\"Generating-logical-XOR-data-1.4\"><span class=\"toc-item-num\">1.4&nbsp;&nbsp;</span>Generating logical XOR data</a></span></li><li><span><a href=\"#A-plot-function\" data-toc-modified-id=\"A-plot-function-1.5\"><span class=\"toc-item-num\">1.5&nbsp;&nbsp;</span>A plot function</a></span></li><li><span><a href=\"#Plot-the-logical-AND-data\" data-toc-modified-id=\"Plot-the-logical-AND-data-1.6\"><span class=\"toc-item-num\">1.6&nbsp;&nbsp;</span>Plot the logical AND data</a></span></li><li><span><a href=\"#Plot-the-logical-OR-data\" data-toc-modified-id=\"Plot-the-logical-OR-data-1.7\"><span class=\"toc-item-num\">1.7&nbsp;&nbsp;</span>Plot the logical OR data</a></span></li><li><span><a href=\"#Plot-the-logical-XOR-data\" data-toc-modified-id=\"Plot-the-logical-XOR-data-1.8\"><span class=\"toc-item-num\">1.8&nbsp;&nbsp;</span>Plot the logical XOR data</a></span></li></ul></li><li><span><a href=\"#Perceptron\" data-toc-modified-id=\"Perceptron-2\"><span class=\"toc-item-num\">2&nbsp;&nbsp;</span>Perceptron</a></span><ul class=\"toc-item\"><li><span><a href=\"#The-Sklearn-model\" data-toc-modified-id=\"The-Sklearn-model-2.1\"><span class=\"toc-item-num\">2.1&nbsp;&nbsp;</span>The Sklearn model</a></span><ul class=\"toc-item\"><li><span><a href=\"#Train-and-test-the-Perceptron-on-the-logical-AND-data\" data-toc-modified-id=\"Train-and-test-the-Perceptron-on-the-logical-AND-data-2.1.1\"><span class=\"toc-item-num\">2.1.1&nbsp;&nbsp;</span>Train and test the Perceptron on the logical AND data</a></span></li><li><span><a href=\"#Train-and-test-the-Perceptron-on-the-logical-OR-data\" data-toc-modified-id=\"Train-and-test-the-Perceptron-on-the-logical-OR-data-2.1.2\"><span class=\"toc-item-num\">2.1.2&nbsp;&nbsp;</span>Train and test the Perceptron on the logical OR data</a></span></li><li><span><a href=\"#Train-and-test-the-Perceptron-on-the-logical-XOR-data\" data-toc-modified-id=\"Train-and-test-the-Perceptron-on-the-logical-XOR-data-2.1.3\"><span class=\"toc-item-num\">2.1.3&nbsp;&nbsp;</span>Train and test the Perceptron on the logical XOR data</a></span></li></ul></li><li><span><a href=\"#The-implemented-model\" data-toc-modified-id=\"The-implemented-model-2.2\"><span class=\"toc-item-num\">2.2&nbsp;&nbsp;</span>The implemented model</a></span><ul class=\"toc-item\"><li><span><a href=\"#Train-and-test-the-Perceptron_BGD-on-the-logical-AND-data\" data-toc-modified-id=\"Train-and-test-the-Perceptron_BGD-on-the-logical-AND-data-2.2.1\"><span class=\"toc-item-num\">2.2.1&nbsp;&nbsp;</span>Train and test the Perceptron_BGD on the logical AND data</a></span></li><li><span><a href=\"#Train-and-test-the-Perceptron_BGD-on-the-logical-OR-data\" data-toc-modified-id=\"Train-and-test-the-Perceptron_BGD-on-the-logical-OR-data-2.2.2\"><span class=\"toc-item-num\">2.2.2&nbsp;&nbsp;</span>Train and test the Perceptron_BGD on the logical OR data</a></span></li><li><span><a href=\"#Train-and-test-the-Perceptron_BGD-on-the-logical-XOR-data\" data-toc-modified-id=\"Train-and-test-the-Perceptron_BGD-on-the-logical-XOR-data-2.2.3\"><span class=\"toc-item-num\">2.2.3&nbsp;&nbsp;</span>Train and test the Perceptron_BGD on the logical XOR data</a></span></li></ul></li></ul></li><li><span><a href=\"#Discussion\" data-toc-modified-id=\"Discussion-3\"><span class=\"toc-item-num\">3&nbsp;&nbsp;</span>Discussion</a></span></li><li><span><a href=\"#Multi-layer-Perceptron-Classifier\" data-toc-modified-id=\"Multi-layer-Perceptron-Classifier-4\"><span class=\"toc-item-num\">4&nbsp;&nbsp;</span>Multi-layer Perceptron Classifier</a></span><ul class=\"toc-item\"><li><span><a href=\"#The-Sklearn-model\" data-toc-modified-id=\"The-Sklearn-model-4.1\"><span class=\"toc-item-num\">4.1&nbsp;&nbsp;</span>The Sklearn model</a></span><ul class=\"toc-item\"><li><span><a href=\"#Train-and-test-the-MLPClassifier-on-the-logical-AND-data\" data-toc-modified-id=\"Train-and-test-the-MLPClassifier-on-the-logical-AND-data-4.1.1\"><span class=\"toc-item-num\">4.1.1&nbsp;&nbsp;</span>Train and test the MLPClassifier on the logical AND data</a></span></li><li><span><a href=\"#Train-and-test-the-MLPClassifier-on-the-logical-OR-data\" data-toc-modified-id=\"Train-and-test-the-MLPClassifier-on-the-logical-OR-data-4.1.2\"><span class=\"toc-item-num\">4.1.2&nbsp;&nbsp;</span>Train and test the MLPClassifier on the logical OR data</a></span></li><li><span><a href=\"#Train-and-test-the-MLPClassifier-on-the-logical-XOR-data\" data-toc-modified-id=\"Train-and-test-the-MLPClassifier-on-the-logical-XOR-data-4.1.3\"><span class=\"toc-item-num\">4.1.3&nbsp;&nbsp;</span>Train and test the MLPClassifier on the logical XOR data</a></span></li></ul></li><li><span><a href=\"#The-implemented-model\" data-toc-modified-id=\"The-implemented-model-4.2\"><span class=\"toc-item-num\">4.2&nbsp;&nbsp;</span>The implemented model</a></span><ul class=\"toc-item\"><li><span><a href=\"#Train-and-test-the-MLPC_MBGD-on-the-logical-AND-data\" data-toc-modified-id=\"Train-and-test-the-MLPC_MBGD-on-the-logical-AND-data-4.2.1\"><span class=\"toc-item-num\">4.2.1&nbsp;&nbsp;</span>Train and test the MLPC_MBGD on the logical AND data</a></span></li><li><span><a href=\"#Train-and-test-the-MLPC_MBGD-on-the-logical-OR-data\" data-toc-modified-id=\"Train-and-test-the-MLPC_MBGD-on-the-logical-OR-data-4.2.2\"><span class=\"toc-item-num\">4.2.2&nbsp;&nbsp;</span>Train and test the MLPC_MBGD on the logical OR data</a></span></li><li><span><a href=\"#Train-and-test-the-MLPC_MBGD-on-the-logical-XOR-data\" data-toc-modified-id=\"Train-and-test-the-MLPC_MBGD-on-the-logical-XOR-data-4.2.3\"><span class=\"toc-item-num\">4.2.3&nbsp;&nbsp;</span>Train and test the MLPC_MBGD on the logical XOR data</a></span></li></ul></li></ul></li><li><span><a href=\"#Discussion\" data-toc-modified-id=\"Discussion-5\"><span class=\"toc-item-num\">5&nbsp;&nbsp;</span>Discussion</a></span></li></ul></div>"
      ]
    },
    {
      "cell_type": "markdown",
      "metadata": {
        "id": "OHjPnT3_11KX",
        "colab_type": "text"
      },
      "source": [
        "<b>\n",
        "\n",
        "<p>\n",
        "<center>\n",
        "<font size=\"5\">\n",
        "Machine Learning I (DATS 6202), Spring 2020\n",
        "</font>\n",
        "</center>\n",
        "</p>\n",
        "\n",
        "<p>\n",
        "<center>\n",
        "<font size=\"4\">\n",
        "Case Study 4.1: Logical AND, OR and XOR\n",
        "</font>\n",
        "</center>\n",
        "</p>\n",
        "\n",
        "<p>\n",
        "<center>\n",
        "<font size=\"3\">\n",
        "Data Science, Columbian College of Arts & Sciences, George Washington University\n",
        "</font>\n",
        "</center>\n",
        "</p>\n",
        "\n",
        "<p>\n",
        "<center>\n",
        "<font size=\"3\">\n",
        "Author: Yuxiao Huang\n",
        "</font>\n",
        "</center>\n",
        "</p>\n",
        "\n",
        "</b>"
      ]
    },
    {
      "cell_type": "code",
      "metadata": {
        "scrolled": true,
        "id": "zdkUBn6k11Ka",
        "colab_type": "code",
        "colab": {}
      },
      "source": [
        "import warnings\n",
        "warnings.filterwarnings('ignore')"
      ],
      "execution_count": 0,
      "outputs": []
    },
    {
      "cell_type": "code",
      "metadata": {
        "id": "bFbdCOgp11Km",
        "colab_type": "code",
        "colab": {}
      },
      "source": [
        "import matplotlib.pyplot as plt\n",
        "%matplotlib inline \n",
        "\n",
        "# Set matplotlib sizes\n",
        "plt.rc('font', size=20)\n",
        "plt.rc('axes', titlesize=20)\n",
        "plt.rc('axes', labelsize=20)\n",
        "plt.rc('xtick', labelsize=20)\n",
        "plt.rc('ytick', labelsize=20)\n",
        "plt.rc('legend', fontsize=20)\n",
        "plt.rc('figure', titlesize=20)"
      ],
      "execution_count": 0,
      "outputs": []
    },
    {
      "cell_type": "markdown",
      "metadata": {
        "id": "7zJeh75_11Kv",
        "colab_type": "text"
      },
      "source": [
        "# Data Preprocessing"
      ]
    },
    {
      "cell_type": "code",
      "metadata": {
        "id": "GlIj8P-b11Kw",
        "colab_type": "code",
        "colab": {}
      },
      "source": [
        "import numpy as np\n",
        "\n",
        "# Set the random seed\n",
        "np.random.seed(42)"
      ],
      "execution_count": 0,
      "outputs": []
    },
    {
      "cell_type": "markdown",
      "metadata": {
        "id": "iPMDkuXH11K1",
        "colab_type": "text"
      },
      "source": [
        "## Generating the features"
      ]
    },
    {
      "cell_type": "code",
      "metadata": {
        "id": "EhE8WfE911K2",
        "colab_type": "code",
        "colab": {}
      },
      "source": [
        "X_train = np.random.randint(2, size=(100, 2))\n",
        "X_test = np.random.randint(2, size=(100, 2))"
      ],
      "execution_count": 0,
      "outputs": []
    },
    {
      "cell_type": "markdown",
      "metadata": {
        "id": "oyqFhLWc11K8",
        "colab_type": "text"
      },
      "source": [
        "## Generating logical AND data"
      ]
    },
    {
      "cell_type": "code",
      "metadata": {
        "id": "asW5ibH211K9",
        "colab_type": "code",
        "colab": {}
      },
      "source": [
        "y_logical_and_train = np.logical_and(X_train[:, 0], X_train[:, 1])\n",
        "y_logical_and_test = np.logical_and(X_test[:, 0], X_test[:, 1])"
      ],
      "execution_count": 0,
      "outputs": []
    },
    {
      "cell_type": "markdown",
      "metadata": {
        "id": "YAGI4kA911LA",
        "colab_type": "text"
      },
      "source": [
        "## Generating logical OR data"
      ]
    },
    {
      "cell_type": "code",
      "metadata": {
        "id": "hoLEfJ7S11LB",
        "colab_type": "code",
        "colab": {}
      },
      "source": [
        "y_logical_or_train = np.logical_or(X_train[:, 0], X_train[:, 1])\n",
        "y_logical_or_test = np.logical_or(X_test[:, 0], X_test[:, 1])"
      ],
      "execution_count": 0,
      "outputs": []
    },
    {
      "cell_type": "markdown",
      "metadata": {
        "id": "kJaNMR2h11LE",
        "colab_type": "text"
      },
      "source": [
        "## Generating logical XOR data"
      ]
    },
    {
      "cell_type": "code",
      "metadata": {
        "id": "coIuTY4i11LF",
        "colab_type": "code",
        "colab": {}
      },
      "source": [
        "y_logical_xor_train = np.logical_xor(X_train[:, 0], X_train[:, 1])\n",
        "y_logical_xor_test = np.logical_xor(X_test[:, 0], X_test[:, 1])"
      ],
      "execution_count": 0,
      "outputs": []
    },
    {
      "cell_type": "markdown",
      "metadata": {
        "id": "joB6ZUPu11LH",
        "colab_type": "text"
      },
      "source": [
        "## A plot function\n",
        "The code below shows a function for drawing the scatter plot between input X and y."
      ]
    },
    {
      "cell_type": "code",
      "metadata": {
        "scrolled": true,
        "id": "-N8-YyVV11LI",
        "colab_type": "code",
        "colab": {}
      },
      "source": [
        "def plot(X, y, title):\n",
        "    \"\"\"\n",
        "    Draw the scatter plot between X and y\n",
        "    \n",
        "    Parameters\n",
        "    ----------\n",
        "    X : the feature matrix\n",
        "    y : the target vector\n",
        "    title : the title of the scatter plot\n",
        "    \"\"\"\n",
        "\n",
        "    # The scatter plot\n",
        "    plt.scatter(X[y == 1, 0],\n",
        "                X[y == 1, 1],\n",
        "                s=100,\n",
        "                c='b',\n",
        "                marker='x',\n",
        "                label='1')\n",
        "    plt.scatter(X[y == 0, 0],\n",
        "                X[y == 0, 1],\n",
        "                s=100,\n",
        "                c='r',\n",
        "                marker='s',\n",
        "                label='0')\n",
        "\n",
        "    # Set the x-axis\n",
        "    plt.xlim([-1, 2])\n",
        "    plt.xticks([-1, 0, 1, 2])\n",
        "    plt.xlabel('x1')\n",
        "\n",
        "    # Set the y-axis\n",
        "    plt.ylim([-1, 2])\n",
        "    plt.yticks([-1, 0, 1, 2])\n",
        "    plt.ylabel('x2')\n",
        "\n",
        "    # Set the title and legend\n",
        "    plt.title(title)\n",
        "    plt.legend(loc='best')\n",
        "    \n",
        "    # Save and show the figure\n",
        "    plt.tight_layout()\n",
        "    plt.savefig('./figure/' + title.replace(' ', '_') + '.pdf')\n",
        "    plt.show()"
      ],
      "execution_count": 0,
      "outputs": []
    },
    {
      "cell_type": "markdown",
      "metadata": {
        "id": "CijLTaFu11LL",
        "colab_type": "text"
      },
      "source": [
        "The code below shows how to create the directory for the figures."
      ]
    },
    {
      "cell_type": "code",
      "metadata": {
        "id": "AguVcKiP11LN",
        "colab_type": "code",
        "colab": {}
      },
      "source": [
        "import os\n",
        "\n",
        "# Make directory\n",
        "directory = os.path.dirname('./figure/')\n",
        "if not os.path.exists(directory):\n",
        "    os.makedirs(directory)"
      ],
      "execution_count": 0,
      "outputs": []
    },
    {
      "cell_type": "markdown",
      "metadata": {
        "id": "Rjwd5nK011LQ",
        "colab_type": "text"
      },
      "source": [
        "## Plot the logical AND data"
      ]
    },
    {
      "cell_type": "code",
      "metadata": {
        "scrolled": false,
        "id": "PKVlWp5M11LQ",
        "colab_type": "code",
        "outputId": "de7ad5d7-0249-42b7-c330-3e037bfb69a6",
        "colab": {}
      },
      "source": [
        "plot(X_train, y_logical_and_train, 'Logical AND')"
      ],
      "execution_count": 0,
      "outputs": [
        {
          "output_type": "display_data",
          "data": {
            "image/png": "[encoded data removed]",
            "text/plain": [
              "<Figure size 432x288 with 1 Axes>"
            ]
          },
          "metadata": {
            "tags": [],
            "needs_background": "light"
          }
        }
      ]
    },
    {
      "cell_type": "markdown",
      "metadata": {
        "id": "6drwmv6Z11LU",
        "colab_type": "text"
      },
      "source": [
        "## Plot the logical OR data"
      ]
    },
    {
      "cell_type": "code",
      "metadata": {
        "scrolled": true,
        "id": "E2-YAPDP11LV",
        "colab_type": "code",
        "outputId": "f562d1f6-14b5-4747-bc55-3e51fe070394",
        "colab": {}
      },
      "source": [
        "plot(X_train, y_logical_or_train, 'Logical OR')"
      ],
      "execution_count": 0,
      "outputs": [
        {
          "output_type": "display_data",
          "data": {
            "image/png": "[encoded data removed]",
            "text/plain": [
              "<Figure size 432x288 with 1 Axes>"
            ]
          },
          "metadata": {
            "tags": [],
            "needs_background": "light"
          }
        }
      ]
    },
    {
      "cell_type": "markdown",
      "metadata": {
        "id": "h-j9Xr1i11LY",
        "colab_type": "text"
      },
      "source": [
        "## Plot the logical XOR data"
      ]
    },
    {
      "cell_type": "code",
      "metadata": {
        "scrolled": false,
        "id": "BKfSJtA-11LZ",
        "colab_type": "code",
        "outputId": "9d18bff9-6e0d-4f6a-96d3-db116420a32e",
        "colab": {}
      },
      "source": [
        "plot(X_train, y_logical_xor_train, 'Logical XOR')"
      ],
      "execution_count": 0,
      "outputs": [
        {
          "output_type": "display_data",
          "data": {
            "image/png": "[encoded data removed]",
            "text/plain": [
              "<Figure size 432x288 with 1 Axes>"
            ]
          },
          "metadata": {
            "tags": [],
            "needs_background": "light"
          }
        }
      ]
    },
    {
      "cell_type": "markdown",
      "metadata": {
        "id": "Af4sZ8Sq11Lb",
        "colab_type": "text"
      },
      "source": [
        "# Perceptron"
      ]
    },
    {
      "cell_type": "markdown",
      "metadata": {
        "id": "Lf0Kb13j11Lc",
        "colab_type": "text"
      },
      "source": [
        "## The Sklearn model"
      ]
    },
    {
      "cell_type": "code",
      "metadata": {
        "id": "5Oxadyiw11Lc",
        "colab_type": "code",
        "colab": {}
      },
      "source": [
        "from sklearn.linear_model import Perceptron\n",
        "from sklearn.metrics import precision_recall_fscore_support\n",
        "import pandas as pd\n",
        "\n",
        "# The Perceptron\n",
        "perceptron = Perceptron(class_weight='balanced', random_state=42)"
      ],
      "execution_count": 0,
      "outputs": []
    },
    {
      "cell_type": "markdown",
      "metadata": {
        "id": "MyQTiz3U11Le",
        "colab_type": "text"
      },
      "source": [
        "### Train and test the Perceptron on the logical AND data"
      ]
    },
    {
      "cell_type": "code",
      "metadata": {
        "id": "du2i1V4N11Lf",
        "colab_type": "code",
        "outputId": "94ea0111-2363-4ed6-bab4-594586114090",
        "colab": {}
      },
      "source": [
        "# Train the perceptron on the training data\n",
        "perceptron.fit(X_train, y_logical_and_train)\n",
        "\n",
        "# Get the prediction on the test data\n",
        "y_logical_and_test_pred = perceptron.predict(X_test)\n",
        "\n",
        "# Get the precision, recall, f-score and support\n",
        "precision, recall, fscore, support = precision_recall_fscore_support(y_logical_and_test, y_logical_and_test_pred, average='micro')\n",
        "\n",
        "# Print the precision, recall and f-score\n",
        "pd.DataFrame([[precision, recall, fscore]], columns=['precision', 'recall', 'f-score'])"
      ],
      "execution_count": 0,
      "outputs": [
        {
          "output_type": "execute_result",
          "data": {
            "text/html": [
              "<div>\n",
              "<style scoped>\n",
              "    .dataframe tbody tr th:only-of-type {\n",
              "        vertical-align: middle;\n",
              "    }\n",
              "\n",
              "    .dataframe tbody tr th {\n",
              "        vertical-align: top;\n",
              "    }\n",
              "\n",
              "    .dataframe thead th {\n",
              "        text-align: right;\n",
              "    }\n",
              "</style>\n",
              "<table border=\"1\" class=\"dataframe\">\n",
              "  <thead>\n",
              "    <tr style=\"text-align: right;\">\n",
              "      <th></th>\n",
              "      <th>precision</th>\n",
              "      <th>recall</th>\n",
              "      <th>f-score</th>\n",
              "    </tr>\n",
              "  </thead>\n",
              "  <tbody>\n",
              "    <tr>\n",
              "      <th>0</th>\n",
              "      <td>1.0</td>\n",
              "      <td>1.0</td>\n",
              "      <td>1.0</td>\n",
              "    </tr>\n",
              "  </tbody>\n",
              "</table>\n",
              "</div>"
            ],
            "text/plain": [
              "   precision  recall  f-score\n",
              "0        1.0     1.0      1.0"
            ]
          },
          "metadata": {
            "tags": []
          },
          "execution_count": 14
        }
      ]
    },
    {
      "cell_type": "code",
      "metadata": {
        "id": "cdgT1PqV11Lh",
        "colab_type": "code",
        "outputId": "d1ec13b9-1d5d-40d9-b49a-3544e567f0d1",
        "colab": {}
      },
      "source": [
        "# Print the intercept (w0) and coefficients (w1 and w2) of the trained model\n",
        "pd.DataFrame([[perceptron.intercept_[0], perceptron.coef_[0][0], perceptron.coef_[0][1]]], columns=['w0', 'w1', 'w2']).round(2)"
      ],
      "execution_count": 0,
      "outputs": [
        {
          "output_type": "execute_result",
          "data": {
            "text/html": [
              "<div>\n",
              "<style scoped>\n",
              "    .dataframe tbody tr th:only-of-type {\n",
              "        vertical-align: middle;\n",
              "    }\n",
              "\n",
              "    .dataframe tbody tr th {\n",
              "        vertical-align: top;\n",
              "    }\n",
              "\n",
              "    .dataframe thead th {\n",
              "        text-align: right;\n",
              "    }\n",
              "</style>\n",
              "<table border=\"1\" class=\"dataframe\">\n",
              "  <thead>\n",
              "    <tr style=\"text-align: right;\">\n",
              "      <th></th>\n",
              "      <th>w0</th>\n",
              "      <th>w1</th>\n",
              "      <th>w2</th>\n",
              "    </tr>\n",
              "  </thead>\n",
              "  <tbody>\n",
              "    <tr>\n",
              "      <th>0</th>\n",
              "      <td>-2.23</td>\n",
              "      <td>1.82</td>\n",
              "      <td>1.14</td>\n",
              "    </tr>\n",
              "  </tbody>\n",
              "</table>\n",
              "</div>"
            ],
            "text/plain": [
              "     w0    w1    w2\n",
              "0 -2.23  1.82  1.14"
            ]
          },
          "metadata": {
            "tags": []
          },
          "execution_count": 15
        }
      ]
    },
    {
      "cell_type": "markdown",
      "metadata": {
        "id": "-sLEIkKC11Lj",
        "colab_type": "text"
      },
      "source": [
        "### Train and test the Perceptron on the logical OR data"
      ]
    },
    {
      "cell_type": "code",
      "metadata": {
        "id": "ohWRczeL11Lj",
        "colab_type": "code",
        "outputId": "48b0b4b7-23a3-4e27-fd1d-f81640f840b5",
        "colab": {}
      },
      "source": [
        "# Train the perceptron on the training data\n",
        "perceptron.fit(X_train, y_logical_or_train)\n",
        "\n",
        "# Get the prediction on the test data\n",
        "y_logical_or_test_pred = perceptron.predict(X_test)\n",
        "\n",
        "# Get the precision, recall, f-score and support\n",
        "precision, recall, fscore, support = precision_recall_fscore_support(y_logical_or_test, y_logical_or_test_pred, average='micro')\n",
        "\n",
        "# Print the precision, recall and f-score\n",
        "pd.DataFrame([[precision, recall, fscore]], columns=['precision', 'recall', 'f-score'])"
      ],
      "execution_count": 0,
      "outputs": [
        {
          "output_type": "execute_result",
          "data": {
            "text/html": [
              "<div>\n",
              "<style scoped>\n",
              "    .dataframe tbody tr th:only-of-type {\n",
              "        vertical-align: middle;\n",
              "    }\n",
              "\n",
              "    .dataframe tbody tr th {\n",
              "        vertical-align: top;\n",
              "    }\n",
              "\n",
              "    .dataframe thead th {\n",
              "        text-align: right;\n",
              "    }\n",
              "</style>\n",
              "<table border=\"1\" class=\"dataframe\">\n",
              "  <thead>\n",
              "    <tr style=\"text-align: right;\">\n",
              "      <th></th>\n",
              "      <th>precision</th>\n",
              "      <th>recall</th>\n",
              "      <th>f-score</th>\n",
              "    </tr>\n",
              "  </thead>\n",
              "  <tbody>\n",
              "    <tr>\n",
              "      <th>0</th>\n",
              "      <td>1.0</td>\n",
              "      <td>1.0</td>\n",
              "      <td>1.0</td>\n",
              "    </tr>\n",
              "  </tbody>\n",
              "</table>\n",
              "</div>"
            ],
            "text/plain": [
              "   precision  recall  f-score\n",
              "0        1.0     1.0      1.0"
            ]
          },
          "metadata": {
            "tags": []
          },
          "execution_count": 16
        }
      ]
    },
    {
      "cell_type": "code",
      "metadata": {
        "id": "deRL8kni11Ll",
        "colab_type": "code",
        "outputId": "63487358-b996-4609-92ad-79fffc6355cf",
        "colab": {}
      },
      "source": [
        "# Print the intercept (w0) and coefficients (w1 and w2) of the trained model\n",
        "pd.DataFrame([[perceptron.intercept_[0], perceptron.coef_[0][0], perceptron.coef_[0][1]]], columns=['w0', 'w1', 'w2']).round(2)"
      ],
      "execution_count": 0,
      "outputs": [
        {
          "output_type": "execute_result",
          "data": {
            "text/html": [
              "<div>\n",
              "<style scoped>\n",
              "    .dataframe tbody tr th:only-of-type {\n",
              "        vertical-align: middle;\n",
              "    }\n",
              "\n",
              "    .dataframe tbody tr th {\n",
              "        vertical-align: top;\n",
              "    }\n",
              "\n",
              "    .dataframe thead th {\n",
              "        text-align: right;\n",
              "    }\n",
              "</style>\n",
              "<table border=\"1\" class=\"dataframe\">\n",
              "  <thead>\n",
              "    <tr style=\"text-align: right;\">\n",
              "      <th></th>\n",
              "      <th>w0</th>\n",
              "      <th>w1</th>\n",
              "      <th>w2</th>\n",
              "    </tr>\n",
              "  </thead>\n",
              "  <tbody>\n",
              "    <tr>\n",
              "      <th>0</th>\n",
              "      <td>-0.57</td>\n",
              "      <td>0.68</td>\n",
              "      <td>1.35</td>\n",
              "    </tr>\n",
              "  </tbody>\n",
              "</table>\n",
              "</div>"
            ],
            "text/plain": [
              "     w0    w1    w2\n",
              "0 -0.57  0.68  1.35"
            ]
          },
          "metadata": {
            "tags": []
          },
          "execution_count": 17
        }
      ]
    },
    {
      "cell_type": "markdown",
      "metadata": {
        "id": "Yy9hhvCt11Lo",
        "colab_type": "text"
      },
      "source": [
        "### Train and test the Perceptron on the logical XOR data"
      ]
    },
    {
      "cell_type": "code",
      "metadata": {
        "id": "zDK6CCHu11Lp",
        "colab_type": "code",
        "outputId": "d9144479-2e3b-4600-e35f-48d93c3544e5",
        "colab": {}
      },
      "source": [
        "# Train the perceptron on the training data\n",
        "perceptron.fit(X_train, y_logical_xor_train)\n",
        "\n",
        "# Get the prediction on the test data\n",
        "y_logical_xor_test_pred = perceptron.predict(X_test)\n",
        "\n",
        "# Get the precision, recall, f-score and support\n",
        "precision, recall, fscore, support = precision_recall_fscore_support(y_logical_xor_test, y_logical_xor_test_pred, average='micro')\n",
        "\n",
        "# Print the precision, recall and f-score\n",
        "pd.DataFrame([[precision, recall, fscore]], columns=['precision', 'recall', 'f-score'])"
      ],
      "execution_count": 0,
      "outputs": [
        {
          "output_type": "execute_result",
          "data": {
            "text/html": [
              "<div>\n",
              "<style scoped>\n",
              "    .dataframe tbody tr th:only-of-type {\n",
              "        vertical-align: middle;\n",
              "    }\n",
              "\n",
              "    .dataframe tbody tr th {\n",
              "        vertical-align: top;\n",
              "    }\n",
              "\n",
              "    .dataframe thead th {\n",
              "        text-align: right;\n",
              "    }\n",
              "</style>\n",
              "<table border=\"1\" class=\"dataframe\">\n",
              "  <thead>\n",
              "    <tr style=\"text-align: right;\">\n",
              "      <th></th>\n",
              "      <th>precision</th>\n",
              "      <th>recall</th>\n",
              "      <th>f-score</th>\n",
              "    </tr>\n",
              "  </thead>\n",
              "  <tbody>\n",
              "    <tr>\n",
              "      <th>0</th>\n",
              "      <td>0.75</td>\n",
              "      <td>0.75</td>\n",
              "      <td>0.75</td>\n",
              "    </tr>\n",
              "  </tbody>\n",
              "</table>\n",
              "</div>"
            ],
            "text/plain": [
              "   precision  recall  f-score\n",
              "0       0.75    0.75     0.75"
            ]
          },
          "metadata": {
            "tags": []
          },
          "execution_count": 18
        }
      ]
    },
    {
      "cell_type": "code",
      "metadata": {
        "scrolled": true,
        "id": "lzpQdRcc11Lv",
        "colab_type": "code",
        "outputId": "a249070d-e8c9-418a-8a53-991a0e3df917",
        "colab": {}
      },
      "source": [
        "# Print the intercept (w0) and coefficients (w1 and w2) of the trained model\n",
        "pd.DataFrame([[perceptron.intercept_[0], perceptron.coef_[0][0], perceptron.coef_[0][1]]], columns=['w0', 'w1', 'w2']).round(2)"
      ],
      "execution_count": 0,
      "outputs": [
        {
          "output_type": "execute_result",
          "data": {
            "text/html": [
              "<div>\n",
              "<style scoped>\n",
              "    .dataframe tbody tr th:only-of-type {\n",
              "        vertical-align: middle;\n",
              "    }\n",
              "\n",
              "    .dataframe tbody tr th {\n",
              "        vertical-align: top;\n",
              "    }\n",
              "\n",
              "    .dataframe thead th {\n",
              "        text-align: right;\n",
              "    }\n",
              "</style>\n",
              "<table border=\"1\" class=\"dataframe\">\n",
              "  <thead>\n",
              "    <tr style=\"text-align: right;\">\n",
              "      <th></th>\n",
              "      <th>w0</th>\n",
              "      <th>w1</th>\n",
              "      <th>w2</th>\n",
              "    </tr>\n",
              "  </thead>\n",
              "  <tbody>\n",
              "    <tr>\n",
              "      <th>0</th>\n",
              "      <td>-0.24</td>\n",
              "      <td>-0.64</td>\n",
              "      <td>0.4</td>\n",
              "    </tr>\n",
              "  </tbody>\n",
              "</table>\n",
              "</div>"
            ],
            "text/plain": [
              "     w0    w1   w2\n",
              "0 -0.24 -0.64  0.4"
            ]
          },
          "metadata": {
            "tags": []
          },
          "execution_count": 19
        }
      ]
    },
    {
      "cell_type": "markdown",
      "metadata": {
        "id": "lOPpjFlm11Lx",
        "colab_type": "text"
      },
      "source": [
        "## The implemented model"
      ]
    },
    {
      "cell_type": "markdown",
      "metadata": {
        "id": "uwRs6WKa11Ly",
        "colab_type": "text"
      },
      "source": [
        "The code below shows how to implement the perceptron model using batch gradient descent."
      ]
    },
    {
      "cell_type": "code",
      "metadata": {
        "id": "PHekAhsJ11Ly",
        "colab_type": "code",
        "colab": {}
      },
      "source": [
        "from sklearn.base import BaseEstimator, ClassifierMixin\n",
        "\n",
        "class Perceptron_BGD(BaseEstimator, ClassifierMixin):\n",
        "    \"\"\"The perceptron model using batch gradient descent\"\"\"\n",
        "        \n",
        "    def __init__(self,\n",
        "                 max_iter=100,\n",
        "                 eta0=1,   \n",
        "                 random_state=42):\n",
        "        \n",
        "        # The maximum number of iterations\n",
        "        self.max_iter = max_iter\n",
        "        \n",
        "        # The learning rate\n",
        "        self.eta0 = eta0\n",
        "        \n",
        "        # The random state\n",
        "        self.random_state = random_state\n",
        "\n",
        "    def fit(self, X, y):\n",
        "        \"\"\"\n",
        "        The fit function\n",
        "        \n",
        "        Parameters\n",
        "        ----------\n",
        "        X : the feature matrix\n",
        "        y : the target vector\n",
        "        \"\"\"\n",
        "        \n",
        "        # The feature matrix with x0 (the dummy feature)\n",
        "        Z = np.hstack((np.ones((X.shape[0], 1)), X))\n",
        "        \n",
        "        # The random number generator\n",
        "        self.rgen = np.random.RandomState(seed=self.random_state)\n",
        "        \n",
        "        # Initialize the weight matrix\n",
        "        self.w = self.rgen.normal(loc=0.0, scale=0.01, size=Z.shape[1])\n",
        "        \n",
        "        # Initialize the costs\n",
        "        self.costs = []\n",
        "\n",
        "        # For each iteration\n",
        "        for i in range(self.max_iter):\n",
        "            # Get the net_input (the predicted value of the target)\n",
        "            net_input = self.net_input(Z)\n",
        "            \n",
        "            # Get the activation (hard limit)\n",
        "            activation = self.activation(net_input)\n",
        "            \n",
        "            # Get the error\n",
        "            error = y - activation\n",
        "            \n",
        "            # Get the mean squared error (mse)\n",
        "            mse = (error ** 2).sum() / Z.shape[0]\n",
        "            \n",
        "            # Update the weight using batch gradient descent\n",
        "            self.w += self.eta0 * Z.T.dot(error) / Z.shape[0]\n",
        "            \n",
        "            # Update the costs\n",
        "            self.costs.append(mse)\n",
        "\n",
        "    def net_input(self, Z):\n",
        "        \"\"\"\n",
        "        Get the net input\n",
        "        \n",
        "        Parameters\n",
        "        ----------\n",
        "        Z : The feature matrix with x0 (the dummy feature)\n",
        "        \n",
        "        Returns\n",
        "        ----------\n",
        "        The net input (the predicted value of the target)\n",
        "        \"\"\"\n",
        "        \n",
        "        return Z.dot(self.w)\n",
        "    \n",
        "    def activation(self, net_input):\n",
        "        \"\"\"\n",
        "        Get the activation (hard limit)\n",
        "        \n",
        "        Parameters\n",
        "        ----------\n",
        "        net_input : the net input\n",
        "        \n",
        "        Returns\n",
        "        ----------\n",
        "        The activation\n",
        "       \n",
        "        \"\"\"\n",
        "        \n",
        "        return (net_input >= 0).astype(int)\n",
        "        \n",
        "    def predict(self, X):\n",
        "        \"\"\"\n",
        "        The predict class function\n",
        "        \n",
        "        Parameters\n",
        "        ----------\n",
        "        X : the feature matrix\n",
        "        \n",
        "        Returns\n",
        "        ----------\n",
        "        The predicted class labels of the target\n",
        "        \"\"\"\n",
        "\n",
        "        # The feature matrix with x0 (the dummy feature)\n",
        "        Z = np.hstack((np.ones((X.shape[0], 1)), X))\n",
        "            \n",
        "        # Get the net_input (the predicted value of the target)\n",
        "        net_input = self.net_input(Z)\n",
        "\n",
        "        return self.activation(net_input)"
      ],
      "execution_count": 0,
      "outputs": []
    },
    {
      "cell_type": "code",
      "metadata": {
        "id": "QBXJtXjg11L0",
        "colab_type": "code",
        "colab": {}
      },
      "source": [
        "# The Perceptron\n",
        "perceptron_bgd = Perceptron_BGD()"
      ],
      "execution_count": 0,
      "outputs": []
    },
    {
      "cell_type": "markdown",
      "metadata": {
        "id": "j1d6NlW211L1",
        "colab_type": "text"
      },
      "source": [
        "### Train and test the Perceptron_BGD on the logical AND data"
      ]
    },
    {
      "cell_type": "code",
      "metadata": {
        "id": "7X1mRwRu11L1",
        "colab_type": "code",
        "outputId": "82044e35-024f-44e7-a27e-1685cbadc3b7",
        "colab": {}
      },
      "source": [
        "# Train the perceptron on the training data\n",
        "perceptron_bgd.fit(X_train, y_logical_and_train)\n",
        "\n",
        "# Get the prediction on the test data\n",
        "y_logical_and_test_pred = perceptron_bgd.predict(X_test)\n",
        "\n",
        "# Get the precision, recall, f-score and support\n",
        "precision, recall, fscore, support = precision_recall_fscore_support(y_logical_and_test, y_logical_and_test_pred, average='micro')\n",
        "\n",
        "# Print the precision, recall and f-score\n",
        "pd.DataFrame([[precision, recall, fscore]], columns=['precision', 'recall', 'f-score'])"
      ],
      "execution_count": 0,
      "outputs": [
        {
          "output_type": "execute_result",
          "data": {
            "text/html": [
              "<div>\n",
              "<style scoped>\n",
              "    .dataframe tbody tr th:only-of-type {\n",
              "        vertical-align: middle;\n",
              "    }\n",
              "\n",
              "    .dataframe tbody tr th {\n",
              "        vertical-align: top;\n",
              "    }\n",
              "\n",
              "    .dataframe thead th {\n",
              "        text-align: right;\n",
              "    }\n",
              "</style>\n",
              "<table border=\"1\" class=\"dataframe\">\n",
              "  <thead>\n",
              "    <tr style=\"text-align: right;\">\n",
              "      <th></th>\n",
              "      <th>precision</th>\n",
              "      <th>recall</th>\n",
              "      <th>f-score</th>\n",
              "    </tr>\n",
              "  </thead>\n",
              "  <tbody>\n",
              "    <tr>\n",
              "      <th>0</th>\n",
              "      <td>1.0</td>\n",
              "      <td>1.0</td>\n",
              "      <td>1.0</td>\n",
              "    </tr>\n",
              "  </tbody>\n",
              "</table>\n",
              "</div>"
            ],
            "text/plain": [
              "   precision  recall  f-score\n",
              "0        1.0     1.0      1.0"
            ]
          },
          "metadata": {
            "tags": []
          },
          "execution_count": 22
        }
      ]
    },
    {
      "cell_type": "code",
      "metadata": {
        "id": "qO5xupqa11L3",
        "colab_type": "code",
        "outputId": "8ad2d76e-1a55-4268-d3ec-a20c19e23c1b",
        "colab": {}
      },
      "source": [
        "# Print the intercept (w0) and coefficients (w1 and w2) of the trained model\n",
        "pd.DataFrame(perceptron_bgd.w.reshape(1, -1), columns=['w0', 'w1', 'w2']).round(2)"
      ],
      "execution_count": 0,
      "outputs": [
        {
          "output_type": "execute_result",
          "data": {
            "text/html": [
              "<div>\n",
              "<style scoped>\n",
              "    .dataframe tbody tr th:only-of-type {\n",
              "        vertical-align: middle;\n",
              "    }\n",
              "\n",
              "    .dataframe tbody tr th {\n",
              "        vertical-align: top;\n",
              "    }\n",
              "\n",
              "    .dataframe thead th {\n",
              "        text-align: right;\n",
              "    }\n",
              "</style>\n",
              "<table border=\"1\" class=\"dataframe\">\n",
              "  <thead>\n",
              "    <tr style=\"text-align: right;\">\n",
              "      <th></th>\n",
              "      <th>w0</th>\n",
              "      <th>w1</th>\n",
              "      <th>w2</th>\n",
              "    </tr>\n",
              "  </thead>\n",
              "  <tbody>\n",
              "    <tr>\n",
              "      <th>0</th>\n",
              "      <td>-0.44</td>\n",
              "      <td>0.3</td>\n",
              "      <td>0.31</td>\n",
              "    </tr>\n",
              "  </tbody>\n",
              "</table>\n",
              "</div>"
            ],
            "text/plain": [
              "     w0   w1    w2\n",
              "0 -0.44  0.3  0.31"
            ]
          },
          "metadata": {
            "tags": []
          },
          "execution_count": 23
        }
      ]
    },
    {
      "cell_type": "markdown",
      "metadata": {
        "id": "VqvLiGvr11L5",
        "colab_type": "text"
      },
      "source": [
        "The code below shows how to plot the cost as a function of the epoch."
      ]
    },
    {
      "cell_type": "code",
      "metadata": {
        "scrolled": false,
        "id": "kT2093kO11L5",
        "colab_type": "code",
        "outputId": "a39b6f84-5778-4af3-f643-11de847c209a",
        "colab": {}
      },
      "source": [
        "# The line plot\n",
        "plt.plot(range(len(perceptron_bgd.costs)), perceptron_bgd.costs, color='red', lw=3, alpha=0.6)  \n",
        "\n",
        "# Set x-axis\n",
        "plt.xlabel('Epoch')\n",
        "\n",
        "# Set y-axis\n",
        "plt.ylabel('Cost')\n",
        "\n",
        "# Save and show the figure\n",
        "plt.tight_layout()\n",
        "plt.savefig('./figure/perceptron_bgd_logical_and_cost.pdf')\n",
        "plt.show()"
      ],
      "execution_count": 0,
      "outputs": [
        {
          "output_type": "display_data",
          "data": {
            "image/png": "[encoded data removed]",
            "text/plain": [
              "<Figure size 432x288 with 1 Axes>"
            ]
          },
          "metadata": {
            "tags": [],
            "needs_background": "light"
          }
        }
      ]
    },
    {
      "cell_type": "markdown",
      "metadata": {
        "id": "ciiCNlx611L7",
        "colab_type": "text"
      },
      "source": [
        "### Train and test the Perceptron_BGD on the logical OR data"
      ]
    },
    {
      "cell_type": "code",
      "metadata": {
        "id": "hW5Bprfb11L8",
        "colab_type": "code",
        "outputId": "5b1b6725-aa56-48d4-d3a4-e5638a02ce64",
        "colab": {}
      },
      "source": [
        "# Train the perceptron on the training data\n",
        "perceptron_bgd.fit(X_train, y_logical_or_train)\n",
        "\n",
        "# Get the prediction on the test data\n",
        "y_logical_or_test_pred = perceptron_bgd.predict(X_test)\n",
        "\n",
        "# Get the precision, recall, f-score and support\n",
        "precision, recall, fscore, support = precision_recall_fscore_support(y_logical_or_test, y_logical_or_test_pred, average='micro')\n",
        "\n",
        "# Print the precision, recall and f-score\n",
        "pd.DataFrame([[precision, recall, fscore]], columns=['precision', 'recall', 'f-score'])"
      ],
      "execution_count": 0,
      "outputs": [
        {
          "output_type": "execute_result",
          "data": {
            "text/html": [
              "<div>\n",
              "<style scoped>\n",
              "    .dataframe tbody tr th:only-of-type {\n",
              "        vertical-align: middle;\n",
              "    }\n",
              "\n",
              "    .dataframe tbody tr th {\n",
              "        vertical-align: top;\n",
              "    }\n",
              "\n",
              "    .dataframe thead th {\n",
              "        text-align: right;\n",
              "    }\n",
              "</style>\n",
              "<table border=\"1\" class=\"dataframe\">\n",
              "  <thead>\n",
              "    <tr style=\"text-align: right;\">\n",
              "      <th></th>\n",
              "      <th>precision</th>\n",
              "      <th>recall</th>\n",
              "      <th>f-score</th>\n",
              "    </tr>\n",
              "  </thead>\n",
              "  <tbody>\n",
              "    <tr>\n",
              "      <th>0</th>\n",
              "      <td>1.0</td>\n",
              "      <td>1.0</td>\n",
              "      <td>1.0</td>\n",
              "    </tr>\n",
              "  </tbody>\n",
              "</table>\n",
              "</div>"
            ],
            "text/plain": [
              "   precision  recall  f-score\n",
              "0        1.0     1.0      1.0"
            ]
          },
          "metadata": {
            "tags": []
          },
          "execution_count": 25
        }
      ]
    },
    {
      "cell_type": "code",
      "metadata": {
        "id": "rsFhdg9h11L-",
        "colab_type": "code",
        "outputId": "686b1fe0-5786-44ae-b5b9-120993ca1bf1",
        "colab": {}
      },
      "source": [
        "# Print the intercept (w0) and coefficients (w1 and w2) of the trained model\n",
        "pd.DataFrame(perceptron_bgd.w.reshape(1, -1), columns=['w0', 'w1', 'w2']).round(2)"
      ],
      "execution_count": 0,
      "outputs": [
        {
          "output_type": "execute_result",
          "data": {
            "text/html": [
              "<div>\n",
              "<style scoped>\n",
              "    .dataframe tbody tr th:only-of-type {\n",
              "        vertical-align: middle;\n",
              "    }\n",
              "\n",
              "    .dataframe tbody tr th {\n",
              "        vertical-align: top;\n",
              "    }\n",
              "\n",
              "    .dataframe thead th {\n",
              "        text-align: right;\n",
              "    }\n",
              "</style>\n",
              "<table border=\"1\" class=\"dataframe\">\n",
              "  <thead>\n",
              "    <tr style=\"text-align: right;\">\n",
              "      <th></th>\n",
              "      <th>w0</th>\n",
              "      <th>w1</th>\n",
              "      <th>w2</th>\n",
              "    </tr>\n",
              "  </thead>\n",
              "  <tbody>\n",
              "    <tr>\n",
              "      <th>0</th>\n",
              "      <td>-0.04</td>\n",
              "      <td>0.5</td>\n",
              "      <td>0.51</td>\n",
              "    </tr>\n",
              "  </tbody>\n",
              "</table>\n",
              "</div>"
            ],
            "text/plain": [
              "     w0   w1    w2\n",
              "0 -0.04  0.5  0.51"
            ]
          },
          "metadata": {
            "tags": []
          },
          "execution_count": 26
        }
      ]
    },
    {
      "cell_type": "markdown",
      "metadata": {
        "id": "BQRvFmf_11MA",
        "colab_type": "text"
      },
      "source": [
        "The code below shows how to plot the cost as a function of the epoch."
      ]
    },
    {
      "cell_type": "code",
      "metadata": {
        "scrolled": true,
        "id": "ARxuZOD011MB",
        "colab_type": "code",
        "outputId": "f44a6fc2-07a4-42ac-e9fb-02dc69354b51",
        "colab": {}
      },
      "source": [
        "# The line plot\n",
        "plt.plot(range(len(perceptron_bgd.costs)), perceptron_bgd.costs, color='red', lw=3, alpha=0.6)  \n",
        "\n",
        "# Set x-axis\n",
        "plt.xlabel('Epoch')\n",
        "\n",
        "# Set y-axis\n",
        "plt.ylabel('Cost')\n",
        "\n",
        "# Save and show the figure\n",
        "plt.tight_layout()\n",
        "plt.savefig('./figure/perceptron_bgd_logical_and_cost.pdf')\n",
        "plt.show()"
      ],
      "execution_count": 0,
      "outputs": [
        {
          "output_type": "display_data",
          "data": {
            "image/png": "[encoded data removed]",
            "text/plain": [
              "<Figure size 432x288 with 1 Axes>"
            ]
          },
          "metadata": {
            "tags": [],
            "needs_background": "light"
          }
        }
      ]
    },
    {
      "cell_type": "markdown",
      "metadata": {
        "id": "Y4V4IMf311MD",
        "colab_type": "text"
      },
      "source": [
        "### Train and test the Perceptron_BGD on the logical XOR data"
      ]
    },
    {
      "cell_type": "code",
      "metadata": {
        "id": "Sqh1CwlV11MD",
        "colab_type": "code",
        "outputId": "371c3f7d-f53a-42f6-a486-d8d0a2a4f62d",
        "colab": {}
      },
      "source": [
        "# Train the perceptron on the training data\n",
        "perceptron_bgd.fit(X_train, y_logical_xor_train)\n",
        "\n",
        "# Get the prediction on the test data\n",
        "y_logical_xor_test_pred = perceptron_bgd.predict(X_test)\n",
        "\n",
        "# Get the precision, recall, f-score and support\n",
        "precision, recall, fscore, support = precision_recall_fscore_support(y_logical_xor_test, y_logical_xor_test_pred, average='micro')\n",
        "\n",
        "# Print the precision, recall and f-score\n",
        "pd.DataFrame([[precision, recall, fscore]], columns=['precision', 'recall', 'f-score'])"
      ],
      "execution_count": 0,
      "outputs": [
        {
          "output_type": "execute_result",
          "data": {
            "text/html": [
              "<div>\n",
              "<style scoped>\n",
              "    .dataframe tbody tr th:only-of-type {\n",
              "        vertical-align: middle;\n",
              "    }\n",
              "\n",
              "    .dataframe tbody tr th {\n",
              "        vertical-align: top;\n",
              "    }\n",
              "\n",
              "    .dataframe thead th {\n",
              "        text-align: right;\n",
              "    }\n",
              "</style>\n",
              "<table border=\"1\" class=\"dataframe\">\n",
              "  <thead>\n",
              "    <tr style=\"text-align: right;\">\n",
              "      <th></th>\n",
              "      <th>precision</th>\n",
              "      <th>recall</th>\n",
              "      <th>f-score</th>\n",
              "    </tr>\n",
              "  </thead>\n",
              "  <tbody>\n",
              "    <tr>\n",
              "      <th>0</th>\n",
              "      <td>0.49</td>\n",
              "      <td>0.49</td>\n",
              "      <td>0.49</td>\n",
              "    </tr>\n",
              "  </tbody>\n",
              "</table>\n",
              "</div>"
            ],
            "text/plain": [
              "   precision  recall  f-score\n",
              "0       0.49    0.49     0.49"
            ]
          },
          "metadata": {
            "tags": []
          },
          "execution_count": 28
        }
      ]
    },
    {
      "cell_type": "code",
      "metadata": {
        "id": "cQfU6gYa11ME",
        "colab_type": "code",
        "outputId": "ee6ff7bd-1f7e-4245-db9f-e227a5382be0",
        "colab": {}
      },
      "source": [
        "# Print the intercept (w0) and coefficients (w1 and w2) of the trained model\n",
        "pd.DataFrame(perceptron_bgd.w.reshape(1, -1), columns=['w0', 'w1', 'w2']).round(2)"
      ],
      "execution_count": 0,
      "outputs": [
        {
          "output_type": "execute_result",
          "data": {
            "text/html": [
              "<div>\n",
              "<style scoped>\n",
              "    .dataframe tbody tr th:only-of-type {\n",
              "        vertical-align: middle;\n",
              "    }\n",
              "\n",
              "    .dataframe tbody tr th {\n",
              "        vertical-align: top;\n",
              "    }\n",
              "\n",
              "    .dataframe thead th {\n",
              "        text-align: right;\n",
              "    }\n",
              "</style>\n",
              "<table border=\"1\" class=\"dataframe\">\n",
              "  <thead>\n",
              "    <tr style=\"text-align: right;\">\n",
              "      <th></th>\n",
              "      <th>w0</th>\n",
              "      <th>w1</th>\n",
              "      <th>w2</th>\n",
              "    </tr>\n",
              "  </thead>\n",
              "  <tbody>\n",
              "    <tr>\n",
              "      <th>0</th>\n",
              "      <td>0.0</td>\n",
              "      <td>-0.0</td>\n",
              "      <td>0.01</td>\n",
              "    </tr>\n",
              "  </tbody>\n",
              "</table>\n",
              "</div>"
            ],
            "text/plain": [
              "    w0   w1    w2\n",
              "0  0.0 -0.0  0.01"
            ]
          },
          "metadata": {
            "tags": []
          },
          "execution_count": 29
        }
      ]
    },
    {
      "cell_type": "markdown",
      "metadata": {
        "id": "odg7WoKR11MG",
        "colab_type": "text"
      },
      "source": [
        "The code below shows how to plot the cost as a function of the epoch."
      ]
    },
    {
      "cell_type": "code",
      "metadata": {
        "scrolled": false,
        "id": "ccdU2Os611MG",
        "colab_type": "code",
        "outputId": "1d1d01d7-2b7d-4aef-8430-3a46a6a8957c",
        "colab": {}
      },
      "source": [
        "# The line plot\n",
        "plt.plot(range(len(perceptron_bgd.costs)), perceptron_bgd.costs, color='red', lw=3, alpha=0.6)  \n",
        "\n",
        "# Set x-axis\n",
        "plt.xlabel('Epoch')\n",
        "\n",
        "# Set y-axis\n",
        "plt.ylabel('Cost')\n",
        "\n",
        "# Save and show the figure\n",
        "plt.tight_layout()\n",
        "plt.savefig('./figure/perceptron_bgd_logical_and_cost.pdf')\n",
        "plt.show()"
      ],
      "execution_count": 0,
      "outputs": [
        {
          "output_type": "display_data",
          "data": {
            "image/png": "[encoded data removed]",
            "text/plain": [
              "<Figure size 432x288 with 1 Axes>"
            ]
          },
          "metadata": {
            "tags": [],
            "needs_background": "light"
          }
        }
      ]
    },
    {
      "cell_type": "markdown",
      "metadata": {
        "id": "VI87FU8v11MI",
        "colab_type": "text"
      },
      "source": [
        "# Discussion\n",
        "As shown above, when applied to linearly separable data (logical AND and logical OR), perceptron makes no wrong predictions (can you prove this using the weights of the perceptron displayed above?). However, when applied to non-linearly separable data (logical XOR), perceptron makes wrong predictions almost half of the time. This is why in reality we do not use perceptron itself as a classifier. Instead, we combine them (hierarchically) to form a network to address non-linearly separable problems. Such network is called *Neural Network* (a.k.a., Multi-layer Perceptron)."
      ]
    },
    {
      "cell_type": "markdown",
      "metadata": {
        "id": "1-4u1tYi11MI",
        "colab_type": "text"
      },
      "source": [
        "# Multi-layer Perceptron Classifier"
      ]
    },
    {
      "cell_type": "markdown",
      "metadata": {
        "id": "uSIWUkMS11MI",
        "colab_type": "text"
      },
      "source": [
        "## The Sklearn model"
      ]
    },
    {
      "cell_type": "code",
      "metadata": {
        "id": "eSpNEqu111MJ",
        "colab_type": "code",
        "colab": {}
      },
      "source": [
        "from sklearn.neural_network import MLPClassifier\n",
        "\n",
        "# The MLPClassifier\n",
        "mlpc = MLPClassifier(early_stopping=True, random_state=42)"
      ],
      "execution_count": 0,
      "outputs": []
    },
    {
      "cell_type": "markdown",
      "metadata": {
        "id": "--FZRK7A11MK",
        "colab_type": "text"
      },
      "source": [
        "### Train and test the MLPClassifier on the logical AND data"
      ]
    },
    {
      "cell_type": "code",
      "metadata": {
        "id": "XGuKise111MK",
        "colab_type": "code",
        "outputId": "d6c50286-b2e5-4f89-f609-479a19443f41",
        "colab": {}
      },
      "source": [
        "# Train the multi-layer perceptron classifier on the training data\n",
        "mlpc.fit(X_train, y_logical_and_train)\n",
        "\n",
        "# Get the prediction on the test data\n",
        "y_logical_and_test_pred = mlpc.predict(X_test)\n",
        "\n",
        "# Get the precision, recall, f-score and support\n",
        "precision, recall, fscore, support = precision_recall_fscore_support(y_logical_and_test, y_logical_and_test_pred, average='micro')\n",
        "\n",
        "# Print the precision, recall and f-score\n",
        "pd.DataFrame([[precision, recall, fscore]], columns=['precision', 'recall', 'f-score'])"
      ],
      "execution_count": 0,
      "outputs": [
        {
          "output_type": "execute_result",
          "data": {
            "text/html": [
              "<div>\n",
              "<style scoped>\n",
              "    .dataframe tbody tr th:only-of-type {\n",
              "        vertical-align: middle;\n",
              "    }\n",
              "\n",
              "    .dataframe tbody tr th {\n",
              "        vertical-align: top;\n",
              "    }\n",
              "\n",
              "    .dataframe thead th {\n",
              "        text-align: right;\n",
              "    }\n",
              "</style>\n",
              "<table border=\"1\" class=\"dataframe\">\n",
              "  <thead>\n",
              "    <tr style=\"text-align: right;\">\n",
              "      <th></th>\n",
              "      <th>precision</th>\n",
              "      <th>recall</th>\n",
              "      <th>f-score</th>\n",
              "    </tr>\n",
              "  </thead>\n",
              "  <tbody>\n",
              "    <tr>\n",
              "      <th>0</th>\n",
              "      <td>0.74</td>\n",
              "      <td>0.74</td>\n",
              "      <td>0.74</td>\n",
              "    </tr>\n",
              "  </tbody>\n",
              "</table>\n",
              "</div>"
            ],
            "text/plain": [
              "   precision  recall  f-score\n",
              "0       0.74    0.74     0.74"
            ]
          },
          "metadata": {
            "tags": []
          },
          "execution_count": 32
        }
      ]
    },
    {
      "cell_type": "markdown",
      "metadata": {
        "id": "O-1wrp7x11MM",
        "colab_type": "text"
      },
      "source": [
        "### Train and test the MLPClassifier on the logical OR data"
      ]
    },
    {
      "cell_type": "code",
      "metadata": {
        "id": "BQyMdoDC11MM",
        "colab_type": "code",
        "outputId": "9764054e-1513-4439-e5d8-561dbcb7a374",
        "colab": {}
      },
      "source": [
        "# Train the multi-layer perceptron classifier on the training data\n",
        "mlpc.fit(X_train, y_logical_or_train)\n",
        "\n",
        "# Get the prediction on the test data\n",
        "y_logical_or_test_pred = mlpc.predict(X_test)\n",
        "\n",
        "# Get the precision, recall, f-score and support\n",
        "precision, recall, fscore, support = precision_recall_fscore_support(y_logical_or_test, y_logical_or_test_pred, average='micro')\n",
        "\n",
        "# Print the precision, recall and f-score\n",
        "pd.DataFrame([[precision, recall, fscore]], columns=['precision', 'recall', 'f-score'])"
      ],
      "execution_count": 0,
      "outputs": [
        {
          "output_type": "execute_result",
          "data": {
            "text/html": [
              "<div>\n",
              "<style scoped>\n",
              "    .dataframe tbody tr th:only-of-type {\n",
              "        vertical-align: middle;\n",
              "    }\n",
              "\n",
              "    .dataframe tbody tr th {\n",
              "        vertical-align: top;\n",
              "    }\n",
              "\n",
              "    .dataframe thead th {\n",
              "        text-align: right;\n",
              "    }\n",
              "</style>\n",
              "<table border=\"1\" class=\"dataframe\">\n",
              "  <thead>\n",
              "    <tr style=\"text-align: right;\">\n",
              "      <th></th>\n",
              "      <th>precision</th>\n",
              "      <th>recall</th>\n",
              "      <th>f-score</th>\n",
              "    </tr>\n",
              "  </thead>\n",
              "  <tbody>\n",
              "    <tr>\n",
              "      <th>0</th>\n",
              "      <td>0.25</td>\n",
              "      <td>0.25</td>\n",
              "      <td>0.25</td>\n",
              "    </tr>\n",
              "  </tbody>\n",
              "</table>\n",
              "</div>"
            ],
            "text/plain": [
              "   precision  recall  f-score\n",
              "0       0.25    0.25     0.25"
            ]
          },
          "metadata": {
            "tags": []
          },
          "execution_count": 33
        }
      ]
    },
    {
      "cell_type": "markdown",
      "metadata": {
        "id": "FdtAT_-S11MN",
        "colab_type": "text"
      },
      "source": [
        "### Train and test the MLPClassifier on the logical XOR data"
      ]
    },
    {
      "cell_type": "code",
      "metadata": {
        "id": "RULIQhxZ11MO",
        "colab_type": "code",
        "outputId": "8d1db169-3d14-4603-e473-69fdf9db82c5",
        "colab": {}
      },
      "source": [
        "# Train the multi-layer perceptron classifier on the training data\n",
        "mlpc.fit(X_train, y_logical_xor_train)\n",
        "\n",
        "# Get the prediction on the test data\n",
        "y_logical_xor_test_pred = mlpc.predict(X_test)\n",
        "\n",
        "# Get the precision, recall, f-score and support\n",
        "precision, recall, fscore, support = precision_recall_fscore_support(y_logical_xor_test, y_logical_xor_test_pred, average='micro')\n",
        "\n",
        "# Print the precision, recall and f-score\n",
        "pd.DataFrame([[precision, recall, fscore]], columns=['precision', 'recall', 'f-score'])"
      ],
      "execution_count": 0,
      "outputs": [
        {
          "output_type": "execute_result",
          "data": {
            "text/html": [
              "<div>\n",
              "<style scoped>\n",
              "    .dataframe tbody tr th:only-of-type {\n",
              "        vertical-align: middle;\n",
              "    }\n",
              "\n",
              "    .dataframe tbody tr th {\n",
              "        vertical-align: top;\n",
              "    }\n",
              "\n",
              "    .dataframe thead th {\n",
              "        text-align: right;\n",
              "    }\n",
              "</style>\n",
              "<table border=\"1\" class=\"dataframe\">\n",
              "  <thead>\n",
              "    <tr style=\"text-align: right;\">\n",
              "      <th></th>\n",
              "      <th>precision</th>\n",
              "      <th>recall</th>\n",
              "      <th>f-score</th>\n",
              "    </tr>\n",
              "  </thead>\n",
              "  <tbody>\n",
              "    <tr>\n",
              "      <th>0</th>\n",
              "      <td>0.51</td>\n",
              "      <td>0.51</td>\n",
              "      <td>0.51</td>\n",
              "    </tr>\n",
              "  </tbody>\n",
              "</table>\n",
              "</div>"
            ],
            "text/plain": [
              "   precision  recall  f-score\n",
              "0       0.51    0.51     0.51"
            ]
          },
          "metadata": {
            "tags": []
          },
          "execution_count": 34
        }
      ]
    },
    {
      "cell_type": "markdown",
      "metadata": {
        "id": "8od1rZfI11MQ",
        "colab_type": "text"
      },
      "source": [
        "## The implemented model"
      ]
    },
    {
      "cell_type": "markdown",
      "metadata": {
        "id": "KCARgSJW11MR",
        "colab_type": "text"
      },
      "source": [
        "The code below shows how to implement the multi-layer perceptron classifier using mini-batch gradient descent and back propagation."
      ]
    },
    {
      "cell_type": "code",
      "metadata": {
        "id": "TLTUckKI11MR",
        "colab_type": "code",
        "colab": {}
      },
      "source": [
        "from sklearn.utils import shuffle\n",
        "\n",
        "class MLPC_MBGD(BaseEstimator, ClassifierMixin):\n",
        "    \"\"\"The multi-layer perceptron classifier\"\"\"\n",
        "        \n",
        "    def __init__(self, \n",
        "                 hidden_layer_sizes=[100], \n",
        "                 activation='relu', \n",
        "                 alpha=10 ** -4,\n",
        "                 batch_size='auto',\n",
        "                 learning_rate_init=0.01, \n",
        "                 max_iter=100, \n",
        "                 shuffle=True, \n",
        "                 random_state=42):\n",
        "        \n",
        "        # The number of neurons in each hidden layer\n",
        "        self.hidden_layer_sizes = hidden_layer_sizes\n",
        "        \n",
        "        # The Activation function\n",
        "        self.activation = activation\n",
        "        \n",
        "        # The regularization parameter\n",
        "        self.alpha = alpha\n",
        "        \n",
        "        # The size of minibatches for stochastic optimizers\n",
        "        self.batch_size = batch_size\n",
        "        \n",
        "        # The initial learning rate\n",
        "        self.learning_rate_init = learning_rate_init\n",
        "\n",
        "        # The maximum number of iterations\n",
        "        self.max_iter = max_iter\n",
        "        \n",
        "        # Whether to shuffle samples in each iteration\n",
        "        self.shuffle = shuffle\n",
        "        \n",
        "        # The random state\n",
        "        self.random_state = random_state\n",
        "\n",
        "    def fit(self, X, y):\n",
        "        \"\"\"\n",
        "        The fit function\n",
        "        \n",
        "        Parameters\n",
        "        ----------\n",
        "        X : the feature matrix\n",
        "        y : the target vector\n",
        "        \"\"\"\n",
        "        \n",
        "        # Get the one-hot-encoded target matrix\n",
        "        Y = pd.get_dummies(y).to_numpy()\n",
        "        \n",
        "        # Initialize the object variables\n",
        "        self.fit_init(X, Y)\n",
        "                \n",
        "        # For each epoch\n",
        "        for epoch in range(self.max_iter):\n",
        "            # Get the minibatches\n",
        "            minibatches = self.get_minibatches()\n",
        "            \n",
        "            # For each minibatch\n",
        "            for minibatch in minibatches:   \n",
        "                # Get the feature matrix\n",
        "                X_minibatch = X[minibatch,:]\n",
        "                                \n",
        "                # Get the target matrix\n",
        "                Y_minibatch = Y[minibatch,:]\n",
        "                                \n",
        "                # Update the weights and biases using mini-batch gradient descent\n",
        "                self.mini_batch_gradient_descent(X_minibatch.reshape(self.batch_size, -1).T, Y_minibatch.reshape(self.batch_size, -1).T)\n",
        "                \n",
        "                # Update the cost\n",
        "                self.costs[epoch] += np.sum((Y_minibatch.reshape(self.batch_size, -1).T - self.activations[-1]) ** 2) / self.m\n",
        "                \n",
        "    def fit_init(self, X, Y):\n",
        "        \"\"\"\n",
        "        Initialize the object variables\n",
        "        \n",
        "        Parameters\n",
        "        ----------\n",
        "        X : the feature matrix\n",
        "        y : the target matrix\n",
        "        \"\"\"\n",
        "        \n",
        "        # Initialize the number of samples and featurs\n",
        "        self.m, self.n = X.shape\n",
        "        \n",
        "        # Initialize the number of unique class labels\n",
        "        self.classes = np.unique(Y)\n",
        "        \n",
        "        # Initialize the number of neurons in each layer\n",
        "        self.layer_sizes = [self.n] + self.hidden_layer_sizes + [len(self.classes)]\n",
        "        \n",
        "        # Initialize the size of minibatches for stochastic optimizers\n",
        "        self.batch_size = min(32, self.m)\n",
        "        \n",
        "        # Initialize the cost\n",
        "        self.costs = np.zeros(self.max_iter)\n",
        "        \n",
        "        # Initialize the random number generator\n",
        "        self.rgen = np.random.RandomState(seed=self.random_state)\n",
        "        \n",
        "        # Initialize the weights\n",
        "        self.ws = [0] + [self.rgen.normal(loc=0.0, \n",
        "                                          scale=2 / np.sqrt(self.layer_sizes[i] + self.layer_sizes[i - 1]), \n",
        "                                          size=(self.layer_sizes[i], self.layer_sizes[i - 1]))\n",
        "                         for i in range(1, len(self.layer_sizes))]\n",
        "        \n",
        "        # Initialize the biases\n",
        "        self.bs = [0] + [np.zeros((self.layer_sizes[i], 1))\n",
        "                         for i in range(1, len(self.layer_sizes))]\n",
        "        \n",
        "        # Initialize the net inputs\n",
        "        self.net_inputs = [0] * (len(self.layer_sizes))\n",
        "\n",
        "        # Initialize the activations\n",
        "        self.activations = [0] * (len(self.layer_sizes))\n",
        "        \n",
        "        # Initialize the sensitivities\n",
        "        self.sensitivities = [0] * (len(self.layer_sizes))\n",
        "        \n",
        "        # Initialize the derivatives\n",
        "        self.derivatives = [0] * (len(self.layer_sizes))\n",
        "        \n",
        "    def get_minibatches(self):\n",
        "        \"\"\"\n",
        "        Get the minibatches\n",
        "        \n",
        "        Returns\n",
        "        ----------\n",
        "        The minibatches\n",
        "        \"\"\"\n",
        "        \n",
        "        # Initialize the minibatches\n",
        "        minibatches = []\n",
        "        \n",
        "        # Get the indices\n",
        "        idxs = np.array(range(self.m))\n",
        "        \n",
        "        if self.shuffle is True:\n",
        "            # Shuffle the indices\n",
        "            self.rgen.shuffle(idxs)\n",
        "                \n",
        "        # Get the number of minibatches\n",
        "        n_batch = self.m // self.batch_size\n",
        "        \n",
        "        # For each minibatch\n",
        "        for i in range(n_batch):\n",
        "            # Get the first and last index (exclusive) of the minibatch\n",
        "            first_idx = i * self.batch_size\n",
        "            last_idx = min((i + 1) * self.batch_size, self.m)\n",
        "                                    \n",
        "            # Get the minibatch\n",
        "            minibatch = idxs[first_idx : last_idx]\n",
        "            \n",
        "            # Update the minibatches\n",
        "            minibatches.append(minibatch)\n",
        "\n",
        "        return minibatches\n",
        "                \n",
        "    def mini_batch_gradient_descent(self, X, Y):\n",
        "        \"\"\"\n",
        "        Update the weights and biases using mini-batch gradient descent\n",
        "        \n",
        "        Parameters\n",
        "        ----------\n",
        "        X : the feature matrix\n",
        "        Y : the target matrix\n",
        "        \"\"\"\n",
        "        \n",
        "        # Get the activation in the first layer\n",
        "        self.activations[0] = X\n",
        "\n",
        "        # Propagate the net input and activation forward through the network\n",
        "        for i in range(1, len(self.layer_sizes)):\n",
        "            # Get the net input in layer i\n",
        "            self.net_inputs[i] = self.get_net_input(i)  \n",
        "            \n",
        "            # Get the activation in layer i\n",
        "            self.activations[i] = self.get_activation(i)\n",
        "                                \n",
        "        # Get the sensitivity in the last layer\n",
        "        self.sensitivities[-1] = - 2 / X.shape[0] * np.array([np.matmul(self.get_derivative(len(self.layer_sizes) - 1)[:, :, k], \n",
        "                                                                        (Y - self.activations[-1])[:, k]) \n",
        "                                                              for k in range(X.shape[1])]).T\n",
        "                        \n",
        "        # Propagate the sensitivites backward through the network\n",
        "        for i in range(len(self.layer_sizes) - 2, 0, -1):\n",
        "            # Get the derivative in layer i\n",
        "            self.derivatives[i] = self.get_derivative(i)\n",
        "                        \n",
        "            # Get the sensitivity in layer i\n",
        "            self.sensitivities[i] = self.get_sensitivity(i)\n",
        "                        \n",
        "        # Update the weights and biases using gradient descent\n",
        "        for i in range(1, len(self.layer_sizes)):\n",
        "            # Update the weights\n",
        "            self.ws[i] -= self.learning_rate_init * (np.matmul(self.sensitivities[i], self.activations[i - 1].T) + 2 * self.alpha * self.ws[i])\n",
        "            \n",
        "            # Update the biases\n",
        "            self.bs[i] -= self.learning_rate_init * self.sensitivities[i].sum(axis=1).reshape(-1, 1)\n",
        "\n",
        "    def get_net_input(self, i):\n",
        "        \"\"\"\n",
        "        Get the net input in layer i\n",
        "        \n",
        "        Parameters\n",
        "        ----------\n",
        "        i : the ith layer\n",
        "        \n",
        "        Returns\n",
        "        ----------\n",
        "        The net input in layer i\n",
        "        \"\"\"\n",
        "        \n",
        "        return np.matmul(self.ws[i], self.activations[i - 1]) + self.bs[i]\n",
        "    \n",
        "    def get_activation(self, i):\n",
        "        \"\"\"\n",
        "        Get the activation in layer i\n",
        "        \n",
        "        Parameters\n",
        "        ----------\n",
        "        i : the ith layer\n",
        "        \n",
        "        Returns\n",
        "        ----------\n",
        "        The activation in layer i    \n",
        "        \"\"\" \n",
        "\n",
        "        if self.activation == 'identity':\n",
        "            return self.net_inputs[i]\n",
        "        elif self.activation == 'logistic':\n",
        "            return 1 / (1 + np.exp(-self.net_inputs[i]))\n",
        "        elif self.activation == 'tanh':\n",
        "            e_z = np.exp(self.net_inputs[i])\n",
        "            e_neg_z = np.exp(-self.net_inputs[i])\n",
        "            return (e_z - e_neg_z) / (e_z + e_neg_z)\n",
        "        elif self.activation == 'relu':\n",
        "            return np.clip(self.net_inputs[i], 0, None)\n",
        "        else:\n",
        "            print(\"Activation undefined!\")\n",
        "            sys.exit(1)\n",
        "    \n",
        "    def get_derivative(self, i):\n",
        "        \"\"\"\n",
        "        Get the derivative in layer i\n",
        "        \n",
        "        Parameters\n",
        "        ----------\n",
        "        i : the ith layer\n",
        "        \n",
        "        Returns\n",
        "        ----------\n",
        "        The derivative in layer i    \n",
        "        \"\"\" \n",
        "        \n",
        "        if self.activation == 'identity':\n",
        "            return np.array([np.identity(self.activations[i].shape[0]) \n",
        "                             for j in range(self.activations[i].shape[1])]).T\n",
        "        elif self.activation == 'logistic':        \n",
        "            return np.array([np.diag((self.activations[i] * 1 - self.activations[i])[:, j]) \n",
        "                             for j in range(self.activations[i].shape[1])]).T\n",
        "        elif self.activation == 'tanh':\n",
        "            return np.array([np.diag((1 - self.activations[i] ** 2)[:, j]) \n",
        "                             for j in range(self.activations[i].shape[1])]).T\n",
        "        elif self.activation == 'relu':         \n",
        "            return np.array([np.diag(np.where(self.net_inputs[i][:, j] >= 0, 1, 0).reshape(-1)) \n",
        "                             for j in range(self.net_inputs[i].shape[1])]).T\n",
        "        else:\n",
        "            print(\"Activation undefined!\")\n",
        "            sys.exit(1)\n",
        "        \n",
        "    def get_sensitivity(self, i):\n",
        "        \"\"\"\n",
        "        Get the sensitivity in layer i\n",
        "        \n",
        "        Parameters\n",
        "        ----------\n",
        "        i : the ith layer\n",
        "        \n",
        "        Returns\n",
        "        ----------\n",
        "        The sensitivity in layer i    \n",
        "        \"\"\" \n",
        "        \n",
        "        # Get matrix multiplication\n",
        "        M = np.matmul(self.ws[i + 1].T, self.sensitivities[i + 1])\n",
        "        \n",
        "        return np.array([np.matmul(self.derivatives[i][:, :, k], M[:, k]) \n",
        "                         for k in range(M.shape[1])]).T\n",
        "        \n",
        "    def predict(self, X):\n",
        "        \"\"\"\n",
        "        The predict function\n",
        "        \n",
        "        Parameters\n",
        "        ----------\n",
        "        X : the feature matrix\n",
        "        \n",
        "        Returns\n",
        "        ----------\n",
        "        The predicted class labels of the target\n",
        "        \"\"\"\n",
        "\n",
        "        # Initialize the net inputs\n",
        "        self.net_inputs = [0] * (len(self.layer_sizes))\n",
        "        \n",
        "        # Initialize the activations\n",
        "        self.activations = [0] * (len(self.layer_sizes))\n",
        "        # Initialize the activation in the first layer\n",
        "        self.activations[0] = X.T\n",
        "\n",
        "        # Propagate the input forward through the network\n",
        "        for i in range(1, len(self.layer_sizes)):\n",
        "            # Get the net input in layer i\n",
        "            self.net_inputs[i] = self.get_net_input(i)  \n",
        "            \n",
        "            # Get the activation in layer i\n",
        "            self.activations[i] = self.get_activation(i)\n",
        "                                \n",
        "        return np.argmax(self.activations[-1], axis=0)"
      ],
      "execution_count": 0,
      "outputs": []
    },
    {
      "cell_type": "code",
      "metadata": {
        "id": "dn8cXrnz11MT",
        "colab_type": "code",
        "colab": {}
      },
      "source": [
        "# The Multi-layer Perceptron Classifier\n",
        "mlpc_mbgd = MLPC_MBGD()"
      ],
      "execution_count": 0,
      "outputs": []
    },
    {
      "cell_type": "markdown",
      "metadata": {
        "id": "_OBi9CBJ11MU",
        "colab_type": "text"
      },
      "source": [
        "### Train and test the MLPC_MBGD on the logical AND data"
      ]
    },
    {
      "cell_type": "code",
      "metadata": {
        "id": "Op2elPEO11MV",
        "colab_type": "code",
        "outputId": "fb98e9ac-b4f2-4864-c86c-d0cda2da26ec",
        "colab": {}
      },
      "source": [
        "# Train the multi-layer perceptron classifier on the training data\n",
        "mlpc_mbgd.fit(X_train, y_logical_and_train)\n",
        "\n",
        "# Get the multi-layer perceptron classifier on the test data\n",
        "y_logical_and_test_pred = mlpc_mbgd.predict(X_test)\n",
        "\n",
        "# Get the precision, recall, f-score and support\n",
        "precision, recall, fscore, support = precision_recall_fscore_support(y_logical_and_test, y_logical_and_test_pred, average='micro')\n",
        "\n",
        "# Print the precision, recall and f-score\n",
        "pd.DataFrame([[precision, recall, fscore]], columns=['precision', 'recall', 'f-score'])"
      ],
      "execution_count": 0,
      "outputs": [
        {
          "output_type": "execute_result",
          "data": {
            "text/html": [
              "<div>\n",
              "<style scoped>\n",
              "    .dataframe tbody tr th:only-of-type {\n",
              "        vertical-align: middle;\n",
              "    }\n",
              "\n",
              "    .dataframe tbody tr th {\n",
              "        vertical-align: top;\n",
              "    }\n",
              "\n",
              "    .dataframe thead th {\n",
              "        text-align: right;\n",
              "    }\n",
              "</style>\n",
              "<table border=\"1\" class=\"dataframe\">\n",
              "  <thead>\n",
              "    <tr style=\"text-align: right;\">\n",
              "      <th></th>\n",
              "      <th>precision</th>\n",
              "      <th>recall</th>\n",
              "      <th>f-score</th>\n",
              "    </tr>\n",
              "  </thead>\n",
              "  <tbody>\n",
              "    <tr>\n",
              "      <th>0</th>\n",
              "      <td>1.0</td>\n",
              "      <td>1.0</td>\n",
              "      <td>1.0</td>\n",
              "    </tr>\n",
              "  </tbody>\n",
              "</table>\n",
              "</div>"
            ],
            "text/plain": [
              "   precision  recall  f-score\n",
              "0        1.0     1.0      1.0"
            ]
          },
          "metadata": {
            "tags": []
          },
          "execution_count": 37
        }
      ]
    },
    {
      "cell_type": "markdown",
      "metadata": {
        "id": "YFNx82Xm11MW",
        "colab_type": "text"
      },
      "source": [
        "The code below shows how to plot the cost as a function of the epoch."
      ]
    },
    {
      "cell_type": "code",
      "metadata": {
        "scrolled": false,
        "id": "MduUzMk511MX",
        "colab_type": "code",
        "outputId": "9c1394b3-c86e-41a5-dec9-9304912749d7",
        "colab": {}
      },
      "source": [
        "# The line plot\n",
        "plt.plot(range(len(mlpc_mbgd.costs)), mlpc_mbgd.costs, color='red', lw=3, alpha=0.6)  \n",
        "\n",
        "# Set x-axis\n",
        "plt.xlabel('Epoch')\n",
        "\n",
        "# Set y-axis\n",
        "plt.ylabel('Cost')\n",
        "\n",
        "# Save and show the figure\n",
        "plt.tight_layout()\n",
        "plt.savefig('./figure/mlpc_mbgd_logical_and_cost.pdf')\n",
        "plt.show()"
      ],
      "execution_count": 0,
      "outputs": [
        {
          "output_type": "display_data",
          "data": {
            "image/png": "[encoded data removed]",
            "text/plain": [
              "<Figure size 432x288 with 1 Axes>"
            ]
          },
          "metadata": {
            "tags": [],
            "needs_background": "light"
          }
        }
      ]
    },
    {
      "cell_type": "markdown",
      "metadata": {
        "id": "duf9fhLP11MY",
        "colab_type": "text"
      },
      "source": [
        "### Train and test the MLPC_MBGD on the logical OR data"
      ]
    },
    {
      "cell_type": "code",
      "metadata": {
        "id": "2t5ZtJ-_11MY",
        "colab_type": "code",
        "outputId": "4f5f3428-398f-4203-bf21-8cdd216db981",
        "colab": {}
      },
      "source": [
        "# Train the multi-layer perceptron classifier on the training data\n",
        "mlpc_mbgd.fit(X_train, y_logical_or_train)\n",
        "\n",
        "# Get the multi-layer perceptron classifier on the test data\n",
        "y_logical_or_test_pred = mlpc_mbgd.predict(X_test)\n",
        "\n",
        "# Get the precision, recall, f-score and support\n",
        "precision, recall, fscore, support = precision_recall_fscore_support(y_logical_or_test, y_logical_or_test_pred, average='micro')\n",
        "\n",
        "# Print the precision, recall and f-score\n",
        "pd.DataFrame([[precision, recall, fscore]], columns=['precision', 'recall', 'f-score'])"
      ],
      "execution_count": 0,
      "outputs": [
        {
          "output_type": "execute_result",
          "data": {
            "text/html": [
              "<div>\n",
              "<style scoped>\n",
              "    .dataframe tbody tr th:only-of-type {\n",
              "        vertical-align: middle;\n",
              "    }\n",
              "\n",
              "    .dataframe tbody tr th {\n",
              "        vertical-align: top;\n",
              "    }\n",
              "\n",
              "    .dataframe thead th {\n",
              "        text-align: right;\n",
              "    }\n",
              "</style>\n",
              "<table border=\"1\" class=\"dataframe\">\n",
              "  <thead>\n",
              "    <tr style=\"text-align: right;\">\n",
              "      <th></th>\n",
              "      <th>precision</th>\n",
              "      <th>recall</th>\n",
              "      <th>f-score</th>\n",
              "    </tr>\n",
              "  </thead>\n",
              "  <tbody>\n",
              "    <tr>\n",
              "      <th>0</th>\n",
              "      <td>1.0</td>\n",
              "      <td>1.0</td>\n",
              "      <td>1.0</td>\n",
              "    </tr>\n",
              "  </tbody>\n",
              "</table>\n",
              "</div>"
            ],
            "text/plain": [
              "   precision  recall  f-score\n",
              "0        1.0     1.0      1.0"
            ]
          },
          "metadata": {
            "tags": []
          },
          "execution_count": 39
        }
      ]
    },
    {
      "cell_type": "markdown",
      "metadata": {
        "id": "eI8ykfUM11Ma",
        "colab_type": "text"
      },
      "source": [
        "The code below shows how to plot the cost as a function of the epoch."
      ]
    },
    {
      "cell_type": "code",
      "metadata": {
        "scrolled": false,
        "id": "a0ehWtPP11Ma",
        "colab_type": "code",
        "outputId": "1a696e16-fe5b-45d1-d602-c7b6e1f764e4",
        "colab": {}
      },
      "source": [
        "# The line plot\n",
        "plt.plot(range(len(mlpc_mbgd.costs)), mlpc_mbgd.costs, color='red', lw=3, alpha=0.6)  \n",
        "\n",
        "# Set x-axis\n",
        "plt.xlabel('Epoch')\n",
        "\n",
        "# Set y-axis\n",
        "plt.ylabel('Cost')\n",
        "\n",
        "# Save and show the figure\n",
        "plt.tight_layout()\n",
        "plt.savefig('./figure/mlpc_mbgd_logical_or_cost.pdf')\n",
        "plt.show()"
      ],
      "execution_count": 0,
      "outputs": [
        {
          "output_type": "display_data",
          "data": {
            "image/png": "[encoded data removed]",
            "text/plain": [
              "<Figure size 432x288 with 1 Axes>"
            ]
          },
          "metadata": {
            "tags": [],
            "needs_background": "light"
          }
        }
      ]
    },
    {
      "cell_type": "markdown",
      "metadata": {
        "id": "kkXM6tEV11Mb",
        "colab_type": "text"
      },
      "source": [
        "### Train and test the MLPC_MBGD on the logical XOR data"
      ]
    },
    {
      "cell_type": "code",
      "metadata": {
        "id": "oXqA4Zpp11Mc",
        "colab_type": "code",
        "outputId": "6428b365-cff6-4eb9-c9bb-7720189b9337",
        "colab": {}
      },
      "source": [
        "# Train the multi-layer perceptron classifier on the training data\n",
        "mlpc_mbgd.fit(X_train, y_logical_xor_train)\n",
        "\n",
        "# Get the multi-layer perceptron classifier on the test data\n",
        "y_logical_xor_test_pred = mlpc_mbgd.predict(X_test)\n",
        "\n",
        "# Get the precision, recall, f-score and support\n",
        "precision, recall, fscore, support = precision_recall_fscore_support(y_logical_xor_test, y_logical_xor_test_pred, average='micro')\n",
        "\n",
        "# Print the precision, recall and f-score\n",
        "pd.DataFrame([[precision, recall, fscore]], columns=['precision', 'recall', 'f-score'])"
      ],
      "execution_count": 0,
      "outputs": [
        {
          "output_type": "execute_result",
          "data": {
            "text/html": [
              "<div>\n",
              "<style scoped>\n",
              "    .dataframe tbody tr th:only-of-type {\n",
              "        vertical-align: middle;\n",
              "    }\n",
              "\n",
              "    .dataframe tbody tr th {\n",
              "        vertical-align: top;\n",
              "    }\n",
              "\n",
              "    .dataframe thead th {\n",
              "        text-align: right;\n",
              "    }\n",
              "</style>\n",
              "<table border=\"1\" class=\"dataframe\">\n",
              "  <thead>\n",
              "    <tr style=\"text-align: right;\">\n",
              "      <th></th>\n",
              "      <th>precision</th>\n",
              "      <th>recall</th>\n",
              "      <th>f-score</th>\n",
              "    </tr>\n",
              "  </thead>\n",
              "  <tbody>\n",
              "    <tr>\n",
              "      <th>0</th>\n",
              "      <td>1.0</td>\n",
              "      <td>1.0</td>\n",
              "      <td>1.0</td>\n",
              "    </tr>\n",
              "  </tbody>\n",
              "</table>\n",
              "</div>"
            ],
            "text/plain": [
              "   precision  recall  f-score\n",
              "0        1.0     1.0      1.0"
            ]
          },
          "metadata": {
            "tags": []
          },
          "execution_count": 41
        }
      ]
    },
    {
      "cell_type": "markdown",
      "metadata": {
        "id": "_eCIkr8w11Md",
        "colab_type": "text"
      },
      "source": [
        "The code below shows how to plot the cost as a function of the epoch."
      ]
    },
    {
      "cell_type": "code",
      "metadata": {
        "scrolled": false,
        "id": "jj0qd1kT11Md",
        "colab_type": "code",
        "outputId": "e66a81eb-201f-4a68-8ce6-03b03739418f",
        "colab": {}
      },
      "source": [
        "# The line plot\n",
        "plt.plot(range(len(mlpc_mbgd.costs)), mlpc_mbgd.costs, color='red', lw=3, alpha=0.6)  \n",
        "\n",
        "# Set x-axis\n",
        "plt.xlabel('Epoch')\n",
        "\n",
        "# Set y-axis\n",
        "plt.ylabel('Cost')\n",
        "\n",
        "# Save and show the figure\n",
        "plt.tight_layout()\n",
        "plt.savefig('./figure/mlpc_mbgd_logical_xor_cost.pdf')\n",
        "plt.show()"
      ],
      "execution_count": 0,
      "outputs": [
        {
          "output_type": "display_data",
          "data": {
            "image/png": "[encoded data removed]",
            "text/plain": [
              "<Figure size 432x288 with 1 Axes>"
            ]
          },
          "metadata": {
            "tags": [],
            "needs_background": "light"
          }
        }
      ]
    },
    {
      "cell_type": "markdown",
      "metadata": {
        "collapsed": true,
        "id": "jBOPhzDC11Me",
        "colab_type": "text"
      },
      "source": [
        "# Discussion\n",
        "The results above show that, unlike single-layer perceptron which only works for linearly separable data (e.g., Logical AND and Logical OR), multi-layer perceptron can be applied to non-linearly separable data (e.g., XOR). While we only used one hidden layers in this case study, in reality we may need many layers where each layer includes many perceptrons. Such deep neural network allows us to solve complex problems particularly in areas such as Natural Language Processing and Computer Vision. Stay tuned."
      ]
    },
    {
      "cell_type": "code",
      "metadata": {
        "id": "eR1JPLRa11Mf",
        "colab_type": "code",
        "colab": {}
      },
      "source": [
        ""
      ],
      "execution_count": 0,
      "outputs": []
    }
  ]
}