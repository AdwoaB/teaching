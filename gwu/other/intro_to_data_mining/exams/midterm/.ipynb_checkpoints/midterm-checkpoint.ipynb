{
 "cells": [
  {
   "cell_type": "markdown",
   "metadata": {},
   "source": [
    "<h1 align=\"center\"> \n",
    "DATS 6103 - 10, Summer 2018, Midterm (solution)\n",
    "</h1> \n",
    "\n",
    "<h1 align=\"center\"> \n",
    "June 5, 5:10 PM - 6:40 PM\n",
    "</h1> \n",
    "\n",
    "<h4 align=\"center\"> \n",
    "Author: Yuxiao Huang ([yuxiaohuang@gwu.edu](mailto:yuxiaohuang@gwu.edu))\n",
    "</h4>"
   ]
  },
  {
   "cell_type": "markdown",
   "metadata": {},
   "source": [
    "## The Car class"
   ]
  },
  {
   "cell_type": "code",
   "execution_count": 120,
   "metadata": {
    "collapsed": true
   },
   "outputs": [],
   "source": [
    "class Car:\n",
    "    def __init__(self, license_plate):\n",
    "        # The license plate of a car\n",
    "        self.license_plate = license_plate\n",
    "        \n",
    "        # The index of the spot (in the parking lot) where the car is parked\n",
    "        self.spot_idx = None\n",
    "        \n",
    "    def __str__(self):\n",
    "        return self.license_plate"
   ]
  },
  {
   "cell_type": "markdown",
   "metadata": {},
   "source": [
    "## The ParkingLot class\n",
    "Implement the functions in Parkinglot class"
   ]
  },
  {
   "cell_type": "code",
   "execution_count": 121,
   "metadata": {},
   "outputs": [],
   "source": [
    "class ParkingLot:\n",
    "    def __init__(self, max_num_spots):\n",
    "        # The maximum number of spots in the parking lot\n",
    "        self.max_num_spots = max_num_spots\n",
    "        \n",
    "        # The number of available spots in the parking lot\n",
    "        self.avail_num_spots = max_num_spots\n",
    "        \n",
    "        # The spots\n",
    "        self.spots = [None] * max_num_spots\n",
    "        \n",
    "        # The waitting list\n",
    "        self.waitting_list = []\n",
    "        \n",
    "    def arrive(self, car):        \n",
    "        \"\"\"\n",
    "        When a car arrives:\n",
    "            1. put the car in the waitting list\n",
    "            2. print(str(car) + ' entering the waitting list...')\n",
    "            3. print('System checking the available spots...')\n",
    "        If there are available spots:\n",
    "            4. park the car (using the self.park function)\n",
    "        Else\n",
    "            5. print('No available spot, ' + str(car) + ' waitting...')\n",
    "            \n",
    "        Parameters\n",
    "        ----------\n",
    "        car : the Car object\n",
    "        \"\"\"\n",
    "        \n",
    "        # Steps 1 to 5\n",
    "        self.waitting_list.append(car)\n",
    "        \n",
    "        print(str(car) + ' entering the waitting list...')\n",
    "        \n",
    "        print('System checking the available spots...')\n",
    "        \n",
    "        # If there are available spots\n",
    "        if self.avail_num_spots > 0:\n",
    "            self.park()\n",
    "        else:\n",
    "            print('No available spot, ' + str(car) + ' waitting...')\n",
    "            \n",
    "    def park(self):\n",
    "        \"\"\"\n",
    "        1. print 'There are available spots...'\n",
    "        If waitting list is not empty\n",
    "            2. get the first car in the waitting list\n",
    "            3. get the smallest index of an available spot (using the self.get_spot_idx function)\n",
    "            4. update the car.spot_idx using the above index\n",
    "            5. remove the car from the waitting list\n",
    "            6. print(str(car) + ' leaving the waitting list...')\n",
    "            7. park the car at the spot\n",
    "            8. decrease self.avail_num_spots by 1\n",
    "            9. print(str(car) + ' parking at spot ' + str(car.spot_idx))\n",
    "            10. print('The spots are now as follows...')\n",
    "            11. for i in range(len(self.spots)):\n",
    "                    print('Spot ' + str(i) + ': ' + str(self.spots[i]))\n",
    "        Else\n",
    "            12. print(str(car) + ' waitting list empty...')\n",
    "            \n",
    "        Parameters\n",
    "        ----------\n",
    "        car : the Car object\n",
    "        \"\"\"\n",
    "        \n",
    "        # Steps 1 to 12\n",
    "        print('There are available spots...')\n",
    "        \n",
    "        # If waitting list is not empty\n",
    "        if len(self.waitting_list) > 0:\n",
    "            car = self.waitting_list[0]\n",
    "            \n",
    "            spot_idx = self.get_spot_idx()\n",
    "\n",
    "            car.spot_idx = spot_idx\n",
    "\n",
    "            self.waitting_list.remove(car)\n",
    "\n",
    "            print(str(car) + ' leaving the waitting list...')\n",
    "\n",
    "            self.spots[spot_idx] = car\n",
    "\n",
    "            self.avail_num_spots -= 1\n",
    "\n",
    "            print(str(car) + ' parking at spot ' + str(car.spot_idx))\n",
    "\n",
    "            print('The spots are now as follows...')\n",
    "\n",
    "            for i in range(len(self.spots)):\n",
    "                print('Spot ' + str(i) + ': ' + str(self.spots[i]))\n",
    "        else:\n",
    "            print(str(car) + ' waitting list empty...')\n",
    "    \n",
    "    def get_spot_idx(self):\n",
    "        \"\"\"\n",
    "        Step 5 in the self.park function\n",
    "        \n",
    "        Returns\n",
    "        -------\n",
    "        idx : the smallest index of an available spot \n",
    "              if there are no available spots, return None\n",
    "        \"\"\"\n",
    "        \n",
    "        for idx in range(len(self.spots)):\n",
    "            if self.spots[idx] is None:\n",
    "                return idx\n",
    "        \n",
    "        return None\n",
    "            \n",
    "    def leave(self, car):\n",
    "        \"\"\"\n",
    "        1. print('Car ' + car.license_plate + ' leaving from spot ' + str(car.spot_idx) + '...')\n",
    "        2. free the spot\n",
    "        3. increase self.avail_num_spots by 1\n",
    "        4. call the self.park function\n",
    "        \n",
    "        Parameters\n",
    "        ----------\n",
    "        car : the Car object\n",
    "        \"\"\"\n",
    "        \n",
    "        # Steps 1 to 4\n",
    "        print('Car ' + car.license_plate + ' leaving from spot ' + str(car.spot_idx) + '...')\n",
    "        \n",
    "        self.spots[car.spot_idx] = None\n",
    "\n",
    "        self.avail_num_spots += 1\n",
    "        \n",
    "        self.park()"
   ]
  },
  {
   "cell_type": "markdown",
   "metadata": {},
   "source": [
    "### Declare a ParkingLot object, pl"
   ]
  },
  {
   "cell_type": "code",
   "execution_count": 122,
   "metadata": {
    "collapsed": true
   },
   "outputs": [],
   "source": [
    "pl = ParkingLot(2)"
   ]
  },
  {
   "cell_type": "markdown",
   "metadata": {},
   "source": [
    "### Declare a Car objects, car0, car 1, car2, and car3"
   ]
  },
  {
   "cell_type": "code",
   "execution_count": 123,
   "metadata": {},
   "outputs": [],
   "source": [
    "car0 = Car('Intro to data mining')\n",
    "car1 = Car('Intro to data science')\n",
    "car2 = Car('Machine learning I')\n",
    "car3 = Car('Machine learning II')"
   ]
  },
  {
   "cell_type": "markdown",
   "metadata": {},
   "source": [
    "### car0 arrives"
   ]
  },
  {
   "cell_type": "code",
   "execution_count": 124,
   "metadata": {
    "scrolled": true
   },
   "outputs": [
    {
     "name": "stdout",
     "output_type": "stream",
     "text": [
      "Intro to data mining entering the waitting list...\n",
      "System checking the available spots...\n",
      "There are available spots...\n",
      "Intro to data mining leaving the waitting list...\n",
      "Intro to data mining parking at spot 0\n",
      "The spots are now as follows...\n",
      "Spot 0, Intro to data mining\n",
      "Spot 1, None\n"
     ]
    }
   ],
   "source": [
    "pl.arrive(car0)"
   ]
  },
  {
   "cell_type": "markdown",
   "metadata": {},
   "source": [
    "### car1 arrives"
   ]
  },
  {
   "cell_type": "code",
   "execution_count": 125,
   "metadata": {
    "scrolled": true
   },
   "outputs": [
    {
     "name": "stdout",
     "output_type": "stream",
     "text": [
      "Intro to data science entering the waitting list...\n",
      "System checking the available spots...\n",
      "There are available spots...\n",
      "Intro to data science leaving the waitting list...\n",
      "Intro to data science parking at spot 1\n",
      "The spots are now as follows...\n",
      "Spot 0, Intro to data mining\n",
      "Spot 1, Intro to data science\n"
     ]
    }
   ],
   "source": [
    "pl.arrive(car1)"
   ]
  },
  {
   "cell_type": "markdown",
   "metadata": {},
   "source": [
    "### car2 arrives"
   ]
  },
  {
   "cell_type": "code",
   "execution_count": 126,
   "metadata": {},
   "outputs": [
    {
     "name": "stdout",
     "output_type": "stream",
     "text": [
      "Machine learning I entering the waitting list...\n",
      "System checking the available spots...\n",
      "No available spot, Machine learning I waitting...\n"
     ]
    }
   ],
   "source": [
    "pl.arrive(car2)"
   ]
  },
  {
   "cell_type": "markdown",
   "metadata": {},
   "source": [
    "### car3 arrives"
   ]
  },
  {
   "cell_type": "code",
   "execution_count": 127,
   "metadata": {},
   "outputs": [
    {
     "name": "stdout",
     "output_type": "stream",
     "text": [
      "Machine learning II entering the waitting list...\n",
      "System checking the available spots...\n",
      "No available spot, Machine learning II waitting...\n"
     ]
    }
   ],
   "source": [
    "pl.arrive(car3)"
   ]
  },
  {
   "cell_type": "markdown",
   "metadata": {},
   "source": [
    "### car0 leaves"
   ]
  },
  {
   "cell_type": "code",
   "execution_count": 128,
   "metadata": {},
   "outputs": [
    {
     "name": "stdout",
     "output_type": "stream",
     "text": [
      "Car Intro to data mining leaving from spot 0...\n",
      "There are available spots...\n",
      "Machine learning I leaving the waitting list...\n",
      "Machine learning I parking at spot 0\n",
      "The spots are now as follows...\n",
      "Spot 0, Machine learning I\n",
      "Spot 1, Intro to data science\n"
     ]
    }
   ],
   "source": [
    "pl.leave(car0)"
   ]
  },
  {
   "cell_type": "markdown",
   "metadata": {},
   "source": [
    "### car1 leaves"
   ]
  },
  {
   "cell_type": "code",
   "execution_count": 129,
   "metadata": {},
   "outputs": [
    {
     "name": "stdout",
     "output_type": "stream",
     "text": [
      "Car Intro to data science leaving from spot 1...\n",
      "There are available spots...\n",
      "Machine learning II leaving the waitting list...\n",
      "Machine learning II parking at spot 1\n",
      "The spots are now as follows...\n",
      "Spot 0, Machine learning I\n",
      "Spot 1, Machine learning II\n"
     ]
    }
   ],
   "source": [
    "pl.leave(car1)"
   ]
  }
 ],
 "metadata": {
  "kernelspec": {
   "display_name": "Python 3",
   "language": "python",
   "name": "python3"
  },
  "language_info": {
   "codemirror_mode": {
    "name": "ipython",
    "version": 3
   },
   "file_extension": ".py",
   "mimetype": "text/x-python",
   "name": "python",
   "nbconvert_exporter": "python",
   "pygments_lexer": "ipython3",
   "version": "3.6.3"
  }
 },
 "nbformat": 4,
 "nbformat_minor": 2
}
