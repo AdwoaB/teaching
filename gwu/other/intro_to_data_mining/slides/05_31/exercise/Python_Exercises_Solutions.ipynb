{
 "cells": [
  {
   "cell_type": "markdown",
   "metadata": {},
   "source": [
    "### Q1. Multiply all values in given dictionary and print it."
   ]
  },
  {
   "cell_type": "code",
   "execution_count": 1,
   "metadata": {},
   "outputs": [
    {
     "name": "stdout",
     "output_type": "stream",
     "text": [
      "24\n"
     ]
    }
   ],
   "source": [
    "my_dict = {'a':2,'b':3,'c':4}\n",
    "\n",
    "result = 1\n",
    "\n",
    "for key, val in my_dict.items():\n",
    "    result *= val\n",
    "    \n",
    "print(result)"
   ]
  },
  {
   "cell_type": "markdown",
   "metadata": {},
   "source": [
    "### Q2. Create and print a dictionary from list of lists where one list values act as key and corresponding value from another list act as value"
   ]
  },
  {
   "cell_type": "code",
   "execution_count": 2,
   "metadata": {},
   "outputs": [
    {
     "name": "stdout",
     "output_type": "stream",
     "text": [
      "{'US': 'Washington,DC', 'Russia': 'Moscow', 'Japan': 'Tokyo', 'Germany': 'Berlin', 'Canada': 'Toronto'}\n"
     ]
    }
   ],
   "source": [
    "country_name = [\"US\", \"Russia\", \"Japan\", \"Germany\",\"Canada\"]\n",
    "capital_city = [\"Washington,DC\", \"Moscow\", \"Tokyo\", \"Berlin\",\"Toronto\"]\n",
    "\n",
    "dict_ = {}\n",
    "\n",
    "for i in range(len(country_name)):\n",
    "    cn = country_name[i]\n",
    "    cc = capital_city[i]\n",
    "    dict_[cn] = cc\n",
    "    \n",
    "print(dict_)"
   ]
  },
  {
   "cell_type": "markdown",
   "metadata": {},
   "source": [
    "### Q3. Print the elements which are not common between the two lists"
   ]
  },
  {
   "cell_type": "code",
   "execution_count": 3,
   "metadata": {},
   "outputs": [
    {
     "name": "stdout",
     "output_type": "stream",
     "text": [
      "[3, 4, 5]\n"
     ]
    }
   ],
   "source": [
    "list1 = [1, 2, 1, 3, 4]\n",
    "list2 = [1, 2, 5]\n",
    "\n",
    "print(list(set(list1).union(set(list2)) - set(list1).intersection(set(list2))))"
   ]
  },
  {
   "cell_type": "markdown",
   "metadata": {},
   "source": [
    "### Q4. Sort lists present as values in a dictionary and print the sorted dictionary"
   ]
  },
  {
   "cell_type": "code",
   "execution_count": 4,
   "metadata": {},
   "outputs": [
    {
     "name": "stdout",
     "output_type": "stream",
     "text": [
      "{'l1': [10, 30], 'l2': [10, 20, 50], 'l3': [10, 20, 30, 40]}\n"
     ]
    }
   ],
   "source": [
    "num = {'l1': [30, 10], 'l2': [50, 10, 20], 'l3': [30, 20, 40, 10]}\n",
    "\n",
    "for key in num:\n",
    "    num[key] = sorted(num[key])\n",
    "    \n",
    "print(num)\n",
    "\n",
    "# sorted_dict = {x: sorted(y) for x, y in num.items()}\n",
    "# print(sorted_dict)"
   ]
  },
  {
   "cell_type": "markdown",
   "metadata": {},
   "source": [
    "### Q5. Concatenate the following dictionaries and print the newly created one"
   ]
  },
  {
   "cell_type": "code",
   "execution_count": 5,
   "metadata": {},
   "outputs": [
    {
     "name": "stdout",
     "output_type": "stream",
     "text": [
      "{'a': 1, 'b': 2, 'c': 3, 'd': 4, 'e': 5, 'f': 6}\n"
     ]
    }
   ],
   "source": [
    "dic_1={'a':1, 'b':2}\n",
    "dic_2={'c':3, 'd':4}\n",
    "dic_3={'e':5,'f':6}\n",
    "\n",
    "dic_4 = {}\n",
    "\n",
    "for dic in [dic_1, dic_2, dic_3]:\n",
    "    for key in dic:\n",
    "        dic_4[key] = dic[key]\n",
    "        \n",
    "print(dic_4)\n",
    "\n",
    "# dic_4 = {}\n",
    "# for d in (dic_1, dic_2, dic_3): dic_4.update(d)\n",
    "# print(dic_4)"
   ]
  },
  {
   "cell_type": "markdown",
   "metadata": {},
   "source": [
    "### Q6. Print all unique values (not the keys) from a list of dictionaries."
   ]
  },
  {
   "cell_type": "code",
   "execution_count": 6,
   "metadata": {},
   "outputs": [
    {
     "name": "stdout",
     "output_type": "stream",
     "text": [
      "['1', '2', '5', '9', '7']\n"
     ]
    }
   ],
   "source": [
    "my_list = [{\"A\":\"1\"}, {\"A\": \"2\"}, {\"B\": \"1\"}, {\"B\": \"5\"}, {\"C\":\"5\"}, {\"A\":\"9\"},{\"D\":\"7\"}]\n",
    "\n",
    "u_values = []\n",
    "for dic in my_list:\n",
    "    for key, val in dic.items():\n",
    "        if not val in u_values:\n",
    "            u_values.append(val)\n",
    "            \n",
    "print(u_values)\n",
    "\n",
    "# u_values = set([val for dic in my_list for val in dic.values()])\n",
    "# print(u_values)"
   ]
  },
  {
   "cell_type": "markdown",
   "metadata": {},
   "source": [
    "### Q7. Find and print common key-value pair in given two dictionaries."
   ]
  },
  {
   "cell_type": "code",
   "execution_count": 7,
   "metadata": {},
   "outputs": [
    {
     "name": "stdout",
     "output_type": "stream",
     "text": [
      "{'1': 1, '2': 2}\n"
     ]
    }
   ],
   "source": [
    "x = {'1': 1, '2': 2, '3': 2}\n",
    "y = {'1': 1, '2': 2, '3': 3, '4': 4}\n",
    "\n",
    "dic = {}\n",
    "\n",
    "for key in x:\n",
    "    if key in y and x[key] == y[key]:\n",
    "        dic[key] = x[key]\n",
    "        \n",
    "print(dic)"
   ]
  },
  {
   "cell_type": "markdown",
   "metadata": {},
   "source": [
    "### Q8. Convert below 2-D array to a single dimension (1XN) array."
   ]
  },
  {
   "cell_type": "code",
   "execution_count": 8,
   "metadata": {},
   "outputs": [
    {
     "name": "stdout",
     "output_type": "stream",
     "text": [
      "[10 20 30 40 50 60]\n"
     ]
    }
   ],
   "source": [
    "import numpy as np\n",
    "\n",
    "x = np.array([[10, 20, 30], [40, 50,60]])\n",
    "\n",
    "new_arr = []\n",
    "\n",
    "for arr in x:\n",
    "    new_arr += list(arr)\n",
    "    \n",
    "new_arr = np.array(new_arr)\n",
    "\n",
    "print(new_arr)\n",
    "\n",
    "# x = x.reshape(1, -1)\n",
    "# print(x)"
   ]
  },
  {
   "cell_type": "markdown",
   "metadata": {},
   "source": [
    "### Q9. Write a Python program to convert below 1-D array to 2-D (NxN) array."
   ]
  },
  {
   "cell_type": "code",
   "execution_count": 9,
   "metadata": {},
   "outputs": [
    {
     "name": "stdout",
     "output_type": "stream",
     "text": [
      "[[0 1 2]\n",
      " [3 4 5]\n",
      " [6 7 8]]\n"
     ]
    }
   ],
   "source": [
    "x = np.array([0,1,2,3,4,5,6,7,8])\n",
    "\n",
    "x = x.reshape(3, -1)\n",
    "print(x)"
   ]
  },
  {
   "cell_type": "markdown",
   "metadata": {},
   "source": [
    "### Q10. Write a program which can find even numbers in a list by using filter function. "
   ]
  },
  {
   "cell_type": "code",
   "execution_count": 10,
   "metadata": {},
   "outputs": [
    {
     "name": "stdout",
     "output_type": "stream",
     "text": [
      "[2, 4, 6, 8, 10]\n"
     ]
    }
   ],
   "source": [
    "li = [1,2,3,4,5,6,7,8,9,10]\n",
    "\n",
    "evens = filter(lambda x : x % 2 == 0, li)\n",
    "\n",
    "print(list(evens))"
   ]
  },
  {
   "cell_type": "markdown",
   "metadata": {},
   "source": [
    "### Q11. Write a program to make a list whose elements are square of even number in given list.\n",
    "\n",
    "Hint : You can use lambda function"
   ]
  },
  {
   "cell_type": "code",
   "execution_count": 11,
   "metadata": {},
   "outputs": [
    {
     "name": "stdout",
     "output_type": "stream",
     "text": [
      "[4, 16, 36, 64, 100]\n"
     ]
    }
   ],
   "source": [
    "li = [1,2,3,4,5,6,7,8,9,10]\n",
    "\n",
    "evens = filter(lambda x : x % 2 == 0, li)\n",
    "\n",
    "square_of_evens = [x ** 2 for x in list(evens)]\n",
    "\n",
    "print(square_of_evens)\n",
    "\n",
    "# square_of_evens = list(map(lambda x : x ** 2, filter(lambda x : x % 2 == 0, li)))\n",
    "\n",
    "# print(square_of_evens)"
   ]
  },
  {
   "cell_type": "markdown",
   "metadata": {},
   "source": [
    "# Reference \n",
    "Exercises used here are taken from:\n",
    "https://www.w3resource.com/python-exercises/"
   ]
  },
  {
   "cell_type": "code",
   "execution_count": null,
   "metadata": {
    "collapsed": true
   },
   "outputs": [],
   "source": []
  }
 ],
 "metadata": {
  "kernelspec": {
   "display_name": "Python 3",
   "language": "python",
   "name": "python3"
  },
  "language_info": {
   "codemirror_mode": {
    "name": "ipython",
    "version": 3
   },
   "file_extension": ".py",
   "mimetype": "text/x-python",
   "name": "python",
   "nbconvert_exporter": "python",
   "pygments_lexer": "ipython3",
   "version": "3.6.3"
  }
 },
 "nbformat": 4,
 "nbformat_minor": 2
}
